{
 "cells": [
  {
   "cell_type": "markdown",
   "metadata": {},
   "source": [
    "# Run experiments"
   ]
  },
  {
   "cell_type": "code",
   "execution_count": 1,
   "metadata": {},
   "outputs": [
    {
     "name": "stderr",
     "output_type": "stream",
     "text": [
      "/home/yuliya/coursework24/env/lib/python3.12/site-packages/tqdm/auto.py:21: TqdmWarning: IProgress not found. Please update jupyter and ipywidgets. See https://ipywidgets.readthedocs.io/en/stable/user_install.html\n",
      "  from .autonotebook import tqdm as notebook_tqdm\n"
     ]
    }
   ],
   "source": [
    "from audiointerp.dataset.esc50 import ESC50dataset\n",
    "from audiointerp.model.cnn14 import TransferCnn14\n",
    "from audiointerp.fit import Trainer\n",
    "from audiointerp.processing.spectrogram import LogMelSTFTSpectrogram\n",
    "from audiointerp.interpretation.saliency import SaliencyInterpreter\n",
    "from audiointerp.interpretation.gradcam import GradCAMInterpreter\n",
    "from audiointerp.interpretation.shap import SHAPInterpreter\n",
    "import torchaudio\n",
    "import torch.nn as nn\n",
    "import torch.optim as optim\n",
    "import torchaudio.transforms as T_audio\n",
    "import torchvision.transforms as T_vision\n",
    "import torch\n",
    "from torch.utils.data import DataLoader\n",
    "import matplotlib.pyplot as plt\n",
    "import random\n",
    "import numpy as np\n",
    "from IPython.display import Audio\n",
    "from audiointerp.predict import Predict\n",
    "from audiointerp.metrics import Metrics"
   ]
  },
  {
   "cell_type": "code",
   "execution_count": 2,
   "metadata": {},
   "outputs": [],
   "source": [
    "def plot_learning_curves(train_losses, val_losses, train_accs=None, val_accs=None):\n",
    "    epochs = range(1, len(train_losses) + 1)\n",
    "\n",
    "    plt.figure(figsize=(12, 5))\n",
    "\n",
    "    plt.subplot(1, 2, 1)\n",
    "    plt.plot(epochs, train_losses, label=\"Train Loss\")\n",
    "    if val_losses:\n",
    "        plt.plot(epochs, val_losses, label=\"Val Loss\")\n",
    "    plt.xlabel(\"Epoch\")\n",
    "    plt.ylabel(\"Loss\")\n",
    "    plt.title(\"Loss Curve\")\n",
    "    plt.legend()\n",
    "\n",
    "    plt.subplot(1, 2, 2)\n",
    "    if train_accs is not None:\n",
    "        plt.plot(epochs, train_accs, label=\"Train Acc\")\n",
    "    if val_accs is not None:\n",
    "        plt.plot(epochs, val_accs, label=\"Val Acc\")\n",
    "    plt.xlabel(\"Epoch\")\n",
    "    plt.ylabel(\"Accuracy\")\n",
    "    plt.title(\"Accuracy Curve\")\n",
    "    plt.legend()\n",
    "\n",
    "    plt.tight_layout()\n",
    "    plt.show()"
   ]
  },
  {
   "cell_type": "code",
   "execution_count": 3,
   "metadata": {},
   "outputs": [],
   "source": [
    "root_dir = \"/home/yuliya/ESC50\"\n",
    "sr = 32000\n",
    "train_folds = [1, 2, 3]\n",
    "valid_folds = [4]\n",
    "test_folds = [5]"
   ]
  },
  {
   "cell_type": "code",
   "execution_count": 4,
   "metadata": {},
   "outputs": [],
   "source": [
    "n_fft = 1024\n",
    "hop_length = 320\n",
    "win_length = 1024\n",
    "n_mels = 64\n",
    "f_min = 50\n",
    "f_max = 14000\n",
    "top_db = 80"
   ]
  },
  {
   "cell_type": "code",
   "execution_count": 5,
   "metadata": {},
   "outputs": [],
   "source": [
    "feature_extractor_fit = LogMelSTFTSpectrogram(\n",
    "    n_fft=n_fft, win_length=win_length, hop_length=hop_length,\n",
    "    sample_rate=sr, n_mels=n_mels, f_min=f_min, f_max=f_max, top_db=top_db,\n",
    "    return_phase=False, return_full_db=False\n",
    ")"
   ]
  },
  {
   "cell_type": "code",
   "execution_count": 6,
   "metadata": {},
   "outputs": [],
   "source": [
    "feature_extractor_predict = LogMelSTFTSpectrogram(\n",
    "    n_fft=n_fft, win_length=win_length, hop_length=hop_length,\n",
    "    sample_rate=sr, n_mels=n_mels, f_min=f_min, f_max=f_max, top_db=top_db,\n",
    "    return_phase=True, return_full_db=True\n",
    ")"
   ]
  },
  {
   "cell_type": "code",
   "execution_count": 7,
   "metadata": {},
   "outputs": [],
   "source": [
    "feature_augs = nn.Sequential(\n",
    "    T_audio.FrequencyMasking(20),\n",
    "    T_audio.TimeMasking(20)\n",
    ")"
   ]
  },
  {
   "cell_type": "code",
   "execution_count": 8,
   "metadata": {},
   "outputs": [],
   "source": [
    "train_data = ESC50dataset(root_dir=root_dir, sr=sr, folds=train_folds, normalize=\"peak\", feature_extractor=feature_extractor_fit, feature_augs=feature_augs)\n",
    "valid_data = ESC50dataset(root_dir=root_dir, sr=sr, folds=valid_folds, normalize=\"peak\", feature_extractor=feature_extractor_fit)\n",
    "test_data = ESC50dataset(root_dir=root_dir, sr=sr, folds=test_folds, normalize=\"peak\", feature_extractor=feature_extractor_fit)"
   ]
  },
  {
   "cell_type": "code",
   "execution_count": 9,
   "metadata": {},
   "outputs": [],
   "source": [
    "train_loader_kwargs = {\"batch_size\": 32, \"shuffle\": True}\n",
    "valid_loader_kwargs = {\"batch_size\": 32, \"shuffle\": False}\n",
    "test_loader_kwargs = {\"batch_size\": 32, \"shuffle\": False}"
   ]
  },
  {
   "cell_type": "code",
   "execution_count": 10,
   "metadata": {},
   "outputs": [],
   "source": [
    "device = torch.device(\"cuda\" if torch.cuda.is_available() else \"cpu\")\n",
    "model_cls = TransferCnn14\n",
    "model_kwargs = {\"num_classes\": 50}\n",
    "model_pretrain_weights_path = \"weights/Cnn14_mAP=0.431.pth\"\n",
    "\n",
    "optimizer_cls = optim.Adam\n",
    "optimizer_kwargs = {\"lr\": 1e-4}\n",
    "\n",
    "criterion_cls = nn.CrossEntropyLoss\n",
    "use_mixup = True\n",
    "mixup_alpha = 0.2"
   ]
  },
  {
   "cell_type": "code",
   "execution_count": 11,
   "metadata": {},
   "outputs": [
    {
     "name": "stdout",
     "output_type": "stream",
     "text": [
      "Random seed set to: 42\n"
     ]
    }
   ],
   "source": [
    "model_trainer = Trainer(\n",
    "    model_cls=model_cls,\n",
    "    train_data=train_data,\n",
    "    train_loader_kwargs=train_loader_kwargs,\n",
    "    criterion_cls=criterion_cls,\n",
    "    optimizer_cls=optimizer_cls,\n",
    "    model_kwargs=model_kwargs,\n",
    "    model_pretrain_weights_path=model_pretrain_weights_path,\n",
    "    optimizer_kwargs=optimizer_kwargs,\n",
    "    device=device,\n",
    "    valid_data=valid_data,\n",
    "    valid_loader_kwargs=valid_loader_kwargs,\n",
    "    test_data=test_data,\n",
    "    test_loader_kwargs=test_loader_kwargs,\n",
    "    use_mixup=use_mixup,\n",
    "    mixup_alpha=mixup_alpha\n",
    ")"
   ]
  },
  {
   "cell_type": "code",
   "execution_count": null,
   "metadata": {},
   "outputs": [
    {
     "name": "stderr",
     "output_type": "stream",
     "text": [
      "Epoch:   5%|▌         | 1/20 [00:40<12:51, 40.63s/it]"
     ]
    },
    {
     "name": "stdout",
     "output_type": "stream",
     "text": [
      "Train Loss: 3.8838, Train Acc: 0.0443\n",
      "Valid Loss: 3.7438, Valid Acc: 0.1550\n"
     ]
    },
    {
     "name": "stderr",
     "output_type": "stream",
     "text": [
      "Epoch:  10%|█         | 2/20 [01:23<12:40, 42.22s/it]"
     ]
    },
    {
     "name": "stdout",
     "output_type": "stream",
     "text": [
      "Train Loss: 3.6654, Train Acc: 0.1361\n",
      "Valid Loss: 3.3127, Valid Acc: 0.5200\n"
     ]
    },
    {
     "name": "stderr",
     "output_type": "stream",
     "text": [
      "Epoch:  15%|█▌        | 3/20 [02:09<12:20, 43.54s/it]"
     ]
    },
    {
     "name": "stdout",
     "output_type": "stream",
     "text": [
      "Train Loss: 3.0176, Train Acc: 0.3261\n",
      "Valid Loss: 1.9327, Valid Acc: 0.7150\n"
     ]
    },
    {
     "name": "stderr",
     "output_type": "stream",
     "text": [
      "Epoch:  20%|██        | 4/20 [02:56<12:03, 45.24s/it]"
     ]
    },
    {
     "name": "stdout",
     "output_type": "stream",
     "text": [
      "Train Loss: 2.1878, Train Acc: 0.4690\n",
      "Valid Loss: 0.9843, Valid Acc: 0.8175\n"
     ]
    },
    {
     "name": "stderr",
     "output_type": "stream",
     "text": [
      "Epoch:  25%|██▌       | 5/20 [03:40<11:07, 44.50s/it]"
     ]
    },
    {
     "name": "stdout",
     "output_type": "stream",
     "text": [
      "Train Loss: 1.6977, Train Acc: 0.5879\n",
      "Valid Loss: 0.6061, Valid Acc: 0.8750\n"
     ]
    },
    {
     "name": "stderr",
     "output_type": "stream",
     "text": [
      "Epoch:  30%|███       | 6/20 [04:25<10:25, 44.70s/it]"
     ]
    },
    {
     "name": "stdout",
     "output_type": "stream",
     "text": [
      "Train Loss: 1.3186, Train Acc: 0.6975\n",
      "Valid Loss: 0.4878, Valid Acc: 0.8950\n"
     ]
    },
    {
     "name": "stderr",
     "output_type": "stream",
     "text": [
      "Epoch:  35%|███▌      | 7/20 [05:10<09:42, 44.84s/it]"
     ]
    },
    {
     "name": "stdout",
     "output_type": "stream",
     "text": [
      "Train Loss: 1.2357, Train Acc: 0.7573\n",
      "Valid Loss: 0.4353, Valid Acc: 0.9050\n"
     ]
    },
    {
     "name": "stderr",
     "output_type": "stream",
     "text": [
      "Epoch:  40%|████      | 8/20 [05:55<09:00, 45.02s/it]"
     ]
    },
    {
     "name": "stdout",
     "output_type": "stream",
     "text": [
      "Train Loss: 1.2417, Train Acc: 0.7562\n",
      "Valid Loss: 0.4052, Valid Acc: 0.9150\n"
     ]
    },
    {
     "name": "stderr",
     "output_type": "stream",
     "text": [
      "Epoch:  45%|████▌     | 9/20 [06:41<08:18, 45.29s/it]"
     ]
    },
    {
     "name": "stdout",
     "output_type": "stream",
     "text": [
      "Train Loss: 0.9597, Train Acc: 0.8132\n",
      "Valid Loss: 0.3229, Valid Acc: 0.9275\n"
     ]
    },
    {
     "name": "stderr",
     "output_type": "stream",
     "text": [
      "Epoch:  50%|█████     | 10/20 [07:28<07:38, 45.87s/it]"
     ]
    },
    {
     "name": "stdout",
     "output_type": "stream",
     "text": [
      "Train Loss: 1.1448, Train Acc: 0.7768\n",
      "Valid Loss: 0.3407, Valid Acc: 0.9250\n"
     ]
    },
    {
     "name": "stderr",
     "output_type": "stream",
     "text": [
      "Epoch:  55%|█████▌    | 11/20 [08:13<06:50, 45.63s/it]"
     ]
    },
    {
     "name": "stdout",
     "output_type": "stream",
     "text": [
      "Train Loss: 1.1409, Train Acc: 0.7646\n",
      "Valid Loss: 0.3313, Valid Acc: 0.9175\n"
     ]
    },
    {
     "name": "stderr",
     "output_type": "stream",
     "text": [
      "Epoch:  60%|██████    | 12/20 [08:59<06:05, 45.71s/it]"
     ]
    },
    {
     "name": "stdout",
     "output_type": "stream",
     "text": [
      "Train Loss: 0.9219, Train Acc: 0.8162\n",
      "Valid Loss: 0.2994, Valid Acc: 0.9275\n"
     ]
    },
    {
     "name": "stderr",
     "output_type": "stream",
     "text": [
      "Epoch:  65%|██████▌   | 13/20 [09:48<05:25, 46.53s/it]"
     ]
    },
    {
     "name": "stdout",
     "output_type": "stream",
     "text": [
      "Train Loss: 0.8704, Train Acc: 0.8341\n",
      "Valid Loss: 0.2904, Valid Acc: 0.9300\n"
     ]
    },
    {
     "name": "stderr",
     "output_type": "stream",
     "text": [
      "Epoch:  70%|███████   | 14/20 [10:33<04:37, 46.27s/it]"
     ]
    },
    {
     "name": "stdout",
     "output_type": "stream",
     "text": [
      "Train Loss: 0.9663, Train Acc: 0.8240\n",
      "Valid Loss: 0.2938, Valid Acc: 0.9225\n"
     ]
    },
    {
     "name": "stderr",
     "output_type": "stream",
     "text": [
      "Epoch:  75%|███████▌  | 15/20 [11:18<03:49, 45.93s/it]"
     ]
    },
    {
     "name": "stdout",
     "output_type": "stream",
     "text": [
      "Train Loss: 0.9562, Train Acc: 0.8280\n",
      "Valid Loss: 0.2881, Valid Acc: 0.9275\n"
     ]
    },
    {
     "name": "stderr",
     "output_type": "stream",
     "text": [
      "Epoch:  80%|████████  | 16/20 [12:11<03:12, 48.03s/it]"
     ]
    },
    {
     "name": "stdout",
     "output_type": "stream",
     "text": [
      "Train Loss: 0.8694, Train Acc: 0.8397\n",
      "Valid Loss: 0.2982, Valid Acc: 0.9300\n"
     ]
    },
    {
     "name": "stderr",
     "output_type": "stream",
     "text": [
      "Epoch:  85%|████████▌ | 17/20 [12:55<02:20, 46.80s/it]"
     ]
    },
    {
     "name": "stdout",
     "output_type": "stream",
     "text": [
      "Train Loss: 0.9712, Train Acc: 0.8397\n",
      "Valid Loss: 0.3077, Valid Acc: 0.9350\n"
     ]
    },
    {
     "name": "stderr",
     "output_type": "stream",
     "text": [
      "Epoch:  90%|█████████ | 18/20 [13:39<01:31, 45.88s/it]"
     ]
    },
    {
     "name": "stdout",
     "output_type": "stream",
     "text": [
      "Train Loss: 0.8365, Train Acc: 0.8515\n",
      "Valid Loss: 0.2787, Valid Acc: 0.9300\n"
     ]
    },
    {
     "name": "stderr",
     "output_type": "stream",
     "text": [
      "Epoch:  95%|█████████▌| 19/20 [14:26<00:46, 46.25s/it]"
     ]
    },
    {
     "name": "stdout",
     "output_type": "stream",
     "text": [
      "Train Loss: 1.1698, Train Acc: 0.7815\n",
      "Valid Loss: 0.3075, Valid Acc: 0.9300\n"
     ]
    },
    {
     "name": "stderr",
     "output_type": "stream",
     "text": [
      "Epoch: 100%|██████████| 20/20 [15:10<00:00, 45.55s/it]\n"
     ]
    },
    {
     "name": "stdout",
     "output_type": "stream",
     "text": [
      "Train Loss: 0.8988, Train Acc: 0.8353\n",
      "Valid Loss: 0.2837, Valid Acc: 0.9325\n",
      "Best val Acc: 0.9350\n",
      "Модель сохранена в best.pth\n",
      "Test Loss: 0.3285, Test Acc: 0.9175\n"
     ]
    }
   ],
   "source": [
    "train_losses, train_accs, val_losses, val_accs, test_loss, test_acc = model_trainer.train(num_epochs=20)"
   ]
  },
  {
   "cell_type": "code",
   "execution_count": 19,
   "metadata": {},
   "outputs": [
    {
     "data": {
      "image/png": "[encoded data removed]",
      "text/plain": [
       "<Figure size 1200x500 with 2 Axes>"
      ]
     },
     "metadata": {},
     "output_type": "display_data"
    }
   ],
   "source": [
    "plot_learning_curves(train_losses=train_losses, train_accs=train_accs, val_losses=val_losses, val_accs=val_accs)"
   ]
  },
  {
   "cell_type": "code",
   "execution_count": 12,
   "metadata": {},
   "outputs": [
    {
     "data": {
      "text/plain": [
       "TransferCnn14(\n",
       "  (base): Cnn14(\n",
       "    (bn0): BatchNorm2d(64, eps=1e-05, momentum=0.1, affine=True, track_running_stats=True)\n",
       "    (conv_block1): ConvBlock(\n",
       "      (conv1): Conv2d(1, 64, kernel_size=(3, 3), stride=(1, 1), padding=(1, 1), bias=False)\n",
       "      (conv2): Conv2d(64, 64, kernel_size=(3, 3), stride=(1, 1), padding=(1, 1), bias=False)\n",
       "      (bn1): BatchNorm2d(64, eps=1e-05, momentum=0.1, affine=True, track_running_stats=True)\n",
       "      (bn2): BatchNorm2d(64, eps=1e-05, momentum=0.1, affine=True, track_running_stats=True)\n",
       "    )\n",
       "    (conv_block2): ConvBlock(\n",
       "      (conv1): Conv2d(64, 128, kernel_size=(3, 3), stride=(1, 1), padding=(1, 1), bias=False)\n",
       "      (conv2): Conv2d(128, 128, kernel_size=(3, 3), stride=(1, 1), padding=(1, 1), bias=False)\n",
       "      (bn1): BatchNorm2d(128, eps=1e-05, momentum=0.1, affine=True, track_running_stats=True)\n",
       "      (bn2): BatchNorm2d(128, eps=1e-05, momentum=0.1, affine=True, track_running_stats=True)\n",
       "    )\n",
       "    (conv_block3): ConvBlock(\n",
       "      (conv1): Conv2d(128, 256, kernel_size=(3, 3), stride=(1, 1), padding=(1, 1), bias=False)\n",
       "      (conv2): Conv2d(256, 256, kernel_size=(3, 3), stride=(1, 1), padding=(1, 1), bias=False)\n",
       "      (bn1): BatchNorm2d(256, eps=1e-05, momentum=0.1, affine=True, track_running_stats=True)\n",
       "      (bn2): BatchNorm2d(256, eps=1e-05, momentum=0.1, affine=True, track_running_stats=True)\n",
       "    )\n",
       "    (conv_block4): ConvBlock(\n",
       "      (conv1): Conv2d(256, 512, kernel_size=(3, 3), stride=(1, 1), padding=(1, 1), bias=False)\n",
       "      (conv2): Conv2d(512, 512, kernel_size=(3, 3), stride=(1, 1), padding=(1, 1), bias=False)\n",
       "      (bn1): BatchNorm2d(512, eps=1e-05, momentum=0.1, affine=True, track_running_stats=True)\n",
       "      (bn2): BatchNorm2d(512, eps=1e-05, momentum=0.1, affine=True, track_running_stats=True)\n",
       "    )\n",
       "    (conv_block5): ConvBlock(\n",
       "      (conv1): Conv2d(512, 1024, kernel_size=(3, 3), stride=(1, 1), padding=(1, 1), bias=False)\n",
       "      (conv2): Conv2d(1024, 1024, kernel_size=(3, 3), stride=(1, 1), padding=(1, 1), bias=False)\n",
       "      (bn1): BatchNorm2d(1024, eps=1e-05, momentum=0.1, affine=True, track_running_stats=True)\n",
       "      (bn2): BatchNorm2d(1024, eps=1e-05, momentum=0.1, affine=True, track_running_stats=True)\n",
       "    )\n",
       "    (conv_block6): ConvBlock(\n",
       "      (conv1): Conv2d(1024, 2048, kernel_size=(3, 3), stride=(1, 1), padding=(1, 1), bias=False)\n",
       "      (conv2): Conv2d(2048, 2048, kernel_size=(3, 3), stride=(1, 1), padding=(1, 1), bias=False)\n",
       "      (bn1): BatchNorm2d(2048, eps=1e-05, momentum=0.1, affine=True, track_running_stats=True)\n",
       "      (bn2): BatchNorm2d(2048, eps=1e-05, momentum=0.1, affine=True, track_running_stats=True)\n",
       "    )\n",
       "    (fc1): Linear(in_features=2048, out_features=2048, bias=True)\n",
       "  )\n",
       "  (classifier): Linear(in_features=2048, out_features=50, bias=True)\n",
       ")"
      ]
     },
     "execution_count": 12,
     "metadata": {},
     "output_type": "execute_result"
    }
   ],
   "source": [
    "model = TransferCnn14(num_classes=50)\n",
    "model.load_state_dict(torch.load(\"best.pth\"))\n",
    "model.to(device)"
   ]
  },
  {
   "cell_type": "markdown",
   "metadata": {},
   "source": [
    "___"
   ]
  },
  {
   "cell_type": "code",
   "execution_count": 13,
   "metadata": {},
   "outputs": [],
   "source": [
    "shap_background_folds = [1]"
   ]
  },
  {
   "cell_type": "code",
   "execution_count": 14,
   "metadata": {},
   "outputs": [],
   "source": [
    "def get_balanced_background(dataloader, num_samples_per_class=2, device=\"cpu\"):\n",
    "    from collections import defaultdict\n",
    "    class_to_samples = defaultdict(list)\n",
    "    \n",
    "    for batch_x, batch_y in dataloader:\n",
    "        for x, y in zip(batch_x, batch_y):\n",
    "            if len(class_to_samples[y.item()]) < num_samples_per_class:\n",
    "                class_to_samples[y.item()].append(x.unsqueeze(0))\n",
    "    \n",
    "    background_tensors = []\n",
    "    for class_label, tensor_list in class_to_samples.items():\n",
    "        background_tensors.extend(tensor_list)\n",
    "    \n",
    "    background = torch.cat(background_tensors, dim=0).to(device)\n",
    "    return background"
   ]
  },
  {
   "cell_type": "code",
   "execution_count": 15,
   "metadata": {},
   "outputs": [],
   "source": [
    "test_data_predict = ESC50dataset(root_dir=root_dir, sr=sr, folds=test_folds, normalize=\"peak\")\n",
    "test_loader_predict = DataLoader(test_data_predict, batch_size=32, shuffle=False)\n",
    "train_data_shap = ESC50dataset(root_dir=root_dir, sr=sr, folds=shap_background_folds, normalize=\"peak\", feature_extractor=feature_extractor_fit)\n",
    "train_loader_shap = DataLoader(train_data_shap, batch_size=100, shuffle=False)\n",
    "shap_background = get_balanced_background(train_loader_shap, num_samples_per_class=1, device=device)"
   ]
  },
  {
   "cell_type": "code",
   "execution_count": 16,
   "metadata": {},
   "outputs": [],
   "source": [
    "shap_exp = SHAPInterpreter(model, shap_background[:10])"
   ]
  },
  {
   "cell_type": "code",
   "execution_count": 17,
   "metadata": {},
   "outputs": [],
   "source": [
    "predict_saliency = Predict(model, feature_extractor_predict, interp_method_cls=SaliencyInterpreter, interp_method_kwargs={}, device=device)\n",
    "predict_gradcam = Predict(model, feature_extractor_predict, interp_method_cls=GradCAMInterpreter, interp_method_kwargs={\"target_layers\": [model.base.conv_block6.conv2]}, device=device)"
   ]
  },
  {
   "cell_type": "code",
   "execution_count": 18,
   "metadata": {},
   "outputs": [],
   "source": [
    "results_saliency = predict_saliency.predict_set(test_loader_predict)"
   ]
  },
  {
   "cell_type": "code",
   "execution_count": 19,
   "metadata": {},
   "outputs": [
    {
     "data": {
      "text/plain": [
       "{'FF': tensor([0.8077, 0.0093, 0.4559, 0.4496, 0.7476, 0.4543, 0.4983, 0.2825, 0.5844,\n",
       "         0.3380, 0.7048, 0.9459, 0.8650, 0.6332, 0.5146, 0.9230, 0.2561, 0.9051,\n",
       "         0.7431, 0.3595, 0.2254, 0.5450, 0.9118, 0.9563, 0.7220, 0.9413, 0.8180,\n",
       "         0.8464, 0.2620, 0.2609, 0.6608, 0.6360, 0.9112, 0.9051, 0.8025, 0.7400,\n",
       "         0.5978, 0.9448, 0.8796, 0.8009, 0.5102, 0.9858, 0.8001, 0.9620, 0.9286,\n",
       "         0.8328, 0.8383, 0.8009, 0.2919, 0.9073, 0.8509, 0.1833, 0.1861, 0.8671,\n",
       "         0.3791, 0.7522, 0.3355, 0.9061, 0.9920, 0.3931, 0.1302, 0.6897, 0.7908,\n",
       "         0.8462, 0.8196, 0.8553, 0.6638, 0.9008, 0.9107, 0.5166, 0.7070, 0.6195,\n",
       "         0.7522, 0.9434, 0.9194, 0.9161, 0.9333, 0.9066, 0.9492, 0.9320, 0.6182,\n",
       "         0.8260, 0.9798, 0.7568, 0.6226, 0.5947, 0.6700, 0.8223, 0.2189, 0.8102,\n",
       "         0.0385, 0.8988, 0.4695, 0.9247, 0.9589, 0.8276, 0.7672, 0.3839, 0.4931,\n",
       "         0.7482, 0.9073, 0.6960, 0.5870, 0.4976, 0.8659, 0.9302, 0.9341, 0.4349,\n",
       "         0.7120, 0.9678, 0.5111, 0.5898, 0.9375, 0.8503, 0.9378, 0.6855, 0.6102,\n",
       "         0.9214, 0.9679, 0.6762, 0.9030, 0.9276, 0.6983, 0.9443, 0.8621, 0.9765,\n",
       "         0.7913, 0.9832, 0.9107, 0.9150, 0.9031, 0.5931, 0.7244, 0.8296, 0.9117,\n",
       "         0.9847, 0.8445, 0.4036, 0.9005, 0.9906, 0.9877, 0.9570, 0.9849, 0.9657,\n",
       "         0.9751, 0.1786, 0.1923, 0.5819, 0.9460, 0.9435, 0.9125, 0.9747, 0.4895,\n",
       "         0.6732, 0.6834, 0.7890, 0.6304, 0.9299, 0.8830, 0.8709, 0.4252, 0.7738,\n",
       "         0.9348, 0.6791, 0.0128, 0.0266, 0.6904, 0.8923, 0.5188, 0.6987, 0.6623,\n",
       "         0.7744, 0.9694, 0.6727, 0.5930, 0.7001, 0.8083, 0.5576, 0.4770, 0.4760,\n",
       "         0.2394, 0.8745, 0.9812, 0.9468, 0.9409, 0.8319, 0.2564, 0.6159, 0.8869,\n",
       "         0.8181, 0.8873, 0.4948, 0.1855, 0.8020, 0.8291, 0.1249, 0.9153, 0.9533,\n",
       "         0.8506, 0.3979, 0.7899, 0.8609, 0.8345, 0.7786, 0.3101, 0.4426, 0.1433,\n",
       "         0.4432, 0.3336, 0.9776, 0.9626, 0.3789, 0.9528, 0.1840, 0.0718, 0.6611,\n",
       "         0.8588, 0.1657, 0.8115, 0.3946, 0.3570, 0.3944, 0.9079, 0.9493, 0.7724,\n",
       "         0.8548, 0.7717, 0.8350, 0.4046, 0.6697, 0.6683, 0.7242, 0.7433, 0.6786,\n",
       "         0.5758, 0.5438, 0.9329, 0.9623, 0.6031, 0.5773, 0.1067, 0.9288, 0.6466,\n",
       "         0.6385, 0.7745, 0.8203, 0.9237, 0.9458, 0.9324, 0.8077, 0.8076, 0.2525,\n",
       "         0.3423, 0.9391, 0.6103, 0.8520, 0.8568, 0.8999, 0.8684, 0.7778, 0.6912,\n",
       "         0.9322, 0.7929, 0.7645, 0.5372, 0.8687, 0.9194, 0.0244, 0.6238, 0.7204,\n",
       "         0.2839, 0.4195, 0.8062, 0.4176, 0.3041, 0.5284, 0.2829, 0.7453, 0.6417,\n",
       "         0.5223, 0.2882, 0.6308, 0.3881, 0.8139, 0.8147, 0.7163, 0.7468, 0.6610,\n",
       "         0.1329, 0.2306, 0.7834, 0.8579, 0.8107, 0.1924, 0.9022, 0.7400, 0.5427,\n",
       "         0.6597, 0.8319, 0.8617, 0.8559, 0.6490, 0.9053, 0.7931, 0.7048, 0.6849,\n",
       "         0.8367, 0.5614, 0.3519, 0.4866, 0.5806, 0.9362, 0.6216, 0.7466, 0.7017,\n",
       "         0.7552, 0.8051, 0.8067, 0.4804, 0.6217, 0.5817, 0.7727, 0.3524, 0.6965,\n",
       "         0.7845, 0.5196, 0.6700, 0.8352, 0.9466, 0.9111, 0.9675, 0.7124, 0.3375,\n",
       "         0.8056, 0.5223, 0.8139, 0.7327, 0.7636, 0.8053, 0.7809, 0.3767, 0.2754,\n",
       "         0.0194, 0.6778, 0.6912, 0.4156, 0.1119, 0.3105, 0.2723, 0.8137, 0.3410,\n",
       "         0.3813, 0.3957, 0.5626, 0.7813, 0.9207, 0.9025, 0.6755, 0.8888, 0.8209,\n",
       "         0.8316, 0.9329, 0.9027, 0.9297, 0.6908, 0.8601, 0.7282, 0.6597, 0.7521,\n",
       "         0.0683, 0.6211, 0.8522, 0.2842, 0.8919, 0.2755, 0.3930, 0.7586, 0.8717,\n",
       "         0.8815, 0.3656, 0.5559, 0.0686, 0.3733, 0.9286, 0.3416, 0.1667, 0.7829,\n",
       "         0.8872, 0.9319, 0.3661, 0.7860, 0.3114, 0.7120, 0.6962, 0.7051, 0.4743,\n",
       "         0.8478, 0.6612, 0.9578, 0.6633]),\n",
       " 'AI': tensor([0., 0., 0., 0., 0., 0., 0., 0., 0., 0., 0., 0., 0., 0., 0., 0., 0., 0., 0., 0., 0., 0., 0., 0.,\n",
       "         0., 0., 0., 0., 0., 0., 0., 0., 0., 0., 0., 0., 0., 0., 0., 0., 0., 0., 0., 0., 0., 0., 0., 0.,\n",
       "         0., 0., 0., 0., 0., 0., 0., 0., 0., 0., 0., 0., 0., 0., 0., 0., 0., 0., 0., 0., 0., 0., 0., 0.,\n",
       "         0., 0., 0., 0., 0., 0., 0., 0., 0., 0., 0., 0., 0., 0., 0., 0., 0., 0., 0., 0., 0., 0., 0., 0.,\n",
       "         0., 0., 0., 0., 0., 0., 0., 0., 0., 0., 0., 0., 0., 0., 0., 0., 0., 0., 0., 0., 0., 0., 0., 0.,\n",
       "         0., 0., 0., 0., 0., 0., 0., 0., 0., 0., 0., 0., 0., 0., 0., 0., 0., 0., 0., 0., 0., 0., 0., 0.,\n",
       "         0., 0., 0., 0., 0., 0., 0., 0., 0., 0., 0., 0., 0., 0., 0., 0., 0., 0., 0., 0., 0., 0., 0., 0.,\n",
       "         0., 0., 0., 0., 0., 0., 0., 0., 0., 0., 0., 0., 0., 0., 0., 0., 0., 0., 0., 0., 0., 0., 0., 0.,\n",
       "         0., 0., 0., 0., 0., 0., 0., 0., 0., 0., 0., 0., 0., 0., 0., 0., 0., 0., 0., 0., 0., 0., 0., 0.,\n",
       "         0., 0., 0., 0., 0., 0., 0., 0., 0., 0., 0., 0., 0., 0., 0., 0., 0., 0., 0., 0., 0., 0., 0., 0.,\n",
       "         0., 0., 0., 0., 0., 0., 0., 0., 0., 0., 0., 0., 0., 0., 0., 0., 0., 0., 0., 0., 0., 0., 0., 0.,\n",
       "         0., 0., 0., 0., 0., 0., 0., 0., 0., 0., 0., 0., 0., 0., 0., 0., 0., 0., 0., 0., 0., 0., 0., 0.,\n",
       "         0., 0., 0., 0., 0., 0., 0., 0., 0., 0., 0., 0., 0., 0., 0., 0., 0., 0., 0., 0., 0., 0., 0., 0.,\n",
       "         0., 0., 0., 0., 0., 0., 0., 0., 0., 0., 0., 0., 0., 0., 0., 0., 0., 0., 0., 0., 0., 0., 0., 0.,\n",
       "         0., 0., 0., 0., 0., 0., 0., 0., 0., 0., 0., 0., 0., 0., 0., 0., 0., 0., 0., 0., 0., 0., 0., 0.,\n",
       "         0., 0., 0., 0., 0., 0., 0., 0., 0., 0., 0., 0., 0., 0., 0., 0., 0., 0., 0., 0., 0., 0., 0., 0.,\n",
       "         0., 0., 0., 0., 0., 0., 0., 0., 0., 0., 0., 0., 0., 0., 0., 0.]),\n",
       " 'AD': tensor([98.1938, 22.0392, 88.7295, 92.8953, 96.7865, 94.7142, 98.0284, 99.4608,\n",
       "         98.5577, 82.3715, 79.6047, 98.8836, 98.1978, 99.5263, 98.9860, 99.7388,\n",
       "         98.6796, 98.6434, 98.2885, 76.6664, 95.0092, 90.1433, 99.5625, 93.3457,\n",
       "         96.2371, 96.4044, 94.4882, 98.8104, 62.6227, 53.3723, 99.5693, 98.9426,\n",
       "         99.2281, 99.2705, 99.1252, 98.9805, 99.5395, 99.1703, 98.8779, 94.2502,\n",
       "         87.1899, 97.7687, 99.4144, 99.7272, 97.1244, 99.1171, 97.2738, 97.4175,\n",
       "         92.0352, 99.1455, 97.7269, 94.9340, 41.0583, 94.6344, 58.1026, 98.4718,\n",
       "         94.1927, 99.5767, 99.3397, 81.5877, 97.6238, 98.4532, 98.7728, 99.0348,\n",
       "         98.5587, 98.9542, 98.7728, 99.6648, 99.2497, 99.2261, 95.4520, 46.4072,\n",
       "         98.6352, 97.0853, 97.3667, 98.7791, 99.5083, 99.7160, 99.1646, 99.6245,\n",
       "         99.5000, 99.5826, 99.2054, 86.9366, 99.1116, 95.5345, 95.7207, 96.6653,\n",
       "         93.2484, 97.0322, 95.1680, 58.4593, 99.6410, 99.5709, 99.5078, 89.9475,\n",
       "         95.1861, 92.7375, 96.1323, 95.0337, 97.8642, 91.2697, 58.6889, 94.7246,\n",
       "         95.4982, 89.8841, 99.2855, 99.0197, 99.2057, 99.5314, 96.4436, 98.5471,\n",
       "         82.6230, 93.6959, 91.7621, 97.6888, 41.4847, 99.7455, 99.5052, 99.5593,\n",
       "         86.6530, 98.9927, 98.9308, 80.0553, 94.7053, 58.4909, 56.1062, 99.1066,\n",
       "         99.4389, 98.9938, 99.3616, 98.9573, 99.3512, 99.1889, 98.9774, 99.5359,\n",
       "         98.7057, 98.6810, 97.2757, 98.9629, 99.6111, 99.4737, 99.3808, 97.9173,\n",
       "         99.1483, 97.6886, 96.5827, 97.6099, 58.1860, 77.9136, 99.2122, 99.5213,\n",
       "         97.0519, 94.8738, 99.4541, 99.7121, 95.2206, 99.6225, 98.7582, 49.6385,\n",
       "         95.6583, 88.2963, 66.4657, 95.3799, 86.5431, 88.2464, 97.7120, 99.8110,\n",
       "         83.5919, 98.6864, 97.0860, 98.5011, 99.3232, 97.8849, 99.0810, 99.2772,\n",
       "         91.4683, 88.0909, 81.3970, 82.7917, 96.3252, 95.4082, 99.1796, 31.7114,\n",
       "         82.4360, 96.7400, 83.3133, 99.0873, 98.7427, 95.9179, 99.6937, 64.0740,\n",
       "         86.2499, 98.9688, 98.8183, 98.0875, 99.7173, 98.2867, 98.2335, 94.7506,\n",
       "         94.2499, 98.3289, 96.1130, 98.5425, 85.5403, 98.6061, 97.3466, 97.3549,\n",
       "         97.6002, 95.9871, 98.1173, 89.1768, 97.8150, 97.2294, 97.0499, 97.6173,\n",
       "         98.8329, 75.2736, 79.7197, 93.5332, 77.9910, 97.3247, 97.7193, 86.9872,\n",
       "         93.6397, 99.0567, 81.4485, 84.2032, 82.1123, 97.8281, 99.3758, 99.4061,\n",
       "         96.4638, 88.7361, 77.6986, 84.8121, 99.7563, 99.3593, 97.9104, 94.9061,\n",
       "         81.1137, 98.9504, 99.2734, 99.1950, 95.9753, 97.7708, 63.9909, 53.1941,\n",
       "         59.9650, 97.0894, 98.1618, 98.1983, 91.8746, 96.0051, 98.2061, 98.8255,\n",
       "         98.4144, 99.1051, 96.8805, 95.9743, 99.2322, 94.5069, 99.5518, 99.2435,\n",
       "         98.4636, 99.0652, 91.0846, 97.1364, 96.6817, 99.2366, 96.9738, 92.9482,\n",
       "         99.3493, 86.2968, 68.4905, 92.1056, 95.8101, 96.9973, 88.8669, 95.3792,\n",
       "         98.4741, 98.8675, 67.3631, 98.0298, 98.5061, 95.7736, 98.0356, 93.9274,\n",
       "         96.0425, 97.9837, 98.4484, 99.4455, 98.9623, 98.0839, 98.8501, 97.4845,\n",
       "         97.6983, 98.1239, 95.1445, 96.5052, 90.6876, 93.3597, 97.9768, 99.2733,\n",
       "         98.1863, 95.6950, 99.4849, 99.3825, 96.4789, 99.0686, 97.9289, 99.0828,\n",
       "         94.2741, 98.1802, 97.3932, 96.6640, 86.2782, 91.3729, 91.8379, 94.3121,\n",
       "         95.5449, 96.9657, 96.0199, 99.7621, 99.4735, 99.7122, 99.1809, 93.3976,\n",
       "         96.8558, 90.7182, 94.4898, 97.5733, 98.6093, 97.6166, 93.5905, 94.6340,\n",
       "         99.0943, 98.3551, 92.9335, 97.1575, 96.3502, 99.1713, 93.7030, 96.7530,\n",
       "         98.9864, 98.8606, 76.0000, 94.9298, 93.6510, 98.0320, 83.4514, 81.1111,\n",
       "         89.9895, 94.6093, 96.9941, 99.4563, 99.5000, 99.4667, 99.5390, 99.6530,\n",
       "         99.6290, 99.6954, 99.6560, 99.6055, 97.4098, 99.6538, 90.8084, 94.9863,\n",
       "         98.0954, 91.0256, 81.4033, 96.6075, 94.8441, 88.3546, 67.3718, 92.5616,\n",
       "         85.9727, 97.2595, 98.1123, 98.7605, 98.6122, 98.5554, 98.6873, 97.0607,\n",
       "         79.8882, 50.8276, 98.6670, 97.3613, 99.2326, 76.4593, 58.4575, 74.8179,\n",
       "         97.9282, 97.1448, 95.6564, 97.5789, 98.3498, 90.2599, 99.2751, 84.2661]),\n",
       " 'AG': tensor([0., 0., 0., 0., 0., 0., 0., 0., 0., 0., 0., 0., 0., 0., 0., 0., 0., 0., 0., 0., 0., 0., 0., 0.,\n",
       "         0., 0., 0., 0., 0., 0., 0., 0., 0., 0., 0., 0., 0., 0., 0., 0., 0., 0., 0., 0., 0., 0., 0., 0.,\n",
       "         0., 0., 0., 0., 0., 0., 0., 0., 0., 0., 0., 0., 0., 0., 0., 0., 0., 0., 0., 0., 0., 0., 0., 0.,\n",
       "         0., 0., 0., 0., 0., 0., 0., 0., 0., 0., 0., 0., 0., 0., 0., 0., 0., 0., 0., 0., 0., 0., 0., 0.,\n",
       "         0., 0., 0., 0., 0., 0., 0., 0., 0., 0., 0., 0., 0., 0., 0., 0., 0., 0., 0., 0., 0., 0., 0., 0.,\n",
       "         0., 0., 0., 0., 0., 0., 0., 0., 0., 0., 0., 0., 0., 0., 0., 0., 0., 0., 0., 0., 0., 0., 0., 0.,\n",
       "         0., 0., 0., 0., 0., 0., 0., 0., 0., 0., 0., 0., 0., 0., 0., 0., 0., 0., 0., 0., 0., 0., 0., 0.,\n",
       "         0., 0., 0., 0., 0., 0., 0., 0., 0., 0., 0., 0., 0., 0., 0., 0., 0., 0., 0., 0., 0., 0., 0., 0.,\n",
       "         0., 0., 0., 0., 0., 0., 0., 0., 0., 0., 0., 0., 0., 0., 0., 0., 0., 0., 0., 0., 0., 0., 0., 0.,\n",
       "         0., 0., 0., 0., 0., 0., 0., 0., 0., 0., 0., 0., 0., 0., 0., 0., 0., 0., 0., 0., 0., 0., 0., 0.,\n",
       "         0., 0., 0., 0., 0., 0., 0., 0., 0., 0., 0., 0., 0., 0., 0., 0., 0., 0., 0., 0., 0., 0., 0., 0.,\n",
       "         0., 0., 0., 0., 0., 0., 0., 0., 0., 0., 0., 0., 0., 0., 0., 0., 0., 0., 0., 0., 0., 0., 0., 0.,\n",
       "         0., 0., 0., 0., 0., 0., 0., 0., 0., 0., 0., 0., 0., 0., 0., 0., 0., 0., 0., 0., 0., 0., 0., 0.,\n",
       "         0., 0., 0., 0., 0., 0., 0., 0., 0., 0., 0., 0., 0., 0., 0., 0., 0., 0., 0., 0., 0., 0., 0., 0.,\n",
       "         0., 0., 0., 0., 0., 0., 0., 0., 0., 0., 0., 0., 0., 0., 0., 0., 0., 0., 0., 0., 0., 0., 0., 0.,\n",
       "         0., 0., 0., 0., 0., 0., 0., 0., 0., 0., 0., 0., 0., 0., 0., 0., 0., 0., 0., 0., 0., 0., 0., 0.,\n",
       "         0., 0., 0., 0., 0., 0., 0., 0., 0., 0., 0., 0., 0., 0., 0., 0.]),\n",
       " 'FidIn': tensor([0., 0., 0., 0., 0., 0., 0., 0., 0., 0., 1., 0., 0., 0., 0., 0., 0., 0.,\n",
       "         0., 0., 0., 0., 0., 0., 0., 0., 0., 0., 0., 0., 0., 0., 0., 0., 0., 0.,\n",
       "         0., 0., 0., 0., 0., 0., 0., 0., 0., 0., 0., 0., 0., 0., 0., 0., 0., 0.,\n",
       "         0., 0., 0., 0., 0., 0., 0., 0., 0., 0., 0., 0., 0., 0., 0., 0., 0., 1.,\n",
       "         0., 0., 0., 0., 0., 0., 0., 0., 0., 0., 0., 0., 0., 0., 0., 0., 0., 0.,\n",
       "         0., 1., 0., 0., 0., 0., 0., 0., 0., 0., 0., 0., 1., 0., 0., 0., 0., 0.,\n",
       "         0., 0., 0., 0., 1., 0., 0., 0., 1., 0., 0., 0., 1., 0., 0., 1., 0., 1.,\n",
       "         1., 0., 0., 0., 0., 0., 0., 0., 0., 0., 0., 0., 0., 0., 0., 0., 0., 0.,\n",
       "         0., 0., 0., 0., 1., 1., 0., 0., 0., 0., 0., 0., 0., 0., 0., 1., 0., 1.,\n",
       "         1., 0., 1., 1., 0., 0., 1., 0., 0., 0., 0., 0., 0., 0., 0., 0., 0., 0.,\n",
       "         0., 0., 0., 1., 0., 0., 0., 0., 0., 0., 0., 1., 0., 0., 0., 0., 0., 0.,\n",
       "         0., 0., 0., 0., 0., 0., 0., 0., 0., 0., 0., 0., 0., 1., 0., 0., 0., 0.,\n",
       "         0., 1., 1., 0., 0., 0., 0., 1., 0., 0., 0., 0., 1., 0., 0., 0., 0., 0.,\n",
       "         1., 0., 0., 0., 0., 0., 0., 0., 0., 0., 0., 0., 1., 1., 1., 0., 0., 0.,\n",
       "         0., 0., 0., 0., 0., 0., 0., 0., 0., 0., 0., 0., 0., 0., 0., 0., 0., 0.,\n",
       "         0., 1., 0., 0., 0., 0., 0., 0., 0., 0., 0., 0., 1., 0., 0., 0., 0., 0.,\n",
       "         0., 0., 0., 0., 0., 0., 0., 0., 0., 0., 0., 0., 0., 0., 0., 0., 0., 0.,\n",
       "         0., 0., 0., 0., 0., 0., 0., 0., 0., 0., 1., 0., 0., 0., 0., 0., 0., 0.,\n",
       "         0., 0., 0., 0., 0., 1., 0., 0., 0., 0., 1., 0., 0., 0., 0., 0., 0., 0.,\n",
       "         1., 0., 0., 0., 0., 0., 0., 0., 0., 0., 0., 0., 0., 0., 0., 0., 0., 0.,\n",
       "         0., 0., 0., 0., 0., 0., 0., 0., 0., 1., 1., 0., 0., 1., 1., 0., 1., 0.,\n",
       "         0., 0., 0., 0., 0., 0., 0., 0., 0., 0., 0., 0., 1., 0., 0., 0., 0., 0.,\n",
       "         0., 0., 0., 1.]),\n",
       " 'SPS': tensor([0.7673, 0.8881, 0.8650, 0.9178, 0.7783, 0.9338, 0.7806, 0.7661, 0.7877,\n",
       "         0.9185, 0.7522, 0.7656, 0.8034, 0.7738, 0.7567, 0.7749, 0.7523, 0.7734,\n",
       "         0.7706, 0.8018, 0.8162, 0.7744, 0.7885, 0.7735, 0.7791, 0.7493, 0.7591,\n",
       "         0.7505, 0.7635, 0.7567, 0.7603, 0.7745, 0.7531, 0.7630, 0.7649, 0.7708,\n",
       "         0.7536, 0.7622, 0.7630, 0.7658, 0.7600, 0.7587, 0.7700, 0.7554, 0.8082,\n",
       "         0.7784, 0.7846, 0.7884, 0.8929, 0.7897, 0.8310, 0.7671, 0.7489, 0.7672,\n",
       "         0.7558, 0.7593, 0.7685, 0.7686, 0.7599, 0.7623, 0.7639, 0.8984, 0.8730,\n",
       "         0.8416, 0.8738, 0.7843, 0.7624, 0.7526, 0.7483, 0.7737, 0.7871, 0.7430,\n",
       "         0.7754, 0.7701, 0.7545, 0.7690, 0.7927, 0.7604, 0.7980, 0.7715, 0.7531,\n",
       "         0.7501, 0.7657, 0.7526, 0.7807, 0.7547, 0.7733, 0.8969, 0.7872, 0.7708,\n",
       "         0.8865, 0.7561, 0.7680, 0.7552, 0.7491, 0.7622, 0.7570, 0.7675, 0.7568,\n",
       "         0.7962, 0.7653, 0.7471, 0.7649, 0.7519, 0.8122, 0.7509, 0.8052, 0.7694,\n",
       "         0.8073, 0.7921, 0.7946, 0.7841, 0.7682, 0.8017, 0.7850, 0.7754, 0.7813,\n",
       "         0.7729, 0.7601, 0.7548, 0.7600, 0.7893, 0.7657, 0.7675, 0.7684, 0.7606,\n",
       "         0.7726, 0.7605, 0.7790, 0.7693, 0.7718, 0.7731, 0.7668, 0.7802, 0.7688,\n",
       "         0.7642, 0.7698, 0.7519, 0.7914, 0.7509, 0.7521, 0.7609, 0.7592, 0.7756,\n",
       "         0.7913, 0.8007, 0.7980, 0.8102, 0.7601, 0.7627, 0.7593, 0.7542, 0.7751,\n",
       "         0.8348, 0.7717, 0.7720, 0.7862, 0.7681, 0.7602, 0.7453, 0.7883, 0.7757,\n",
       "         0.7502, 0.7589, 0.7618, 0.7633, 0.8590, 0.7619, 0.7524, 0.7714, 0.7571,\n",
       "         0.7602, 0.7990, 0.8386, 0.7616, 0.7615, 0.7535, 0.7546, 0.7661, 0.7681,\n",
       "         0.7738, 0.7563, 0.7851, 0.7670, 0.7599, 0.7525, 0.9401, 0.7650, 0.7772,\n",
       "         0.7706, 0.7655, 0.7744, 0.7967, 0.7854, 0.7732, 0.7758, 0.7695, 0.7556,\n",
       "         0.7680, 0.7772, 0.7703, 0.7765, 0.7761, 0.7660, 0.7612, 0.7683, 0.7688,\n",
       "         0.7623, 0.7586, 0.7575, 0.7585, 0.7671, 0.7797, 0.7704, 0.7738, 0.7628,\n",
       "         0.7578, 0.7665, 0.7691, 0.7559, 0.7608, 0.7744, 0.7749, 0.7643, 0.7540,\n",
       "         0.7556, 0.7664, 0.7699, 0.7831, 0.7838, 0.8044, 0.7644, 0.7859, 0.7680,\n",
       "         0.7533, 0.7405, 0.7729, 0.7875, 0.8441, 0.8970, 0.9165, 0.7529, 0.7570,\n",
       "         0.7629, 0.7491, 0.7810, 0.7741, 0.7790, 0.7658, 0.9071, 0.9073, 0.8739,\n",
       "         0.7550, 0.7899, 0.8859, 0.8735, 0.7722, 0.7563, 0.9090, 0.8126, 0.7622,\n",
       "         0.7596, 0.7567, 0.7549, 0.7646, 0.7590, 0.7843, 0.7705, 0.7634, 0.7506,\n",
       "         0.7765, 0.8529, 0.7627, 0.8341, 0.7631, 0.7588, 0.8277, 0.7685, 0.7825,\n",
       "         0.9213, 0.9037, 0.7706, 0.7667, 0.7906, 0.7719, 0.8774, 0.7685, 0.7565,\n",
       "         0.8487, 0.8329, 0.7518, 0.7800, 0.7547, 0.8663, 0.7735, 0.7756, 0.7743,\n",
       "         0.7568, 0.7911, 0.8877, 0.7552, 0.7621, 0.7997, 0.7488, 0.8475, 0.7724,\n",
       "         0.7726, 0.7528, 0.7598, 0.7623, 0.7615, 0.8155, 0.7776, 0.7765, 0.7787,\n",
       "         0.7512, 0.8121, 0.7731, 0.7641, 0.7722, 0.7672, 0.7645, 0.8470, 0.7491,\n",
       "         0.7731, 0.7776, 0.7713, 0.7500, 0.7579, 0.7543, 0.7644, 0.7683, 0.7748,\n",
       "         0.7785, 0.7650, 0.8119, 0.7607, 0.7538, 0.7592, 0.7729, 0.7617, 0.7648,\n",
       "         0.7828, 0.7737, 0.7712, 0.7712, 0.7894, 0.7754, 0.7924, 0.8939, 0.7890,\n",
       "         0.7734, 0.7650, 0.7525, 0.9131, 0.7930, 0.7699, 0.7598, 0.7769, 0.7603,\n",
       "         0.7571, 0.7702, 0.7717, 0.7710, 0.7683, 0.7644, 0.7694, 0.7691, 0.8922,\n",
       "         0.7902, 0.7664, 0.7840, 0.7600, 0.9347, 0.8473, 0.7806, 0.8458, 0.9006,\n",
       "         0.7793, 0.9082, 0.9060, 0.9022, 0.7617, 0.7771, 0.8949, 0.7821, 0.7616,\n",
       "         0.7648, 0.7576, 0.7505, 0.7543, 0.7570, 0.7729, 0.7723, 0.7550, 0.7647,\n",
       "         0.7561, 0.7815, 0.7602, 0.8065], dtype=torch.float64),\n",
       " 'COMP': tensor([9.1728, 8.4690, 8.6451, 8.1030, 9.1261, 7.8299, 9.1260, 9.1900, 9.0912,\n",
       "         8.0933, 9.2435, 9.1837, 8.9938, 9.1488, 9.2190, 9.1507, 9.2386, 9.1576,\n",
       "         9.1593, 8.9988, 8.8859, 9.1392, 9.0760, 9.1518, 9.1152, 9.2544, 9.2070,\n",
       "         9.2511, 9.1907, 9.2214, 9.2096, 9.1428, 9.2408, 9.2017, 9.1872, 9.1706,\n",
       "         9.2393, 9.2034, 9.2046, 9.1896, 9.2142, 9.2186, 9.1698, 9.2324, 8.9759,\n",
       "         9.1353, 9.0812, 9.0511, 8.3817, 9.0812, 8.8763, 9.1822, 9.2525, 9.1789,\n",
       "         9.2281, 9.2107, 9.1666, 9.1779, 9.2117, 9.2034, 9.1924, 8.3545, 8.5955,\n",
       "         8.8080, 8.5887, 9.0829, 9.1971, 9.2416, 9.2603, 9.1387, 9.0710, 9.2787,\n",
       "         9.1358, 9.1683, 9.2360, 9.1734, 9.0536, 9.2134, 9.0296, 9.1678, 9.2388,\n",
       "         9.2496, 9.1905, 9.2430, 9.1131, 9.2344, 9.1368, 8.3201, 9.0649, 9.1598,\n",
       "         8.4689, 9.2270, 9.1736, 9.2302, 9.2475, 9.1914, 9.2222, 9.1742, 9.2267,\n",
       "         9.0262, 9.1872, 9.2639, 9.1843, 9.2355, 8.9726, 9.2480, 8.9997, 9.1675,\n",
       "         8.9985, 9.0665, 9.0524, 9.1070, 9.1712, 9.0249, 9.0919, 9.1326, 9.1049,\n",
       "         9.1504, 9.2032, 9.2260, 9.2075, 9.0794, 9.1748, 9.1732, 9.1594, 9.2055,\n",
       "         9.1513, 9.2082, 9.1310, 9.1773, 9.1633, 9.1561, 9.1839, 9.1167, 9.1725,\n",
       "         9.1874, 9.1667, 9.2431, 9.0646, 9.2492, 9.2411, 9.2042, 9.2152, 9.1392,\n",
       "         9.0727, 9.0255, 9.0433, 8.9833, 9.2074, 9.1942, 9.2096, 9.2350, 9.1336,\n",
       "         8.8367, 9.1451, 9.1548, 9.0692, 9.1735, 9.2074, 9.2708, 9.0742, 9.1361,\n",
       "         9.2490, 9.2138, 9.2062, 9.1908, 8.6682, 9.2019, 9.2447, 9.1616, 9.2245,\n",
       "         9.2103, 9.0370, 8.8259, 9.2037, 9.2014, 9.2374, 9.2333, 9.1840, 9.1684,\n",
       "         9.1479, 9.2212, 9.0925, 9.1818, 9.2092, 9.2444, 7.7307, 9.1909, 9.1321,\n",
       "         9.1682, 9.1846, 9.1389, 9.0119, 9.0933, 9.1480, 9.1341, 9.1697, 9.2307,\n",
       "         9.1825, 9.1109, 9.1689, 9.1387, 9.1474, 9.1868, 9.2002, 9.1792, 9.1726,\n",
       "         9.1963, 9.2159, 9.2184, 9.2171, 9.1762, 9.1196, 9.1663, 9.1483, 9.2042,\n",
       "         9.2190, 9.1767, 9.1653, 9.2281, 9.2037, 9.1496, 9.1538, 9.1940, 9.2396,\n",
       "         9.2281, 9.1836, 9.1631, 9.1098, 9.0963, 9.0077, 9.1950, 9.0843, 9.1703,\n",
       "         9.2384, 9.2888, 9.1502, 9.0941, 8.7954, 8.3470, 8.1408, 9.2396, 9.2259,\n",
       "         9.2002, 9.2574, 9.1128, 9.1574, 9.1181, 9.1876, 8.2312, 8.2277, 8.5822,\n",
       "         9.2338, 9.0631, 8.4753, 8.5628, 9.1550, 9.2219, 8.2334, 8.9482, 9.2045,\n",
       "         9.2133, 9.2240, 9.2296, 9.1931, 9.2085, 9.1090, 9.1727, 9.1940, 9.2427,\n",
       "         9.1399, 8.7108, 9.1961, 8.8670, 9.1975, 9.2155, 8.8928, 9.1680, 9.1130,\n",
       "         8.0602, 8.2552, 9.1679, 9.1791, 9.0583, 9.1457, 8.5554, 9.1730, 9.2264,\n",
       "         8.7702, 8.8707, 9.2422, 9.1127, 9.2345, 8.6363, 9.1411, 9.1281, 9.1432,\n",
       "         9.2255, 9.0699, 8.4584, 9.2346, 9.1993, 9.0189, 9.2525, 8.7766, 9.1479,\n",
       "         9.1563, 9.2398, 9.2095, 9.1917, 9.1858, 8.9622, 9.1351, 9.1329, 9.1200,\n",
       "         9.2494, 8.9821, 9.1414, 9.1876, 9.1588, 9.1712, 9.1849, 8.7612, 9.2553,\n",
       "         9.1520, 9.1204, 9.1599, 9.2528, 9.2204, 9.2344, 9.1937, 9.1699, 9.1363,\n",
       "         9.1086, 9.1844, 8.9475, 9.1999, 9.2368, 9.2150, 9.1463, 9.2003, 9.1935,\n",
       "         9.0919, 9.1540, 9.1585, 9.1654, 9.0884, 9.1490, 9.0694, 8.3535, 9.0725,\n",
       "         9.1422, 9.1757, 9.2377, 8.1938, 9.0704, 9.1719, 9.2099, 9.1260, 9.2074,\n",
       "         9.2229, 9.1647, 9.1578, 9.1624, 9.1750, 9.1950, 9.1601, 9.1647, 8.3933,\n",
       "         9.0723, 9.1758, 9.1083, 9.2087, 7.8558, 8.7736, 9.1202, 8.7537, 8.3397,\n",
       "         9.1170, 8.2163, 8.2500, 8.2846, 9.2014, 9.1356, 8.3319, 9.1099, 9.2028,\n",
       "         9.1892, 9.2120, 9.2518, 9.2276, 9.2164, 9.1449, 9.1595, 9.2328, 9.1834,\n",
       "         9.2278, 9.1243, 9.2080, 9.0157], dtype=torch.float64)}"
      ]
     },
     "execution_count": 19,
     "metadata": {},
     "output_type": "execute_result"
    }
   ],
   "source": [
    "results_saliency"
   ]
  },
  {
   "cell_type": "code",
   "execution_count": 20,
   "metadata": {},
   "outputs": [
    {
     "name": "stdout",
     "output_type": "stream",
     "text": [
      "FF: 0.6791847944259644\n",
      "AI: 0.0\n",
      "AD: 93.1441879272461\n",
      "AG: 0.0\n",
      "FidIn: 0.10499999672174454\n",
      "SPS: 0.7831902037963887\n",
      "COMP: 9.07891243750019\n"
     ]
    }
   ],
   "source": [
    "for m in results_saliency:\n",
    "    print(f\"{m}: {results_saliency[m].nanmean().item()}\")"
   ]
  },
  {
   "cell_type": "code",
   "execution_count": 21,
   "metadata": {},
   "outputs": [
    {
     "name": "stderr",
     "output_type": "stream",
     "text": [
      "/home/yuliya/coursework24/env/lib/python3.12/site-packages/quantus/metrics/complexity/complexity.py:254: RuntimeWarning: invalid value encountered in divide\n",
      "  a = np.array(np.reshape(a, newshape), dtype=np.float64) / np.sum(np.abs(a))\n"
     ]
    }
   ],
   "source": [
    "results_gradcam = predict_gradcam.predict_set(test_loader_predict)"
   ]
  },
  {
   "cell_type": "code",
   "execution_count": 22,
   "metadata": {},
   "outputs": [
    {
     "data": {
      "text/plain": [
       "{'FF': tensor([ 5.8764e-01, -3.3773e-05,  1.5085e-01,  1.0937e-05,  5.2657e-01,\n",
       "          3.7124e-01, -2.5295e-02,  5.5869e-01,  1.3183e-01,  1.2811e-01,\n",
       "          1.6749e-05,  7.3803e-01,  3.8368e-03, -7.5783e-03,  1.5747e-01,\n",
       "          3.4484e-03,  2.2451e-01,  1.9666e-01, -3.6100e-02, -4.2894e-02,\n",
       "          3.4534e-02, -1.2147e-01,  2.4931e-01,  3.1264e-01,  7.3136e-01,\n",
       "          1.4362e-02,  8.4856e-01, -1.0041e-01, -4.1117e-02,  4.2418e-02,\n",
       "          3.4450e-02,  1.1137e-02,  7.0682e-02,  4.3572e-01,  1.7106e-01,\n",
       "          6.3640e-01, -2.0046e-02,  2.2881e-02,  1.3371e-01,  2.9576e-01,\n",
       "          1.7948e-01,  6.1287e-02,  7.1375e-01, -1.1793e-02,  2.5242e-01,\n",
       "          6.5322e-01,  5.4376e-02,  1.5936e-01, -1.5068e-04,  6.9745e-01,\n",
       "          8.7252e-03,  2.4476e-01,  6.4259e-02, -5.3338e-02,  2.2209e-01,\n",
       "          4.8217e-01,  3.0998e-01,  7.6364e-01,  4.0360e-02, -2.3479e-02,\n",
       "         -4.3824e-02,  2.7812e-04,  7.7695e-04, -4.2242e-04,  8.1658e-06,\n",
       "          5.2904e-02,  5.5634e-03,  1.5312e-03,  9.8124e-03,  1.3857e-01,\n",
       "          5.2355e-02,  2.6893e-02,  3.3708e-01,  4.4588e-01,  1.2468e-01,\n",
       "          2.8239e-01,  8.5338e-03,  7.4953e-02,  2.2907e-01,  4.5724e-02,\n",
       "          2.7719e-01,  5.3280e-02,  1.6538e-01,  1.1681e-02,  1.4404e-01,\n",
       "          1.4329e-02,  5.5175e-02,  1.4430e-02,  1.2393e-01,  9.0243e-01,\n",
       "          2.1080e-02,  1.5373e-01, -6.7949e-06,  4.4973e-01,  2.2064e-01,\n",
       "          3.1738e-01,  9.4910e-03,  1.6750e-02,  4.7199e-01,  3.6862e-02,\n",
       "          6.3721e-02,  2.0157e-01, -8.1062e-06,  2.9325e-05,  3.1885e-02,\n",
       "          9.7093e-01,  6.0202e-02,  7.0661e-03,  3.2634e-01,  3.5097e-01,\n",
       "         -5.0598e-03,  9.1457e-03,  1.7424e-01,  3.9502e-01,  2.5423e-01,\n",
       "          1.1625e-01,  2.8258e-01,  5.8692e-01,  3.3665e-02,  4.8425e-01,\n",
       "          2.8064e-01,  8.6037e-01,  6.1030e-02,  3.5666e-01,  3.3535e-02,\n",
       "          4.1330e-02,  6.6749e-03,  1.5945e-01,  5.6228e-01,  5.0559e-02,\n",
       "          2.6994e-01,  3.4117e-02,  1.7017e-02,  2.1683e-01,  1.6180e-01,\n",
       "          2.3260e-02,  1.2041e-01,  2.8092e-02,  1.4180e-01,  9.4675e-02,\n",
       "          4.2278e-03,  1.5222e-02,  5.7925e-01,  2.1602e-01,  3.8897e-02,\n",
       "          1.3538e-02,  3.0135e-02,  3.3380e-01,  8.2569e-02,  7.0411e-01,\n",
       "          2.7558e-01,  1.8203e-02,  2.2333e-02,  1.0559e-01,  3.1513e-02,\n",
       "          1.1673e-02,  4.8759e-01,  4.6352e-02,  8.7423e-01,  1.5913e-01,\n",
       "          3.1530e-02,  2.3886e-01,  1.6885e-02, -1.7285e-05,  6.9809e-04,\n",
       "          6.4301e-04,  1.0534e-01,  2.4952e-01,  4.8828e-02,  1.3230e-03,\n",
       "          5.5432e-06,  5.0833e-01,  3.1633e-02,  1.0936e-01,  2.4438e-05,\n",
       "          5.2745e-03,  8.2249e-02,  6.1335e-02,  1.8014e-02, -7.3877e-02,\n",
       "          7.5741e-03,  3.7556e-01,  9.3597e-02,  2.5354e-01,  1.4436e-02,\n",
       "          5.6326e-01,  2.0075e-01,  1.4280e-02,  8.9777e-01,  5.5219e-01,\n",
       "          3.6100e-01,  3.9040e-02, -9.0599e-06,  4.2817e-02,  1.8332e-01,\n",
       "         -6.6161e-06,  5.3649e-02,  2.4329e-01,  8.2545e-01, -8.7887e-03,\n",
       "          9.4252e-02,  5.2545e-01,  2.5942e-02,  2.3463e-01,  1.2282e-01,\n",
       "          6.9643e-02,  7.1418e-02,  8.9930e-03,  7.9405e-04,  1.2407e-02,\n",
       "          3.5387e-02,  1.0840e-01,  1.5369e-01,  3.7217e-04,  1.7510e-03,\n",
       "          7.1526e-07,  5.0146e-02,  1.2442e-02, -8.6998e-02,  2.8393e-01,\n",
       "         -3.1561e-05,  2.3723e-05,  1.4013e-01,  1.2705e-01,  8.3376e-02,\n",
       "          8.0850e-01,  5.1435e-02,  2.7366e-02,  3.7551e-06, -3.7306e-03,\n",
       "          5.5675e-01, -1.1219e-01,  1.7834e-02,  1.8580e-01,  3.7974e-01,\n",
       "          5.0585e-01,  2.9238e-02,  4.9813e-02,  5.0553e-01,  3.7474e-01,\n",
       "          6.1599e-02,  5.3232e-01,  9.5012e-03,  3.3638e-02,  4.0519e-04,\n",
       "          7.4561e-01,  2.5306e-01,  9.7731e-03,  8.0113e-01,  1.3938e-01,\n",
       "          5.4454e-02, -4.9256e-03,  1.6004e-05,  8.0255e-02,  6.7374e-03,\n",
       "         -3.9642e-02,  8.3622e-01,  9.1271e-01,  1.8539e-01, -1.7019e-02,\n",
       "          6.7883e-01,  6.0170e-01,  1.6299e-01,  2.1483e-02, -2.0868e-02,\n",
       "          2.3869e-01, -4.4933e-02,  8.1599e-04, -8.3148e-05,  3.4204e-01,\n",
       "          5.6791e-02,  6.6519e-05, -1.0321e-01, -1.4985e-01,  6.7197e-02,\n",
       "         -2.3224e-01,  3.7917e-03, -5.5835e-02, -4.6888e-02, -3.4394e-02,\n",
       "         -1.4632e-03,  1.2450e-03, -5.7723e-02,  6.4502e-02,  1.4360e-01,\n",
       "          4.1687e-01,  2.2903e-02,  3.7576e-01,  4.3511e-06, -1.3906e-02,\n",
       "          9.8347e-02,  3.5129e-01, -6.6854e-03,  5.2052e-02,  2.6139e-01,\n",
       "         -5.7824e-03,  6.4062e-02,  1.0348e-01, -3.2382e-02,  1.3385e-02,\n",
       "         -8.6981e-04,  1.4070e-01,  1.7740e-01,  1.3076e-01, -8.0376e-02,\n",
       "          5.7817e-06, -5.6013e-02, -8.1123e-03, -9.3961e-02,  3.1942e-02,\n",
       "          8.7717e-02,  2.7901e-02,  1.2941e-02,  5.0773e-01,  2.1767e-01,\n",
       "          7.4336e-01,  3.8177e-01,  8.2822e-02,  2.1321e-01,  2.7630e-01,\n",
       "          6.2082e-02,  2.2389e-01,  9.6036e-02,  1.5337e-01,  2.1162e-02,\n",
       "         -5.3644e-06,  3.3772e-02,  2.5090e-02,  4.5542e-02,  3.4035e-02,\n",
       "          2.9433e-02,  2.9589e-01, -1.6792e-03,  7.2024e-01, -2.2422e-03,\n",
       "         -2.8483e-02,  6.5608e-01,  5.4744e-01,  1.2352e-01,  3.1123e-01,\n",
       "          2.3984e-01, -5.9605e-07,  5.1747e-02,  5.6659e-01,  4.7266e-01,\n",
       "         -8.0621e-04,  5.6592e-02,  9.9956e-02,  4.3148e-01,  2.5085e-02,\n",
       "         -9.5055e-02, -1.0994e-02,  6.2128e-02,  5.5267e-02,  9.4358e-02,\n",
       "          4.1446e-01,  9.3078e-02,  2.1599e-01,  4.8961e-01,  4.1389e-02,\n",
       "          1.7137e-02,  2.8697e-01,  7.9076e-02,  1.1430e-02,  2.7562e-01,\n",
       "          8.6699e-01,  1.6433e-01,  3.3796e-03,  2.0847e-02,  9.8577e-02,\n",
       "         -7.2516e-03,  8.9571e-01,  1.3426e-02,  3.0254e-01, -5.0068e-06,\n",
       "          3.4029e-01,  4.4133e-01,  1.2626e-01, -2.2559e-02,  4.5323e-03,\n",
       "         -3.6239e-03, -7.2271e-04,  1.0450e-01,  1.3536e-01, -3.1501e-05,\n",
       "          1.1806e-02, -6.0589e-02,  6.2273e-02,  9.4399e-01,  3.1920e-01,\n",
       "          7.6174e-01,  2.0384e-01, -3.5711e-02,  6.1735e-01,  4.7672e-01,\n",
       "          2.1782e-01,  3.0280e-02,  3.5355e-01,  1.4085e-02,  3.0276e-01]),\n",
       " 'AI': tensor([  0.,   0.,   0.,   0.,   0.,   0.,   0.,   0.,   0.,   0.,   0.,   0.,\n",
       "           0.,   0.,   0.,   0.,   0.,   0.,   0.,   0.,   0.,   0.,   0.,   0.,\n",
       "           0.,   0.,   0.,   0.,   0.,   0.,   0.,   0.,   0.,   0.,   0.,   0.,\n",
       "           0.,   0.,   0.,   0.,   0.,   0.,   0.,   0.,   0.,   0.,   0.,   0.,\n",
       "           0.,   0.,   0.,   0.,   0.,   0., 100.,   0.,   0.,   0.,   0.,   0.,\n",
       "           0.,   0.,   0.,   0.,   0.,   0.,   0.,   0.,   0.,   0.,   0.,   0.,\n",
       "           0.,   0.,   0.,   0.,   0.,   0.,   0.,   0.,   0.,   0.,   0.,   0.,\n",
       "           0.,   0.,   0.,   0.,   0.,   0.,   0.,   0.,   0.,   0.,   0.,   0.,\n",
       "           0.,   0.,   0.,   0.,   0.,   0.,   0.,   0.,   0.,   0.,   0.,   0.,\n",
       "           0.,   0.,   0.,   0.,   0.,   0.,   0.,   0.,   0.,   0.,   0.,   0.,\n",
       "           0.,   0.,   0.,   0.,   0.,   0.,   0.,   0.,   0.,   0.,   0.,   0.,\n",
       "           0.,   0.,   0.,   0.,   0.,   0.,   0.,   0.,   0.,   0.,   0.,   0.,\n",
       "           0.,   0.,   0.,   0.,   0.,   0.,   0.,   0.,   0.,   0.,   0.,   0.,\n",
       "           0.,   0.,   0.,   0.,   0.,   0.,   0.,   0.,   0.,   0.,   0.,   0.,\n",
       "           0.,   0.,   0.,   0.,   0.,   0.,   0.,   0.,   0.,   0.,   0.,   0.,\n",
       "           0.,   0.,   0.,   0.,   0.,   0.,   0.,   0.,   0.,   0.,   0.,   0.,\n",
       "           0.,   0.,   0.,   0.,   0.,   0.,   0.,   0.,   0.,   0.,   0.,   0.,\n",
       "           0.,   0.,   0.,   0.,   0.,   0.,   0.,   0.,   0.,   0.,   0.,   0.,\n",
       "           0.,   0.,   0.,   0.,   0.,   0.,   0.,   0.,   0.,   0.,   0.,   0.,\n",
       "           0.,   0.,   0.,   0.,   0.,   0.,   0.,   0.,   0.,   0.,   0.,   0.,\n",
       "         100.,   0.,   0.,   0.,   0.,   0.,   0.,   0.,   0.,   0.,   0.,   0.,\n",
       "           0.,   0.,   0.,   0.,   0.,   0.,   0.,   0.,   0.,   0.,   0.,   0.,\n",
       "           0.,   0.,   0.,   0.,   0.,   0.,   0.,   0.,   0.,   0.,   0.,   0.,\n",
       "           0.,   0.,   0.,   0.,   0.,   0.,   0.,   0.,   0., 100.,   0.,   0.,\n",
       "           0.,   0.,   0.,   0.,   0.,   0.,   0.,   0.,   0.,   0.,   0.,   0.,\n",
       "           0.,   0.,   0.,   0.,   0.,   0.,   0.,   0.,   0.,   0.,   0.,   0.,\n",
       "           0.,   0.,   0.,   0.,   0.,   0.,   0.,   0.,   0.,   0.,   0.,   0.,\n",
       "           0.,   0.,   0.,   0.,   0.,   0.,   0.,   0.,   0.,   0.,   0.,   0.,\n",
       "           0.,   0.,   0.,   0.,   0.,   0.,   0., 100.,   0.,   0.,   0.,   0.,\n",
       "           0.,   0.,   0.,   0.,   0.,   0.,   0.,   0.,   0.,   0.,   0.,   0.,\n",
       "           0.,   0.,   0.,   0.,   0.,   0.,   0.,   0.,   0.,   0.,   0.,   0.,\n",
       "           0.,   0.,   0.,   0.,   0.,   0.,   0.,   0.,   0.,   0.,   0.,   0.,\n",
       "           0.,   0.,   0.,   0.,   0., 100.,   0.,   0.,   0.,   0.,   0.,   0.,\n",
       "           0.,   0.,   0.,   0.]),\n",
       " 'AD': tensor([96.3629, 70.0975, 89.5028, 95.0550, 97.2054, 96.5741, 93.8786, 48.7271,\n",
       "         94.6314, 94.4895, 94.2608, 89.1909, 95.4155, 96.1486, 20.4376, 11.7904,\n",
       "         95.1804, 32.2051, 96.9786, 82.9223, 90.2291, 90.5519, 96.6044, 98.4290,\n",
       "         47.8433, 95.4450, 31.9225, 95.7727, 83.4872, 89.1389, 97.6891, 94.4503,\n",
       "         98.8426, 90.0550, 95.2332, 99.0265, 98.4073, 98.3709, 99.2923, 15.6770,\n",
       "         90.6086, 46.3613, 89.2134, 92.1655, 96.8667, 86.9345,  5.1959, 42.0390,\n",
       "         91.1957, 98.8808, 21.3844, 88.3342, 23.2302, 77.7575,  0.0000, 80.5630,\n",
       "         94.1566, 58.1593, 21.7272, 89.4773, 74.4538, 97.2255, 96.7829, 97.6979,\n",
       "         97.3354, 98.2508, 98.8138, 97.2339, 94.0444, 98.9428, 96.4593, 92.0499,\n",
       "         98.3085, 11.8169,  6.9184,  3.2297, 97.5456, 78.6426, 79.7651, 15.1420,\n",
       "         10.4055, 96.3268, 98.7139, 92.4468, 34.7645, 77.1807, 94.8507, 96.8515,\n",
       "         87.4251, 20.2235, 93.1803, 29.3849, 97.8058, 98.0913, 99.2008, 26.8481,\n",
       "         97.6140, 56.5393, 95.0134, 95.1605, 83.2406,  7.2558, 98.1153, 98.0108,\n",
       "         88.4789, 82.5464, 87.7371, 14.0699, 79.6604, 16.0099, 98.1900, 96.8646,\n",
       "         57.0952,  8.4411, 17.0982, 59.5472, 37.7839, 88.3746, 63.7964, 97.1315,\n",
       "          6.4606, 98.0032, 41.5810, 30.1605, 76.8544, 62.4235, 92.6901, 66.0006,\n",
       "         25.0949, 33.8310, 62.1412, 32.7863,  9.2673, 91.0153, 68.3783, 99.0645,\n",
       "         25.4377, 40.7351, 23.8984, 78.7621, 99.0284, 98.7900, 37.1659, 14.4273,\n",
       "         77.4851, 88.9578, 85.3445, 29.7609, 32.7520, 80.1171, 16.7660, 96.3301,\n",
       "          0.7372, 41.9237, 75.0487, 85.9739, 93.4462, 96.7499, 28.8451, 79.7770,\n",
       "         97.6574, 29.6612,  3.5784, 97.4971,  7.8516,  5.7329, 92.7417, 88.3305,\n",
       "         92.2792, 98.6217, 98.7004, 96.8594, 82.6514, 97.6418, 96.9048, 73.0829,\n",
       "         89.7970, 88.4857, 97.0977, 55.2534, 86.0630, 76.0527, 45.4177, 97.5325,\n",
       "         56.6338, 69.9767, 42.4407,  1.9221, 16.5320, 97.5720, 98.6602, 57.0000,\n",
       "         89.7370, 82.5083, 20.1937, 99.1329, 13.1454, 66.7116,  4.5639, 94.4826,\n",
       "         88.7160, 46.5527, 98.4343, 47.7913, 90.4563, 77.4487, 88.8340, 90.1523,\n",
       "         92.6031, 95.7185, 15.8683,  4.1917, 98.5101, 97.3504,  7.2830, 98.5464,\n",
       "         98.5777,  6.9342, 26.4684, 81.5355, 95.0594, 95.4870, 99.0494, 68.2678,\n",
       "         73.8483, 50.3250, 54.8414, 22.9580, 97.8697, 98.3736, 98.2763,  1.9711,\n",
       "         96.8389, 85.1709, 58.8842, 66.8315, 29.1421, 11.2726, 99.4133, 72.6001,\n",
       "          0.0000, 72.8745, 44.1840, 40.2759,  4.9936, 67.0723, 77.8922, 58.4251,\n",
       "         66.8100, 96.6688, 97.4119, 95.8046, 92.6450, 98.5890, 97.9587, 98.9907,\n",
       "         98.6921, 99.3317, 95.6185, 97.2202, 93.0237, 46.5200, 90.8702, 93.1955,\n",
       "         96.0610, 89.7782, 51.1617, 97.7293, 90.0270, 91.9971, 94.2358, 96.5172,\n",
       "         97.9190, 94.0004, 78.6233, 83.8262, 89.7980, 77.8773, 97.6278, 97.2528,\n",
       "         98.2456, 51.0314, 90.6231, 96.0898, 56.1033,  0.0000, 12.1632, 72.5984,\n",
       "         97.6292, 87.0530,  2.1021, 83.6070, 37.1686,  7.8192, 81.1004, 95.2080,\n",
       "         95.0565, 93.2602, 96.7808, 98.7913, 22.7877, 46.9359, 88.4555, 87.9445,\n",
       "         95.1602, 97.0806, 97.8312, 86.5192, 89.5586, 94.3501, 81.0091, 91.7342,\n",
       "         16.5638, 30.3718, 25.8764, 88.4805, 69.5025, 67.4219, 31.6461, 85.8778,\n",
       "         33.7248, 85.4643, 98.4569, 31.7021, 13.0773, 98.0280, 94.2023, 98.2429,\n",
       "         77.5987, 79.2550, 94.8385, 73.4569, 98.4558, 44.2544, 56.9309, 99.2114,\n",
       "         69.9567, 37.0485, 67.5243, 50.1047, 82.1886, 98.5545, 24.7488,  0.0000,\n",
       "         93.5119, 40.0127, 40.3439,  2.0636,  0.3989, 94.8798, 87.5419, 61.6754,\n",
       "         82.4244, 96.4561, 97.9128, 71.3583, 31.4157, 49.1494, 24.5933, 63.9673,\n",
       "         49.8751, 25.7789, 54.9402, 55.8829,  4.5384, 97.8090, 82.8900, 52.4014,\n",
       "         98.4284,  0.9574, 90.6012, 95.6316, 27.4519, 98.5299, 95.6848, 45.3251,\n",
       "         70.4974, 98.4281, 17.4886, 97.5368, 97.2787, 97.3704, 95.0165,  1.0089,\n",
       "         93.1148, 90.3077, 89.1221, 99.1096, 98.9041,  0.0000, 62.7328, 73.9551,\n",
       "         85.3727,  2.2094, 38.1409, 13.0909,  2.2114, 89.0566, 82.4080, 29.4604]),\n",
       " 'AG': tensor([ 0.0000,  0.0000,  0.0000,  0.0000,  0.0000,  0.0000,  0.0000,  0.0000,\n",
       "          0.0000,  0.0000,  0.0000,  0.0000,  0.0000,  0.0000,  0.0000,  0.0000,\n",
       "          0.0000,  0.0000,  0.0000,  0.0000,  0.0000,  0.0000,  0.0000,  0.0000,\n",
       "          0.0000,  0.0000,  0.0000,  0.0000,  0.0000,  0.0000,  0.0000,  0.0000,\n",
       "          0.0000,  0.0000,  0.0000,  0.0000,  0.0000,  0.0000,  0.0000,  0.0000,\n",
       "          0.0000,  0.0000,  0.0000,  0.0000,  0.0000,  0.0000,  0.0000,  0.0000,\n",
       "          0.0000,  0.0000,  0.0000,  0.0000,  0.0000,  0.0000, 80.6894,  0.0000,\n",
       "          0.0000,  0.0000,  0.0000,  0.0000,  0.0000,  0.0000,  0.0000,  0.0000,\n",
       "          0.0000,  0.0000,  0.0000,  0.0000,  0.0000,  0.0000,  0.0000,  0.0000,\n",
       "          0.0000,  0.0000,  0.0000,  0.0000,  0.0000,  0.0000,  0.0000,  0.0000,\n",
       "          0.0000,  0.0000,  0.0000,  0.0000,  0.0000,  0.0000,  0.0000,  0.0000,\n",
       "          0.0000,  0.0000,  0.0000,  0.0000,  0.0000,  0.0000,  0.0000,  0.0000,\n",
       "          0.0000,  0.0000,  0.0000,  0.0000,  0.0000,  0.0000,  0.0000,  0.0000,\n",
       "          0.0000,  0.0000,  0.0000,  0.0000,  0.0000,  0.0000,  0.0000,  0.0000,\n",
       "          0.0000,  0.0000,  0.0000,  0.0000,  0.0000,  0.0000,  0.0000,  0.0000,\n",
       "          0.0000,  0.0000,  0.0000,  0.0000,  0.0000,  0.0000,  0.0000,  0.0000,\n",
       "          0.0000,  0.0000,  0.0000,  0.0000,  0.0000,  0.0000,  0.0000,  0.0000,\n",
       "          0.0000,  0.0000,  0.0000,  0.0000,  0.0000,  0.0000,  0.0000,  0.0000,\n",
       "          0.0000,  0.0000,  0.0000,  0.0000,  0.0000,  0.0000,  0.0000,  0.0000,\n",
       "          0.0000,  0.0000,  0.0000,  0.0000,  0.0000,  0.0000,  0.0000,  0.0000,\n",
       "          0.0000,  0.0000,  0.0000,  0.0000,  0.0000,  0.0000,  0.0000,  0.0000,\n",
       "          0.0000,  0.0000,  0.0000,  0.0000,  0.0000,  0.0000,  0.0000,  0.0000,\n",
       "          0.0000,  0.0000,  0.0000,  0.0000,  0.0000,  0.0000,  0.0000,  0.0000,\n",
       "          0.0000,  0.0000,  0.0000,  0.0000,  0.0000,  0.0000,  0.0000,  0.0000,\n",
       "          0.0000,  0.0000,  0.0000,  0.0000,  0.0000,  0.0000,  0.0000,  0.0000,\n",
       "          0.0000,  0.0000,  0.0000,  0.0000,  0.0000,  0.0000,  0.0000,  0.0000,\n",
       "          0.0000,  0.0000,  0.0000,  0.0000,  0.0000,  0.0000,  0.0000,  0.0000,\n",
       "          0.0000,  0.0000,  0.0000,  0.0000,  0.0000,  0.0000,  0.0000,  0.0000,\n",
       "          0.0000,  0.0000,  0.0000,  0.0000,  0.0000,  0.0000,  0.0000,  0.0000,\n",
       "          0.0000,  0.0000,  0.0000,  0.0000,  0.0000,  0.0000,  0.0000,  0.0000,\n",
       "         16.9884,  0.0000,  0.0000,  0.0000,  0.0000,  0.0000,  0.0000,  0.0000,\n",
       "          0.0000,  0.0000,  0.0000,  0.0000,  0.0000,  0.0000,  0.0000,  0.0000,\n",
       "          0.0000,  0.0000,  0.0000,  0.0000,  0.0000,  0.0000,  0.0000,  0.0000,\n",
       "          0.0000,  0.0000,  0.0000,  0.0000,  0.0000,  0.0000,  0.0000,  0.0000,\n",
       "          0.0000,  0.0000,  0.0000,  0.0000,  0.0000,  0.0000,  0.0000,  0.0000,\n",
       "          0.0000,  0.0000,  0.0000,  0.0000,  0.0000, 33.0663,  0.0000,  0.0000,\n",
       "          0.0000,  0.0000,  0.0000,  0.0000,  0.0000,  0.0000,  0.0000,  0.0000,\n",
       "          0.0000,  0.0000,  0.0000,  0.0000,  0.0000,  0.0000,  0.0000,  0.0000,\n",
       "          0.0000,  0.0000,  0.0000,  0.0000,  0.0000,  0.0000,  0.0000,  0.0000,\n",
       "          0.0000,  0.0000,  0.0000,  0.0000,  0.0000,  0.0000,  0.0000,  0.0000,\n",
       "          0.0000,  0.0000,  0.0000,  0.0000,  0.0000,  0.0000,  0.0000,  0.0000,\n",
       "          0.0000,  0.0000,  0.0000,  0.0000,  0.0000,  0.0000,  0.0000,  0.0000,\n",
       "          0.0000,  0.0000,  0.0000,  0.0000,  0.0000,  0.0000,  0.0000, 88.6572,\n",
       "          0.0000,  0.0000,  0.0000,  0.0000,  0.0000,  0.0000,  0.0000,  0.0000,\n",
       "          0.0000,  0.0000,  0.0000,  0.0000,  0.0000,  0.0000,  0.0000,  0.0000,\n",
       "          0.0000,  0.0000,  0.0000,  0.0000,  0.0000,  0.0000,  0.0000,  0.0000,\n",
       "          0.0000,  0.0000,  0.0000,  0.0000,  0.0000,  0.0000,  0.0000,  0.0000,\n",
       "          0.0000,  0.0000,  0.0000,  0.0000,  0.0000,  0.0000,  0.0000,  0.0000,\n",
       "          0.0000,  0.0000,  0.0000,  0.0000,  0.0000, 10.5676,  0.0000,  0.0000,\n",
       "          0.0000,  0.0000,  0.0000,  0.0000,  0.0000,  0.0000,  0.0000,  0.0000]),\n",
       " 'FidIn': tensor([0., 0., 0., 0., 0., 0., 0., 1., 0., 0., 0., 0., 0., 0., 1., 1., 0., 1.,\n",
       "         0., 0., 0., 0., 0., 0., 1., 0., 1., 0., 0., 0., 0., 0., 0., 0., 0., 0.,\n",
       "         0., 0., 0., 1., 0., 1., 0., 0., 0., 0., 1., 1., 0., 0., 1., 0., 0., 1.,\n",
       "         1., 0., 0., 1., 1., 0., 0., 0., 0., 0., 0., 0., 0., 0., 0., 0., 0., 0.,\n",
       "         0., 1., 1., 1., 0., 1., 1., 1., 1., 0., 0., 0., 1., 1., 0., 0., 0., 1.,\n",
       "         0., 1., 0., 0., 0., 1., 0., 1., 0., 0., 1., 1., 0., 0., 0., 1., 0., 1.,\n",
       "         0., 1., 0., 0., 1., 1., 1., 1., 1., 0., 1., 0., 1., 0., 1., 1., 0., 1.,\n",
       "         0., 1., 1., 1., 1., 1., 1., 0., 1., 0., 1., 1., 1., 1., 0., 0., 1., 1.,\n",
       "         0., 1., 1., 1., 1., 0., 1., 0., 1., 1., 1., 1., 0., 0., 1., 0., 0., 1.,\n",
       "         1., 0., 1., 1., 0., 1., 0., 0., 0., 0., 1., 0., 0., 0., 0., 0., 0., 1.,\n",
       "         1., 0., 1., 0., 1., 1., 1., 1., 1., 0., 0., 1., 0., 1., 1., 0., 1., 1.,\n",
       "         1., 0., 0., 1., 0., 1., 0., 1., 0., 1., 1., 0., 1., 1., 0., 0., 1., 0.,\n",
       "         0., 1., 1., 0., 0., 0., 0., 1., 1., 1., 1., 1., 0., 0., 0., 1., 0., 1.,\n",
       "         1., 1., 1., 1., 0., 1., 1., 1., 1., 1., 1., 1., 1., 1., 1., 0., 0., 0.,\n",
       "         0., 0., 0., 0., 0., 0., 0., 0., 0., 1., 0., 0., 0., 0., 1., 0., 0., 0.,\n",
       "         0., 0., 0., 0., 0., 0., 1., 1., 0., 0., 0., 1., 0., 0., 1., 1., 1., 1.,\n",
       "         0., 1., 1., 0., 1., 1., 1., 0., 1., 0., 0., 0., 1., 1., 0., 0., 0., 0.,\n",
       "         0., 1., 0., 0., 0., 0., 1., 1., 1., 0., 1., 1., 1., 0., 1., 0., 0., 1.,\n",
       "         1., 0., 0., 0., 1., 1., 0., 0., 0., 1., 1., 0., 1., 1., 1., 1., 1., 0.,\n",
       "         1., 1., 0., 1., 0., 1., 1., 0., 0., 0., 0., 0., 0., 1., 1., 1., 1., 1.,\n",
       "         1., 1., 1., 1., 1., 0., 0., 1., 0., 1., 0., 0., 1., 0., 0., 1., 1., 0.,\n",
       "         1., 0., 0., 0., 0., 1., 0., 0., 0., 0., 0., 1., 1., 0., 1., 1., 1., 1.,\n",
       "         1., 0., 1., 1.]),\n",
       " 'SPS': tensor([0.4945, 0.0000, 0.3888, 0.9342, 0.4961, 0.8584, 0.8718, 0.6596, 0.6576,\n",
       "         0.8635, 0.0000, 0.3855, 0.8728, 0.9244, 0.3467, 0.4431, 0.2716, 0.3954,\n",
       "         0.8657, 0.7485, 0.8744, 0.9117, 0.5873, 0.4782, 0.3047, 0.4389, 0.3173,\n",
       "         0.2979, 0.5031, 0.3015, 0.5601, 0.5327, 0.5332, 0.5473, 0.5476, 0.4350,\n",
       "         0.7541, 0.6549, 0.8030, 0.4005, 0.8267, 0.5707, 0.3081, 0.4398, 0.8731,\n",
       "         0.3850, 0.5437, 0.3430, 0.6160, 0.4892, 0.7355, 0.7138, 0.2891, 0.4458,\n",
       "         0.6634, 0.2431, 0.3567, 0.4233, 0.4947, 0.6923, 0.6303, 0.9572, 0.9171,\n",
       "         0.9189, 0.0000, 0.8943, 0.7358, 0.8298, 0.6146, 0.8230, 0.7970, 0.8159,\n",
       "         0.6530, 0.5264, 0.2792, 0.2508, 0.7701, 0.5102, 0.6155, 0.3816, 0.4176,\n",
       "         0.5977, 0.6204, 0.7246, 0.5734, 0.6028, 0.9455, 0.9135, 0.2981, 0.5344,\n",
       "         0.8813, 0.2024, 0.0000, 0.5553, 0.8928, 0.4606, 0.9458, 0.8009, 0.3016,\n",
       "         0.8648, 0.4584, 0.3282, 0.0000, 0.0000, 0.7345, 0.3582, 0.6158, 0.5635,\n",
       "         0.6250, 0.4618, 0.8842, 0.7870, 0.3680, 0.5160, 0.4232, 0.2625, 0.2605,\n",
       "         0.2961, 0.2244, 0.3051, 0.5206, 0.5335, 0.6045, 0.3326, 0.4019, 0.3388,\n",
       "         0.4264, 0.4525, 0.3296, 0.3663, 0.3811, 0.4697, 0.3428, 0.4740, 0.5726,\n",
       "         0.7598, 0.5335, 0.4224, 0.4498, 0.4568, 0.9181, 0.9451, 0.4786, 0.3175,\n",
       "         0.3383, 0.8079, 0.7886, 0.5685, 0.3478, 0.2477, 0.3337, 0.5991, 0.2656,\n",
       "         0.4618, 0.4611, 0.5695, 0.3340, 0.5862, 0.3712, 0.3074, 0.8162, 0.3111,\n",
       "         0.2333, 0.0000, 0.5078, 0.5229, 0.8727, 0.4010, 0.9456, 0.7387, 0.0000,\n",
       "         0.5477, 0.7232, 0.5404, 0.0000, 0.6349, 0.8092, 0.8753, 0.9455, 0.6491,\n",
       "         0.7260, 0.2589, 0.3330, 0.5898, 0.7163, 0.2650, 0.5337, 0.3584, 0.2243,\n",
       "         0.4266, 0.3728, 0.8624, 0.0000, 0.3631, 0.4806, 0.0000, 0.4571, 0.2816,\n",
       "         0.2112, 0.9572, 0.3650, 0.3278, 0.6978, 0.3632, 0.7291, 0.5576, 0.4974,\n",
       "         0.7770, 0.7926, 0.6719, 0.7092, 0.2620, 0.7620, 0.6695, 0.7021, 0.0000,\n",
       "         0.8162, 0.4759, 0.4660, 0.3836, 0.0000, 0.0000, 0.7359, 0.6564, 0.6141,\n",
       "         0.4173, 0.6140, 0.5657, 0.0000, 0.9151, 0.3178, 0.3042, 0.6694, 0.5810,\n",
       "         0.3409, 0.5737, 0.3605, 0.3077, 0.7124, 0.8680, 0.3471, 0.5398, 0.9455,\n",
       "         0.5968, 0.2365, 0.3387, 0.4228, 0.5632, 0.3552, 0.8312, 0.8658, 0.8893,\n",
       "         0.0000, 0.6880, 0.8333, 0.8080, 0.4115, 0.4127, 0.8481, 0.8423, 0.2662,\n",
       "         0.4527, 0.4074, 0.6555, 0.8079, 0.6281, 0.4591, 0.9168, 0.9454, 0.6001,\n",
       "         0.4265, 0.9572, 0.8374, 0.8411, 0.8081, 0.4972, 0.7608, 0.6786, 0.9458,\n",
       "         0.9229, 0.8987, 0.6361, 0.8805, 0.7688, 0.3062, 0.7136, 0.4800, 0.4272,\n",
       "         0.0000, 0.7038, 0.2223, 0.3638, 0.5851, 0.8158, 0.5046, 0.9458, 0.8635,\n",
       "         0.7129, 0.8713, 0.8397, 0.6455, 0.6408, 0.4136, 0.6645, 0.8517, 0.0000,\n",
       "         0.6890, 0.8346, 0.5379, 0.6014, 0.7408, 0.5654, 0.4149, 0.3624, 0.5587,\n",
       "         0.3701, 0.7979, 0.5791, 0.5098, 0.5405, 0.5729, 0.7141, 0.9458, 0.3656,\n",
       "         0.3928, 0.0000, 0.7508, 0.9453, 0.7808, 0.8155, 0.9159, 0.4692, 0.9395,\n",
       "         0.4005, 0.8154, 0.6933, 0.4989, 0.5414, 0.4146, 0.3503, 0.7694, 0.0000,\n",
       "         0.4958, 0.4621, 0.5725, 0.7326, 0.7179, 0.4675, 0.6066, 0.9195, 0.9454,\n",
       "         0.3149, 0.7836, 0.9455, 0.8542, 0.5787, 0.4642, 0.4949, 0.3704, 0.6368,\n",
       "         0.5656, 0.3440, 0.4670, 0.4772, 0.3784, 0.3547, 0.8507, 0.7522, 0.8773,\n",
       "         0.4641, 0.8167, 0.5129, 0.5951, 0.8831, 0.0000, 0.3337, 0.8657, 0.8295,\n",
       "         0.4472, 0.9043, 0.9059, 0.8942, 0.7036, 0.2988, 0.9572, 0.6614, 0.5846,\n",
       "         0.8488, 0.3556, 0.4741, 0.2882, 0.1817, 0.9164, 0.3321, 0.4657, 0.2972,\n",
       "         0.5121, 0.6349, 0.5478, 0.5644], dtype=torch.float64),\n",
       " 'COMP': tensor([ 9.9623,     nan, 10.1190,  7.9295,  9.9259,  8.5907,  8.5867,  9.5374,\n",
       "          9.5410,  8.5611,     nan, 10.1224,  8.5641,  8.0710, 10.1752, 10.0091,\n",
       "         10.2482, 10.0773,  8.5837,  9.2888,  8.4666,  8.1617,  9.7682,  9.8799,\n",
       "         10.1859, 10.0032, 10.1909, 10.1864,  9.8948, 10.2180,  9.8199,  9.8664,\n",
       "          9.8464,  9.8486,  9.8256, 10.0593,  9.2577,  9.5842,  9.0244, 10.1168,\n",
       "          8.8913,  9.7671, 10.1850, 10.0359,  8.5790, 10.0624,  9.8643, 10.1637,\n",
       "          9.6473,  9.9127,  9.2833,  9.4074, 10.2323, 10.0356,  9.5256, 10.2756,\n",
       "         10.1431, 10.0725,  9.9045,  9.4478,  9.6360,  7.4635,  8.1472,  8.1250,\n",
       "             nan,  8.3860,  9.2739,  8.8620,  9.6628,  8.9065,  9.0433,  8.9553,\n",
       "          9.5451,  9.8547, 10.2313, 10.2686,  9.2020,  9.8975,  9.6766, 10.1293,\n",
       "          9.9936,  9.7096,  9.6874,  9.3586,  9.7778,  9.6999,  7.7329,  8.1559,\n",
       "         10.2208,  9.8770,  8.4919, 10.3039,     nan,  9.8289,  8.4065, 10.0015,\n",
       "          7.7158,  9.0525, 10.2187,  8.6314, 10.0034, 10.1760,     nan,     nan,\n",
       "          9.2865, 10.1473,  9.6786,  9.7744,  9.5859,  9.9690,  8.5015,  9.0648,\n",
       "         10.1524,  9.8900, 10.0707, 10.2601, 10.2480, 10.1982, 10.2874, 10.2202,\n",
       "          9.9011,  9.8453,  9.7155, 10.1628, 10.0977, 10.1650, 10.0379, 10.0134,\n",
       "         10.1760, 10.1287, 10.0771,  9.9894, 10.1530,  9.9326,  9.7656,  9.2290,\n",
       "          9.8222, 10.0544,  9.9729,  9.9937,  8.1295,  7.7455,  9.9605, 10.1944,\n",
       "         10.1544,  8.9747,  9.0788,  9.7804, 10.1634, 10.2664, 10.1915,  9.7104,\n",
       "         10.2588, 10.0135, 10.0086,  9.7950, 10.1680,  9.7647, 10.1390, 10.2219,\n",
       "          8.9349, 10.2112, 10.2821,     nan,  9.8726,  9.8638,  8.5563, 10.1093,\n",
       "          7.7291,  9.3180,     nan,  9.8591,  9.3683,  9.7641,     nan,  9.6425,\n",
       "          8.9898,  8.5663,  7.7338,  9.5796,  9.3506, 10.2631, 10.1932,  9.7619,\n",
       "          9.3899, 10.2566,  9.8395, 10.1558, 10.2739, 10.0624, 10.1323,  8.6676,\n",
       "             nan, 10.1285,  9.9305,     nan,  9.9667, 10.2410, 10.2945,  7.4635,\n",
       "         10.1334, 10.1667,  9.4466, 10.1401,  9.3298,  9.8312,  9.9000,  9.1440,\n",
       "          9.0791,  9.4316,  9.4181, 10.2396,  9.2122,  9.4548,  9.3857,     nan,\n",
       "          8.8966,  9.9368,  9.9735, 10.1129,     nan,     nan,  9.2620,  9.5663,\n",
       "          9.6565, 10.0447,  9.6854,  9.7877,     nan,  8.2100, 10.2102, 10.2229,\n",
       "          9.4939,  9.7607, 10.1743,  9.7701, 10.1596, 10.2171,  9.2995,  8.5687,\n",
       "         10.1740,  9.8467,  7.7338,  9.7322, 10.2731, 10.1702, 10.0586,  9.8124,\n",
       "         10.1596,  8.8202,  8.6007,  8.3961,     nan,  9.4451,  8.7864,  8.9430,\n",
       "         10.0550, 10.0444,  8.6796,  8.7545, 10.1972, 10.0281, 10.0947,  9.5387,\n",
       "          8.9595,  9.6367,  9.9540,  8.1793,  7.7207,  9.6935, 10.0753,  7.4635,\n",
       "          8.8402,  8.7178,  8.9843,  9.9147,  9.1995,  9.5130,  7.7158,  8.0887,\n",
       "          8.3527,  9.6188,  8.4373,  9.1614, 10.2128,  9.3154,  9.9640,  9.9736,\n",
       "             nan,  9.3671, 10.2826, 10.1386,  9.7642,  8.9190,  9.8837,  7.7158,\n",
       "          8.5948,  9.4021,  8.5400,  8.7196,  9.6001,  9.6061, 10.0859,  9.5409,\n",
       "          8.7244,     nan,  9.4355,  8.8599,  9.8517,  9.6919,  9.2684,  9.7860,\n",
       "         10.0578, 10.0714,  9.8086, 10.1445,  9.0499,  9.7451,  9.8910,  9.8314,\n",
       "          9.7416,  9.4118,  7.7158, 10.1455, 10.0817,     nan,  9.2696,  7.7213,\n",
       "          9.0887,  8.9638,  8.1868,  9.9748,  7.8602, 10.0838,  8.9374,  9.4196,\n",
       "          9.8490,  9.7994, 10.0887, 10.1644,  9.1685,     nan,  9.9256, 10.0179,\n",
       "          9.7765,  9.3358,  9.3398,  9.9471,  9.6183,  8.0946,  7.7207, 10.2070,\n",
       "          9.0487,  7.7338,  8.6906,  9.7289,  9.9515,  9.9022, 10.1127,  9.5972,\n",
       "          9.7864, 10.1686,  9.9963,  9.9603, 10.0952, 10.1424,  8.7212,  9.2530,\n",
       "          8.4518,  9.9371,  8.9476,  9.8852,  9.7244,  8.4191,     nan, 10.1679,\n",
       "          8.4922,  8.8389, 10.0127,  8.2490,  8.2369,  8.3531,  9.4280, 10.2182,\n",
       "          7.4635,  9.5459,  9.7639,  8.7513, 10.1643,  9.9611, 10.2206, 10.3043,\n",
       "          8.1503, 10.1960,  9.9689, 10.1835,  9.8692,  9.6262,  9.8443,  9.7812],\n",
       "        dtype=torch.float64)}"
      ]
     },
     "execution_count": 22,
     "metadata": {},
     "output_type": "execute_result"
    }
   ],
   "source": [
    "results_gradcam"
   ]
  },
  {
   "cell_type": "code",
   "execution_count": 23,
   "metadata": {},
   "outputs": [
    {
     "name": "stdout",
     "output_type": "stream",
     "text": [
      "FF: 0.16692282259464264\n",
      "AI: 1.25\n",
      "AD: 69.25349426269531\n",
      "AG: 0.5749222040176392\n",
      "FidIn: 0.46000000834465027\n",
      "SPS: 0.5564481075220659\n",
      "COMP: 9.518002186876595\n"
     ]
    }
   ],
   "source": [
    "for m in results_gradcam:\n",
    "    print(f\"{m}: {results_gradcam[m].nanmean().item()}\")"
   ]
  },
  {
   "cell_type": "code",
   "execution_count": 24,
   "metadata": {},
   "outputs": [],
   "source": [
    "wav, SR = torchaudio.load(\"samples/crow.wav\")\n",
    "wav = torchaudio.functional.resample(wav, SR, sr)\n",
    "wav /= wav.abs().max()\n",
    "\n",
    "wav2, SR = torchaudio.load(\"samples/sea_waves.wav\")\n",
    "wav2 = torchaudio.functional.resample(wav2, SR, sr)\n",
    "wav2 /= wav2.abs().max()"
   ]
  },
  {
   "cell_type": "code",
   "execution_count": 25,
   "metadata": {},
   "outputs": [],
   "source": [
    "wavv = 0.8 * wav + 0.2 * wav2"
   ]
  },
  {
   "cell_type": "code",
   "execution_count": 26,
   "metadata": {},
   "outputs": [
    {
     "name": "stdout",
     "output_type": "stream",
     "text": [
      "Warning: melscale inversion is approximate\n",
      "Warning: melscale inversion is approximate\n",
      "Warning: melscale inversion is approximate\n"
     ]
    }
   ],
   "source": [
    "res_crow_gc = predict_gradcam.predict(wav.to(device), \"crow_gradcam\", sr)"
   ]
  },
  {
   "cell_type": "code",
   "execution_count": 27,
   "metadata": {},
   "outputs": [
    {
     "data": {
      "text/plain": [
       "{'FF': tensor(-0.0148),\n",
       " 'AI': tensor(0.),\n",
       " 'AD': tensor(90.8557),\n",
       " 'AG': tensor(0.),\n",
       " 'FidIn': tensor([0.]),\n",
       " 'SPS': tensor([0.7648], dtype=torch.float64),\n",
       " 'COMP': tensor([9.1679], dtype=torch.float64)}"
      ]
     },
     "execution_count": 27,
     "metadata": {},
     "output_type": "execute_result"
    }
   ],
   "source": [
    "res_crow_gc"
   ]
  },
  {
   "cell_type": "code",
   "execution_count": 28,
   "metadata": {},
   "outputs": [
    {
     "name": "stdout",
     "output_type": "stream",
     "text": [
      "Warning: melscale inversion is approximate\n",
      "Warning: melscale inversion is approximate\n",
      "Warning: melscale inversion is approximate\n"
     ]
    }
   ],
   "source": [
    "res_crow_sea_gc = predict_gradcam.predict(wavv.to(device), \"crow_sea_gradcam\", sr)"
   ]
  },
  {
   "cell_type": "code",
   "execution_count": 29,
   "metadata": {},
   "outputs": [
    {
     "data": {
      "text/plain": [
       "{'FF': tensor(-0.0513),\n",
       " 'AI': tensor(100.),\n",
       " 'AD': tensor(0.),\n",
       " 'AG': tensor(17.3606),\n",
       " 'FidIn': tensor([1.]),\n",
       " 'SPS': tensor([0.4600], dtype=torch.float64),\n",
       " 'COMP': tensor([9.8925], dtype=torch.float64)}"
      ]
     },
     "execution_count": 29,
     "metadata": {},
     "output_type": "execute_result"
    }
   ],
   "source": [
    "res_crow_sea_gc"
   ]
  }
 ],
 "metadata": {
  "kernelspec": {
   "display_name": "env",
   "language": "python",
   "name": "python3"
  },
  "language_info": {
   "codemirror_mode": {
    "name": "ipython",
    "version": 3
   },
   "file_extension": ".py",
   "mimetype": "text/x-python",
   "name": "python",
   "nbconvert_exporter": "python",
   "pygments_lexer": "ipython3",
   "version": "3.12.3"
  }
 },
 "nbformat": 4,
 "nbformat_minor": 2
}
