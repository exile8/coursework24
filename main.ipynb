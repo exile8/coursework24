{
 "cells": [
  {
   "cell_type": "markdown",
   "metadata": {},
   "source": [
    "# Test model\n",
    "Handling Panns cnn14"
   ]
  },
  {
   "cell_type": "code",
   "execution_count": 1,
   "metadata": {},
   "outputs": [],
   "source": [
    "from audiointerp.dataset.esc50 import ESC50dataset\n",
    "from audiointerp.model.cnn14 import TransferCnn14\n",
    "from audiointerp.fit import Trainer\n",
    "from audiointerp.processing.spectrogram import LogMelSTFTSpectrogram\n",
    "import torch.nn as nn\n",
    "import torch.optim as optim\n",
    "import torchaudio.transforms as T\n",
    "import torch\n",
    "from torch.utils.data import DataLoader"
   ]
  },
  {
   "cell_type": "code",
   "execution_count": 2,
   "metadata": {},
   "outputs": [],
   "source": [
    "root_dir = \"/home/yuliya/ESC50\"\n",
    "sr = 32000\n",
    "train_folds = [1, 2, 3]\n",
    "valid_folds = [4]\n",
    "test_folds = [5]"
   ]
  },
  {
   "cell_type": "code",
   "execution_count": 3,
   "metadata": {},
   "outputs": [],
   "source": [
    "n_fft = 1024\n",
    "hop_length = 320\n",
    "win_length = 1024\n",
    "n_mels = 64\n",
    "f_min = 50\n",
    "f_max = 14000\n",
    "top_db = 80"
   ]
  },
  {
   "cell_type": "code",
   "execution_count": 4,
   "metadata": {},
   "outputs": [],
   "source": [
    "feature_extractor = LogMelSTFTSpectrogram(\n",
    "    n_fft=n_fft, win_length=win_length, hop_length=hop_length,\n",
    "    sample_rate=sr, n_mels=n_mels, f_min=f_min, f_max=f_max, top_db=top_db,\n",
    "    return_phase=False, return_full_db=False\n",
    ")"
   ]
  },
  {
   "cell_type": "code",
   "execution_count": 5,
   "metadata": {},
   "outputs": [],
   "source": [
    "train_data = ESC50dataset(root_dir=root_dir, sr=sr, folds=train_folds, feature_extractor=feature_extractor)\n",
    "valid_data = ESC50dataset(root_dir=root_dir, sr=sr, folds=valid_folds, feature_extractor=feature_extractor)\n",
    "test_data = ESC50dataset(root_dir=root_dir, sr=sr, folds=test_folds, feature_extractor=feature_extractor)"
   ]
  },
  {
   "cell_type": "code",
   "execution_count": 6,
   "metadata": {},
   "outputs": [],
   "source": [
    "train_loader_kwargs = {\"batch_size\": 32, \"shuffle\": True}\n",
    "valid_loader_kwargs = {\"batch_size\": 32, \"shuffle\": False}\n",
    "test_loader_kwargs = {\"batch_size\": 32, \"shuffle\": False}"
   ]
  },
  {
   "cell_type": "code",
   "execution_count": 7,
   "metadata": {},
   "outputs": [],
   "source": [
    "device = torch.device(\"cuda\" if torch.cuda.is_available() else \"cpu\")\n",
    "model_cls = TransferCnn14\n",
    "model_kwargs = {\"num_classes\": 50}\n",
    "model_pretrain_weights_path = \"weights/Cnn14_mAP=0.431.pth\"\n",
    "\n",
    "optimizer_cls = optim.Adam\n",
    "optimizer_kwargs = {\"lr\": 1e-3}\n",
    "\n",
    "criterion_cls = nn.CrossEntropyLoss"
   ]
  },
  {
   "cell_type": "code",
   "execution_count": 8,
   "metadata": {},
   "outputs": [
    {
     "name": "stdout",
     "output_type": "stream",
     "text": [
      "Random seed set to: 42\n"
     ]
    }
   ],
   "source": [
    "model_trainer = Trainer(\n",
    "    model_cls=model_cls,\n",
    "    train_data=train_data,\n",
    "    train_loader_kwargs=train_loader_kwargs,\n",
    "    criterion_cls=criterion_cls,\n",
    "    optimizer_cls=optimizer_cls,\n",
    "    model_kwargs=model_kwargs,\n",
    "    model_pretrain_weights_path=model_pretrain_weights_path,\n",
    "    optimizer_kwargs=optimizer_kwargs,\n",
    "    device=device,\n",
    "    valid_data=valid_data,\n",
    "    valid_loader_kwargs=valid_loader_kwargs,\n",
    "    test_data=test_data,\n",
    "    test_loader_kwargs=test_loader_kwargs\n",
    ")"
   ]
  },
  {
   "cell_type": "code",
   "execution_count": 9,
   "metadata": {},
   "outputs": [
    {
     "name": "stderr",
     "output_type": "stream",
     "text": [
      "Epoch 1/2:  50%|█████     | 1/2 [00:43<00:43, 43.59s/it]"
     ]
    },
    {
     "name": "stdout",
     "output_type": "stream",
     "text": [
      "Train Loss: 2.3053, Train Acc: 0.4100\n",
      "Valid Loss: 0.6558, Valid Acc: 0.8125\n"
     ]
    },
    {
     "name": "stderr",
     "output_type": "stream",
     "text": [
      "Epoch 1/2: 100%|██████████| 2/2 [01:30<00:00, 45.16s/it]\n"
     ]
    },
    {
     "name": "stdout",
     "output_type": "stream",
     "text": [
      "Train Loss: 0.5176, Train Acc: 0.8350\n",
      "Valid Loss: 0.3234, Valid Acc: 0.9075\n",
      "Best val Acc: 0.9075\n",
      "Модель сохранена в best.pth\n",
      "Test Loss: 0.4259, Test Acc: 0.8725\n"
     ]
    }
   ],
   "source": [
    "train_losses, train_accs, val_losses, val_accs, test_loss, test_acc = model_trainer.train(num_epochs=2, test=True)"
   ]
  },
  {
   "cell_type": "code",
   "execution_count": 10,
   "metadata": {},
   "outputs": [
    {
     "name": "stdout",
     "output_type": "stream",
     "text": [
      "Random seed set to: 42\n"
     ]
    }
   ],
   "source": [
    "model_trainer2 = Trainer(\n",
    "    model_cls=model_cls,\n",
    "    train_data=train_data,\n",
    "    train_loader_kwargs=train_loader_kwargs,\n",
    "    criterion_cls=criterion_cls,\n",
    "    optimizer_cls=optimizer_cls,\n",
    "    model_kwargs=model_kwargs,\n",
    "    model_pretrain_weights_path=model_pretrain_weights_path,\n",
    "    optimizer_kwargs=optimizer_kwargs,\n",
    "    device=device,\n",
    "    valid_data=valid_data,\n",
    "    valid_loader_kwargs=valid_loader_kwargs,\n",
    "    test_data=test_data,\n",
    "    test_loader_kwargs=test_loader_kwargs\n",
    ")"
   ]
  },
  {
   "cell_type": "code",
   "execution_count": 11,
   "metadata": {},
   "outputs": [
    {
     "name": "stderr",
     "output_type": "stream",
     "text": [
      "Epoch 1/2:  50%|█████     | 1/2 [00:45<00:45, 45.37s/it]"
     ]
    },
    {
     "name": "stdout",
     "output_type": "stream",
     "text": [
      "Train Loss: 2.3053, Train Acc: 0.4100\n",
      "Valid Loss: 0.6558, Valid Acc: 0.8125\n"
     ]
    },
    {
     "name": "stderr",
     "output_type": "stream",
     "text": [
      "Epoch 1/2: 100%|██████████| 2/2 [01:35<00:00, 47.85s/it]\n"
     ]
    },
    {
     "name": "stdout",
     "output_type": "stream",
     "text": [
      "Train Loss: 0.5176, Train Acc: 0.8350\n",
      "Valid Loss: 0.3234, Valid Acc: 0.9075\n",
      "Best val Acc: 0.9075\n",
      "Модель сохранена в best.pth\n",
      "Test Loss: 0.4259, Test Acc: 0.8725\n"
     ]
    }
   ],
   "source": [
    "train_losses, train_accs, val_losses, val_accs, test_loss, test_acc = model_trainer2.train(num_epochs=2, test=True)"
   ]
  }
 ],
 "metadata": {
  "kernelspec": {
   "display_name": "env",
   "language": "python",
   "name": "python3"
  },
  "language_info": {
   "codemirror_mode": {
    "name": "ipython",
    "version": 3
   },
   "file_extension": ".py",
   "mimetype": "text/x-python",
   "name": "python",
   "nbconvert_exporter": "python",
   "pygments_lexer": "ipython3",
   "version": "3.12.3"
  }
 },
 "nbformat": 4,
 "nbformat_minor": 2
}
