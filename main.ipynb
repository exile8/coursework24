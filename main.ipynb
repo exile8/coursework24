{
 "cells": [
  {
   "cell_type": "markdown",
   "metadata": {},
   "source": [
    "# Run experiments"
   ]
  },
  {
   "cell_type": "code",
   "execution_count": 1,
   "metadata": {},
   "outputs": [
    {
     "name": "stderr",
     "output_type": "stream",
     "text": [
      "/home/yuliya/coursework24/env/lib/python3.12/site-packages/tqdm/auto.py:21: TqdmWarning: IProgress not found. Please update jupyter and ipywidgets. See https://ipywidgets.readthedocs.io/en/stable/user_install.html\n",
      "  from .autonotebook import tqdm as notebook_tqdm\n"
     ]
    }
   ],
   "source": [
    "from audiointerp.dataset.esc50 import ESC50dataset\n",
    "from audiointerp.model.cnn14 import TransferCnn14\n",
    "from audiointerp.fit import Trainer\n",
    "from audiointerp.processing.spectrogram import LogMelSTFTSpectrogram\n",
    "from audiointerp.interpretation.saliency import SaliencyInterpreter\n",
    "from audiointerp.interpretation.gradcam import GradCAMInterpreter\n",
    "from audiointerp.interpretation.shap import SHAPInterpreter\n",
    "import torchaudio\n",
    "import torch.nn as nn\n",
    "import torch.optim as optim\n",
    "import torchaudio.transforms as T_audio\n",
    "import torchvision.transforms as T_vision\n",
    "import torch\n",
    "from torch.utils.data import DataLoader\n",
    "import matplotlib.pyplot as plt\n",
    "import random\n",
    "import numpy as np\n",
    "from IPython.display import Audio\n",
    "from audiointerp.predict import Predict\n",
    "from audiointerp.metrics import Metrics"
   ]
  },
  {
   "cell_type": "code",
   "execution_count": 2,
   "metadata": {},
   "outputs": [],
   "source": [
    "def plot_learning_curves(train_losses, val_losses, train_accs=None, val_accs=None):\n",
    "    epochs = range(1, len(train_losses) + 1)\n",
    "\n",
    "    plt.figure(figsize=(12, 5))\n",
    "\n",
    "    plt.subplot(1, 2, 1)\n",
    "    plt.plot(epochs, train_losses, label=\"Train Loss\")\n",
    "    if val_losses:\n",
    "        plt.plot(epochs, val_losses, label=\"Val Loss\")\n",
    "    plt.xlabel(\"Epoch\")\n",
    "    plt.ylabel(\"Loss\")\n",
    "    plt.title(\"Loss Curve\")\n",
    "    plt.legend()\n",
    "\n",
    "    plt.subplot(1, 2, 2)\n",
    "    if train_accs is not None:\n",
    "        plt.plot(epochs, train_accs, label=\"Train Acc\")\n",
    "    if val_accs is not None:\n",
    "        plt.plot(epochs, val_accs, label=\"Val Acc\")\n",
    "    plt.xlabel(\"Epoch\")\n",
    "    plt.ylabel(\"Accuracy\")\n",
    "    plt.title(\"Accuracy Curve\")\n",
    "    plt.legend()\n",
    "\n",
    "    plt.tight_layout()\n",
    "    plt.show()"
   ]
  },
  {
   "cell_type": "code",
   "execution_count": 3,
   "metadata": {},
   "outputs": [],
   "source": [
    "root_dir = \"/home/yuliya/ESC50\"\n",
    "sr = 32000\n",
    "train_folds = [1, 2, 3]\n",
    "valid_folds = [4]\n",
    "test_folds = [5]"
   ]
  },
  {
   "cell_type": "code",
   "execution_count": 4,
   "metadata": {},
   "outputs": [],
   "source": [
    "n_fft = 1024\n",
    "hop_length = 320\n",
    "win_length = 1024\n",
    "n_mels = 64\n",
    "f_min = 50\n",
    "f_max = 14000\n",
    "top_db = 80"
   ]
  },
  {
   "cell_type": "code",
   "execution_count": 5,
   "metadata": {},
   "outputs": [],
   "source": [
    "feature_extractor_fit = LogMelSTFTSpectrogram(\n",
    "    n_fft=n_fft, win_length=win_length, hop_length=hop_length,\n",
    "    sample_rate=sr, n_mels=n_mels, f_min=f_min, f_max=f_max, top_db=top_db,\n",
    "    return_phase=False, return_full_db=False\n",
    ")"
   ]
  },
  {
   "cell_type": "code",
   "execution_count": 6,
   "metadata": {},
   "outputs": [],
   "source": [
    "feature_extractor_predict = LogMelSTFTSpectrogram(\n",
    "    n_fft=n_fft, win_length=win_length, hop_length=hop_length,\n",
    "    sample_rate=sr, n_mels=n_mels, f_min=f_min, f_max=f_max, top_db=top_db,\n",
    "    return_phase=True, return_full_db=True\n",
    ")"
   ]
  },
  {
   "cell_type": "code",
   "execution_count": 7,
   "metadata": {},
   "outputs": [],
   "source": [
    "feature_augs = nn.Sequential(\n",
    "    T_audio.FrequencyMasking(20),\n",
    "    T_audio.TimeMasking(20)\n",
    ")"
   ]
  },
  {
   "cell_type": "code",
   "execution_count": 8,
   "metadata": {},
   "outputs": [],
   "source": [
    "train_data = ESC50dataset(root_dir=root_dir, sr=sr, folds=train_folds, normalize=\"peak\", feature_extractor=feature_extractor_fit, feature_augs=feature_augs)\n",
    "valid_data = ESC50dataset(root_dir=root_dir, sr=sr, folds=valid_folds, normalize=\"peak\", feature_extractor=feature_extractor_fit)\n",
    "test_data = ESC50dataset(root_dir=root_dir, sr=sr, folds=test_folds, normalize=\"peak\", feature_extractor=feature_extractor_fit)"
   ]
  },
  {
   "cell_type": "code",
   "execution_count": 9,
   "metadata": {},
   "outputs": [],
   "source": [
    "train_loader_kwargs = {\"batch_size\": 32, \"shuffle\": True}\n",
    "valid_loader_kwargs = {\"batch_size\": 32, \"shuffle\": False}\n",
    "test_loader_kwargs = {\"batch_size\": 32, \"shuffle\": False}"
   ]
  },
  {
   "cell_type": "code",
   "execution_count": 10,
   "metadata": {},
   "outputs": [],
   "source": [
    "device = torch.device(\"cuda\" if torch.cuda.is_available() else \"cpu\")\n",
    "model_cls = TransferCnn14\n",
    "model_kwargs = {\"num_classes\": 50}\n",
    "model_pretrain_weights_path = \"weights/Cnn14_mAP=0.431.pth\"\n",
    "\n",
    "optimizer_cls = optim.Adam\n",
    "optimizer_kwargs = {\"lr\": 1e-4}\n",
    "\n",
    "criterion_cls = nn.CrossEntropyLoss\n",
    "use_mixup = True\n",
    "mixup_alpha = 0.2"
   ]
  },
  {
   "cell_type": "code",
   "execution_count": 11,
   "metadata": {},
   "outputs": [
    {
     "name": "stdout",
     "output_type": "stream",
     "text": [
      "Random seed set to: 42\n"
     ]
    }
   ],
   "source": [
    "model_trainer = Trainer(\n",
    "    model_cls=model_cls,\n",
    "    train_data=train_data,\n",
    "    train_loader_kwargs=train_loader_kwargs,\n",
    "    criterion_cls=criterion_cls,\n",
    "    optimizer_cls=optimizer_cls,\n",
    "    model_kwargs=model_kwargs,\n",
    "    model_pretrain_weights_path=model_pretrain_weights_path,\n",
    "    optimizer_kwargs=optimizer_kwargs,\n",
    "    device=device,\n",
    "    valid_data=valid_data,\n",
    "    valid_loader_kwargs=valid_loader_kwargs,\n",
    "    test_data=test_data,\n",
    "    test_loader_kwargs=test_loader_kwargs,\n",
    "    use_mixup=use_mixup,\n",
    "    mixup_alpha=mixup_alpha\n",
    ")"
   ]
  },
  {
   "cell_type": "code",
   "execution_count": null,
   "metadata": {},
   "outputs": [
    {
     "name": "stderr",
     "output_type": "stream",
     "text": [
      "Epoch:   5%|▌         | 1/20 [00:40<12:51, 40.63s/it]"
     ]
    },
    {
     "name": "stdout",
     "output_type": "stream",
     "text": [
      "Train Loss: 3.8838, Train Acc: 0.0443\n",
      "Valid Loss: 3.7438, Valid Acc: 0.1550\n"
     ]
    },
    {
     "name": "stderr",
     "output_type": "stream",
     "text": [
      "Epoch:  10%|█         | 2/20 [01:23<12:40, 42.22s/it]"
     ]
    },
    {
     "name": "stdout",
     "output_type": "stream",
     "text": [
      "Train Loss: 3.6654, Train Acc: 0.1361\n",
      "Valid Loss: 3.3127, Valid Acc: 0.5200\n"
     ]
    },
    {
     "name": "stderr",
     "output_type": "stream",
     "text": [
      "Epoch:  15%|█▌        | 3/20 [02:09<12:20, 43.54s/it]"
     ]
    },
    {
     "name": "stdout",
     "output_type": "stream",
     "text": [
      "Train Loss: 3.0176, Train Acc: 0.3261\n",
      "Valid Loss: 1.9327, Valid Acc: 0.7150\n"
     ]
    },
    {
     "name": "stderr",
     "output_type": "stream",
     "text": [
      "Epoch:  20%|██        | 4/20 [02:56<12:03, 45.24s/it]"
     ]
    },
    {
     "name": "stdout",
     "output_type": "stream",
     "text": [
      "Train Loss: 2.1878, Train Acc: 0.4690\n",
      "Valid Loss: 0.9843, Valid Acc: 0.8175\n"
     ]
    },
    {
     "name": "stderr",
     "output_type": "stream",
     "text": [
      "Epoch:  25%|██▌       | 5/20 [03:40<11:07, 44.50s/it]"
     ]
    },
    {
     "name": "stdout",
     "output_type": "stream",
     "text": [
      "Train Loss: 1.6977, Train Acc: 0.5879\n",
      "Valid Loss: 0.6061, Valid Acc: 0.8750\n"
     ]
    },
    {
     "name": "stderr",
     "output_type": "stream",
     "text": [
      "Epoch:  30%|███       | 6/20 [04:25<10:25, 44.70s/it]"
     ]
    },
    {
     "name": "stdout",
     "output_type": "stream",
     "text": [
      "Train Loss: 1.3186, Train Acc: 0.6975\n",
      "Valid Loss: 0.4878, Valid Acc: 0.8950\n"
     ]
    },
    {
     "name": "stderr",
     "output_type": "stream",
     "text": [
      "Epoch:  35%|███▌      | 7/20 [05:10<09:42, 44.84s/it]"
     ]
    },
    {
     "name": "stdout",
     "output_type": "stream",
     "text": [
      "Train Loss: 1.2357, Train Acc: 0.7573\n",
      "Valid Loss: 0.4353, Valid Acc: 0.9050\n"
     ]
    },
    {
     "name": "stderr",
     "output_type": "stream",
     "text": [
      "Epoch:  40%|████      | 8/20 [05:55<09:00, 45.02s/it]"
     ]
    },
    {
     "name": "stdout",
     "output_type": "stream",
     "text": [
      "Train Loss: 1.2417, Train Acc: 0.7562\n",
      "Valid Loss: 0.4052, Valid Acc: 0.9150\n"
     ]
    },
    {
     "name": "stderr",
     "output_type": "stream",
     "text": [
      "Epoch:  45%|████▌     | 9/20 [06:41<08:18, 45.29s/it]"
     ]
    },
    {
     "name": "stdout",
     "output_type": "stream",
     "text": [
      "Train Loss: 0.9597, Train Acc: 0.8132\n",
      "Valid Loss: 0.3229, Valid Acc: 0.9275\n"
     ]
    },
    {
     "name": "stderr",
     "output_type": "stream",
     "text": [
      "Epoch:  50%|█████     | 10/20 [07:28<07:38, 45.87s/it]"
     ]
    },
    {
     "name": "stdout",
     "output_type": "stream",
     "text": [
      "Train Loss: 1.1448, Train Acc: 0.7768\n",
      "Valid Loss: 0.3407, Valid Acc: 0.9250\n"
     ]
    },
    {
     "name": "stderr",
     "output_type": "stream",
     "text": [
      "Epoch:  55%|█████▌    | 11/20 [08:13<06:50, 45.63s/it]"
     ]
    },
    {
     "name": "stdout",
     "output_type": "stream",
     "text": [
      "Train Loss: 1.1409, Train Acc: 0.7646\n",
      "Valid Loss: 0.3313, Valid Acc: 0.9175\n"
     ]
    },
    {
     "name": "stderr",
     "output_type": "stream",
     "text": [
      "Epoch:  60%|██████    | 12/20 [08:59<06:05, 45.71s/it]"
     ]
    },
    {
     "name": "stdout",
     "output_type": "stream",
     "text": [
      "Train Loss: 0.9219, Train Acc: 0.8162\n",
      "Valid Loss: 0.2994, Valid Acc: 0.9275\n"
     ]
    },
    {
     "name": "stderr",
     "output_type": "stream",
     "text": [
      "Epoch:  65%|██████▌   | 13/20 [09:48<05:25, 46.53s/it]"
     ]
    },
    {
     "name": "stdout",
     "output_type": "stream",
     "text": [
      "Train Loss: 0.8704, Train Acc: 0.8341\n",
      "Valid Loss: 0.2904, Valid Acc: 0.9300\n"
     ]
    },
    {
     "name": "stderr",
     "output_type": "stream",
     "text": [
      "Epoch:  70%|███████   | 14/20 [10:33<04:37, 46.27s/it]"
     ]
    },
    {
     "name": "stdout",
     "output_type": "stream",
     "text": [
      "Train Loss: 0.9663, Train Acc: 0.8240\n",
      "Valid Loss: 0.2938, Valid Acc: 0.9225\n"
     ]
    },
    {
     "name": "stderr",
     "output_type": "stream",
     "text": [
      "Epoch:  75%|███████▌  | 15/20 [11:18<03:49, 45.93s/it]"
     ]
    },
    {
     "name": "stdout",
     "output_type": "stream",
     "text": [
      "Train Loss: 0.9562, Train Acc: 0.8280\n",
      "Valid Loss: 0.2881, Valid Acc: 0.9275\n"
     ]
    },
    {
     "name": "stderr",
     "output_type": "stream",
     "text": [
      "Epoch:  80%|████████  | 16/20 [12:11<03:12, 48.03s/it]"
     ]
    },
    {
     "name": "stdout",
     "output_type": "stream",
     "text": [
      "Train Loss: 0.8694, Train Acc: 0.8397\n",
      "Valid Loss: 0.2982, Valid Acc: 0.9300\n"
     ]
    },
    {
     "name": "stderr",
     "output_type": "stream",
     "text": [
      "Epoch:  85%|████████▌ | 17/20 [12:55<02:20, 46.80s/it]"
     ]
    },
    {
     "name": "stdout",
     "output_type": "stream",
     "text": [
      "Train Loss: 0.9712, Train Acc: 0.8397\n",
      "Valid Loss: 0.3077, Valid Acc: 0.9350\n"
     ]
    },
    {
     "name": "stderr",
     "output_type": "stream",
     "text": [
      "Epoch:  90%|█████████ | 18/20 [13:39<01:31, 45.88s/it]"
     ]
    },
    {
     "name": "stdout",
     "output_type": "stream",
     "text": [
      "Train Loss: 0.8365, Train Acc: 0.8515\n",
      "Valid Loss: 0.2787, Valid Acc: 0.9300\n"
     ]
    },
    {
     "name": "stderr",
     "output_type": "stream",
     "text": [
      "Epoch:  95%|█████████▌| 19/20 [14:26<00:46, 46.25s/it]"
     ]
    },
    {
     "name": "stdout",
     "output_type": "stream",
     "text": [
      "Train Loss: 1.1698, Train Acc: 0.7815\n",
      "Valid Loss: 0.3075, Valid Acc: 0.9300\n"
     ]
    },
    {
     "name": "stderr",
     "output_type": "stream",
     "text": [
      "Epoch: 100%|██████████| 20/20 [15:10<00:00, 45.55s/it]\n"
     ]
    },
    {
     "name": "stdout",
     "output_type": "stream",
     "text": [
      "Train Loss: 0.8988, Train Acc: 0.8353\n",
      "Valid Loss: 0.2837, Valid Acc: 0.9325\n",
      "Best val Acc: 0.9350\n",
      "Модель сохранена в best.pth\n",
      "Test Loss: 0.3285, Test Acc: 0.9175\n"
     ]
    }
   ],
   "source": [
    "train_losses, train_accs, val_losses, val_accs, test_loss, test_acc = model_trainer.train(num_epochs=20)"
   ]
  },
  {
   "cell_type": "code",
   "execution_count": 19,
   "metadata": {},
   "outputs": [
    {
     "data": {
      "image/png": "[encoded data removed]",
      "text/plain": [
       "<Figure size 1200x500 with 2 Axes>"
      ]
     },
     "metadata": {},
     "output_type": "display_data"
    }
   ],
   "source": [
    "plot_learning_curves(train_losses=train_losses, train_accs=train_accs, val_losses=val_losses, val_accs=val_accs)"
   ]
  },
  {
   "cell_type": "code",
   "execution_count": 12,
   "metadata": {},
   "outputs": [
    {
     "data": {
      "text/plain": [
       "TransferCnn14(\n",
       "  (base): Cnn14(\n",
       "    (bn0): BatchNorm2d(64, eps=1e-05, momentum=0.1, affine=True, track_running_stats=True)\n",
       "    (conv_block1): ConvBlock(\n",
       "      (conv1): Conv2d(1, 64, kernel_size=(3, 3), stride=(1, 1), padding=(1, 1), bias=False)\n",
       "      (conv2): Conv2d(64, 64, kernel_size=(3, 3), stride=(1, 1), padding=(1, 1), bias=False)\n",
       "      (bn1): BatchNorm2d(64, eps=1e-05, momentum=0.1, affine=True, track_running_stats=True)\n",
       "      (bn2): BatchNorm2d(64, eps=1e-05, momentum=0.1, affine=True, track_running_stats=True)\n",
       "    )\n",
       "    (conv_block2): ConvBlock(\n",
       "      (conv1): Conv2d(64, 128, kernel_size=(3, 3), stride=(1, 1), padding=(1, 1), bias=False)\n",
       "      (conv2): Conv2d(128, 128, kernel_size=(3, 3), stride=(1, 1), padding=(1, 1), bias=False)\n",
       "      (bn1): BatchNorm2d(128, eps=1e-05, momentum=0.1, affine=True, track_running_stats=True)\n",
       "      (bn2): BatchNorm2d(128, eps=1e-05, momentum=0.1, affine=True, track_running_stats=True)\n",
       "    )\n",
       "    (conv_block3): ConvBlock(\n",
       "      (conv1): Conv2d(128, 256, kernel_size=(3, 3), stride=(1, 1), padding=(1, 1), bias=False)\n",
       "      (conv2): Conv2d(256, 256, kernel_size=(3, 3), stride=(1, 1), padding=(1, 1), bias=False)\n",
       "      (bn1): BatchNorm2d(256, eps=1e-05, momentum=0.1, affine=True, track_running_stats=True)\n",
       "      (bn2): BatchNorm2d(256, eps=1e-05, momentum=0.1, affine=True, track_running_stats=True)\n",
       "    )\n",
       "    (conv_block4): ConvBlock(\n",
       "      (conv1): Conv2d(256, 512, kernel_size=(3, 3), stride=(1, 1), padding=(1, 1), bias=False)\n",
       "      (conv2): Conv2d(512, 512, kernel_size=(3, 3), stride=(1, 1), padding=(1, 1), bias=False)\n",
       "      (bn1): BatchNorm2d(512, eps=1e-05, momentum=0.1, affine=True, track_running_stats=True)\n",
       "      (bn2): BatchNorm2d(512, eps=1e-05, momentum=0.1, affine=True, track_running_stats=True)\n",
       "    )\n",
       "    (conv_block5): ConvBlock(\n",
       "      (conv1): Conv2d(512, 1024, kernel_size=(3, 3), stride=(1, 1), padding=(1, 1), bias=False)\n",
       "      (conv2): Conv2d(1024, 1024, kernel_size=(3, 3), stride=(1, 1), padding=(1, 1), bias=False)\n",
       "      (bn1): BatchNorm2d(1024, eps=1e-05, momentum=0.1, affine=True, track_running_stats=True)\n",
       "      (bn2): BatchNorm2d(1024, eps=1e-05, momentum=0.1, affine=True, track_running_stats=True)\n",
       "    )\n",
       "    (conv_block6): ConvBlock(\n",
       "      (conv1): Conv2d(1024, 2048, kernel_size=(3, 3), stride=(1, 1), padding=(1, 1), bias=False)\n",
       "      (conv2): Conv2d(2048, 2048, kernel_size=(3, 3), stride=(1, 1), padding=(1, 1), bias=False)\n",
       "      (bn1): BatchNorm2d(2048, eps=1e-05, momentum=0.1, affine=True, track_running_stats=True)\n",
       "      (bn2): BatchNorm2d(2048, eps=1e-05, momentum=0.1, affine=True, track_running_stats=True)\n",
       "    )\n",
       "    (fc1): Linear(in_features=2048, out_features=2048, bias=True)\n",
       "  )\n",
       "  (classifier): Linear(in_features=2048, out_features=50, bias=True)\n",
       ")"
      ]
     },
     "execution_count": 12,
     "metadata": {},
     "output_type": "execute_result"
    }
   ],
   "source": [
    "model = TransferCnn14(num_classes=50)\n",
    "model.load_state_dict(torch.load(\"best.pth\"))\n",
    "model.to(device)"
   ]
  },
  {
   "cell_type": "markdown",
   "metadata": {},
   "source": [
    "___"
   ]
  },
  {
   "cell_type": "code",
   "execution_count": 13,
   "metadata": {},
   "outputs": [],
   "source": [
    "shap_background_folds = [1, 2, 3]"
   ]
  },
  {
   "cell_type": "code",
   "execution_count": 14,
   "metadata": {},
   "outputs": [],
   "source": [
    "def get_balanced_background(dataloader, num_samples_per_class=2, device=\"cpu\"):\n",
    "    from collections import defaultdict\n",
    "    class_to_samples = defaultdict(list)\n",
    "    \n",
    "    for batch_x, batch_y in dataloader:\n",
    "        for x, y in zip(batch_x, batch_y):\n",
    "            if len(class_to_samples[y.item()]) < num_samples_per_class:\n",
    "                class_to_samples[y.item()].append(x.unsqueeze(0))\n",
    "    \n",
    "    background_tensors = []\n",
    "    for class_label, tensor_list in class_to_samples.items():\n",
    "        background_tensors.extend(tensor_list)\n",
    "    \n",
    "    background = torch.cat(background_tensors, dim=0).to(device)\n",
    "    return background"
   ]
  },
  {
   "cell_type": "code",
   "execution_count": 15,
   "metadata": {},
   "outputs": [],
   "source": [
    "test_data_predict = ESC50dataset(root_dir=root_dir, sr=sr, folds=test_folds, normalize=\"peak\")\n",
    "test_loader_predict = DataLoader(test_data_predict, batch_size=1, shuffle=False)\n",
    "train_data_shap = ESC50dataset(root_dir=root_dir, sr=sr, folds=shap_background_folds, normalize=\"peak\", feature_extractor=feature_extractor_fit)\n",
    "train_loader_shap = DataLoader(train_data_shap, batch_size=100, shuffle=False)\n",
    "shap_background = get_balanced_background(train_loader_shap, num_samples_per_class=2, device=device)"
   ]
  },
  {
   "cell_type": "code",
   "execution_count": 16,
   "metadata": {},
   "outputs": [],
   "source": [
    "predict_saliency = Predict(model, feature_extractor_predict, interp_method_cls=SaliencyInterpreter, interp_method_kwargs={}, device=device)\n",
    "predict_gradcam = Predict(model, feature_extractor_predict, interp_method_cls=GradCAMInterpreter, interp_method_kwargs={\"target_layers\": [model.base.conv_block6.conv2]}, device=device)\n",
    "predict_shap = Predict(model, feature_extractor_predict, interp_method_cls=SHAPInterpreter, interp_method_kwargs={\"background_data\": shap_background}, device=device)"
   ]
  },
  {
   "cell_type": "code",
   "execution_count": 17,
   "metadata": {},
   "outputs": [],
   "source": [
    "results_saliency = predict_saliency.predict_set(test_loader_predict)"
   ]
  },
  {
   "cell_type": "code",
   "execution_count": 18,
   "metadata": {},
   "outputs": [
    {
     "data": {
      "text/plain": [
       "{'FF': tensor([0.8078, 0.0055, 0.4555, 0.4496, 0.7477, 0.4545, 0.4990, 0.2837, 0.5836,\n",
       "         0.3378, 0.7044, 0.9459, 0.8652, 0.6329, 0.5146, 0.9220, 0.2561, 0.9050,\n",
       "         0.7432, 0.3595, 0.2254, 0.5449, 0.9108, 0.9563, 0.7219, 0.9404, 0.8182,\n",
       "         0.8464, 0.2618, 0.2616, 0.6598, 0.6359, 0.9113, 0.9048, 0.8027, 0.7399,\n",
       "         0.5978, 0.9445, 0.8799, 0.8018, 0.5118, 0.9858, 0.8002, 0.9619, 0.9287,\n",
       "         0.8341, 0.8401, 0.8000, 0.2922, 0.9073, 0.8506, 0.1848, 0.1862, 0.8665,\n",
       "         0.3791, 0.7530, 0.3353, 0.9062, 0.9921, 0.3930, 0.1303, 0.6853, 0.7957,\n",
       "         0.8454, 0.8202, 0.8555, 0.6592, 0.9026, 0.9104, 0.5164, 0.7080, 0.6230,\n",
       "         0.7523, 0.9429, 0.9195, 0.9162, 0.9335, 0.9067, 0.9495, 0.9309, 0.6224,\n",
       "         0.8268, 0.9799, 0.7568, 0.6230, 0.5958, 0.6690, 0.8226, 0.2185, 0.8100,\n",
       "         0.0379, 0.8986, 0.4641, 0.9256, 0.9585, 0.8285, 0.7671, 0.3814, 0.4930,\n",
       "         0.7474, 0.9069, 0.6729, 0.5871, 0.5004, 0.8708, 0.9285, 0.9341, 0.4362,\n",
       "         0.7117, 0.9672, 0.5204, 0.5929, 0.9370, 0.8509, 0.9378, 0.6849, 0.6099,\n",
       "         0.9214, 0.9679, 0.6762, 0.9029, 0.9275, 0.6982, 0.9438, 0.8626, 0.9764,\n",
       "         0.7908, 0.9835, 0.9099, 0.9150, 0.9031, 0.5894, 0.7348, 0.8297, 0.9118,\n",
       "         0.9845, 0.8457, 0.4040, 0.9005, 0.9906, 0.9877, 0.9581, 0.9849, 0.9657,\n",
       "         0.9750, 0.1767, 0.1925, 0.5816, 0.9460, 0.9435, 0.9104, 0.9745, 0.4871,\n",
       "         0.6712, 0.6806, 0.7883, 0.6305, 0.9300, 0.8831, 0.8713, 0.4243, 0.7731,\n",
       "         0.9338, 0.6792, 0.0128, 0.0266, 0.6912, 0.8922, 0.5186, 0.6979, 0.6632,\n",
       "         0.7742, 0.9693, 0.6727, 0.5931, 0.6965, 0.8083, 0.5575, 0.4783, 0.4761,\n",
       "         0.2386, 0.8746, 0.9808, 0.9468, 0.9408, 0.8322, 0.2566, 0.6140, 0.8868,\n",
       "         0.8183, 0.8873, 0.4936, 0.1849, 0.8015, 0.8282, 0.1254, 0.9175, 0.9543,\n",
       "         0.8484, 0.3978, 0.7894, 0.8603, 0.8353, 0.7805, 0.3094, 0.4410, 0.1433,\n",
       "         0.4411, 0.3255, 0.9778, 0.9634, 0.3771, 0.9529, 0.1851, 0.0732, 0.6638,\n",
       "         0.8590, 0.1667, 0.8113, 0.3947, 0.3568, 0.3940, 0.9083, 0.9494, 0.7721,\n",
       "         0.8552, 0.7711, 0.8336, 0.4031, 0.6649, 0.6672, 0.7243, 0.7447, 0.6798,\n",
       "         0.5752, 0.5441, 0.9322, 0.9624, 0.6034, 0.5774, 0.1068, 0.9302, 0.6483,\n",
       "         0.6430, 0.7753, 0.8202, 0.9238, 0.9459, 0.9325, 0.8064, 0.8067, 0.2529,\n",
       "         0.3423, 0.9384, 0.6056, 0.8523, 0.8567, 0.9001, 0.8680, 0.7777, 0.6913,\n",
       "         0.9322, 0.7924, 0.7648, 0.5371, 0.8687, 0.9194, 0.0243, 0.6262, 0.7206,\n",
       "         0.2840, 0.4209, 0.8063, 0.4177, 0.3041, 0.5282, 0.2819, 0.7453, 0.6441,\n",
       "         0.5225, 0.2891, 0.6351, 0.3880, 0.8142, 0.8160, 0.7163, 0.7459, 0.6617,\n",
       "         0.1378, 0.2288, 0.7835, 0.8581, 0.8117, 0.1942, 0.9020, 0.7391, 0.5437,\n",
       "         0.6588, 0.8323, 0.8640, 0.8547, 0.6459, 0.9057, 0.7938, 0.7051, 0.6787,\n",
       "         0.8369, 0.5622, 0.3523, 0.4833, 0.5793, 0.9359, 0.6211, 0.7467, 0.7018,\n",
       "         0.7556, 0.8034, 0.8066, 0.4804, 0.6216, 0.5817, 0.7727, 0.3516, 0.6963,\n",
       "         0.7843, 0.5192, 0.6699, 0.8350, 0.9467, 0.9110, 0.9678, 0.7131, 0.3370,\n",
       "         0.8055, 0.5207, 0.8131, 0.7327, 0.7636, 0.8052, 0.7799, 0.3762, 0.2746,\n",
       "         0.0194, 0.6777, 0.6913, 0.4167, 0.1121, 0.3084, 0.2757, 0.8130, 0.3410,\n",
       "         0.3809, 0.3960, 0.5629, 0.7813, 0.9208, 0.9033, 0.6760, 0.8884, 0.8169,\n",
       "         0.8312, 0.9331, 0.9029, 0.9298, 0.6900, 0.8601, 0.7315, 0.6604, 0.7498,\n",
       "         0.0666, 0.6210, 0.8536, 0.2828, 0.8922, 0.2747, 0.3930, 0.7575, 0.8717,\n",
       "         0.8830, 0.3654, 0.5537, 0.0683, 0.3731, 0.9288, 0.3417, 0.1668, 0.7829,\n",
       "         0.8867, 0.9317, 0.3661, 0.7861, 0.3114, 0.7117, 0.6962, 0.7050, 0.4742,\n",
       "         0.8526, 0.6613, 0.9581, 0.6626]),\n",
       " 'AI': tensor([0., 0., 0., 0., 0., 0., 0., 0., 0., 0., 0., 0., 0., 0., 0., 0., 0., 0., 0., 0., 0., 0., 0., 0.,\n",
       "         0., 0., 0., 0., 0., 0., 0., 0., 0., 0., 0., 0., 0., 0., 0., 0., 0., 0., 0., 0., 0., 0., 0., 0.,\n",
       "         0., 0., 0., 0., 0., 0., 0., 0., 0., 0., 0., 0., 0., 0., 0., 0., 0., 0., 0., 0., 0., 0., 0., 0.,\n",
       "         0., 0., 0., 0., 0., 0., 0., 0., 0., 0., 0., 0., 0., 0., 0., 0., 0., 0., 0., 0., 0., 0., 0., 0.,\n",
       "         0., 0., 0., 0., 0., 0., 0., 0., 0., 0., 0., 0., 0., 0., 0., 0., 0., 0., 0., 0., 0., 0., 0., 0.,\n",
       "         0., 0., 0., 0., 0., 0., 0., 0., 0., 0., 0., 0., 0., 0., 0., 0., 0., 0., 0., 0., 0., 0., 0., 0.,\n",
       "         0., 0., 0., 0., 0., 0., 0., 0., 0., 0., 0., 0., 0., 0., 0., 0., 0., 0., 0., 0., 0., 0., 0., 0.,\n",
       "         0., 0., 0., 0., 0., 0., 0., 0., 0., 0., 0., 0., 0., 0., 0., 0., 0., 0., 0., 0., 0., 0., 0., 0.,\n",
       "         0., 0., 0., 0., 0., 0., 0., 0., 0., 0., 0., 0., 0., 0., 0., 0., 0., 0., 0., 0., 0., 0., 0., 0.,\n",
       "         0., 0., 0., 0., 0., 0., 0., 0., 0., 0., 0., 0., 0., 0., 0., 0., 0., 0., 0., 0., 0., 0., 0., 0.,\n",
       "         0., 0., 0., 0., 0., 0., 0., 0., 0., 0., 0., 0., 0., 0., 0., 0., 0., 0., 0., 0., 0., 0., 0., 0.,\n",
       "         0., 0., 0., 0., 0., 0., 0., 0., 0., 0., 0., 0., 0., 0., 0., 0., 0., 0., 0., 0., 0., 0., 0., 0.,\n",
       "         0., 0., 0., 0., 0., 0., 0., 0., 0., 0., 0., 0., 0., 0., 0., 0., 0., 0., 0., 0., 0., 0., 0., 0.,\n",
       "         0., 0., 0., 0., 0., 0., 0., 0., 0., 0., 0., 0., 0., 0., 0., 0., 0., 0., 0., 0., 0., 0., 0., 0.,\n",
       "         0., 0., 0., 0., 0., 0., 0., 0., 0., 0., 0., 0., 0., 0., 0., 0., 0., 0., 0., 0., 0., 0., 0., 0.,\n",
       "         0., 0., 0., 0., 0., 0., 0., 0., 0., 0., 0., 0., 0., 0., 0., 0., 0., 0., 0., 0., 0., 0., 0., 0.,\n",
       "         0., 0., 0., 0., 0., 0., 0., 0., 0., 0., 0., 0., 0., 0., 0., 0.]),\n",
       " 'AD': tensor([98.1764, 22.8216, 88.7691, 93.0075, 96.7244, 94.7333, 98.0040, 99.4520,\n",
       "         98.5751, 82.5427, 79.5938, 98.8796, 98.2172, 99.5233, 98.9712, 99.7348,\n",
       "         98.6734, 98.6482, 98.2627, 76.5624, 95.0190, 90.1711, 99.5577, 93.3852,\n",
       "         96.2377, 96.3286, 94.4852, 98.8027, 62.8847, 53.0959, 99.5694, 98.9336,\n",
       "         99.2337, 99.2723, 99.1395, 98.9412, 99.5306, 99.1802, 98.8567, 94.2222,\n",
       "         87.3969, 97.7712, 99.4185, 99.7258, 97.1467, 99.1077, 97.2726, 97.4219,\n",
       "         92.0093, 99.1447, 97.7511, 94.9803, 39.0009, 94.6179, 58.2652, 98.4622,\n",
       "         94.1885, 99.5789, 99.3336, 81.6189, 97.6516, 98.4496, 98.7606, 99.0398,\n",
       "         98.5503, 98.9548, 98.7719, 99.6661, 99.2482, 99.2252, 95.3627, 46.9675,\n",
       "         98.6574, 97.0769, 97.3444, 98.7687, 99.5041, 99.7216, 99.1642, 99.6272,\n",
       "         99.4936, 99.5800, 99.1921, 86.9031, 99.1090, 95.3750, 95.6872, 96.7681,\n",
       "         93.2507, 97.0039, 95.2239, 58.7421, 99.6437, 99.5727, 99.5122, 90.0131,\n",
       "         95.2230, 92.8893, 96.1800, 95.0004, 97.8758, 91.5097, 58.1856, 94.6411,\n",
       "         95.2899, 89.7711, 99.2942, 99.0171, 99.2352, 99.5324, 96.4749, 98.5406,\n",
       "         82.6033, 93.7548, 91.7718, 97.6952, 42.0628, 99.7466, 99.5014, 99.5623,\n",
       "         86.7666, 98.9875, 98.9323, 80.0223, 94.7370, 59.0616, 56.3136, 99.1075,\n",
       "         99.4393, 98.9870, 99.3746, 98.9450, 99.3553, 99.1897, 98.9630, 99.5399,\n",
       "         98.7287, 98.6955, 97.2028, 98.9606, 99.6067, 99.4712, 99.3823, 97.9479,\n",
       "         99.1525, 97.7020, 96.5680, 97.6262, 58.3254, 77.9213, 99.2220, 99.5184,\n",
       "         97.0122, 94.8973, 99.4480, 99.7147, 95.2519, 99.6234, 98.7561, 49.6710,\n",
       "         95.6549, 88.1419, 66.3914, 95.3247, 86.5811, 88.2803, 97.7337, 99.8141,\n",
       "         83.5172, 98.6867, 97.0836, 98.4986, 99.3229, 97.8971, 99.0783, 99.2786,\n",
       "         91.5254, 87.9855, 81.4457, 82.7696, 96.3180, 95.3853, 99.1762, 31.8609,\n",
       "         82.4425, 96.6843, 83.2242, 99.0909, 98.7489, 95.9074, 99.6941, 64.5170,\n",
       "         86.2297, 98.9627, 98.8180, 98.0754, 99.7153, 98.2763, 98.2294, 94.7260,\n",
       "         94.3150, 98.3790, 96.0868, 98.5467, 85.5576, 98.6074, 97.3624, 97.3408,\n",
       "         97.5976, 95.9867, 98.0955, 89.2957, 97.8096, 97.2102, 97.0449, 97.6538,\n",
       "         98.8319, 75.1117, 79.5161, 93.5197, 77.8983, 97.3282, 97.7402, 87.4273,\n",
       "         93.5456, 99.0699, 82.1067, 84.2858, 81.9042, 97.7612, 99.3724, 99.4102,\n",
       "         96.3855, 88.6749, 77.6591, 84.6635, 99.7583, 99.3623, 97.9166, 94.8800,\n",
       "         81.1415, 98.9746, 99.2736, 99.1895, 96.0627, 97.7530, 64.0385, 53.0698,\n",
       "         60.3319, 97.0847, 98.1562, 98.2314, 91.9810, 96.0399, 98.1424, 98.8255,\n",
       "         98.4016, 99.0991, 96.9003, 95.9528, 99.2308, 94.5045, 99.5478, 99.2408,\n",
       "         98.4033, 99.0605, 90.9631, 97.1290, 96.6505, 99.2540, 96.9839, 93.1566,\n",
       "         99.3553, 86.5950, 68.1582, 91.9507, 95.8348, 97.0631, 88.9562, 95.4131,\n",
       "         98.5064, 98.8669, 67.8098, 98.0176, 98.4999, 95.7281, 98.0321, 93.9276,\n",
       "         96.0442, 98.0058, 98.4278, 99.4417, 98.9721, 98.0733, 98.8704, 97.4789,\n",
       "         97.6733, 98.1225, 95.1503, 96.5064, 90.6499, 93.1519, 97.9861, 99.2756,\n",
       "         98.2172, 95.6620, 99.4754, 99.3798, 96.4629, 99.0713, 97.9307, 99.0763,\n",
       "         94.3007, 98.1964, 97.3473, 96.5808, 86.3820, 91.3932, 91.8231, 94.3035,\n",
       "         95.5791, 96.9444, 96.0122, 99.7602, 99.4705, 99.7129, 99.1837, 93.4200,\n",
       "         96.8669, 90.7698, 94.5200, 97.5731, 98.6213, 97.6114, 93.4736, 94.6234,\n",
       "         99.0884, 98.3588, 92.8117, 97.2091, 96.3628, 99.1817, 93.7079, 96.7335,\n",
       "         98.9803, 98.8538, 75.8168, 94.9003, 93.6550, 98.0336, 83.9107, 81.1214,\n",
       "         89.8079, 94.6298, 96.9964, 99.4420, 99.4967, 99.4667, 99.5371, 99.6497,\n",
       "         99.6266, 99.6944, 99.6589, 99.6099, 97.4278, 99.6542, 90.9431, 94.9043,\n",
       "         98.0928, 91.0909, 81.4011, 96.5871, 94.9464, 88.4368, 67.6135, 92.5020,\n",
       "         85.7431, 97.2439, 98.1280, 98.7656, 98.6067, 98.5534, 98.7014, 97.0539,\n",
       "         79.7594, 50.2360, 98.6747, 97.3488, 99.2202, 76.7707, 58.3514, 74.5825,\n",
       "         97.9393, 97.1572, 95.6394, 97.6192, 98.3480, 90.1260, 99.2812, 84.1923]),\n",
       " 'AG': tensor([0., 0., 0., 0., 0., 0., 0., 0., 0., 0., 0., 0., 0., 0., 0., 0., 0., 0., 0., 0., 0., 0., 0., 0.,\n",
       "         0., 0., 0., 0., 0., 0., 0., 0., 0., 0., 0., 0., 0., 0., 0., 0., 0., 0., 0., 0., 0., 0., 0., 0.,\n",
       "         0., 0., 0., 0., 0., 0., 0., 0., 0., 0., 0., 0., 0., 0., 0., 0., 0., 0., 0., 0., 0., 0., 0., 0.,\n",
       "         0., 0., 0., 0., 0., 0., 0., 0., 0., 0., 0., 0., 0., 0., 0., 0., 0., 0., 0., 0., 0., 0., 0., 0.,\n",
       "         0., 0., 0., 0., 0., 0., 0., 0., 0., 0., 0., 0., 0., 0., 0., 0., 0., 0., 0., 0., 0., 0., 0., 0.,\n",
       "         0., 0., 0., 0., 0., 0., 0., 0., 0., 0., 0., 0., 0., 0., 0., 0., 0., 0., 0., 0., 0., 0., 0., 0.,\n",
       "         0., 0., 0., 0., 0., 0., 0., 0., 0., 0., 0., 0., 0., 0., 0., 0., 0., 0., 0., 0., 0., 0., 0., 0.,\n",
       "         0., 0., 0., 0., 0., 0., 0., 0., 0., 0., 0., 0., 0., 0., 0., 0., 0., 0., 0., 0., 0., 0., 0., 0.,\n",
       "         0., 0., 0., 0., 0., 0., 0., 0., 0., 0., 0., 0., 0., 0., 0., 0., 0., 0., 0., 0., 0., 0., 0., 0.,\n",
       "         0., 0., 0., 0., 0., 0., 0., 0., 0., 0., 0., 0., 0., 0., 0., 0., 0., 0., 0., 0., 0., 0., 0., 0.,\n",
       "         0., 0., 0., 0., 0., 0., 0., 0., 0., 0., 0., 0., 0., 0., 0., 0., 0., 0., 0., 0., 0., 0., 0., 0.,\n",
       "         0., 0., 0., 0., 0., 0., 0., 0., 0., 0., 0., 0., 0., 0., 0., 0., 0., 0., 0., 0., 0., 0., 0., 0.,\n",
       "         0., 0., 0., 0., 0., 0., 0., 0., 0., 0., 0., 0., 0., 0., 0., 0., 0., 0., 0., 0., 0., 0., 0., 0.,\n",
       "         0., 0., 0., 0., 0., 0., 0., 0., 0., 0., 0., 0., 0., 0., 0., 0., 0., 0., 0., 0., 0., 0., 0., 0.,\n",
       "         0., 0., 0., 0., 0., 0., 0., 0., 0., 0., 0., 0., 0., 0., 0., 0., 0., 0., 0., 0., 0., 0., 0., 0.,\n",
       "         0., 0., 0., 0., 0., 0., 0., 0., 0., 0., 0., 0., 0., 0., 0., 0., 0., 0., 0., 0., 0., 0., 0., 0.,\n",
       "         0., 0., 0., 0., 0., 0., 0., 0., 0., 0., 0., 0., 0., 0., 0., 0.]),\n",
       " 'FidIn': tensor([0., 0., 0., 0., 0., 0., 0., 0., 0., 0., 1., 0., 0., 0., 0., 0., 0., 0.,\n",
       "         0., 0., 0., 0., 0., 0., 0., 0., 0., 0., 0., 0., 0., 0., 0., 0., 0., 0.,\n",
       "         0., 0., 0., 0., 0., 0., 0., 0., 0., 0., 0., 0., 0., 0., 0., 0., 0., 0.,\n",
       "         0., 0., 0., 0., 0., 0., 0., 0., 0., 0., 0., 0., 0., 0., 0., 0., 0., 1.,\n",
       "         0., 0., 0., 0., 0., 0., 0., 0., 0., 0., 0., 0., 0., 0., 0., 0., 0., 0.,\n",
       "         0., 1., 0., 0., 0., 0., 0., 0., 0., 0., 0., 0., 1., 0., 0., 0., 0., 0.,\n",
       "         0., 0., 0., 0., 1., 0., 0., 0., 1., 0., 0., 0., 1., 0., 0., 1., 0., 1.,\n",
       "         1., 0., 0., 0., 0., 0., 0., 0., 0., 0., 0., 0., 0., 0., 0., 0., 0., 0.,\n",
       "         0., 0., 0., 0., 1., 1., 0., 0., 0., 0., 0., 0., 0., 0., 0., 1., 0., 1.,\n",
       "         1., 0., 1., 1., 0., 0., 1., 0., 0., 0., 0., 0., 0., 0., 0., 0., 0., 0.,\n",
       "         0., 0., 0., 1., 0., 0., 0., 0., 0., 0., 0., 1., 0., 0., 0., 0., 0., 0.,\n",
       "         0., 0., 0., 0., 0., 0., 0., 0., 0., 0., 0., 0., 0., 1., 0., 0., 0., 0.,\n",
       "         0., 1., 1., 0., 0., 0., 0., 1., 0., 0., 0., 0., 1., 0., 0., 0., 0., 0.,\n",
       "         1., 0., 0., 0., 0., 0., 0., 0., 0., 0., 0., 0., 1., 1., 1., 0., 0., 0.,\n",
       "         0., 0., 0., 0., 0., 0., 0., 0., 0., 0., 0., 0., 0., 0., 0., 0., 0., 0.,\n",
       "         0., 1., 0., 0., 0., 0., 0., 0., 0., 0., 0., 0., 1., 0., 0., 0., 0., 0.,\n",
       "         0., 0., 0., 0., 0., 0., 0., 0., 0., 0., 0., 0., 0., 0., 0., 0., 0., 0.,\n",
       "         0., 0., 0., 0., 0., 0., 0., 0., 0., 0., 1., 0., 0., 0., 0., 0., 0., 0.,\n",
       "         0., 0., 0., 0., 0., 1., 0., 0., 0., 0., 1., 0., 0., 0., 0., 0., 0., 0.,\n",
       "         1., 0., 0., 0., 0., 0., 0., 0., 0., 0., 0., 0., 0., 0., 0., 0., 0., 0.,\n",
       "         0., 0., 0., 0., 0., 0., 0., 0., 0., 1., 1., 0., 0., 1., 1., 0., 1., 0.,\n",
       "         0., 0., 0., 0., 0., 0., 0., 0., 0., 0., 0., 0., 1., 0., 0., 0., 0., 0.,\n",
       "         0., 0., 0., 1.]),\n",
       " 'SPS': tensor([0.7675, 0.8877, 0.8650, 0.9177, 0.7783, 0.9337, 0.7805, 0.7664, 0.7877,\n",
       "         0.9182, 0.7522, 0.7655, 0.8034, 0.7736, 0.7567, 0.7748, 0.7524, 0.7731,\n",
       "         0.7705, 0.8017, 0.8161, 0.7745, 0.7886, 0.7735, 0.7790, 0.7493, 0.7592,\n",
       "         0.7504, 0.7635, 0.7567, 0.7602, 0.7746, 0.7532, 0.7629, 0.7649, 0.7710,\n",
       "         0.7536, 0.7623, 0.7629, 0.7657, 0.7597, 0.7587, 0.7700, 0.7554, 0.8081,\n",
       "         0.7783, 0.7847, 0.7886, 0.8928, 0.7896, 0.8309, 0.7670, 0.7489, 0.7671,\n",
       "         0.7557, 0.7594, 0.7684, 0.7686, 0.7599, 0.7624, 0.7638, 0.8984, 0.8729,\n",
       "         0.8414, 0.8737, 0.7843, 0.7624, 0.7527, 0.7483, 0.7737, 0.7869, 0.7431,\n",
       "         0.7754, 0.7701, 0.7546, 0.7690, 0.7928, 0.7604, 0.7979, 0.7716, 0.7531,\n",
       "         0.7502, 0.7657, 0.7525, 0.7805, 0.7547, 0.7732, 0.8970, 0.7873, 0.7707,\n",
       "         0.8864, 0.7562, 0.7679, 0.7551, 0.7492, 0.7619, 0.7569, 0.7675, 0.7568,\n",
       "         0.7960, 0.7653, 0.7474, 0.7649, 0.7520, 0.8117, 0.7508, 0.8052, 0.7696,\n",
       "         0.8080, 0.7921, 0.7945, 0.7838, 0.7683, 0.8018, 0.7849, 0.7754, 0.7815,\n",
       "         0.7729, 0.7601, 0.7548, 0.7600, 0.7895, 0.7657, 0.7675, 0.7685, 0.7605,\n",
       "         0.7728, 0.7603, 0.7789, 0.7692, 0.7718, 0.7731, 0.7667, 0.7802, 0.7687,\n",
       "         0.7641, 0.7700, 0.7519, 0.7914, 0.7508, 0.7522, 0.7607, 0.7592, 0.7757,\n",
       "         0.7913, 0.8004, 0.7980, 0.8103, 0.7600, 0.7628, 0.7593, 0.7542, 0.7751,\n",
       "         0.8352, 0.7717, 0.7721, 0.7859, 0.7682, 0.7601, 0.7453, 0.7883, 0.7759,\n",
       "         0.7503, 0.7591, 0.7618, 0.7633, 0.8598, 0.7618, 0.7524, 0.7715, 0.7571,\n",
       "         0.7600, 0.7987, 0.8386, 0.7616, 0.7615, 0.7535, 0.7547, 0.7661, 0.7683,\n",
       "         0.7738, 0.7563, 0.7852, 0.7671, 0.7598, 0.7526, 0.9401, 0.7650, 0.7773,\n",
       "         0.7706, 0.7654, 0.7744, 0.7972, 0.7853, 0.7732, 0.7759, 0.7695, 0.7555,\n",
       "         0.7683, 0.7773, 0.7700, 0.7766, 0.7762, 0.7659, 0.7613, 0.7684, 0.7687,\n",
       "         0.7623, 0.7586, 0.7575, 0.7586, 0.7670, 0.7797, 0.7705, 0.7737, 0.7630,\n",
       "         0.7579, 0.7666, 0.7691, 0.7559, 0.7608, 0.7744, 0.7748, 0.7643, 0.7539,\n",
       "         0.7555, 0.7665, 0.7701, 0.7830, 0.7837, 0.8045, 0.7644, 0.7859, 0.7680,\n",
       "         0.7534, 0.7404, 0.7729, 0.7875, 0.8441, 0.8970, 0.9166, 0.7528, 0.7569,\n",
       "         0.7629, 0.7490, 0.7808, 0.7741, 0.7791, 0.7658, 0.9071, 0.9073, 0.8738,\n",
       "         0.7549, 0.7899, 0.8860, 0.8736, 0.7721, 0.7562, 0.9091, 0.8127, 0.7622,\n",
       "         0.7596, 0.7568, 0.7548, 0.7648, 0.7591, 0.7844, 0.7706, 0.7634, 0.7506,\n",
       "         0.7765, 0.8530, 0.7627, 0.8342, 0.7631, 0.7588, 0.8280, 0.7688, 0.7825,\n",
       "         0.9214, 0.9034, 0.7705, 0.7667, 0.7906, 0.7718, 0.8772, 0.7684, 0.7565,\n",
       "         0.8486, 0.8329, 0.7517, 0.7800, 0.7546, 0.8664, 0.7736, 0.7757, 0.7743,\n",
       "         0.7568, 0.7913, 0.8877, 0.7553, 0.7620, 0.7995, 0.7488, 0.8475, 0.7727,\n",
       "         0.7726, 0.7528, 0.7598, 0.7626, 0.7618, 0.8156, 0.7776, 0.7765, 0.7786,\n",
       "         0.7512, 0.8121, 0.7727, 0.7641, 0.7721, 0.7671, 0.7646, 0.8470, 0.7492,\n",
       "         0.7731, 0.7776, 0.7713, 0.7501, 0.7578, 0.7543, 0.7644, 0.7682, 0.7748,\n",
       "         0.7786, 0.7650, 0.8121, 0.7608, 0.7538, 0.7592, 0.7731, 0.7618, 0.7648,\n",
       "         0.7829, 0.7737, 0.7712, 0.7712, 0.7895, 0.7754, 0.7926, 0.8940, 0.7888,\n",
       "         0.7735, 0.7651, 0.7524, 0.9129, 0.7929, 0.7701, 0.7597, 0.7767, 0.7606,\n",
       "         0.7570, 0.7703, 0.7715, 0.7709, 0.7684, 0.7647, 0.7694, 0.7691, 0.8921,\n",
       "         0.7902, 0.7665, 0.7837, 0.7602, 0.9347, 0.8471, 0.7804, 0.8455, 0.9005,\n",
       "         0.7792, 0.9081, 0.9065, 0.9018, 0.7617, 0.7770, 0.8950, 0.7821, 0.7617,\n",
       "         0.7649, 0.7576, 0.7507, 0.7542, 0.7570, 0.7729, 0.7723, 0.7550, 0.7645,\n",
       "         0.7559, 0.7815, 0.7601, 0.8061], dtype=torch.float64),\n",
       " 'COMP': tensor([9.1722, 8.4723, 8.6453, 8.1038, 9.1261, 7.8315, 9.1265, 9.1891, 9.0911,\n",
       "         8.0959, 9.2436, 9.1844, 8.9936, 9.1492, 9.2189, 9.1508, 9.2384, 9.1587,\n",
       "         9.1596, 8.9995, 8.8861, 9.1391, 9.0755, 9.1517, 9.1157, 9.2547, 9.2070,\n",
       "         9.2514, 9.1907, 9.2215, 9.2097, 9.1424, 9.2402, 9.2018, 9.1867, 9.1697,\n",
       "         9.2392, 9.2033, 9.2050, 9.1902, 9.2156, 9.2186, 9.1698, 9.2322, 8.9765,\n",
       "         9.1359, 9.0809, 9.0495, 8.3814, 9.0813, 8.8773, 9.1826, 9.2526, 9.1789,\n",
       "         9.2284, 9.2102, 9.1670, 9.1778, 9.2114, 9.2030, 9.1926, 8.3540, 8.5963,\n",
       "         8.8088, 8.5893, 9.0832, 9.1969, 9.2411, 9.2602, 9.1385, 9.0718, 9.2786,\n",
       "         9.1361, 9.1683, 9.2356, 9.1733, 9.0529, 9.2130, 9.0299, 9.1672, 9.2387,\n",
       "         9.2494, 9.1905, 9.2433, 9.1139, 9.2345, 9.1374, 8.3197, 9.0639, 9.1600,\n",
       "         8.4697, 9.2266, 9.1739, 9.2306, 9.2474, 9.1929, 9.2223, 9.1744, 9.2267,\n",
       "         9.0272, 9.1872, 9.2627, 9.1843, 9.2352, 8.9760, 9.2481, 8.9997, 9.1668,\n",
       "         8.9942, 9.0667, 9.0526, 9.1082, 9.1710, 9.0243, 9.0926, 9.1329, 9.1042,\n",
       "         9.1503, 9.2032, 9.2257, 9.2076, 9.0784, 9.1747, 9.1733, 9.1593, 9.2056,\n",
       "         9.1502, 9.2090, 9.1312, 9.1774, 9.1633, 9.1561, 9.1842, 9.1165, 9.1730,\n",
       "         9.1874, 9.1660, 9.2432, 9.0648, 9.2495, 9.2408, 9.2047, 9.2152, 9.1391,\n",
       "         9.0725, 9.0268, 9.0434, 8.9831, 9.2077, 9.1940, 9.2096, 9.2351, 9.1338,\n",
       "         8.8341, 9.1448, 9.1545, 9.0710, 9.1734, 9.2080, 9.2706, 9.0739, 9.1352,\n",
       "         9.2486, 9.2128, 9.2061, 9.1909, 8.6627, 9.2023, 9.2447, 9.1610, 9.2245,\n",
       "         9.2112, 9.0385, 8.8262, 9.2035, 9.2015, 9.2374, 9.2331, 9.1837, 9.1678,\n",
       "         9.1476, 9.2211, 9.0919, 9.1816, 9.2094, 9.2442, 7.7296, 9.1907, 9.1315,\n",
       "         9.1679, 9.1850, 9.1387, 9.0098, 9.0946, 9.1475, 9.1338, 9.1698, 9.2311,\n",
       "         9.1810, 9.1104, 9.1700, 9.1380, 9.1470, 9.1870, 9.1998, 9.1785, 9.1732,\n",
       "         9.1963, 9.2156, 9.2183, 9.2168, 9.1769, 9.1197, 9.1660, 9.1485, 9.2035,\n",
       "         9.2187, 9.1763, 9.1652, 9.2282, 9.2039, 9.1496, 9.1541, 9.1944, 9.2398,\n",
       "         9.2285, 9.1832, 9.1623, 9.1103, 9.0966, 9.0074, 9.1947, 9.0842, 9.1702,\n",
       "         9.2382, 9.2892, 9.1498, 9.0944, 8.7954, 8.3470, 8.1403, 9.2403, 9.2263,\n",
       "         9.2003, 9.2578, 9.1136, 9.1572, 9.1179, 9.1875, 8.2318, 8.2265, 8.5825,\n",
       "         9.2343, 9.0632, 8.4752, 8.5623, 9.1554, 9.2221, 8.2314, 8.9477, 9.2046,\n",
       "         9.2132, 9.2240, 9.2300, 9.1922, 9.2082, 9.1086, 9.1726, 9.1940, 9.2430,\n",
       "         9.1400, 8.7104, 9.1961, 8.8664, 9.1977, 9.2156, 8.8912, 9.1667, 9.1133,\n",
       "         8.0594, 8.2562, 9.1685, 9.1793, 9.0580, 9.1460, 8.5572, 9.1736, 9.2265,\n",
       "         8.7704, 8.8709, 9.2425, 9.1128, 9.2346, 8.6358, 9.1402, 9.1275, 9.1433,\n",
       "         9.2255, 9.0689, 8.4582, 9.2343, 9.1997, 9.0197, 9.2524, 8.7764, 9.1462,\n",
       "         9.1564, 9.2400, 9.2096, 9.1904, 9.1848, 8.9617, 9.1354, 9.1327, 9.1202,\n",
       "         9.2493, 8.9821, 9.1433, 9.1877, 9.1592, 9.1716, 9.1846, 8.7610, 9.2549,\n",
       "         9.1519, 9.1207, 9.1597, 9.2526, 9.2208, 9.2343, 9.1936, 9.1705, 9.1360,\n",
       "         9.1085, 9.1847, 8.9459, 9.1997, 9.2369, 9.2152, 9.1456, 9.1999, 9.1934,\n",
       "         9.0916, 9.1540, 9.1585, 9.1651, 9.0879, 9.1493, 9.0686, 8.3528, 9.0735,\n",
       "         9.1416, 9.1754, 9.2380, 8.1965, 9.0711, 9.1713, 9.2100, 9.1268, 9.2063,\n",
       "         9.2232, 9.1644, 9.1587, 9.1627, 9.1746, 9.1938, 9.1606, 9.1647, 8.3948,\n",
       "         9.0720, 9.1757, 9.1098, 9.2077, 7.8560, 8.7748, 9.1208, 8.7561, 8.3414,\n",
       "         9.1175, 8.2174, 8.2445, 8.2876, 9.2014, 9.1360, 8.3309, 9.1099, 9.2027,\n",
       "         9.1887, 9.2119, 9.2513, 9.2278, 9.2163, 9.1448, 9.1594, 9.2327, 9.1842,\n",
       "         9.2283, 9.1244, 9.2082, 9.0177], dtype=torch.float64)}"
      ]
     },
     "execution_count": 18,
     "metadata": {},
     "output_type": "execute_result"
    }
   ],
   "source": [
    "results_saliency"
   ]
  },
  {
   "cell_type": "code",
   "execution_count": 19,
   "metadata": {},
   "outputs": [
    {
     "name": "stdout",
     "output_type": "stream",
     "text": [
      "FF: 0.6790972948074341\n",
      "AI: 0.0\n",
      "AD: 93.14791107177734\n",
      "AG: 0.0\n",
      "FidIn: 0.10499999672174454\n",
      "SPS: 0.7831910516744823\n",
      "COMP: 9.078914978096671\n"
     ]
    }
   ],
   "source": [
    "for m in results_saliency:\n",
    "    print(f\"{m}: {results_saliency[m].nanmean().item()}\")"
   ]
  },
  {
   "cell_type": "code",
   "execution_count": 20,
   "metadata": {},
   "outputs": [],
   "source": [
    "results_gradcam = predict_gradcam.predict_set(test_loader_predict)"
   ]
  },
  {
   "cell_type": "code",
   "execution_count": 21,
   "metadata": {},
   "outputs": [
    {
     "data": {
      "text/plain": [
       "{'FF': tensor([ 5.8937e-01,  3.2783e-06,  1.5064e-01, -5.6028e-06,  5.2649e-01,\n",
       "          3.7126e-01, -2.5351e-02,  5.5851e-01,  1.3240e-01,  1.2809e-01,\n",
       "          5.4240e-06,  7.3850e-01,  3.8308e-03, -7.8328e-03,  1.5749e-01,\n",
       "          3.4539e-03,  2.2440e-01,  1.9575e-01, -3.5858e-02, -4.3348e-02,\n",
       "          3.4661e-02, -1.2142e-01,  2.4929e-01,  3.1616e-01,  7.3140e-01,\n",
       "          1.4352e-02,  8.4857e-01, -1.0036e-01, -4.1313e-02,  4.1358e-02,\n",
       "          3.3858e-02,  1.0966e-02,  7.0628e-02,  4.3577e-01,  1.7104e-01,\n",
       "          6.3634e-01, -2.0094e-02,  2.2903e-02,  1.3351e-01,  2.9582e-01,\n",
       "          1.7964e-01,  6.1277e-02,  7.1384e-01, -1.1815e-02,  2.5230e-01,\n",
       "          6.5320e-01,  5.4367e-02,  1.5940e-01, -4.7505e-05,  6.9739e-01,\n",
       "          8.7208e-03,  2.4517e-01,  6.4169e-02, -5.3338e-02,  2.2211e-01,\n",
       "          4.8234e-01,  3.1019e-01,  7.6313e-01,  4.0344e-02, -2.3413e-02,\n",
       "         -4.3851e-02,  2.8133e-04,  7.7760e-04, -4.2218e-04,  7.7486e-07,\n",
       "          5.2911e-02,  5.5290e-03,  1.5034e-03,  9.8161e-03,  1.3853e-01,\n",
       "          5.2396e-02,  2.6817e-02,  3.3675e-01,  4.4600e-01,  1.2464e-01,\n",
       "          2.8224e-01,  8.5351e-03,  7.4954e-02,  2.2929e-01,  4.5625e-02,\n",
       "          2.7715e-01,  5.3371e-02,  1.6529e-01,  1.1925e-02,  1.4408e-01,\n",
       "          1.4319e-02,  5.5191e-02,  1.4522e-02,  1.2409e-01,  9.0239e-01,\n",
       "          2.0661e-02,  1.5369e-01, -8.9407e-07,  4.5182e-01,  2.2059e-01,\n",
       "          3.1742e-01,  9.5043e-03,  1.6760e-02,  4.7201e-01,  3.6625e-02,\n",
       "          6.3682e-02,  1.9620e-01,  9.0599e-06, -2.1458e-06,  3.1933e-02,\n",
       "          9.7093e-01,  6.0210e-02,  7.0560e-03,  3.2678e-01,  3.5067e-01,\n",
       "         -5.1116e-03,  9.1458e-03,  1.7419e-01,  3.9542e-01,  2.5434e-01,\n",
       "          1.1754e-01,  2.8056e-01,  5.8721e-01,  3.3686e-02,  4.8426e-01,\n",
       "          2.8060e-01,  8.6038e-01,  6.0926e-02,  3.5654e-01,  3.3507e-02,\n",
       "          4.1049e-02,  6.6884e-03,  1.5904e-01,  5.6287e-01,  5.0545e-02,\n",
       "          2.6965e-01,  3.4295e-02,  1.6739e-02,  2.1674e-01,  1.6340e-01,\n",
       "          2.3326e-02,  1.2067e-01,  2.8067e-02,  1.4158e-01,  9.4601e-02,\n",
       "          4.2257e-03,  1.5176e-02,  5.7886e-01,  2.1590e-01,  3.8978e-02,\n",
       "          1.3489e-02,  3.0130e-02,  3.3378e-01,  8.2585e-02,  7.0410e-01,\n",
       "          2.7544e-01,  1.8013e-02,  2.2288e-02,  1.0569e-01,  3.1528e-02,\n",
       "          1.1772e-02,  4.7939e-01,  4.6202e-02,  8.7431e-01,  1.5909e-01,\n",
       "          3.1519e-02,  2.3896e-01,  1.6883e-02, -9.8348e-06,  6.9809e-04,\n",
       "          6.3670e-04,  1.0538e-01,  2.4948e-01,  4.8848e-02,  1.6729e-03,\n",
       "          2.7418e-06,  5.0830e-01,  3.1600e-02,  1.0938e-01,  6.7949e-06,\n",
       "          5.2054e-03,  8.2421e-02,  6.1310e-02,  1.7895e-02, -7.3826e-02,\n",
       "          7.5895e-03,  3.7551e-01,  9.3521e-02,  2.5349e-01,  1.4445e-02,\n",
       "          5.6288e-01,  2.0082e-01,  1.4333e-02,  8.9776e-01,  5.5310e-01,\n",
       "          3.6020e-01,  3.5600e-02,  7.4506e-08,  4.3666e-02,  1.8330e-01,\n",
       "          4.7684e-06,  5.3585e-02,  2.4312e-01,  8.2507e-01, -8.7065e-03,\n",
       "          9.4098e-02,  5.2661e-01,  2.5876e-02,  2.3412e-01,  1.2416e-01,\n",
       "          6.9472e-02,  7.1502e-02,  9.0091e-03,  7.9095e-04,  1.2233e-02,\n",
       "          3.5340e-02,  1.0835e-01,  1.5391e-01,  3.6979e-04,  1.7517e-03,\n",
       "          4.7684e-07,  5.0172e-02,  1.2439e-02, -8.6891e-02,  2.8398e-01,\n",
       "         -1.4901e-06, -7.0035e-06,  1.4013e-01,  1.2191e-01,  8.2697e-02,\n",
       "          8.0853e-01,  5.1575e-02,  2.7389e-02, -1.1921e-07, -3.7157e-03,\n",
       "          5.5849e-01, -1.1198e-01,  1.7874e-02,  1.8463e-01,  3.7922e-01,\n",
       "          5.0570e-01,  2.9194e-02,  4.9914e-02,  5.0552e-01,  3.7517e-01,\n",
       "          6.1639e-02,  5.3256e-01,  9.4962e-03,  3.3618e-02,  4.1568e-04,\n",
       "          7.4532e-01,  2.5313e-01,  9.7700e-03,  8.0116e-01,  1.3936e-01,\n",
       "          5.4214e-02, -4.8465e-03,  6.7651e-06,  8.0119e-02,  6.7358e-03,\n",
       "         -3.9637e-02,  8.3630e-01,  9.1275e-01,  1.8533e-01, -1.7165e-02,\n",
       "          6.7884e-01,  6.0190e-01,  1.6314e-01,  2.1410e-02, -1.9264e-02,\n",
       "          2.3834e-01, -4.4954e-02,  7.7277e-04, -8.1480e-05,  3.4546e-01,\n",
       "          5.6909e-02,  6.4373e-05, -1.0308e-01, -1.4959e-01,  6.9187e-02,\n",
       "         -2.3231e-01,  3.8124e-03, -5.5808e-02, -4.6813e-02, -3.4679e-02,\n",
       "         -1.4623e-03,  1.2463e-03, -5.7590e-02,  6.4667e-02,  1.4360e-01,\n",
       "          4.1671e-01,  2.2903e-02,  3.7584e-01, -2.3842e-07, -1.3895e-02,\n",
       "          9.8419e-02,  3.5199e-01, -6.6605e-03,  5.2049e-02,  2.6105e-01,\n",
       "         -5.7871e-03,  6.4396e-02,  1.0342e-01, -3.2747e-02,  1.3363e-02,\n",
       "         -8.7178e-04,  1.4071e-01,  1.7755e-01,  1.3117e-01, -8.0464e-02,\n",
       "          3.5763e-06, -5.6031e-02, -8.0840e-03, -9.3850e-02,  3.1944e-02,\n",
       "          8.7644e-02,  2.7872e-02,  1.2937e-02,  5.0778e-01,  2.1742e-01,\n",
       "          7.4448e-01,  3.8170e-01,  8.2691e-02,  2.1317e-01,  2.7626e-01,\n",
       "          6.1994e-02,  2.2393e-01,  9.6016e-02,  1.5314e-01,  2.1010e-02,\n",
       "          4.7684e-06,  3.3880e-02,  2.5097e-02,  4.5578e-02,  3.5528e-02,\n",
       "          2.9361e-02,  2.9603e-01, -1.6820e-03,  7.2032e-01, -2.1768e-03,\n",
       "         -2.8640e-02,  6.5606e-01,  5.4739e-01,  1.2338e-01,  3.1113e-01,\n",
       "          2.4042e-01, -5.7817e-06,  5.1777e-02,  5.6662e-01,  4.7273e-01,\n",
       "         -7.7832e-04,  5.7087e-02,  9.9987e-02,  4.3189e-01,  2.5154e-02,\n",
       "         -9.5007e-02, -1.0464e-02,  6.1834e-02,  5.5364e-02,  9.4309e-02,\n",
       "          4.1440e-01,  9.2952e-02,  2.1589e-01,  4.9075e-01,  4.1376e-02,\n",
       "          1.6913e-02,  2.8693e-01,  7.9110e-02,  1.1412e-02,  2.7522e-01,\n",
       "          8.6698e-01,  1.6443e-01,  3.3351e-03,  2.0905e-02,  9.8535e-02,\n",
       "         -7.2260e-03,  8.9883e-01,  1.3398e-02,  3.0353e-01,  2.2769e-05,\n",
       "          3.4026e-01,  4.4135e-01,  1.2642e-01, -2.2497e-02,  4.5354e-03,\n",
       "         -3.6221e-03, -7.1663e-04,  1.0413e-01,  1.3525e-01,  1.3471e-05,\n",
       "          1.1841e-02, -6.0560e-02,  6.2129e-02,  9.4397e-01,  3.1966e-01,\n",
       "          7.6189e-01,  2.0378e-01, -3.5529e-02,  6.1733e-01,  4.7699e-01,\n",
       "          2.1672e-01,  3.0162e-02,  3.5443e-01,  1.4078e-02,  3.0299e-01]),\n",
       " 'AI': tensor([  0.,   0.,   0.,   0.,   0.,   0.,   0.,   0.,   0.,   0.,   0.,   0.,\n",
       "           0.,   0.,   0.,   0.,   0.,   0.,   0.,   0.,   0.,   0.,   0.,   0.,\n",
       "           0.,   0.,   0.,   0.,   0.,   0.,   0.,   0.,   0.,   0.,   0.,   0.,\n",
       "           0.,   0.,   0.,   0.,   0.,   0.,   0.,   0.,   0.,   0.,   0.,   0.,\n",
       "           0.,   0.,   0.,   0.,   0.,   0., 100.,   0.,   0.,   0.,   0.,   0.,\n",
       "           0.,   0.,   0.,   0.,   0.,   0.,   0.,   0.,   0.,   0.,   0.,   0.,\n",
       "           0.,   0.,   0.,   0.,   0.,   0.,   0.,   0.,   0.,   0.,   0.,   0.,\n",
       "           0.,   0.,   0.,   0.,   0.,   0.,   0.,   0.,   0.,   0.,   0.,   0.,\n",
       "           0.,   0.,   0.,   0.,   0.,   0.,   0.,   0.,   0.,   0.,   0.,   0.,\n",
       "           0.,   0.,   0.,   0.,   0.,   0.,   0.,   0.,   0.,   0.,   0.,   0.,\n",
       "           0.,   0.,   0.,   0.,   0.,   0.,   0.,   0.,   0.,   0.,   0.,   0.,\n",
       "           0.,   0.,   0.,   0.,   0.,   0.,   0.,   0.,   0.,   0.,   0.,   0.,\n",
       "           0.,   0.,   0.,   0.,   0.,   0.,   0.,   0.,   0.,   0.,   0.,   0.,\n",
       "           0.,   0.,   0.,   0.,   0.,   0.,   0.,   0.,   0.,   0.,   0.,   0.,\n",
       "           0.,   0.,   0.,   0.,   0.,   0.,   0.,   0.,   0.,   0.,   0.,   0.,\n",
       "           0.,   0.,   0.,   0.,   0.,   0.,   0.,   0.,   0.,   0.,   0.,   0.,\n",
       "           0.,   0.,   0.,   0.,   0.,   0.,   0.,   0.,   0.,   0.,   0.,   0.,\n",
       "           0.,   0.,   0.,   0.,   0.,   0.,   0.,   0.,   0.,   0.,   0.,   0.,\n",
       "           0.,   0.,   0.,   0.,   0.,   0.,   0.,   0.,   0.,   0.,   0.,   0.,\n",
       "           0.,   0.,   0.,   0.,   0.,   0.,   0.,   0.,   0.,   0.,   0.,   0.,\n",
       "         100.,   0.,   0.,   0.,   0.,   0.,   0.,   0.,   0.,   0.,   0.,   0.,\n",
       "           0.,   0.,   0.,   0.,   0.,   0.,   0.,   0.,   0.,   0.,   0.,   0.,\n",
       "           0.,   0.,   0.,   0.,   0.,   0.,   0.,   0.,   0.,   0.,   0.,   0.,\n",
       "           0.,   0.,   0.,   0.,   0.,   0.,   0.,   0.,   0., 100.,   0.,   0.,\n",
       "           0.,   0.,   0.,   0.,   0.,   0.,   0.,   0.,   0.,   0.,   0.,   0.,\n",
       "           0.,   0.,   0.,   0.,   0.,   0.,   0.,   0.,   0.,   0.,   0.,   0.,\n",
       "           0.,   0.,   0.,   0.,   0.,   0.,   0.,   0.,   0.,   0.,   0.,   0.,\n",
       "           0.,   0.,   0.,   0.,   0.,   0.,   0.,   0.,   0.,   0.,   0.,   0.,\n",
       "           0.,   0.,   0.,   0.,   0.,   0.,   0., 100.,   0.,   0.,   0.,   0.,\n",
       "           0.,   0.,   0.,   0.,   0.,   0.,   0.,   0.,   0.,   0.,   0.,   0.,\n",
       "           0.,   0.,   0.,   0.,   0.,   0.,   0.,   0.,   0.,   0.,   0.,   0.,\n",
       "           0.,   0.,   0.,   0.,   0.,   0.,   0.,   0.,   0.,   0.,   0.,   0.,\n",
       "           0.,   0.,   0.,   0.,   0., 100.,   0.,   0.,   0.,   0.,   0.,   0.,\n",
       "           0.,   0.,   0.,   0.]),\n",
       " 'AD': tensor([96.2627, 70.1035, 89.5063, 95.0542, 97.2053, 96.5746, 93.8794, 48.7796,\n",
       "         94.6430, 94.4875, 94.2599, 89.2171, 95.4156, 96.1507, 20.7831, 11.7310,\n",
       "         95.1850, 32.2468, 96.9826, 82.9502, 90.2088, 90.6198, 96.6025, 98.3788,\n",
       "         47.8474, 95.4462, 31.9350, 95.7710, 83.4596, 89.1577, 97.7426, 94.4518,\n",
       "         98.8424, 90.0556, 95.2197, 99.0267, 98.4091, 98.3718, 99.2914, 15.6557,\n",
       "         90.5961, 46.3110, 89.2168, 92.1645, 96.8510, 86.9349,  5.1938, 42.1557,\n",
       "         91.1990, 98.8806, 21.3873, 88.3395, 23.0814, 77.7612,  0.0000, 80.5608,\n",
       "         94.1256, 58.2795, 21.7249, 89.4968, 74.4493, 97.2259, 96.7828, 97.6981,\n",
       "         97.3357, 98.2497, 98.8170, 97.2267, 94.0426, 98.9399, 96.3801, 92.0948,\n",
       "         98.3090, 11.8023,  6.9180,  3.2301, 97.5450, 78.6259, 79.7718, 15.1970,\n",
       "         10.3899, 96.3087, 98.7153, 92.4443, 34.7755, 77.1796, 94.8499, 96.8513,\n",
       "         87.4221, 20.2245, 93.2263, 29.4012, 97.8058, 98.0909, 99.2005, 26.8497,\n",
       "         97.6153, 56.5324, 95.0157, 95.1806, 83.2334,  8.7321, 98.1152, 98.0106,\n",
       "         88.4656, 82.5469, 87.7374, 14.0713, 79.5254, 16.0157, 98.1900, 96.8638,\n",
       "         57.1127,  8.3883, 17.0957, 59.1945, 37.7596, 88.3879, 63.7978, 97.1358,\n",
       "          6.4712, 97.9944, 41.6458, 30.1636, 76.8484, 62.5320, 92.6871, 66.0036,\n",
       "         25.0487, 33.8358, 62.1638, 32.7429,  9.3207, 91.0223, 67.6062, 99.0636,\n",
       "         25.3597, 40.7216, 23.9134, 78.7536, 99.0286, 98.7939, 37.2011, 14.3054,\n",
       "         77.4523, 88.9355, 85.3191, 29.7745, 32.7265, 80.0577, 16.7809, 96.3732,\n",
       "          0.7379, 41.9166, 75.0644, 85.9836, 93.6048, 96.7516, 28.8360, 79.7744,\n",
       "         97.6589, 29.6480,  3.5815, 97.4972,  7.8478,  5.9814, 92.7388, 88.3347,\n",
       "         92.2790, 98.5675, 98.7002, 96.8589, 82.6671, 97.6423, 96.9036, 73.0833,\n",
       "         89.7786, 88.4846, 97.0971, 55.2332, 85.9909, 76.0744, 45.4083, 97.5348,\n",
       "         56.6113, 69.9729, 44.1250,  1.9189, 16.5415, 97.5694, 98.6719, 58.4500,\n",
       "         89.7366, 82.6077, 20.1951, 99.1327, 13.1053, 66.7361,  4.6537, 94.4809,\n",
       "         88.7402, 46.4328, 98.4412, 47.8124, 90.4955, 77.4736, 88.8688, 90.2495,\n",
       "         92.6275, 95.7563, 15.8571,  4.1878, 98.4875, 97.3520,  7.2900, 98.5460,\n",
       "         98.5754,  6.9332, 26.4477, 81.5307, 95.0590, 95.4849, 99.0492, 69.4732,\n",
       "         74.0003, 50.3250, 54.8457, 22.9695, 97.8694, 98.3720, 98.2689,  2.0751,\n",
       "         96.8380, 85.2613, 59.2701, 66.8990, 29.1147, 11.2585, 99.4133, 72.5776,\n",
       "          0.0000, 72.9949, 44.1722, 40.2357,  4.9911, 67.1443, 77.9126, 58.4712,\n",
       "         66.8170, 96.6687, 97.4181, 95.8039, 92.6472, 98.5914, 97.9584, 98.9909,\n",
       "         98.7000, 99.3314, 95.6125, 97.2215, 93.0252, 46.5441, 90.8715, 93.2562,\n",
       "         96.0952, 89.8384, 51.2404, 97.7279, 90.0279, 91.9483, 94.2319, 96.5171,\n",
       "         97.8936, 93.9777, 78.6628, 83.8296, 89.7947, 77.9038, 97.6277, 97.2521,\n",
       "         98.2472, 51.0648, 90.6233, 96.0940, 56.1084,  0.0000, 12.1603, 72.6078,\n",
       "         97.6292, 87.0517,  2.1012, 83.4803, 37.2054,  7.8242, 81.1969, 95.2082,\n",
       "         95.0563, 93.2586, 96.8123, 98.7894, 22.7727, 46.9295, 88.4610, 87.9403,\n",
       "         95.1726, 97.0805, 97.8327, 86.5062, 89.6477, 94.3548, 81.0309, 91.7152,\n",
       "         16.6024, 30.3668, 25.8030, 88.4356, 69.4812, 67.4417, 31.6548, 85.9007,\n",
       "         33.7471, 85.4695, 98.4570, 31.6829, 13.0676, 98.0285, 94.2063, 98.2425,\n",
       "         77.5936, 78.9713, 94.8412, 73.4346, 98.4578, 44.2451, 56.9281, 99.2111,\n",
       "         69.9235, 37.0548, 67.5199, 49.9240, 81.6960, 98.5542, 24.7750,  0.0000,\n",
       "         93.5085, 40.2189, 42.5570,  2.0624,  0.3993, 94.8821, 87.5453, 61.6576,\n",
       "         82.4470, 96.4565, 97.9136, 71.3605, 31.4476, 49.1495, 24.4633, 63.9672,\n",
       "         50.1148, 25.7606, 54.9301, 55.8252,  4.5719, 97.7928, 82.8764, 52.4315,\n",
       "         98.4291,  0.9573, 90.6015, 95.4640, 27.5628, 98.5316, 95.6838, 45.3241,\n",
       "         70.4971, 98.4283, 21.0288, 97.5365, 97.2787, 97.3702, 95.0177,  1.0088,\n",
       "         93.1157, 90.3031, 89.1262, 99.0968, 98.9044,  0.0000, 62.8170, 73.9445,\n",
       "         85.3666,  2.2146, 37.9902, 13.1260,  2.2130, 89.0049, 82.4060, 29.4151]),\n",
       " 'AG': tensor([ 0.0000,  0.0000,  0.0000,  0.0000,  0.0000,  0.0000,  0.0000,  0.0000,\n",
       "          0.0000,  0.0000,  0.0000,  0.0000,  0.0000,  0.0000,  0.0000,  0.0000,\n",
       "          0.0000,  0.0000,  0.0000,  0.0000,  0.0000,  0.0000,  0.0000,  0.0000,\n",
       "          0.0000,  0.0000,  0.0000,  0.0000,  0.0000,  0.0000,  0.0000,  0.0000,\n",
       "          0.0000,  0.0000,  0.0000,  0.0000,  0.0000,  0.0000,  0.0000,  0.0000,\n",
       "          0.0000,  0.0000,  0.0000,  0.0000,  0.0000,  0.0000,  0.0000,  0.0000,\n",
       "          0.0000,  0.0000,  0.0000,  0.0000,  0.0000,  0.0000, 80.8671,  0.0000,\n",
       "          0.0000,  0.0000,  0.0000,  0.0000,  0.0000,  0.0000,  0.0000,  0.0000,\n",
       "          0.0000,  0.0000,  0.0000,  0.0000,  0.0000,  0.0000,  0.0000,  0.0000,\n",
       "          0.0000,  0.0000,  0.0000,  0.0000,  0.0000,  0.0000,  0.0000,  0.0000,\n",
       "          0.0000,  0.0000,  0.0000,  0.0000,  0.0000,  0.0000,  0.0000,  0.0000,\n",
       "          0.0000,  0.0000,  0.0000,  0.0000,  0.0000,  0.0000,  0.0000,  0.0000,\n",
       "          0.0000,  0.0000,  0.0000,  0.0000,  0.0000,  0.0000,  0.0000,  0.0000,\n",
       "          0.0000,  0.0000,  0.0000,  0.0000,  0.0000,  0.0000,  0.0000,  0.0000,\n",
       "          0.0000,  0.0000,  0.0000,  0.0000,  0.0000,  0.0000,  0.0000,  0.0000,\n",
       "          0.0000,  0.0000,  0.0000,  0.0000,  0.0000,  0.0000,  0.0000,  0.0000,\n",
       "          0.0000,  0.0000,  0.0000,  0.0000,  0.0000,  0.0000,  0.0000,  0.0000,\n",
       "          0.0000,  0.0000,  0.0000,  0.0000,  0.0000,  0.0000,  0.0000,  0.0000,\n",
       "          0.0000,  0.0000,  0.0000,  0.0000,  0.0000,  0.0000,  0.0000,  0.0000,\n",
       "          0.0000,  0.0000,  0.0000,  0.0000,  0.0000,  0.0000,  0.0000,  0.0000,\n",
       "          0.0000,  0.0000,  0.0000,  0.0000,  0.0000,  0.0000,  0.0000,  0.0000,\n",
       "          0.0000,  0.0000,  0.0000,  0.0000,  0.0000,  0.0000,  0.0000,  0.0000,\n",
       "          0.0000,  0.0000,  0.0000,  0.0000,  0.0000,  0.0000,  0.0000,  0.0000,\n",
       "          0.0000,  0.0000,  0.0000,  0.0000,  0.0000,  0.0000,  0.0000,  0.0000,\n",
       "          0.0000,  0.0000,  0.0000,  0.0000,  0.0000,  0.0000,  0.0000,  0.0000,\n",
       "          0.0000,  0.0000,  0.0000,  0.0000,  0.0000,  0.0000,  0.0000,  0.0000,\n",
       "          0.0000,  0.0000,  0.0000,  0.0000,  0.0000,  0.0000,  0.0000,  0.0000,\n",
       "          0.0000,  0.0000,  0.0000,  0.0000,  0.0000,  0.0000,  0.0000,  0.0000,\n",
       "          0.0000,  0.0000,  0.0000,  0.0000,  0.0000,  0.0000,  0.0000,  0.0000,\n",
       "          0.0000,  0.0000,  0.0000,  0.0000,  0.0000,  0.0000,  0.0000,  0.0000,\n",
       "         16.9199,  0.0000,  0.0000,  0.0000,  0.0000,  0.0000,  0.0000,  0.0000,\n",
       "          0.0000,  0.0000,  0.0000,  0.0000,  0.0000,  0.0000,  0.0000,  0.0000,\n",
       "          0.0000,  0.0000,  0.0000,  0.0000,  0.0000,  0.0000,  0.0000,  0.0000,\n",
       "          0.0000,  0.0000,  0.0000,  0.0000,  0.0000,  0.0000,  0.0000,  0.0000,\n",
       "          0.0000,  0.0000,  0.0000,  0.0000,  0.0000,  0.0000,  0.0000,  0.0000,\n",
       "          0.0000,  0.0000,  0.0000,  0.0000,  0.0000, 33.0695,  0.0000,  0.0000,\n",
       "          0.0000,  0.0000,  0.0000,  0.0000,  0.0000,  0.0000,  0.0000,  0.0000,\n",
       "          0.0000,  0.0000,  0.0000,  0.0000,  0.0000,  0.0000,  0.0000,  0.0000,\n",
       "          0.0000,  0.0000,  0.0000,  0.0000,  0.0000,  0.0000,  0.0000,  0.0000,\n",
       "          0.0000,  0.0000,  0.0000,  0.0000,  0.0000,  0.0000,  0.0000,  0.0000,\n",
       "          0.0000,  0.0000,  0.0000,  0.0000,  0.0000,  0.0000,  0.0000,  0.0000,\n",
       "          0.0000,  0.0000,  0.0000,  0.0000,  0.0000,  0.0000,  0.0000,  0.0000,\n",
       "          0.0000,  0.0000,  0.0000,  0.0000,  0.0000,  0.0000,  0.0000, 88.6474,\n",
       "          0.0000,  0.0000,  0.0000,  0.0000,  0.0000,  0.0000,  0.0000,  0.0000,\n",
       "          0.0000,  0.0000,  0.0000,  0.0000,  0.0000,  0.0000,  0.0000,  0.0000,\n",
       "          0.0000,  0.0000,  0.0000,  0.0000,  0.0000,  0.0000,  0.0000,  0.0000,\n",
       "          0.0000,  0.0000,  0.0000,  0.0000,  0.0000,  0.0000,  0.0000,  0.0000,\n",
       "          0.0000,  0.0000,  0.0000,  0.0000,  0.0000,  0.0000,  0.0000,  0.0000,\n",
       "          0.0000,  0.0000,  0.0000,  0.0000,  0.0000, 10.1245,  0.0000,  0.0000,\n",
       "          0.0000,  0.0000,  0.0000,  0.0000,  0.0000,  0.0000,  0.0000,  0.0000]),\n",
       " 'FidIn': tensor([0., 0., 0., 0., 0., 0., 0., 1., 0., 0., 0., 0., 0., 0., 1., 1., 0., 1.,\n",
       "         0., 0., 0., 0., 0., 0., 1., 0., 1., 0., 0., 0., 0., 0., 0., 0., 0., 0.,\n",
       "         0., 0., 0., 1., 0., 1., 0., 0., 0., 0., 1., 1., 0., 0., 1., 0., 0., 1.,\n",
       "         1., 0., 0., 1., 1., 0., 0., 0., 0., 0., 0., 0., 0., 0., 0., 0., 0., 0.,\n",
       "         0., 1., 1., 1., 0., 1., 1., 1., 1., 0., 0., 0., 1., 1., 0., 0., 0., 1.,\n",
       "         0., 1., 0., 0., 0., 1., 0., 1., 0., 0., 1., 1., 0., 0., 0., 1., 0., 1.,\n",
       "         0., 1., 0., 0., 1., 1., 1., 1., 1., 0., 1., 0., 1., 0., 1., 1., 0., 1.,\n",
       "         0., 1., 1., 1., 1., 1., 1., 0., 1., 0., 1., 1., 1., 1., 0., 0., 1., 1.,\n",
       "         0., 1., 1., 1., 1., 0., 1., 0., 1., 1., 1., 1., 0., 0., 1., 0., 0., 1.,\n",
       "         1., 0., 1., 1., 0., 1., 0., 0., 0., 0., 1., 0., 0., 0., 0., 0., 0., 1.,\n",
       "         1., 0., 1., 0., 1., 1., 1., 1., 1., 0., 0., 1., 0., 1., 1., 0., 1., 1.,\n",
       "         1., 0., 0., 1., 0., 1., 0., 1., 0., 1., 1., 0., 1., 1., 0., 0., 1., 0.,\n",
       "         0., 1., 1., 0., 0., 0., 0., 1., 1., 1., 1., 1., 0., 0., 0., 1., 0., 1.,\n",
       "         1., 1., 1., 1., 0., 1., 1., 1., 1., 1., 1., 1., 1., 1., 1., 0., 0., 0.,\n",
       "         0., 0., 0., 0., 0., 0., 0., 0., 0., 1., 0., 0., 0., 0., 1., 0., 0., 0.,\n",
       "         0., 0., 0., 0., 0., 0., 1., 1., 0., 0., 0., 1., 0., 0., 1., 1., 1., 1.,\n",
       "         0., 1., 1., 0., 1., 1., 1., 0., 1., 0., 0., 0., 1., 1., 0., 0., 0., 0.,\n",
       "         0., 1., 0., 0., 0., 0., 1., 1., 1., 0., 1., 1., 1., 0., 1., 0., 0., 1.,\n",
       "         1., 0., 0., 0., 1., 1., 0., 0., 0., 1., 1., 0., 1., 1., 1., 1., 1., 0.,\n",
       "         1., 1., 0., 1., 0., 1., 1., 0., 0., 0., 0., 0., 0., 1., 1., 1., 1., 1.,\n",
       "         1., 1., 1., 1., 1., 0., 0., 1., 0., 1., 0., 0., 1., 0., 0., 1., 1., 0.,\n",
       "         1., 0., 0., 0., 0., 1., 0., 0., 0., 0., 0., 1., 1., 0., 1., 1., 1., 1.,\n",
       "         1., 0., 1., 1.]),\n",
       " 'SPS': tensor([0.4908, 0.0000, 0.3885, 0.9346, 0.4961, 0.8584, 0.8716, 0.6595, 0.6573,\n",
       "         0.8635, 0.0000, 0.3856, 0.8728, 0.9238, 0.3481, 0.4428, 0.2716, 0.3959,\n",
       "         0.8658, 0.7499, 0.8744, 0.9117, 0.5873, 0.4768, 0.3047, 0.4389, 0.3173,\n",
       "         0.2980, 0.5036, 0.3007, 0.5622, 0.5326, 0.5331, 0.5472, 0.5473, 0.4348,\n",
       "         0.7544, 0.6549, 0.8030, 0.3992, 0.8266, 0.5707, 0.3081, 0.4400, 0.8716,\n",
       "         0.3850, 0.5435, 0.3434, 0.6163, 0.4891, 0.7356, 0.7135, 0.2891, 0.4460,\n",
       "         0.6631, 0.2431, 0.3536, 0.4235, 0.4947, 0.6922, 0.6303, 0.9572, 0.9171,\n",
       "         0.9189, 0.0000, 0.8943, 0.7363, 0.8303, 0.6145, 0.8232, 0.7984, 0.8163,\n",
       "         0.6532, 0.5264, 0.2792, 0.2508, 0.7700, 0.5102, 0.6155, 0.3820, 0.4176,\n",
       "         0.5976, 0.6208, 0.7250, 0.5736, 0.6028, 0.9455, 0.9136, 0.2981, 0.5343,\n",
       "         0.8816, 0.2025, 0.0000, 0.5544, 0.8928, 0.4605, 0.9458, 0.8009, 0.3016,\n",
       "         0.8655, 0.4583, 0.3461, 0.0000, 0.0000, 0.7342, 0.3582, 0.6158, 0.5635,\n",
       "         0.6244, 0.4619, 0.8842, 0.7870, 0.3680, 0.5173, 0.4231, 0.2625, 0.2609,\n",
       "         0.2961, 0.2244, 0.3051, 0.5207, 0.5331, 0.6049, 0.3326, 0.4019, 0.3406,\n",
       "         0.4263, 0.4525, 0.3292, 0.3659, 0.3811, 0.4693, 0.3447, 0.4740, 0.5711,\n",
       "         0.7597, 0.5330, 0.4221, 0.4499, 0.4568, 0.9181, 0.9455, 0.4788, 0.3168,\n",
       "         0.3382, 0.8080, 0.7885, 0.5682, 0.3476, 0.2475, 0.3339, 0.5998, 0.2657,\n",
       "         0.4619, 0.4612, 0.5689, 0.3401, 0.5866, 0.3712, 0.3072, 0.8163, 0.3111,\n",
       "         0.2333, 0.0000, 0.5077, 0.5246, 0.8727, 0.4010, 0.9456, 0.7358, 0.0000,\n",
       "         0.5479, 0.7232, 0.5404, 0.0000, 0.6353, 0.8089, 0.8752, 0.9455, 0.6491,\n",
       "         0.7260, 0.2587, 0.3335, 0.5900, 0.7163, 0.2649, 0.5363, 0.3580, 0.2243,\n",
       "         0.4259, 0.3731, 0.8645, 0.0000, 0.3607, 0.4806, 0.0000, 0.4573, 0.2817,\n",
       "         0.2116, 0.9572, 0.3651, 0.3288, 0.6981, 0.3636, 0.7298, 0.5577, 0.4976,\n",
       "         0.7773, 0.7927, 0.6734, 0.7087, 0.2622, 0.7613, 0.6695, 0.7021, 0.0000,\n",
       "         0.8163, 0.4758, 0.4662, 0.3835, 0.0000, 0.0000, 0.7359, 0.6597, 0.6149,\n",
       "         0.4172, 0.6141, 0.5657, 0.0000, 0.9150, 0.3171, 0.3042, 0.6694, 0.5820,\n",
       "         0.3424, 0.5741, 0.3604, 0.3076, 0.7124, 0.8673, 0.3475, 0.5421, 0.9455,\n",
       "         0.5959, 0.2364, 0.3389, 0.4229, 0.5632, 0.3553, 0.8312, 0.8665, 0.8893,\n",
       "         0.0000, 0.6881, 0.8333, 0.8081, 0.4119, 0.4127, 0.8482, 0.8424, 0.2660,\n",
       "         0.4528, 0.4074, 0.6557, 0.8081, 0.6282, 0.4593, 0.9170, 0.9454, 0.5985,\n",
       "         0.4263, 0.9572, 0.8365, 0.8408, 0.8073, 0.4973, 0.7608, 0.6790, 0.9458,\n",
       "         0.9229, 0.8987, 0.6362, 0.8805, 0.7686, 0.3062, 0.7136, 0.4796, 0.4272,\n",
       "         0.0000, 0.7037, 0.2221, 0.3633, 0.5854, 0.8158, 0.5049, 0.9458, 0.8634,\n",
       "         0.7131, 0.8727, 0.8396, 0.6456, 0.6409, 0.4137, 0.6643, 0.8533, 0.0000,\n",
       "         0.6890, 0.8346, 0.5404, 0.6014, 0.7409, 0.5652, 0.4150, 0.3624, 0.5585,\n",
       "         0.3683, 0.7979, 0.5796, 0.5098, 0.5406, 0.5730, 0.7141, 0.9458, 0.3655,\n",
       "         0.3930, 0.0000, 0.7503, 0.9453, 0.7808, 0.8140, 0.9161, 0.4692, 0.9393,\n",
       "         0.4005, 0.8154, 0.6936, 0.4988, 0.5415, 0.4147, 0.3494, 0.7684, 0.0000,\n",
       "         0.4958, 0.4621, 0.5725, 0.7349, 0.7180, 0.4675, 0.6069, 0.9194, 0.9454,\n",
       "         0.3152, 0.7836, 0.9455, 0.8544, 0.5787, 0.4642, 0.4949, 0.3700, 0.6368,\n",
       "         0.5662, 0.3439, 0.4664, 0.4771, 0.3790, 0.3549, 0.8507, 0.7524, 0.8772,\n",
       "         0.4641, 0.8167, 0.5074, 0.5957, 0.8830, 0.0000, 0.3336, 0.8657, 0.8291,\n",
       "         0.4650, 0.9043, 0.9059, 0.8942, 0.7038, 0.2988, 0.9572, 0.6614, 0.5845,\n",
       "         0.8477, 0.3557, 0.4750, 0.2884, 0.1817, 0.9162, 0.3322, 0.4648, 0.2979,\n",
       "         0.5120, 0.6346, 0.5478, 0.5643], dtype=torch.float64),\n",
       " 'COMP': tensor([ 9.9693,  0.0000, 10.1193,  7.9247,  9.9258,  8.5908,  8.5880,  9.5377,\n",
       "          9.5419,  8.5609,  0.0000, 10.1223,  8.5644,  8.0777, 10.1734, 10.0097,\n",
       "         10.2482, 10.0769,  8.5833,  9.2831,  8.4668,  8.1615,  9.7682,  9.8825,\n",
       "         10.1859, 10.0033, 10.1909, 10.1863,  9.8936, 10.2184,  9.8156,  9.8665,\n",
       "          9.8465,  9.8488,  9.8261, 10.0596,  9.2567,  9.5843,  9.0246, 10.1186,\n",
       "          8.8917,  9.7671, 10.1849, 10.0356,  8.5892, 10.0624,  9.8648, 10.1633,\n",
       "          9.6466,  9.9129,  9.2832,  9.4082, 10.2323, 10.0354,  9.5262, 10.2756,\n",
       "         10.1478, 10.0720,  9.9045,  9.4482,  9.6361,  7.4635,  8.1473,  8.1251,\n",
       "          0.0000,  8.3865,  9.2729,  8.8591,  9.6630,  8.9058,  9.0363,  8.9533,\n",
       "          9.5447,  9.8547, 10.2313, 10.2685,  9.2021,  9.8975,  9.6767, 10.1287,\n",
       "          9.9936,  9.7100,  9.6865,  9.3569,  9.7776,  9.6999,  7.7329,  8.1558,\n",
       "         10.2209,  9.8772,  8.4897, 10.3039,  0.0000,  9.8308,  8.4065, 10.0017,\n",
       "          7.7158,  9.0524, 10.2187,  8.6273, 10.0036, 10.1524,  0.0000,  0.0000,\n",
       "          9.2876, 10.1473,  9.6786,  9.7743,  9.5875,  9.9689,  8.5014,  9.0648,\n",
       "         10.1524,  9.8864, 10.0708, 10.2600, 10.2475, 10.1983, 10.2875, 10.2202,\n",
       "          9.9010,  9.8461,  9.7143, 10.1628, 10.0976, 10.1631, 10.0380, 10.0133,\n",
       "         10.1765, 10.1291, 10.0770,  9.9901, 10.1504,  9.9326,  9.7687,  9.2293,\n",
       "          9.8232, 10.0548,  9.9725,  9.9936,  8.1294,  7.7342,  9.9602, 10.1952,\n",
       "         10.1547,  8.9738,  9.0791,  9.7811, 10.1635, 10.2666, 10.1913,  9.7090,\n",
       "         10.2588, 10.0133, 10.0085,  9.7961, 10.1617,  9.7638, 10.1389, 10.2221,\n",
       "          8.9346, 10.2112, 10.2821,  0.0000,  9.8727,  9.8611,  8.5562, 10.1093,\n",
       "          7.7291,  9.3287,  0.0000,  9.8587,  9.3683,  9.7641,  0.0000,  9.6416,\n",
       "          8.9912,  8.5667,  7.7338,  9.5796,  9.3509, 10.2633, 10.1926,  9.7615,\n",
       "          9.3899, 10.2567,  9.8341, 10.1566, 10.2739, 10.0636, 10.1319,  8.6502,\n",
       "          0.0000, 10.1308,  9.9305,  0.0000,  9.9664, 10.2410, 10.2941,  7.4635,\n",
       "         10.1335, 10.1652,  9.4456, 10.1396,  9.3272,  9.8310,  9.8999,  9.1426,\n",
       "          9.0787,  9.4277,  9.4195, 10.2395,  9.2154,  9.4547,  9.3857,  0.0000,\n",
       "          8.8958,  9.9370,  9.9732, 10.1130,  0.0000,  0.0000,  9.2620,  9.5572,\n",
       "          9.6552, 10.0448,  9.6852,  9.7877,  0.0000,  8.2118, 10.2109, 10.2229,\n",
       "          9.4940,  9.7587, 10.1725,  9.7691, 10.1597, 10.2173,  9.2994,  8.5756,\n",
       "         10.1736,  9.8417,  7.7338,  9.7348, 10.2731, 10.1702, 10.0585,  9.8123,\n",
       "         10.1593,  8.8202,  8.5951,  8.3961,  0.0000,  9.4447,  8.7865,  8.9420,\n",
       "         10.0544, 10.0443,  8.6785,  8.7535, 10.1977, 10.0279, 10.0947,  9.5382,\n",
       "          8.9594,  9.6365,  9.9537,  8.1776,  7.7207,  9.6969, 10.0757,  7.4635,\n",
       "          8.8455,  8.7194,  8.9880,  9.9146,  9.1996,  9.5116,  7.7158,  8.0886,\n",
       "          8.3531,  9.6185,  8.4373,  9.1620, 10.2128,  9.3153,  9.9648,  9.9736,\n",
       "          0.0000,  9.3672, 10.2827, 10.1393,  9.7635,  8.9190,  9.8832,  7.7158,\n",
       "          8.5950,  9.4016,  8.5316,  8.7201,  9.5998,  9.6059, 10.0857,  9.5417,\n",
       "          8.7107,  0.0000,  9.4354,  8.8599,  9.8474,  9.6917,  9.2680,  9.7864,\n",
       "         10.0577, 10.0714,  9.8092, 10.1466,  9.0499,  9.7442,  9.8911,  9.8312,\n",
       "          9.7415,  9.4117,  7.7158, 10.1455, 10.0814,  0.0000,  9.2716,  7.7213,\n",
       "          9.0887,  8.9719,  8.1845,  9.9748,  7.8633, 10.0838,  8.9375,  9.4189,\n",
       "          9.8492,  9.7993, 10.0886, 10.1658,  9.1728,  0.0000,  9.9256, 10.0178,\n",
       "          9.7765,  9.3275,  9.3409,  9.9471,  9.6178,  8.0962,  7.7207, 10.2067,\n",
       "          9.0487,  7.7338,  8.6899,  9.7289,  9.9514,  9.9022, 10.1134,  9.5972,\n",
       "          9.7853, 10.1687,  9.9974,  9.9606, 10.0945, 10.1423,  8.7207,  9.2525,\n",
       "          8.4521,  9.9372,  8.9477,  9.8965,  9.7231,  8.4196,  0.0000, 10.1680,\n",
       "          8.4922,  8.8414,  9.9786,  8.2490,  8.2369,  8.3531,  9.4275, 10.2182,\n",
       "          7.4635,  9.5457,  9.7642,  8.7585, 10.1642,  9.9590, 10.2203, 10.3043,\n",
       "          8.1522, 10.1960,  9.9701, 10.1830,  9.8694,  9.6270,  9.8443,  9.7813],\n",
       "        dtype=torch.float64)}"
      ]
     },
     "execution_count": 21,
     "metadata": {},
     "output_type": "execute_result"
    }
   ],
   "source": [
    "results_gradcam"
   ]
  },
  {
   "cell_type": "code",
   "execution_count": 22,
   "metadata": {},
   "outputs": [
    {
     "name": "stdout",
     "output_type": "stream",
     "text": [
      "FF: 0.16692513227462769\n",
      "AI: 1.25\n",
      "AD: 69.28238677978516\n",
      "AG: 0.574070930480957\n",
      "FidIn: 0.46000000834465027\n",
      "SPS: 0.5565692111371114\n",
      "COMP: 9.01805729965233\n"
     ]
    }
   ],
   "source": [
    "for m in results_gradcam:\n",
    "    print(f\"{m}: {results_gradcam[m].nanmean().item()}\")"
   ]
  },
  {
   "cell_type": "code",
   "execution_count": null,
   "metadata": {},
   "outputs": [],
   "source": [
    "results_shap = predict_shap.predict_set(test_loader_predict)"
   ]
  },
  {
   "cell_type": "code",
   "execution_count": null,
   "metadata": {},
   "outputs": [],
   "source": [
    "results_shap"
   ]
  },
  {
   "cell_type": "code",
   "execution_count": null,
   "metadata": {},
   "outputs": [],
   "source": [
    "for m in results_shap:\n",
    "    print(f\"{m}: {results_shap[m].nanmean().item()}\")"
   ]
  },
  {
   "cell_type": "code",
   "execution_count": 18,
   "metadata": {},
   "outputs": [],
   "source": [
    "wav, SR = torchaudio.load(\"samples/crow.wav\")\n",
    "wav = torchaudio.functional.resample(wav, SR, sr)\n",
    "wav /= wav.abs().max()\n",
    "\n",
    "wav2, SR = torchaudio.load(\"samples/sea_waves.wav\")\n",
    "wav2 = torchaudio.functional.resample(wav2, SR, sr)\n",
    "wav2 /= wav2.abs().max()"
   ]
  },
  {
   "cell_type": "code",
   "execution_count": 19,
   "metadata": {},
   "outputs": [],
   "source": [
    "wavv = 0.8 * wav + 0.2 * wav2"
   ]
  },
  {
   "cell_type": "code",
   "execution_count": 20,
   "metadata": {},
   "outputs": [
    {
     "name": "stdout",
     "output_type": "stream",
     "text": [
      "Warning: melscale inversion is approximate\n",
      "Warning: melscale inversion is approximate\n",
      "Warning: melscale inversion is approximate\n"
     ]
    }
   ],
   "source": [
    "res_crow_shap_deep = predict_shap.predict(wav.to(device), \"crow_shap_deep\", sr)"
   ]
  },
  {
   "cell_type": "code",
   "execution_count": 21,
   "metadata": {},
   "outputs": [
    {
     "name": "stdout",
     "output_type": "stream",
     "text": [
      "Warning: melscale inversion is approximate\n",
      "Warning: melscale inversion is approximate\n",
      "Warning: melscale inversion is approximate\n"
     ]
    }
   ],
   "source": [
    "res_crow_sea_shap_deep = predict_shap.predict(wavv.to(device), \"crow_sea_shap_deep\", sr)"
   ]
  },
  {
   "cell_type": "code",
   "execution_count": 24,
   "metadata": {},
   "outputs": [
    {
     "ename": "NameError",
     "evalue": "name 'predict_gradcam' is not defined",
     "output_type": "error",
     "traceback": [
      "\u001b[0;31m---------------------------------------------------------------------------\u001b[0m",
      "\u001b[0;31mNameError\u001b[0m                                 Traceback (most recent call last)",
      "Cell \u001b[0;32mIn[24], line 1\u001b[0m\n\u001b[0;32m----> 1\u001b[0m res_crow_gc \u001b[38;5;241m=\u001b[39m \u001b[43mpredict_gradcam\u001b[49m\u001b[38;5;241m.\u001b[39mpredict(wav\u001b[38;5;241m.\u001b[39mto(device), \u001b[38;5;124m\"\u001b[39m\u001b[38;5;124mcrow_gradcam\u001b[39m\u001b[38;5;124m\"\u001b[39m, sr)\n",
      "\u001b[0;31mNameError\u001b[0m: name 'predict_gradcam' is not defined"
     ]
    }
   ],
   "source": [
    "res_crow_gc = predict_gradcam.predict(wav.to(device), \"crow_gradcam\", sr)"
   ]
  },
  {
   "cell_type": "code",
   "execution_count": 27,
   "metadata": {},
   "outputs": [
    {
     "data": {
      "text/plain": [
       "{'FF': tensor(-0.0148),\n",
       " 'AI': tensor(0.),\n",
       " 'AD': tensor(90.8557),\n",
       " 'AG': tensor(0.),\n",
       " 'FidIn': tensor([0.]),\n",
       " 'SPS': tensor([0.7648], dtype=torch.float64),\n",
       " 'COMP': tensor([9.1679], dtype=torch.float64)}"
      ]
     },
     "execution_count": 27,
     "metadata": {},
     "output_type": "execute_result"
    }
   ],
   "source": [
    "res_crow_gc"
   ]
  },
  {
   "cell_type": "code",
   "execution_count": 28,
   "metadata": {},
   "outputs": [
    {
     "name": "stdout",
     "output_type": "stream",
     "text": [
      "Warning: melscale inversion is approximate\n",
      "Warning: melscale inversion is approximate\n",
      "Warning: melscale inversion is approximate\n"
     ]
    }
   ],
   "source": [
    "res_crow_sea_gc = predict_gradcam.predict(wavv.to(device), \"crow_sea_gradcam\", sr)"
   ]
  },
  {
   "cell_type": "code",
   "execution_count": 29,
   "metadata": {},
   "outputs": [
    {
     "data": {
      "text/plain": [
       "{'FF': tensor(-0.0513),\n",
       " 'AI': tensor(100.),\n",
       " 'AD': tensor(0.),\n",
       " 'AG': tensor(17.3606),\n",
       " 'FidIn': tensor([1.]),\n",
       " 'SPS': tensor([0.4600], dtype=torch.float64),\n",
       " 'COMP': tensor([9.8925], dtype=torch.float64)}"
      ]
     },
     "execution_count": 29,
     "metadata": {},
     "output_type": "execute_result"
    }
   ],
   "source": [
    "res_crow_sea_gc"
   ]
  }
 ],
 "metadata": {
  "kernelspec": {
   "display_name": "env",
   "language": "python",
   "name": "python3"
  },
  "language_info": {
   "codemirror_mode": {
    "name": "ipython",
    "version": 3
   },
   "file_extension": ".py",
   "mimetype": "text/x-python",
   "name": "python",
   "nbconvert_exporter": "python",
   "pygments_lexer": "ipython3",
   "version": "3.12.3"
  }
 },
 "nbformat": 4,
 "nbformat_minor": 2
}
