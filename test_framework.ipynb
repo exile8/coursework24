{
 "cells": [
  {
   "cell_type": "markdown",
   "metadata": {},
   "source": [
    "# Run experiments"
   ]
  },
  {
   "cell_type": "code",
   "execution_count": 1,
   "metadata": {},
   "outputs": [
    {
     "name": "stderr",
     "output_type": "stream",
     "text": [
      "/home/yuliya/coursework24/env/lib/python3.12/site-packages/tqdm/auto.py:21: TqdmWarning: IProgress not found. Please update jupyter and ipywidgets. See https://ipywidgets.readthedocs.io/en/stable/user_install.html\n",
      "  from .autonotebook import tqdm as notebook_tqdm\n"
     ]
    }
   ],
   "source": [
    "from audiointerp.dataset.esc50 import ESC50dataset, ESC50contaminated\n",
    "from audiointerp.model.cnn14 import TransferCnn14\n",
    "from audiointerp.fit import Trainer\n",
    "from audiointerp.processing.spectrogram import LogMelSTFTSpectrogram\n",
    "from audiointerp.interpretation.saliency import SaliencyInterpreter\n",
    "from audiointerp.interpretation.gradcam import GradCAMInterpreter\n",
    "import torchaudio\n",
    "import torch.nn as nn\n",
    "import torch.optim as optim\n",
    "import torchaudio.transforms as T_audio\n",
    "import torchvision.transforms as T_vision\n",
    "import torch\n",
    "from torch.utils.data import DataLoader\n",
    "import matplotlib.pyplot as plt\n",
    "import random\n",
    "import numpy as np\n",
    "from IPython.display import Audio\n",
    "from audiointerp.predict import Predict\n",
    "from audiointerp.metrics import Metrics"
   ]
  },
  {
   "cell_type": "code",
   "execution_count": 2,
   "metadata": {},
   "outputs": [],
   "source": [
    "def plot_learning_curves(train_losses, val_losses, train_accs=None, val_accs=None):\n",
    "    epochs = range(1, len(train_losses) + 1)\n",
    "\n",
    "    plt.figure(figsize=(12, 5))\n",
    "\n",
    "    plt.subplot(1, 2, 1)\n",
    "    plt.plot(epochs, train_losses, label=\"Train Loss\")\n",
    "    if val_losses:\n",
    "        plt.plot(epochs, val_losses, label=\"Val Loss\")\n",
    "    plt.xlabel(\"Epoch\")\n",
    "    plt.ylabel(\"Loss\")\n",
    "    plt.title(\"Loss Curve\")\n",
    "    plt.legend()\n",
    "\n",
    "    plt.subplot(1, 2, 2)\n",
    "    if train_accs is not None:\n",
    "        plt.plot(epochs, train_accs, label=\"Train Acc\")\n",
    "    if val_accs is not None:\n",
    "        plt.plot(epochs, val_accs, label=\"Val Acc\")\n",
    "    plt.xlabel(\"Epoch\")\n",
    "    plt.ylabel(\"Accuracy\")\n",
    "    plt.title(\"Accuracy Curve\")\n",
    "    plt.legend()\n",
    "\n",
    "    plt.tight_layout()\n",
    "    plt.show()"
   ]
  },
  {
   "cell_type": "code",
   "execution_count": 3,
   "metadata": {},
   "outputs": [],
   "source": [
    "root_dir = \"/home/yuliya/ESC50\"\n",
    "sr = 32000\n",
    "train_folds = [1, 2, 3]\n",
    "valid_folds = [4]\n",
    "test_folds = [5]"
   ]
  },
  {
   "cell_type": "code",
   "execution_count": 4,
   "metadata": {},
   "outputs": [],
   "source": [
    "n_fft = 1024\n",
    "hop_length = 320\n",
    "win_length = 1024\n",
    "n_mels = 64\n",
    "f_min = 50\n",
    "f_max = 14000\n",
    "top_db = 80"
   ]
  },
  {
   "cell_type": "code",
   "execution_count": 5,
   "metadata": {},
   "outputs": [],
   "source": [
    "feature_extractor_fit = LogMelSTFTSpectrogram(\n",
    "    n_fft=n_fft, win_length=win_length, hop_length=hop_length,\n",
    "    sample_rate=sr, n_mels=n_mels, f_min=f_min, f_max=f_max, top_db=top_db,\n",
    "    return_phase=False, return_full_db=False\n",
    ")"
   ]
  },
  {
   "cell_type": "code",
   "execution_count": 6,
   "metadata": {},
   "outputs": [],
   "source": [
    "feature_extractor_predict = LogMelSTFTSpectrogram(\n",
    "    n_fft=n_fft, win_length=win_length, hop_length=hop_length,\n",
    "    sample_rate=sr, n_mels=n_mels, f_min=f_min, f_max=f_max, top_db=top_db,\n",
    "    return_phase=True, return_full_db=True\n",
    ")"
   ]
  },
  {
   "cell_type": "code",
   "execution_count": 7,
   "metadata": {},
   "outputs": [],
   "source": [
    "feature_augs = nn.Sequential(\n",
    "    T_audio.FrequencyMasking(20),\n",
    "    T_audio.TimeMasking(20)\n",
    ")"
   ]
  },
  {
   "cell_type": "code",
   "execution_count": 8,
   "metadata": {},
   "outputs": [],
   "source": [
    "train_data = ESC50dataset(root_dir=root_dir, sr=sr, folds=train_folds, normalize=\"peak\", feature_extractor=feature_extractor_fit, feature_augs=feature_augs)\n",
    "valid_data = ESC50dataset(root_dir=root_dir, sr=sr, folds=valid_folds, normalize=\"peak\", feature_extractor=feature_extractor_fit)\n",
    "test_data = ESC50dataset(root_dir=root_dir, sr=sr, folds=test_folds, normalize=\"peak\", feature_extractor=feature_extractor_fit)\n",
    "test_data_noisy = ESC50contaminated(root_dir=root_dir, sr=sr, folds=test_folds, normalize=\"peak\", feature_extractor=feature_extractor_fit,\n",
    "                                    path_to_contaminating_audio=\"samples/sea_waves.wav\")"
   ]
  },
  {
   "cell_type": "code",
   "execution_count": 9,
   "metadata": {},
   "outputs": [],
   "source": [
    "train_loader_kwargs = {\"batch_size\": 32, \"shuffle\": True}\n",
    "valid_loader_kwargs = {\"batch_size\": 32, \"shuffle\": False}\n",
    "test_loader_kwargs = {\"batch_size\": 32, \"shuffle\": False}"
   ]
  },
  {
   "cell_type": "code",
   "execution_count": 10,
   "metadata": {},
   "outputs": [],
   "source": [
    "device = torch.device(\"cuda\" if torch.cuda.is_available() else \"cpu\")\n",
    "model_cls = TransferCnn14\n",
    "model_kwargs = {\"num_classes\": 50, \"num_bins\": 64}\n",
    "model_pretrain_weights_path = \"weights/Cnn14_mAP=0.431.pth\"\n",
    "\n",
    "optimizer_cls = optim.Adam\n",
    "optimizer_kwargs = {\"lr\": 1e-4}\n",
    "\n",
    "criterion_cls = nn.CrossEntropyLoss\n",
    "use_mixup = True\n",
    "mixup_alpha = 0.2"
   ]
  },
  {
   "cell_type": "code",
   "execution_count": 11,
   "metadata": {},
   "outputs": [
    {
     "name": "stdout",
     "output_type": "stream",
     "text": [
      "Random seed set to: 42\n"
     ]
    }
   ],
   "source": [
    "model_trainer = Trainer(\n",
    "    model_cls=model_cls,\n",
    "    train_data=train_data,\n",
    "    train_loader_kwargs=train_loader_kwargs,\n",
    "    criterion_cls=criterion_cls,\n",
    "    optimizer_cls=optimizer_cls,\n",
    "    model_kwargs=model_kwargs,\n",
    "    model_pretrain_weights_path=model_pretrain_weights_path,\n",
    "    optimizer_kwargs=optimizer_kwargs,\n",
    "    device=device,\n",
    "    valid_data=valid_data,\n",
    "    valid_loader_kwargs=valid_loader_kwargs,\n",
    "    test_data=test_data,\n",
    "    test_loader_kwargs=test_loader_kwargs,\n",
    "    use_mixup=use_mixup,\n",
    "    mixup_alpha=mixup_alpha\n",
    ")"
   ]
  },
  {
   "cell_type": "code",
   "execution_count": 25,
   "metadata": {},
   "outputs": [
    {
     "name": "stderr",
     "output_type": "stream",
     "text": [
      "Epoch:   5%|▌         | 1/20 [00:48<15:25, 48.73s/it]"
     ]
    },
    {
     "name": "stdout",
     "output_type": "stream",
     "text": [
      "Train Loss: 3.8838, Train Acc: 0.0443\n",
      "Valid Loss: 3.7438, Valid Acc: 0.1550\n"
     ]
    },
    {
     "name": "stderr",
     "output_type": "stream",
     "text": [
      "Epoch:  10%|█         | 2/20 [01:49<16:40, 55.58s/it]"
     ]
    },
    {
     "name": "stdout",
     "output_type": "stream",
     "text": [
      "Train Loss: 3.6654, Train Acc: 0.1361\n",
      "Valid Loss: 3.3127, Valid Acc: 0.5200\n"
     ]
    },
    {
     "name": "stderr",
     "output_type": "stream",
     "text": [
      "Epoch:  15%|█▌        | 3/20 [02:52<16:41, 58.93s/it]"
     ]
    },
    {
     "name": "stdout",
     "output_type": "stream",
     "text": [
      "Train Loss: 3.0176, Train Acc: 0.3261\n",
      "Valid Loss: 1.9327, Valid Acc: 0.7150\n"
     ]
    },
    {
     "name": "stderr",
     "output_type": "stream",
     "text": [
      "Epoch:  20%|██        | 4/20 [03:53<16:00, 60.01s/it]"
     ]
    },
    {
     "name": "stdout",
     "output_type": "stream",
     "text": [
      "Train Loss: 2.1878, Train Acc: 0.4690\n",
      "Valid Loss: 0.9843, Valid Acc: 0.8175\n"
     ]
    },
    {
     "name": "stderr",
     "output_type": "stream",
     "text": [
      "Epoch:  25%|██▌       | 5/20 [04:56<15:17, 61.16s/it]"
     ]
    },
    {
     "name": "stdout",
     "output_type": "stream",
     "text": [
      "Train Loss: 1.6977, Train Acc: 0.5879\n",
      "Valid Loss: 0.6061, Valid Acc: 0.8750\n"
     ]
    },
    {
     "name": "stderr",
     "output_type": "stream",
     "text": [
      "Epoch:  30%|███       | 6/20 [05:59<14:23, 61.70s/it]"
     ]
    },
    {
     "name": "stdout",
     "output_type": "stream",
     "text": [
      "Train Loss: 1.3186, Train Acc: 0.6975\n",
      "Valid Loss: 0.4878, Valid Acc: 0.8950\n"
     ]
    },
    {
     "name": "stderr",
     "output_type": "stream",
     "text": [
      "Epoch:  35%|███▌      | 7/20 [07:02<13:27, 62.11s/it]"
     ]
    },
    {
     "name": "stdout",
     "output_type": "stream",
     "text": [
      "Train Loss: 1.2357, Train Acc: 0.7573\n",
      "Valid Loss: 0.4353, Valid Acc: 0.9050\n"
     ]
    },
    {
     "name": "stderr",
     "output_type": "stream",
     "text": [
      "Epoch:  40%|████      | 8/20 [08:05<12:29, 62.42s/it]"
     ]
    },
    {
     "name": "stdout",
     "output_type": "stream",
     "text": [
      "Train Loss: 1.2417, Train Acc: 0.7562\n",
      "Valid Loss: 0.4052, Valid Acc: 0.9150\n"
     ]
    },
    {
     "name": "stderr",
     "output_type": "stream",
     "text": [
      "Epoch:  45%|████▌     | 9/20 [09:09<11:29, 62.71s/it]"
     ]
    },
    {
     "name": "stdout",
     "output_type": "stream",
     "text": [
      "Train Loss: 0.9597, Train Acc: 0.8132\n",
      "Valid Loss: 0.3229, Valid Acc: 0.9275\n"
     ]
    },
    {
     "name": "stderr",
     "output_type": "stream",
     "text": [
      "Epoch:  50%|█████     | 10/20 [10:11<10:27, 62.71s/it]"
     ]
    },
    {
     "name": "stdout",
     "output_type": "stream",
     "text": [
      "Train Loss: 1.1448, Train Acc: 0.7768\n",
      "Valid Loss: 0.3407, Valid Acc: 0.9250\n"
     ]
    },
    {
     "name": "stderr",
     "output_type": "stream",
     "text": [
      "Epoch:  55%|█████▌    | 11/20 [11:14<09:24, 62.74s/it]"
     ]
    },
    {
     "name": "stdout",
     "output_type": "stream",
     "text": [
      "Train Loss: 1.1409, Train Acc: 0.7646\n",
      "Valid Loss: 0.3313, Valid Acc: 0.9175\n"
     ]
    },
    {
     "name": "stderr",
     "output_type": "stream",
     "text": [
      "Epoch:  60%|██████    | 12/20 [12:15<08:18, 62.31s/it]"
     ]
    },
    {
     "name": "stdout",
     "output_type": "stream",
     "text": [
      "Train Loss: 0.9219, Train Acc: 0.8162\n",
      "Valid Loss: 0.2994, Valid Acc: 0.9275\n"
     ]
    },
    {
     "name": "stderr",
     "output_type": "stream",
     "text": [
      "Epoch:  65%|██████▌   | 13/20 [13:18<07:17, 62.50s/it]"
     ]
    },
    {
     "name": "stdout",
     "output_type": "stream",
     "text": [
      "Train Loss: 0.8704, Train Acc: 0.8341\n",
      "Valid Loss: 0.2904, Valid Acc: 0.9300\n"
     ]
    },
    {
     "name": "stderr",
     "output_type": "stream",
     "text": [
      "Epoch:  70%|███████   | 14/20 [14:21<06:15, 62.60s/it]"
     ]
    },
    {
     "name": "stdout",
     "output_type": "stream",
     "text": [
      "Train Loss: 0.9663, Train Acc: 0.8240\n",
      "Valid Loss: 0.2938, Valid Acc: 0.9225\n"
     ]
    },
    {
     "name": "stderr",
     "output_type": "stream",
     "text": [
      "Epoch:  75%|███████▌  | 15/20 [15:24<05:13, 62.60s/it]"
     ]
    },
    {
     "name": "stdout",
     "output_type": "stream",
     "text": [
      "Train Loss: 0.9562, Train Acc: 0.8280\n",
      "Valid Loss: 0.2881, Valid Acc: 0.9275\n"
     ]
    },
    {
     "name": "stderr",
     "output_type": "stream",
     "text": [
      "Epoch:  80%|████████  | 16/20 [16:27<04:10, 62.69s/it]"
     ]
    },
    {
     "name": "stdout",
     "output_type": "stream",
     "text": [
      "Train Loss: 0.8694, Train Acc: 0.8397\n",
      "Valid Loss: 0.2982, Valid Acc: 0.9300\n"
     ]
    },
    {
     "name": "stderr",
     "output_type": "stream",
     "text": [
      "Epoch:  85%|████████▌ | 17/20 [17:29<03:08, 62.67s/it]"
     ]
    },
    {
     "name": "stdout",
     "output_type": "stream",
     "text": [
      "Train Loss: 0.9712, Train Acc: 0.8397\n",
      "Valid Loss: 0.3077, Valid Acc: 0.9350\n"
     ]
    },
    {
     "name": "stderr",
     "output_type": "stream",
     "text": [
      "Epoch:  90%|█████████ | 18/20 [18:32<02:05, 62.74s/it]"
     ]
    },
    {
     "name": "stdout",
     "output_type": "stream",
     "text": [
      "Train Loss: 0.8365, Train Acc: 0.8515\n",
      "Valid Loss: 0.2787, Valid Acc: 0.9300\n"
     ]
    },
    {
     "name": "stderr",
     "output_type": "stream",
     "text": [
      "Epoch:  95%|█████████▌| 19/20 [19:33<01:02, 62.31s/it]"
     ]
    },
    {
     "name": "stdout",
     "output_type": "stream",
     "text": [
      "Train Loss: 1.1698, Train Acc: 0.7815\n",
      "Valid Loss: 0.3075, Valid Acc: 0.9300\n"
     ]
    },
    {
     "name": "stderr",
     "output_type": "stream",
     "text": [
      "Epoch: 100%|██████████| 20/20 [20:36<00:00, 61.85s/it]\n"
     ]
    },
    {
     "name": "stdout",
     "output_type": "stream",
     "text": [
      "Train Loss: 0.8988, Train Acc: 0.8353\n",
      "Valid Loss: 0.2837, Valid Acc: 0.9325\n",
      "Best val Acc: 0.9350\n",
      "Модель сохранена в logmel_cnn14.pth\n",
      "Test Loss: 0.3285, Test Acc: 0.9175\n"
     ]
    }
   ],
   "source": [
    "train_losses, train_accs, val_losses, val_accs, test_loss, test_acc = model_trainer.train(num_epochs=20, save_weights_path=\"logmel_cnn14.pth\")"
   ]
  },
  {
   "cell_type": "code",
   "execution_count": 26,
   "metadata": {},
   "outputs": [
    {
     "data": {
      "image/png": "[encoded data removed]",
      "text/plain": [
       "<Figure size 1200x500 with 2 Axes>"
      ]
     },
     "metadata": {},
     "output_type": "display_data"
    }
   ],
   "source": [
    "plot_learning_curves(train_losses=train_losses, train_accs=train_accs, val_losses=val_losses, val_accs=val_accs)"
   ]
  },
  {
   "cell_type": "code",
   "execution_count": 12,
   "metadata": {},
   "outputs": [
    {
     "data": {
      "text/plain": [
       "<All keys matched successfully>"
      ]
     },
     "execution_count": 12,
     "metadata": {},
     "output_type": "execute_result"
    }
   ],
   "source": [
    "model_trainer.model.load_state_dict(torch.load(\"logmel_cnn14.pth\"))"
   ]
  },
  {
   "cell_type": "code",
   "execution_count": 13,
   "metadata": {},
   "outputs": [
    {
     "name": "stdout",
     "output_type": "stream",
     "text": [
      "Test Loss: 0.3285, Test Acc: 0.9175\n"
     ]
    },
    {
     "data": {
      "text/plain": [
       "(0.32851228475570676, 0.9175)"
      ]
     },
     "execution_count": 13,
     "metadata": {},
     "output_type": "execute_result"
    }
   ],
   "source": [
    "model_trainer.test()"
   ]
  },
  {
   "cell_type": "code",
   "execution_count": 14,
   "metadata": {},
   "outputs": [],
   "source": [
    "test_loader_noisy = DataLoader(test_data_noisy, **test_loader_kwargs)"
   ]
  },
  {
   "cell_type": "code",
   "execution_count": 15,
   "metadata": {},
   "outputs": [
    {
     "name": "stdout",
     "output_type": "stream",
     "text": [
      "Test Loss: 1.5115, Test Acc: 0.6075\n"
     ]
    },
    {
     "data": {
      "text/plain": [
       "(1.5115180492401123, 0.6075)"
      ]
     },
     "execution_count": 15,
     "metadata": {},
     "output_type": "execute_result"
    }
   ],
   "source": [
    "model_trainer.test(test_loader_noisy)"
   ]
  },
  {
   "cell_type": "code",
   "execution_count": 17,
   "metadata": {},
   "outputs": [
    {
     "data": {
      "text/plain": [
       "TransferCnn14(\n",
       "  (base): Cnn14(\n",
       "    (bn0): BatchNorm2d(64, eps=1e-05, momentum=0.1, affine=True, track_running_stats=True)\n",
       "    (conv_block1): ConvBlock(\n",
       "      (conv1): Conv2d(1, 64, kernel_size=(3, 3), stride=(1, 1), padding=(1, 1), bias=False)\n",
       "      (conv2): Conv2d(64, 64, kernel_size=(3, 3), stride=(1, 1), padding=(1, 1), bias=False)\n",
       "      (bn1): BatchNorm2d(64, eps=1e-05, momentum=0.1, affine=True, track_running_stats=True)\n",
       "      (bn2): BatchNorm2d(64, eps=1e-05, momentum=0.1, affine=True, track_running_stats=True)\n",
       "    )\n",
       "    (conv_block2): ConvBlock(\n",
       "      (conv1): Conv2d(64, 128, kernel_size=(3, 3), stride=(1, 1), padding=(1, 1), bias=False)\n",
       "      (conv2): Conv2d(128, 128, kernel_size=(3, 3), stride=(1, 1), padding=(1, 1), bias=False)\n",
       "      (bn1): BatchNorm2d(128, eps=1e-05, momentum=0.1, affine=True, track_running_stats=True)\n",
       "      (bn2): BatchNorm2d(128, eps=1e-05, momentum=0.1, affine=True, track_running_stats=True)\n",
       "    )\n",
       "    (conv_block3): ConvBlock(\n",
       "      (conv1): Conv2d(128, 256, kernel_size=(3, 3), stride=(1, 1), padding=(1, 1), bias=False)\n",
       "      (conv2): Conv2d(256, 256, kernel_size=(3, 3), stride=(1, 1), padding=(1, 1), bias=False)\n",
       "      (bn1): BatchNorm2d(256, eps=1e-05, momentum=0.1, affine=True, track_running_stats=True)\n",
       "      (bn2): BatchNorm2d(256, eps=1e-05, momentum=0.1, affine=True, track_running_stats=True)\n",
       "    )\n",
       "    (conv_block4): ConvBlock(\n",
       "      (conv1): Conv2d(256, 512, kernel_size=(3, 3), stride=(1, 1), padding=(1, 1), bias=False)\n",
       "      (conv2): Conv2d(512, 512, kernel_size=(3, 3), stride=(1, 1), padding=(1, 1), bias=False)\n",
       "      (bn1): BatchNorm2d(512, eps=1e-05, momentum=0.1, affine=True, track_running_stats=True)\n",
       "      (bn2): BatchNorm2d(512, eps=1e-05, momentum=0.1, affine=True, track_running_stats=True)\n",
       "    )\n",
       "    (conv_block5): ConvBlock(\n",
       "      (conv1): Conv2d(512, 1024, kernel_size=(3, 3), stride=(1, 1), padding=(1, 1), bias=False)\n",
       "      (conv2): Conv2d(1024, 1024, kernel_size=(3, 3), stride=(1, 1), padding=(1, 1), bias=False)\n",
       "      (bn1): BatchNorm2d(1024, eps=1e-05, momentum=0.1, affine=True, track_running_stats=True)\n",
       "      (bn2): BatchNorm2d(1024, eps=1e-05, momentum=0.1, affine=True, track_running_stats=True)\n",
       "    )\n",
       "    (conv_block6): ConvBlock(\n",
       "      (conv1): Conv2d(1024, 2048, kernel_size=(3, 3), stride=(1, 1), padding=(1, 1), bias=False)\n",
       "      (conv2): Conv2d(2048, 2048, kernel_size=(3, 3), stride=(1, 1), padding=(1, 1), bias=False)\n",
       "      (bn1): BatchNorm2d(2048, eps=1e-05, momentum=0.1, affine=True, track_running_stats=True)\n",
       "      (bn2): BatchNorm2d(2048, eps=1e-05, momentum=0.1, affine=True, track_running_stats=True)\n",
       "    )\n",
       "    (fc1): Linear(in_features=2048, out_features=2048, bias=True)\n",
       "  )\n",
       "  (classifier): Linear(in_features=2048, out_features=50, bias=True)\n",
       ")"
      ]
     },
     "execution_count": 17,
     "metadata": {},
     "output_type": "execute_result"
    }
   ],
   "source": [
    "model = model_trainer.model\n",
    "model"
   ]
  },
  {
   "cell_type": "markdown",
   "metadata": {},
   "source": [
    "___"
   ]
  },
  {
   "cell_type": "code",
   "execution_count": 19,
   "metadata": {},
   "outputs": [],
   "source": [
    "test_data_predict = ESC50dataset(root_dir=root_dir, sr=sr, folds=test_folds, normalize=\"peak\")\n",
    "test_loader_predict = DataLoader(test_data_predict, batch_size=1, shuffle=False)"
   ]
  },
  {
   "cell_type": "code",
   "execution_count": 20,
   "metadata": {},
   "outputs": [],
   "source": [
    "test_data_noisy_predict = ESC50contaminated(root_dir=root_dir, sr=sr, folds=test_folds, normalize=\"peak\", path_to_contaminating_audio=\"samples/sea_waves.wav\")\n",
    "test_loader_noisy_predict = DataLoader(test_data_noisy_predict, batch_size=1, shuffle=False)"
   ]
  },
  {
   "cell_type": "code",
   "execution_count": 21,
   "metadata": {},
   "outputs": [],
   "source": [
    "predict_saliency = Predict(model, feature_extractor_predict, interp_method_cls=SaliencyInterpreter, interp_method_kwargs={}, device=device)\n",
    "predict_gradcam = Predict(model, feature_extractor_predict, interp_method_cls=GradCAMInterpreter, interp_method_kwargs={\"target_layers\": [model.base.conv_block6.conv2]}, device=device)"
   ]
  },
  {
   "cell_type": "code",
   "execution_count": 22,
   "metadata": {},
   "outputs": [
    {
     "name": "stdout",
     "output_type": "stream",
     "text": [
      "Results saved as results/saliency_clean.csv\n"
     ]
    }
   ],
   "source": [
    "results_saliency = predict_saliency.predict_set(test_loader_predict, 'saliency_clean.csv')"
   ]
  },
  {
   "cell_type": "code",
   "execution_count": 23,
   "metadata": {},
   "outputs": [
    {
     "data": {
      "application/vnd.microsoft.datawrangler.viewer.v0+json": {
       "columns": [
        {
         "name": "index",
         "rawType": "int64",
         "type": "integer"
        },
        {
         "name": "FF",
         "rawType": "float32",
         "type": "float"
        },
        {
         "name": "AI",
         "rawType": "float32",
         "type": "float"
        },
        {
         "name": "AD",
         "rawType": "float32",
         "type": "float"
        },
        {
         "name": "AG",
         "rawType": "float32",
         "type": "float"
        },
        {
         "name": "FidIn",
         "rawType": "float32",
         "type": "float"
        },
        {
         "name": "SPS",
         "rawType": "float64",
         "type": "float"
        },
        {
         "name": "COMP",
         "rawType": "float64",
         "type": "float"
        }
       ],
       "conversionMethod": "pd.DataFrame",
       "ref": "0aa9d5b7-134d-45d3-9610-3915867789fb",
       "rows": [
        [
         "0",
         "0.80775994",
         "0.0",
         "98.17637",
         "0.0",
         "0.0",
         "0.7674749987538763",
         "9.172154940869923"
        ],
        [
         "1",
         "0.005460851",
         "0.0",
         "22.82156",
         "0.0",
         "0.0",
         "0.8876930676662932",
         "8.472346175949859"
        ],
        [
         "2",
         "0.45550016",
         "0.0",
         "88.76905",
         "0.0",
         "0.0",
         "0.8650118296740784",
         "8.645321141978446"
        ],
        [
         "3",
         "0.44958824",
         "0.0",
         "93.00748",
         "0.0",
         "0.0",
         "0.9177076261516477",
         "8.10376481523124"
        ],
        [
         "4",
         "0.74769163",
         "0.0",
         "96.72439",
         "0.0",
         "0.0",
         "0.7782827001367797",
         "9.126100769613892"
        ],
        [
         "5",
         "0.45447823",
         "0.0",
         "94.73327",
         "0.0",
         "0.0",
         "0.9337243890905699",
         "7.83152443538032"
        ],
        [
         "6",
         "0.49899167",
         "0.0",
         "98.00404",
         "0.0",
         "0.0",
         "0.7805155114995428",
         "9.126462495928505"
        ],
        [
         "7",
         "0.28365767",
         "0.0",
         "99.45198",
         "0.0",
         "0.0",
         "0.7663674989010593",
         "9.189060453308246"
        ],
        [
         "8",
         "0.58357143",
         "0.0",
         "98.57505",
         "0.0",
         "0.0",
         "0.7876723337127823",
         "9.091068872496436"
        ],
        [
         "9",
         "0.33777276",
         "0.0",
         "82.542656",
         "0.0",
         "0.0",
         "0.9182307537257581",
         "8.095887990546807"
        ],
        [
         "10",
         "0.7043891",
         "0.0",
         "79.59381",
         "0.0",
         "1.0",
         "0.7522029179153387",
         "9.243573448268176"
        ],
        [
         "11",
         "0.9458624",
         "0.0",
         "98.879555",
         "0.0",
         "0.0",
         "0.7654643972236179",
         "9.184405457708126"
        ],
        [
         "12",
         "0.86521363",
         "0.0",
         "98.21721",
         "0.0",
         "0.0",
         "0.8034263917454212",
         "8.993583659864655"
        ],
        [
         "13",
         "0.63285697",
         "0.0",
         "99.523285",
         "0.0",
         "0.0",
         "0.773637182033736",
         "9.14918401559207"
        ],
        [
         "14",
         "0.5146472",
         "0.0",
         "98.97116",
         "0.0",
         "0.0",
         "0.756726880465188",
         "9.218850249343873"
        ],
        [
         "15",
         "0.9220367",
         "0.0",
         "99.7348",
         "0.0",
         "0.0",
         "0.7748152865331522",
         "9.15080213799801"
        ],
        [
         "16",
         "0.25612313",
         "0.0",
         "98.6734",
         "0.0",
         "0.0",
         "0.7523686193402617",
         "9.238391990915773"
        ],
        [
         "17",
         "0.9049929",
         "0.0",
         "98.648224",
         "0.0",
         "0.0",
         "0.7731215413649876",
         "9.158717368696378"
        ],
        [
         "18",
         "0.7431529",
         "0.0",
         "98.26267",
         "0.0",
         "0.0",
         "0.7705042731239358",
         "9.159580344019147"
        ],
        [
         "19",
         "0.3594753",
         "0.0",
         "76.56245",
         "0.0",
         "0.0",
         "0.8017017940692575",
         "8.99945398196264"
        ],
        [
         "20",
         "0.2253538",
         "0.0",
         "95.01904",
         "0.0",
         "0.0",
         "0.8161248022602413",
         "8.886100649524268"
        ],
        [
         "21",
         "0.5449171",
         "0.0",
         "90.17106",
         "0.0",
         "0.0",
         "0.7744742398800987",
         "9.139121182737677"
        ],
        [
         "22",
         "0.91084313",
         "0.0",
         "99.5577",
         "0.0",
         "0.0",
         "0.7885933463209557",
         "9.07546773883797"
        ],
        [
         "23",
         "0.95632213",
         "0.0",
         "93.38516",
         "0.0",
         "0.0",
         "0.7735004488970499",
         "9.151726134141926"
        ],
        [
         "24",
         "0.72189105",
         "0.0",
         "96.237656",
         "0.0",
         "0.0",
         "0.7789976870118577",
         "9.11571230799544"
        ],
        [
         "25",
         "0.94037396",
         "0.0",
         "96.328606",
         "0.0",
         "0.0",
         "0.7492548978816317",
         "9.25471381526667"
        ],
        [
         "26",
         "0.8182485",
         "0.0",
         "94.485245",
         "0.0",
         "0.0",
         "0.7591547823090651",
         "9.206981858392536"
        ],
        [
         "27",
         "0.84641033",
         "0.0",
         "98.802734",
         "0.0",
         "0.0",
         "0.7503752864825629",
         "9.251446652227532"
        ],
        [
         "28",
         "0.26180565",
         "0.0",
         "62.884666",
         "0.0",
         "0.0",
         "0.7635468949731027",
         "9.190716118751453"
        ],
        [
         "29",
         "0.26158258",
         "0.0",
         "53.09586",
         "0.0",
         "0.0",
         "0.7566649576984891",
         "9.221478119916327"
        ],
        [
         "30",
         "0.65976113",
         "0.0",
         "99.56938",
         "0.0",
         "0.0",
         "0.7602303735891053",
         "9.209693363355658"
        ],
        [
         "31",
         "0.6358999",
         "0.0",
         "98.93356",
         "0.0",
         "0.0",
         "0.7746070850040322",
         "9.142404327142872"
        ],
        [
         "32",
         "0.91128695",
         "0.0",
         "99.233665",
         "0.0",
         "0.0",
         "0.753241040763469",
         "9.240245993287765"
        ],
        [
         "33",
         "0.90476817",
         "0.0",
         "99.27233",
         "0.0",
         "0.0",
         "0.7629189934726741",
         "9.20176385687696"
        ],
        [
         "34",
         "0.80267435",
         "0.0",
         "99.13946",
         "0.0",
         "0.0",
         "0.7649176733451143",
         "9.186749625447012"
        ],
        [
         "35",
         "0.739897",
         "0.0",
         "98.94123",
         "0.0",
         "0.0",
         "0.7709798416588504",
         "9.169674460741696"
        ],
        [
         "36",
         "0.5977941",
         "0.0",
         "99.53057",
         "0.0",
         "0.0",
         "0.7536295692578803",
         "9.23919669986131"
        ],
        [
         "37",
         "0.9444507",
         "0.0",
         "99.18017",
         "0.0",
         "0.0",
         "0.762259797084635",
         "9.203316878917747"
        ],
        [
         "38",
         "0.87991613",
         "0.0",
         "98.85672",
         "0.0",
         "0.0",
         "0.7628924694863339",
         "9.205048543841091"
        ],
        [
         "39",
         "0.80176795",
         "0.0",
         "94.22216",
         "0.0",
         "0.0",
         "0.7657153932604843",
         "9.190241113969861"
        ],
        [
         "40",
         "0.5118317",
         "0.0",
         "87.396935",
         "0.0",
         "0.0",
         "0.759704004798622",
         "9.21556581813412"
        ],
        [
         "41",
         "0.9858096",
         "0.0",
         "97.77118",
         "0.0",
         "0.0",
         "0.7586945591499978",
         "9.218551099336052"
        ],
        [
         "42",
         "0.80020136",
         "0.0",
         "99.41849",
         "0.0",
         "0.0",
         "0.7700161412151811",
         "9.169786508588572"
        ],
        [
         "43",
         "0.96193403",
         "0.0",
         "99.72578",
         "0.0",
         "0.0",
         "0.7554312233458031",
         "9.232159284287942"
        ],
        [
         "44",
         "0.92865884",
         "0.0",
         "97.14666",
         "0.0",
         "0.0",
         "0.8080542566922992",
         "8.976517460076986"
        ],
        [
         "45",
         "0.83407646",
         "0.0",
         "99.10773",
         "0.0",
         "0.0",
         "0.7783094335999137",
         "9.135923532564796"
        ],
        [
         "46",
         "0.8400539",
         "0.0",
         "97.272606",
         "0.0",
         "0.0",
         "0.7847386939212025",
         "9.080889621977045"
        ],
        [
         "47",
         "0.8000452",
         "0.0",
         "97.42186",
         "0.0",
         "0.0",
         "0.7885768574149848",
         "9.049538335417271"
        ],
        [
         "48",
         "0.29215977",
         "0.0",
         "92.009285",
         "0.0",
         "0.0",
         "0.8928490252648108",
         "8.381412327231608"
        ],
        [
         "49",
         "0.907332",
         "0.0",
         "99.14468",
         "0.0",
         "0.0",
         "0.7896300051393941",
         "9.081266255685684"
        ]
       ],
       "shape": {
        "columns": 7,
        "rows": 400
       }
      },
      "text/html": [
       "<div>\n",
       "<style scoped>\n",
       "    .dataframe tbody tr th:only-of-type {\n",
       "        vertical-align: middle;\n",
       "    }\n",
       "\n",
       "    .dataframe tbody tr th {\n",
       "        vertical-align: top;\n",
       "    }\n",
       "\n",
       "    .dataframe thead th {\n",
       "        text-align: right;\n",
       "    }\n",
       "</style>\n",
       "<table border=\"1\" class=\"dataframe\">\n",
       "  <thead>\n",
       "    <tr style=\"text-align: right;\">\n",
       "      <th></th>\n",
       "      <th>FF</th>\n",
       "      <th>AI</th>\n",
       "      <th>AD</th>\n",
       "      <th>AG</th>\n",
       "      <th>FidIn</th>\n",
       "      <th>SPS</th>\n",
       "      <th>COMP</th>\n",
       "    </tr>\n",
       "  </thead>\n",
       "  <tbody>\n",
       "    <tr>\n",
       "      <th>0</th>\n",
       "      <td>0.807760</td>\n",
       "      <td>0.0</td>\n",
       "      <td>98.176369</td>\n",
       "      <td>0.0</td>\n",
       "      <td>0.0</td>\n",
       "      <td>0.767475</td>\n",
       "      <td>9.172155</td>\n",
       "    </tr>\n",
       "    <tr>\n",
       "      <th>1</th>\n",
       "      <td>0.005461</td>\n",
       "      <td>0.0</td>\n",
       "      <td>22.821560</td>\n",
       "      <td>0.0</td>\n",
       "      <td>0.0</td>\n",
       "      <td>0.887693</td>\n",
       "      <td>8.472346</td>\n",
       "    </tr>\n",
       "    <tr>\n",
       "      <th>2</th>\n",
       "      <td>0.455500</td>\n",
       "      <td>0.0</td>\n",
       "      <td>88.769051</td>\n",
       "      <td>0.0</td>\n",
       "      <td>0.0</td>\n",
       "      <td>0.865012</td>\n",
       "      <td>8.645321</td>\n",
       "    </tr>\n",
       "    <tr>\n",
       "      <th>3</th>\n",
       "      <td>0.449588</td>\n",
       "      <td>0.0</td>\n",
       "      <td>93.007477</td>\n",
       "      <td>0.0</td>\n",
       "      <td>0.0</td>\n",
       "      <td>0.917708</td>\n",
       "      <td>8.103765</td>\n",
       "    </tr>\n",
       "    <tr>\n",
       "      <th>4</th>\n",
       "      <td>0.747692</td>\n",
       "      <td>0.0</td>\n",
       "      <td>96.724388</td>\n",
       "      <td>0.0</td>\n",
       "      <td>0.0</td>\n",
       "      <td>0.778283</td>\n",
       "      <td>9.126101</td>\n",
       "    </tr>\n",
       "    <tr>\n",
       "      <th>...</th>\n",
       "      <td>...</td>\n",
       "      <td>...</td>\n",
       "      <td>...</td>\n",
       "      <td>...</td>\n",
       "      <td>...</td>\n",
       "      <td>...</td>\n",
       "      <td>...</td>\n",
       "    </tr>\n",
       "    <tr>\n",
       "      <th>395</th>\n",
       "      <td>0.474184</td>\n",
       "      <td>0.0</td>\n",
       "      <td>97.619194</td>\n",
       "      <td>0.0</td>\n",
       "      <td>0.0</td>\n",
       "      <td>0.764461</td>\n",
       "      <td>9.184182</td>\n",
       "    </tr>\n",
       "    <tr>\n",
       "      <th>396</th>\n",
       "      <td>0.852557</td>\n",
       "      <td>0.0</td>\n",
       "      <td>98.347977</td>\n",
       "      <td>0.0</td>\n",
       "      <td>0.0</td>\n",
       "      <td>0.755912</td>\n",
       "      <td>9.228346</td>\n",
       "    </tr>\n",
       "    <tr>\n",
       "      <th>397</th>\n",
       "      <td>0.661285</td>\n",
       "      <td>0.0</td>\n",
       "      <td>90.125969</td>\n",
       "      <td>0.0</td>\n",
       "      <td>0.0</td>\n",
       "      <td>0.781461</td>\n",
       "      <td>9.124360</td>\n",
       "    </tr>\n",
       "    <tr>\n",
       "      <th>398</th>\n",
       "      <td>0.958125</td>\n",
       "      <td>0.0</td>\n",
       "      <td>99.281212</td>\n",
       "      <td>0.0</td>\n",
       "      <td>0.0</td>\n",
       "      <td>0.760113</td>\n",
       "      <td>9.208173</td>\n",
       "    </tr>\n",
       "    <tr>\n",
       "      <th>399</th>\n",
       "      <td>0.662587</td>\n",
       "      <td>0.0</td>\n",
       "      <td>84.192268</td>\n",
       "      <td>0.0</td>\n",
       "      <td>1.0</td>\n",
       "      <td>0.806071</td>\n",
       "      <td>9.017741</td>\n",
       "    </tr>\n",
       "  </tbody>\n",
       "</table>\n",
       "<p>400 rows × 7 columns</p>\n",
       "</div>"
      ],
      "text/plain": [
       "           FF   AI         AD   AG  FidIn       SPS      COMP\n",
       "0    0.807760  0.0  98.176369  0.0    0.0  0.767475  9.172155\n",
       "1    0.005461  0.0  22.821560  0.0    0.0  0.887693  8.472346\n",
       "2    0.455500  0.0  88.769051  0.0    0.0  0.865012  8.645321\n",
       "3    0.449588  0.0  93.007477  0.0    0.0  0.917708  8.103765\n",
       "4    0.747692  0.0  96.724388  0.0    0.0  0.778283  9.126101\n",
       "..        ...  ...        ...  ...    ...       ...       ...\n",
       "395  0.474184  0.0  97.619194  0.0    0.0  0.764461  9.184182\n",
       "396  0.852557  0.0  98.347977  0.0    0.0  0.755912  9.228346\n",
       "397  0.661285  0.0  90.125969  0.0    0.0  0.781461  9.124360\n",
       "398  0.958125  0.0  99.281212  0.0    0.0  0.760113  9.208173\n",
       "399  0.662587  0.0  84.192268  0.0    1.0  0.806071  9.017741\n",
       "\n",
       "[400 rows x 7 columns]"
      ]
     },
     "execution_count": 23,
     "metadata": {},
     "output_type": "execute_result"
    }
   ],
   "source": [
    "results_saliency"
   ]
  },
  {
   "cell_type": "code",
   "execution_count": 35,
   "metadata": {},
   "outputs": [
    {
     "data": {
      "application/vnd.microsoft.datawrangler.viewer.v0+json": {
       "columns": [
        {
         "name": "index",
         "rawType": "object",
         "type": "string"
        },
        {
         "name": "mean",
         "rawType": "float64",
         "type": "float"
        },
        {
         "name": "std",
         "rawType": "float64",
         "type": "float"
        }
       ],
       "conversionMethod": "pd.DataFrame",
       "ref": "51641410-7f5d-4186-ab17-16a02151fde2",
       "rows": [
        [
         "FF",
         "0.6790972352027893",
         "0.24721762537956238"
        ],
        [
         "AI",
         "0.0",
         "0.0"
        ],
        [
         "AD",
         "93.14791107177734",
         "11.334028244018555"
        ],
        [
         "AG",
         "0.0",
         "0.0"
        ],
        [
         "FidIn",
         "0.10499999672174454",
         "0.3069373369216919"
        ],
        [
         "SPS",
         "0.7831910516744823",
         "0.04057146927989985"
        ],
        [
         "COMP",
         "9.078914978096673",
         "0.26082167635954345"
        ]
       ],
       "shape": {
        "columns": 2,
        "rows": 7
       }
      },
      "text/html": [
       "<div>\n",
       "<style scoped>\n",
       "    .dataframe tbody tr th:only-of-type {\n",
       "        vertical-align: middle;\n",
       "    }\n",
       "\n",
       "    .dataframe tbody tr th {\n",
       "        vertical-align: top;\n",
       "    }\n",
       "\n",
       "    .dataframe thead th {\n",
       "        text-align: right;\n",
       "    }\n",
       "</style>\n",
       "<table border=\"1\" class=\"dataframe\">\n",
       "  <thead>\n",
       "    <tr style=\"text-align: right;\">\n",
       "      <th></th>\n",
       "      <th>mean</th>\n",
       "      <th>std</th>\n",
       "    </tr>\n",
       "  </thead>\n",
       "  <tbody>\n",
       "    <tr>\n",
       "      <th>FF</th>\n",
       "      <td>0.679097</td>\n",
       "      <td>0.247218</td>\n",
       "    </tr>\n",
       "    <tr>\n",
       "      <th>AI</th>\n",
       "      <td>0.000000</td>\n",
       "      <td>0.000000</td>\n",
       "    </tr>\n",
       "    <tr>\n",
       "      <th>AD</th>\n",
       "      <td>93.147911</td>\n",
       "      <td>11.334028</td>\n",
       "    </tr>\n",
       "    <tr>\n",
       "      <th>AG</th>\n",
       "      <td>0.000000</td>\n",
       "      <td>0.000000</td>\n",
       "    </tr>\n",
       "    <tr>\n",
       "      <th>FidIn</th>\n",
       "      <td>0.105000</td>\n",
       "      <td>0.306937</td>\n",
       "    </tr>\n",
       "    <tr>\n",
       "      <th>SPS</th>\n",
       "      <td>0.783191</td>\n",
       "      <td>0.040571</td>\n",
       "    </tr>\n",
       "    <tr>\n",
       "      <th>COMP</th>\n",
       "      <td>9.078915</td>\n",
       "      <td>0.260822</td>\n",
       "    </tr>\n",
       "  </tbody>\n",
       "</table>\n",
       "</div>"
      ],
      "text/plain": [
       "            mean        std\n",
       "FF      0.679097   0.247218\n",
       "AI      0.000000   0.000000\n",
       "AD     93.147911  11.334028\n",
       "AG      0.000000   0.000000\n",
       "FidIn   0.105000   0.306937\n",
       "SPS     0.783191   0.040571\n",
       "COMP    9.078915   0.260822"
      ]
     },
     "execution_count": 35,
     "metadata": {},
     "output_type": "execute_result"
    }
   ],
   "source": [
    "results_saliency.describe().T[[\"mean\", \"std\"]]"
   ]
  },
  {
   "cell_type": "code",
   "execution_count": 40,
   "metadata": {},
   "outputs": [
    {
     "name": "stdout",
     "output_type": "stream",
     "text": [
      "Results saved as results/gradcam_clean.csv\n"
     ]
    }
   ],
   "source": [
    "results_gradcam = predict_gradcam.predict_set(test_loader_predict, results_csv_name='gradcam_clean.csv')"
   ]
  },
  {
   "cell_type": "code",
   "execution_count": 41,
   "metadata": {},
   "outputs": [
    {
     "data": {
      "application/vnd.microsoft.datawrangler.viewer.v0+json": {
       "columns": [
        {
         "name": "index",
         "rawType": "int64",
         "type": "integer"
        },
        {
         "name": "FF",
         "rawType": "float32",
         "type": "float"
        },
        {
         "name": "AI",
         "rawType": "float32",
         "type": "float"
        },
        {
         "name": "AD",
         "rawType": "float32",
         "type": "float"
        },
        {
         "name": "AG",
         "rawType": "float32",
         "type": "float"
        },
        {
         "name": "FidIn",
         "rawType": "float32",
         "type": "float"
        },
        {
         "name": "SPS",
         "rawType": "float64",
         "type": "float"
        },
        {
         "name": "COMP",
         "rawType": "float64",
         "type": "float"
        }
       ],
       "conversionMethod": "pd.DataFrame",
       "ref": "34b27530-a89f-4a7f-aaf4-433d10d330bf",
       "rows": [
        [
         "0",
         "0.58936787",
         "0.0",
         "96.262665",
         "0.0",
         "0.0",
         "0.4908463018869373",
         "9.969326773953954"
        ],
        [
         "1",
         "3.2782555e-06",
         "0.0",
         "70.10349",
         "0.0",
         "0.0",
         "0.0",
         "0.0"
        ],
        [
         "2",
         "0.150639",
         "0.0",
         "89.5063",
         "0.0",
         "0.0",
         "0.38854096206294625",
         "10.119319642541026"
        ],
        [
         "3",
         "-5.6028366e-06",
         "0.0",
         "95.05415",
         "0.0",
         "0.0",
         "0.9345696541474818",
         "7.9246707343239775"
        ],
        [
         "4",
         "0.52648973",
         "0.0",
         "97.20532",
         "0.0",
         "0.0",
         "0.4961310796992937",
         "9.925838562023024"
        ],
        [
         "5",
         "0.3712635",
         "0.0",
         "96.57463",
         "0.0",
         "0.0",
         "0.8583661671217254",
         "8.590768969002564"
        ],
        [
         "6",
         "-0.025351405",
         "0.0",
         "93.87936",
         "0.0",
         "0.0",
         "0.8716081163935798",
         "8.58802426132769"
        ],
        [
         "7",
         "0.55850685",
         "0.0",
         "48.779617",
         "0.0",
         "1.0",
         "0.6595368787420985",
         "9.537663075943582"
        ],
        [
         "8",
         "0.13240436",
         "0.0",
         "94.64301",
         "0.0",
         "0.0",
         "0.6572548075099917",
         "9.54192688333581"
        ],
        [
         "9",
         "0.12808721",
         "0.0",
         "94.48747",
         "0.0",
         "0.0",
         "0.8634879942514552",
         "8.560881760659191"
        ],
        [
         "10",
         "5.4240227e-06",
         "0.0",
         "94.25994",
         "0.0",
         "0.0",
         "0.0",
         "0.0"
        ],
        [
         "11",
         "0.73850256",
         "0.0",
         "89.21712",
         "0.0",
         "0.0",
         "0.38559711679732284",
         "10.122285707133674"
        ],
        [
         "12",
         "0.0038307905",
         "0.0",
         "95.415596",
         "0.0",
         "0.0",
         "0.8728041451075013",
         "8.564425351854645"
        ],
        [
         "13",
         "-0.007832766",
         "0.0",
         "96.15072",
         "0.0",
         "0.0",
         "0.9238442333474713",
         "8.077744296784651"
        ],
        [
         "14",
         "0.15749162",
         "0.0",
         "20.783081",
         "0.0",
         "1.0",
         "0.3481418924412343",
         "10.173436899127747"
        ],
        [
         "15",
         "0.0034538507",
         "0.0",
         "11.730953",
         "0.0",
         "1.0",
         "0.4427601297810182",
         "10.009726163684482"
        ],
        [
         "16",
         "0.22439948",
         "0.0",
         "95.185",
         "0.0",
         "0.0",
         "0.27159782080873063",
         "10.248237198080645"
        ],
        [
         "17",
         "0.19574648",
         "0.0",
         "32.246845",
         "0.0",
         "1.0",
         "0.395871942760709",
         "10.076865911415702"
        ],
        [
         "18",
         "-0.035858333",
         "0.0",
         "96.98262",
         "0.0",
         "0.0",
         "0.8658298728230207",
         "8.583255690930791"
        ],
        [
         "19",
         "-0.043348312",
         "0.0",
         "82.95017",
         "0.0",
         "0.0",
         "0.7498944692603584",
         "9.283108471743486"
        ],
        [
         "20",
         "0.03466101",
         "0.0",
         "90.20882",
         "0.0",
         "0.0",
         "0.8743964833482573",
         "8.466782895735983"
        ],
        [
         "21",
         "-0.12142336",
         "0.0",
         "90.61984",
         "0.0",
         "0.0",
         "0.9116966186589122",
         "8.161480055452866"
        ],
        [
         "22",
         "0.24929154",
         "0.0",
         "96.60248",
         "0.0",
         "0.0",
         "0.5872857298511656",
         "9.768214657243561"
        ],
        [
         "23",
         "0.31615978",
         "0.0",
         "98.37879",
         "0.0",
         "0.0",
         "0.47684027617226715",
         "9.882462291659442"
        ],
        [
         "24",
         "0.73140126",
         "0.0",
         "47.84738",
         "0.0",
         "1.0",
         "0.3047159874839171",
         "10.185893914771551"
        ],
        [
         "25",
         "0.014351964",
         "0.0",
         "95.446175",
         "0.0",
         "0.0",
         "0.438900503489803",
         "10.003297459071051"
        ],
        [
         "26",
         "0.8485696",
         "0.0",
         "31.935045",
         "0.0",
         "1.0",
         "0.3173350532078416",
         "10.190900152670089"
        ],
        [
         "27",
         "-0.10036147",
         "0.0",
         "95.77103",
         "0.0",
         "0.0",
         "0.2979563338734377",
         "10.18632806102089"
        ],
        [
         "28",
         "-0.04131317",
         "0.0",
         "83.45964",
         "0.0",
         "0.0",
         "0.5036298014418347",
         "9.893638461103853"
        ],
        [
         "29",
         "0.041358292",
         "0.0",
         "89.15766",
         "0.0",
         "0.0",
         "0.30069398758922",
         "10.218432413476538"
        ],
        [
         "30",
         "0.03385812",
         "0.0",
         "97.74263",
         "0.0",
         "0.0",
         "0.5621731482934723",
         "9.815640209223211"
        ],
        [
         "31",
         "0.010966241",
         "0.0",
         "94.45179",
         "0.0",
         "0.0",
         "0.5326356760943061",
         "9.866494257123245"
        ],
        [
         "32",
         "0.07062805",
         "0.0",
         "98.84241",
         "0.0",
         "0.0",
         "0.53312069428567",
         "9.846467558282527"
        ],
        [
         "33",
         "0.43576607",
         "0.0",
         "90.05556",
         "0.0",
         "0.0",
         "0.5471933628253384",
         "9.84883146578684"
        ],
        [
         "34",
         "0.17103505",
         "0.0",
         "95.21974",
         "0.0",
         "0.0",
         "0.5473194406231107",
         "9.826112122013672"
        ],
        [
         "35",
         "0.6363424",
         "0.0",
         "99.026695",
         "0.0",
         "0.0",
         "0.43483305261432204",
         "10.059626611230142"
        ],
        [
         "36",
         "-0.020094156",
         "0.0",
         "98.409065",
         "0.0",
         "0.0",
         "0.7543667291146479",
         "9.256668677458588"
        ],
        [
         "37",
         "0.022902608",
         "0.0",
         "98.371826",
         "0.0",
         "0.0",
         "0.6548629236076734",
         "9.58430186355832"
        ],
        [
         "38",
         "0.13350582",
         "0.0",
         "99.29138",
         "0.0",
         "0.0",
         "0.8029672334646981",
         "9.024611034435651"
        ],
        [
         "39",
         "0.29582",
         "0.0",
         "15.655661",
         "0.0",
         "1.0",
         "0.39923243104145484",
         "10.118623069220163"
        ],
        [
         "40",
         "0.17964083",
         "0.0",
         "90.59606",
         "0.0",
         "0.0",
         "0.8265807246822368",
         "8.89168632595406"
        ],
        [
         "41",
         "0.06127709",
         "0.0",
         "46.310997",
         "0.0",
         "1.0",
         "0.5707162667906219",
         "9.767098557265708"
        ],
        [
         "42",
         "0.713842",
         "0.0",
         "89.2168",
         "0.0",
         "0.0",
         "0.30810164427245257",
         "10.184889496985566"
        ],
        [
         "43",
         "-0.011815131",
         "0.0",
         "92.164505",
         "0.0",
         "0.0",
         "0.4399983064028823",
         "10.03561877746296"
        ],
        [
         "44",
         "0.25230372",
         "0.0",
         "96.85103",
         "0.0",
         "0.0",
         "0.8716464914865327",
         "8.589165727205174"
        ],
        [
         "45",
         "0.65320086",
         "0.0",
         "86.93489",
         "0.0",
         "0.0",
         "0.38499794373365964",
         "10.06235175013296"
        ],
        [
         "46",
         "0.054367185",
         "0.0",
         "5.193765",
         "0.0",
         "1.0",
         "0.5434519997531655",
         "9.8647689317442"
        ],
        [
         "47",
         "0.15939516",
         "0.0",
         "42.15569",
         "0.0",
         "1.0",
         "0.3433897962693872",
         "10.163328414768365"
        ],
        [
         "48",
         "-4.7504902e-05",
         "0.0",
         "91.19896",
         "0.0",
         "0.0",
         "0.6163061743980842",
         "9.646599080661375"
        ],
        [
         "49",
         "0.6973918",
         "0.0",
         "98.880585",
         "0.0",
         "0.0",
         "0.4890928679683088",
         "9.912902984917748"
        ]
       ],
       "shape": {
        "columns": 7,
        "rows": 400
       }
      },
      "text/html": [
       "<div>\n",
       "<style scoped>\n",
       "    .dataframe tbody tr th:only-of-type {\n",
       "        vertical-align: middle;\n",
       "    }\n",
       "\n",
       "    .dataframe tbody tr th {\n",
       "        vertical-align: top;\n",
       "    }\n",
       "\n",
       "    .dataframe thead th {\n",
       "        text-align: right;\n",
       "    }\n",
       "</style>\n",
       "<table border=\"1\" class=\"dataframe\">\n",
       "  <thead>\n",
       "    <tr style=\"text-align: right;\">\n",
       "      <th></th>\n",
       "      <th>FF</th>\n",
       "      <th>AI</th>\n",
       "      <th>AD</th>\n",
       "      <th>AG</th>\n",
       "      <th>FidIn</th>\n",
       "      <th>SPS</th>\n",
       "      <th>COMP</th>\n",
       "    </tr>\n",
       "  </thead>\n",
       "  <tbody>\n",
       "    <tr>\n",
       "      <th>0</th>\n",
       "      <td>0.589368</td>\n",
       "      <td>0.0</td>\n",
       "      <td>96.262665</td>\n",
       "      <td>0.0</td>\n",
       "      <td>0.0</td>\n",
       "      <td>0.490846</td>\n",
       "      <td>9.969327</td>\n",
       "    </tr>\n",
       "    <tr>\n",
       "      <th>1</th>\n",
       "      <td>0.000003</td>\n",
       "      <td>0.0</td>\n",
       "      <td>70.103493</td>\n",
       "      <td>0.0</td>\n",
       "      <td>0.0</td>\n",
       "      <td>0.000000</td>\n",
       "      <td>0.000000</td>\n",
       "    </tr>\n",
       "    <tr>\n",
       "      <th>2</th>\n",
       "      <td>0.150639</td>\n",
       "      <td>0.0</td>\n",
       "      <td>89.506302</td>\n",
       "      <td>0.0</td>\n",
       "      <td>0.0</td>\n",
       "      <td>0.388541</td>\n",
       "      <td>10.119320</td>\n",
       "    </tr>\n",
       "    <tr>\n",
       "      <th>3</th>\n",
       "      <td>-0.000006</td>\n",
       "      <td>0.0</td>\n",
       "      <td>95.054153</td>\n",
       "      <td>0.0</td>\n",
       "      <td>0.0</td>\n",
       "      <td>0.934570</td>\n",
       "      <td>7.924671</td>\n",
       "    </tr>\n",
       "    <tr>\n",
       "      <th>4</th>\n",
       "      <td>0.526490</td>\n",
       "      <td>0.0</td>\n",
       "      <td>97.205322</td>\n",
       "      <td>0.0</td>\n",
       "      <td>0.0</td>\n",
       "      <td>0.496131</td>\n",
       "      <td>9.925839</td>\n",
       "    </tr>\n",
       "    <tr>\n",
       "      <th>...</th>\n",
       "      <td>...</td>\n",
       "      <td>...</td>\n",
       "      <td>...</td>\n",
       "      <td>...</td>\n",
       "      <td>...</td>\n",
       "      <td>...</td>\n",
       "      <td>...</td>\n",
       "    </tr>\n",
       "    <tr>\n",
       "      <th>395</th>\n",
       "      <td>0.216719</td>\n",
       "      <td>0.0</td>\n",
       "      <td>13.126050</td>\n",
       "      <td>0.0</td>\n",
       "      <td>1.0</td>\n",
       "      <td>0.297946</td>\n",
       "      <td>10.182989</td>\n",
       "    </tr>\n",
       "    <tr>\n",
       "      <th>396</th>\n",
       "      <td>0.030162</td>\n",
       "      <td>0.0</td>\n",
       "      <td>2.213046</td>\n",
       "      <td>0.0</td>\n",
       "      <td>1.0</td>\n",
       "      <td>0.511971</td>\n",
       "      <td>9.869414</td>\n",
       "    </tr>\n",
       "    <tr>\n",
       "      <th>397</th>\n",
       "      <td>0.354432</td>\n",
       "      <td>0.0</td>\n",
       "      <td>89.004913</td>\n",
       "      <td>0.0</td>\n",
       "      <td>0.0</td>\n",
       "      <td>0.634608</td>\n",
       "      <td>9.627026</td>\n",
       "    </tr>\n",
       "    <tr>\n",
       "      <th>398</th>\n",
       "      <td>0.014078</td>\n",
       "      <td>0.0</td>\n",
       "      <td>82.405975</td>\n",
       "      <td>0.0</td>\n",
       "      <td>1.0</td>\n",
       "      <td>0.547809</td>\n",
       "      <td>9.844276</td>\n",
       "    </tr>\n",
       "    <tr>\n",
       "      <th>399</th>\n",
       "      <td>0.302991</td>\n",
       "      <td>0.0</td>\n",
       "      <td>29.415142</td>\n",
       "      <td>0.0</td>\n",
       "      <td>1.0</td>\n",
       "      <td>0.564283</td>\n",
       "      <td>9.781295</td>\n",
       "    </tr>\n",
       "  </tbody>\n",
       "</table>\n",
       "<p>400 rows × 7 columns</p>\n",
       "</div>"
      ],
      "text/plain": [
       "           FF   AI         AD   AG  FidIn       SPS       COMP\n",
       "0    0.589368  0.0  96.262665  0.0    0.0  0.490846   9.969327\n",
       "1    0.000003  0.0  70.103493  0.0    0.0  0.000000   0.000000\n",
       "2    0.150639  0.0  89.506302  0.0    0.0  0.388541  10.119320\n",
       "3   -0.000006  0.0  95.054153  0.0    0.0  0.934570   7.924671\n",
       "4    0.526490  0.0  97.205322  0.0    0.0  0.496131   9.925839\n",
       "..        ...  ...        ...  ...    ...       ...        ...\n",
       "395  0.216719  0.0  13.126050  0.0    1.0  0.297946  10.182989\n",
       "396  0.030162  0.0   2.213046  0.0    1.0  0.511971   9.869414\n",
       "397  0.354432  0.0  89.004913  0.0    0.0  0.634608   9.627026\n",
       "398  0.014078  0.0  82.405975  0.0    1.0  0.547809   9.844276\n",
       "399  0.302991  0.0  29.415142  0.0    1.0  0.564283   9.781295\n",
       "\n",
       "[400 rows x 7 columns]"
      ]
     },
     "execution_count": 41,
     "metadata": {},
     "output_type": "execute_result"
    }
   ],
   "source": [
    "results_gradcam"
   ]
  },
  {
   "cell_type": "code",
   "execution_count": 42,
   "metadata": {},
   "outputs": [
    {
     "data": {
      "application/vnd.microsoft.datawrangler.viewer.v0+json": {
       "columns": [
        {
         "name": "index",
         "rawType": "object",
         "type": "string"
        },
        {
         "name": "mean",
         "rawType": "float64",
         "type": "float"
        },
        {
         "name": "std",
         "rawType": "float64",
         "type": "float"
        }
       ],
       "conversionMethod": "pd.DataFrame",
       "ref": "108b9f2b-4621-404f-a9d1-0727193bec0a",
       "rows": [
        [
         "FF",
         "0.16692513227462769",
         "0.2358979880809784"
        ],
        [
         "AI",
         "1.25",
         "11.124156951904297"
        ],
        [
         "AD",
         "69.28238677978516",
         "32.452545166015625"
        ],
        [
         "AG",
         "0.574070930480957",
         "6.282491207122803"
        ],
        [
         "FidIn",
         "0.46000000834465027",
         "0.49902158975601196"
        ],
        [
         "SPS",
         "0.5565692111371114",
         "0.24483264592136225"
        ],
        [
         "COMP",
         "9.018057299652332",
         "2.2365572349797547"
        ]
       ],
       "shape": {
        "columns": 2,
        "rows": 7
       }
      },
      "text/html": [
       "<div>\n",
       "<style scoped>\n",
       "    .dataframe tbody tr th:only-of-type {\n",
       "        vertical-align: middle;\n",
       "    }\n",
       "\n",
       "    .dataframe tbody tr th {\n",
       "        vertical-align: top;\n",
       "    }\n",
       "\n",
       "    .dataframe thead th {\n",
       "        text-align: right;\n",
       "    }\n",
       "</style>\n",
       "<table border=\"1\" class=\"dataframe\">\n",
       "  <thead>\n",
       "    <tr style=\"text-align: right;\">\n",
       "      <th></th>\n",
       "      <th>mean</th>\n",
       "      <th>std</th>\n",
       "    </tr>\n",
       "  </thead>\n",
       "  <tbody>\n",
       "    <tr>\n",
       "      <th>FF</th>\n",
       "      <td>0.166925</td>\n",
       "      <td>0.235898</td>\n",
       "    </tr>\n",
       "    <tr>\n",
       "      <th>AI</th>\n",
       "      <td>1.250000</td>\n",
       "      <td>11.124157</td>\n",
       "    </tr>\n",
       "    <tr>\n",
       "      <th>AD</th>\n",
       "      <td>69.282387</td>\n",
       "      <td>32.452545</td>\n",
       "    </tr>\n",
       "    <tr>\n",
       "      <th>AG</th>\n",
       "      <td>0.574071</td>\n",
       "      <td>6.282491</td>\n",
       "    </tr>\n",
       "    <tr>\n",
       "      <th>FidIn</th>\n",
       "      <td>0.460000</td>\n",
       "      <td>0.499022</td>\n",
       "    </tr>\n",
       "    <tr>\n",
       "      <th>SPS</th>\n",
       "      <td>0.556569</td>\n",
       "      <td>0.244833</td>\n",
       "    </tr>\n",
       "    <tr>\n",
       "      <th>COMP</th>\n",
       "      <td>9.018057</td>\n",
       "      <td>2.236557</td>\n",
       "    </tr>\n",
       "  </tbody>\n",
       "</table>\n",
       "</div>"
      ],
      "text/plain": [
       "            mean        std\n",
       "FF      0.166925   0.235898\n",
       "AI      1.250000  11.124157\n",
       "AD     69.282387  32.452545\n",
       "AG      0.574071   6.282491\n",
       "FidIn   0.460000   0.499022\n",
       "SPS     0.556569   0.244833\n",
       "COMP    9.018057   2.236557"
      ]
     },
     "execution_count": 42,
     "metadata": {},
     "output_type": "execute_result"
    }
   ],
   "source": [
    "results_gradcam.describe().T[[\"mean\", \"std\"]]"
   ]
  },
  {
   "cell_type": "code",
   "execution_count": 37,
   "metadata": {},
   "outputs": [
    {
     "name": "stdout",
     "output_type": "stream",
     "text": [
      "Results saved as results/saliency_seawaves_noise.csv\n"
     ]
    }
   ],
   "source": [
    "results_saliency_noisy = predict_saliency.predict_set(test_loader_noisy_predict, 'saliency_seawaves_noise.csv')"
   ]
  },
  {
   "cell_type": "code",
   "execution_count": 38,
   "metadata": {},
   "outputs": [
    {
     "data": {
      "application/vnd.microsoft.datawrangler.viewer.v0+json": {
       "columns": [
        {
         "name": "index",
         "rawType": "int64",
         "type": "integer"
        },
        {
         "name": "FF",
         "rawType": "float32",
         "type": "float"
        },
        {
         "name": "AI",
         "rawType": "float32",
         "type": "float"
        },
        {
         "name": "AD",
         "rawType": "float32",
         "type": "float"
        },
        {
         "name": "AG",
         "rawType": "float32",
         "type": "float"
        },
        {
         "name": "FidIn",
         "rawType": "float32",
         "type": "float"
        },
        {
         "name": "SPS",
         "rawType": "float64",
         "type": "float"
        },
        {
         "name": "COMP",
         "rawType": "float64",
         "type": "float"
        }
       ],
       "conversionMethod": "pd.DataFrame",
       "ref": "563cd0f3-0749-43d9-9722-a27446d5ffd3",
       "rows": [
        [
         "0",
         "0.67737603",
         "0.0",
         "98.455986",
         "0.0",
         "0.0",
         "0.7562889456190162",
         "9.2212603964751"
        ],
        [
         "1",
         "0.18655583",
         "0.0",
         "96.29176",
         "0.0",
         "0.0",
         "0.8403247934251021",
         "8.777564312838376"
        ],
        [
         "2",
         "0.29256377",
         "0.0",
         "73.71448",
         "0.0",
         "0.0",
         "0.7702077805231404",
         "9.153724474259649"
        ],
        [
         "3",
         "0.4594838",
         "0.0",
         "62.574375",
         "0.0",
         "1.0",
         "0.7551956618603368",
         "9.23004710111348"
        ],
        [
         "4",
         "0.35059175",
         "0.0",
         "97.397995",
         "0.0",
         "0.0",
         "0.774658716026656",
         "9.145866994393767"
        ],
        [
         "5",
         "0.41185862",
         "0.0",
         "50.366318",
         "0.0",
         "1.0",
         "0.7589788590584843",
         "9.213809711821048"
        ],
        [
         "6",
         "0.24412325",
         "0.0",
         "97.78161",
         "0.0",
         "0.0",
         "0.7547973658745849",
         "9.230719908731272"
        ],
        [
         "7",
         "0.62103564",
         "0.0",
         "99.71876",
         "0.0",
         "0.0",
         "0.7841230464500015",
         "9.103641435756234"
        ],
        [
         "8",
         "0.28581327",
         "0.0",
         "98.2739",
         "0.0",
         "0.0",
         "0.7641214714136282",
         "9.196259141312261"
        ],
        [
         "9",
         "0.24516994",
         "0.0",
         "31.022114",
         "0.0",
         "1.0",
         "0.7625336341316477",
         "9.199640698561156"
        ],
        [
         "10",
         "0.5916834",
         "0.0",
         "86.89155",
         "0.0",
         "0.0",
         "0.7431964528367911",
         "9.277446777031471"
        ],
        [
         "11",
         "0.802135",
         "0.0",
         "98.445755",
         "0.0",
         "0.0",
         "0.7695077933099621",
         "9.165426265096537"
        ],
        [
         "12",
         "0.801886",
         "0.0",
         "99.29747",
         "0.0",
         "0.0",
         "0.7976734398950988",
         "9.047904066056345"
        ],
        [
         "13",
         "0.60609627",
         "0.0",
         "99.37959",
         "0.0",
         "0.0",
         "0.7717772610617681",
         "9.140933922239626"
        ],
        [
         "14",
         "0.6094905",
         "0.0",
         "99.21612",
         "0.0",
         "0.0",
         "0.764759870489937",
         "9.178694483869561"
        ],
        [
         "15",
         "0.97304505",
         "0.0",
         "99.58152",
         "0.0",
         "0.0",
         "0.7704177832894236",
         "9.165760943674435"
        ],
        [
         "16",
         "0.29919446",
         "0.0",
         "63.146828",
         "0.0",
         "0.0",
         "0.757095142976841",
         "9.220940402025775"
        ],
        [
         "17",
         "0.51109356",
         "0.0",
         "99.124916",
         "0.0",
         "0.0",
         "0.7560987380406579",
         "9.229330065043007"
        ],
        [
         "18",
         "0.45751742",
         "0.0",
         "87.41307",
         "0.0",
         "0.0",
         "0.7464354862768444",
         "9.251928749345486"
        ],
        [
         "19",
         "0.5029769",
         "0.0",
         "74.40412",
         "0.0",
         "0.0",
         "0.7485556441587913",
         "9.254124546185013"
        ],
        [
         "20",
         "0.49027264",
         "0.0",
         "87.24588",
         "0.0",
         "1.0",
         "0.7732967027544112",
         "9.134195638135886"
        ],
        [
         "21",
         "0.42503053",
         "0.0",
         "69.325",
         "0.0",
         "0.0",
         "0.740725155269442",
         "9.287085152891917"
        ],
        [
         "22",
         "0.7762503",
         "0.0",
         "82.36876",
         "0.0",
         "1.0",
         "0.7620745768188987",
         "9.200222881382484"
        ],
        [
         "23",
         "0.6065121",
         "0.0",
         "86.529",
         "0.0",
         "0.0",
         "0.7955806644543003",
         "9.051720312844903"
        ],
        [
         "24",
         "0.56670636",
         "0.0",
         "82.399",
         "0.0",
         "0.0",
         "0.7511602976205649",
         "9.247880720940685"
        ],
        [
         "25",
         "0.6463894",
         "0.0",
         "86.88516",
         "0.0",
         "0.0",
         "0.7687015574710472",
         "9.176632635450348"
        ],
        [
         "26",
         "0.69547284",
         "0.0",
         "81.876",
         "0.0",
         "0.0",
         "0.7553238947061549",
         "9.23303780513185"
        ],
        [
         "27",
         "0.8260949",
         "0.0",
         "96.67485",
         "0.0",
         "0.0",
         "0.7428606046914782",
         "9.278786653338228"
        ],
        [
         "28",
         "0.37312162",
         "0.0",
         "66.37785",
         "0.0",
         "1.0",
         "0.7520327835331357",
         "9.239495744606932"
        ],
        [
         "29",
         "0.28753954",
         "0.0",
         "51.69261",
         "0.0",
         "1.0",
         "0.8001948487904155",
         "8.999785806878016"
        ],
        [
         "30",
         "0.53298765",
         "0.0",
         "99.21397",
         "0.0",
         "0.0",
         "0.7604857337024115",
         "9.212019059844636"
        ],
        [
         "31",
         "0.31662425",
         "0.0",
         "74.87932",
         "0.0",
         "0.0",
         "0.7723788816690896",
         "9.149546499205663"
        ],
        [
         "32",
         "0.4187876",
         "0.0",
         "97.374435",
         "0.0",
         "0.0",
         "0.780942923026068",
         "9.113109469667611"
        ],
        [
         "33",
         "0.4271832",
         "0.0",
         "67.53135",
         "0.0",
         "1.0",
         "0.7498941495186581",
         "9.25272408628334"
        ],
        [
         "34",
         "0.23067418",
         "0.0",
         "87.963936",
         "0.0",
         "0.0",
         "0.7583017845153336",
         "9.214169085191042"
        ],
        [
         "35",
         "0.5007322",
         "0.0",
         "53.88909",
         "0.0",
         "1.0",
         "0.7669984662048664",
         "9.176863363495574"
        ],
        [
         "36",
         "0.18823089",
         "0.0",
         "37.72693",
         "0.0",
         "1.0",
         "0.7671145465976535",
         "9.178791691276732"
        ],
        [
         "37",
         "0.25836456",
         "0.0",
         "47.12787",
         "0.0",
         "1.0",
         "0.7616227357280443",
         "9.196668735602422"
        ],
        [
         "38",
         "0.22485273",
         "0.0",
         "67.31725",
         "0.0",
         "0.0",
         "0.7682579608067343",
         "9.175264661630443"
        ],
        [
         "39",
         "0.5582899",
         "0.0",
         "92.21177",
         "0.0",
         "0.0",
         "0.7644058868481532",
         "9.192611743588415"
        ],
        [
         "40",
         "0.32514003",
         "0.0",
         "81.74761",
         "0.0",
         "0.0",
         "0.7724319561524722",
         "9.147948331356883"
        ],
        [
         "41",
         "0.9632883",
         "0.0",
         "97.90096",
         "0.0",
         "0.0",
         "0.7717418631491846",
         "9.162262974683497"
        ],
        [
         "42",
         "0.5490949",
         "0.0",
         "99.24744",
         "0.0",
         "0.0",
         "0.7576829875128567",
         "9.21843679607335"
        ],
        [
         "43",
         "0.8863376",
         "0.0",
         "99.6771",
         "0.0",
         "0.0",
         "0.7612101299944849",
         "9.206939195958476"
        ],
        [
         "44",
         "0.4309289",
         "0.0",
         "77.542114",
         "0.0",
         "1.0",
         "0.740739759208361",
         "9.282059566812869"
        ],
        [
         "45",
         "0.69490534",
         "0.0",
         "99.26226",
         "0.0",
         "0.0",
         "0.7630099536089181",
         "9.196903312585365"
        ],
        [
         "46",
         "0.9655586",
         "0.0",
         "97.83768",
         "0.0",
         "0.0",
         "0.7671394176433606",
         "9.181694820397453"
        ],
        [
         "47",
         "0.91827786",
         "0.0",
         "98.58918",
         "0.0",
         "0.0",
         "0.7639425303323154",
         "9.198003223146534"
        ],
        [
         "48",
         "0.24695426",
         "0.0",
         "35.351913",
         "0.0",
         "1.0",
         "0.7555737996491645",
         "9.230372204782606"
        ],
        [
         "49",
         "0.22243574",
         "0.0",
         "94.43565",
         "0.0",
         "0.0",
         "0.8060995629709836",
         "8.987080522179077"
        ]
       ],
       "shape": {
        "columns": 7,
        "rows": 400
       }
      },
      "text/html": [
       "<div>\n",
       "<style scoped>\n",
       "    .dataframe tbody tr th:only-of-type {\n",
       "        vertical-align: middle;\n",
       "    }\n",
       "\n",
       "    .dataframe tbody tr th {\n",
       "        vertical-align: top;\n",
       "    }\n",
       "\n",
       "    .dataframe thead th {\n",
       "        text-align: right;\n",
       "    }\n",
       "</style>\n",
       "<table border=\"1\" class=\"dataframe\">\n",
       "  <thead>\n",
       "    <tr style=\"text-align: right;\">\n",
       "      <th></th>\n",
       "      <th>FF</th>\n",
       "      <th>AI</th>\n",
       "      <th>AD</th>\n",
       "      <th>AG</th>\n",
       "      <th>FidIn</th>\n",
       "      <th>SPS</th>\n",
       "      <th>COMP</th>\n",
       "    </tr>\n",
       "  </thead>\n",
       "  <tbody>\n",
       "    <tr>\n",
       "      <th>0</th>\n",
       "      <td>0.677376</td>\n",
       "      <td>0.0</td>\n",
       "      <td>98.455986</td>\n",
       "      <td>0.0</td>\n",
       "      <td>0.0</td>\n",
       "      <td>0.756289</td>\n",
       "      <td>9.221260</td>\n",
       "    </tr>\n",
       "    <tr>\n",
       "      <th>1</th>\n",
       "      <td>0.186556</td>\n",
       "      <td>0.0</td>\n",
       "      <td>96.291763</td>\n",
       "      <td>0.0</td>\n",
       "      <td>0.0</td>\n",
       "      <td>0.840325</td>\n",
       "      <td>8.777564</td>\n",
       "    </tr>\n",
       "    <tr>\n",
       "      <th>2</th>\n",
       "      <td>0.292564</td>\n",
       "      <td>0.0</td>\n",
       "      <td>73.714478</td>\n",
       "      <td>0.0</td>\n",
       "      <td>0.0</td>\n",
       "      <td>0.770208</td>\n",
       "      <td>9.153724</td>\n",
       "    </tr>\n",
       "    <tr>\n",
       "      <th>3</th>\n",
       "      <td>0.459484</td>\n",
       "      <td>0.0</td>\n",
       "      <td>62.574375</td>\n",
       "      <td>0.0</td>\n",
       "      <td>1.0</td>\n",
       "      <td>0.755196</td>\n",
       "      <td>9.230047</td>\n",
       "    </tr>\n",
       "    <tr>\n",
       "      <th>4</th>\n",
       "      <td>0.350592</td>\n",
       "      <td>0.0</td>\n",
       "      <td>97.397995</td>\n",
       "      <td>0.0</td>\n",
       "      <td>0.0</td>\n",
       "      <td>0.774659</td>\n",
       "      <td>9.145867</td>\n",
       "    </tr>\n",
       "    <tr>\n",
       "      <th>...</th>\n",
       "      <td>...</td>\n",
       "      <td>...</td>\n",
       "      <td>...</td>\n",
       "      <td>...</td>\n",
       "      <td>...</td>\n",
       "      <td>...</td>\n",
       "      <td>...</td>\n",
       "    </tr>\n",
       "    <tr>\n",
       "      <th>395</th>\n",
       "      <td>0.886273</td>\n",
       "      <td>0.0</td>\n",
       "      <td>96.484871</td>\n",
       "      <td>0.0</td>\n",
       "      <td>0.0</td>\n",
       "      <td>0.755825</td>\n",
       "      <td>9.228083</td>\n",
       "    </tr>\n",
       "    <tr>\n",
       "      <th>396</th>\n",
       "      <td>0.936500</td>\n",
       "      <td>0.0</td>\n",
       "      <td>98.246857</td>\n",
       "      <td>0.0</td>\n",
       "      <td>0.0</td>\n",
       "      <td>0.750367</td>\n",
       "      <td>9.249687</td>\n",
       "    </tr>\n",
       "    <tr>\n",
       "      <th>397</th>\n",
       "      <td>0.197363</td>\n",
       "      <td>0.0</td>\n",
       "      <td>52.501083</td>\n",
       "      <td>0.0</td>\n",
       "      <td>1.0</td>\n",
       "      <td>0.747313</td>\n",
       "      <td>9.257753</td>\n",
       "    </tr>\n",
       "    <tr>\n",
       "      <th>398</th>\n",
       "      <td>0.818142</td>\n",
       "      <td>0.0</td>\n",
       "      <td>98.527489</td>\n",
       "      <td>0.0</td>\n",
       "      <td>0.0</td>\n",
       "      <td>0.789882</td>\n",
       "      <td>9.061106</td>\n",
       "    </tr>\n",
       "    <tr>\n",
       "      <th>399</th>\n",
       "      <td>0.646098</td>\n",
       "      <td>0.0</td>\n",
       "      <td>77.655998</td>\n",
       "      <td>0.0</td>\n",
       "      <td>1.0</td>\n",
       "      <td>0.755947</td>\n",
       "      <td>9.230187</td>\n",
       "    </tr>\n",
       "  </tbody>\n",
       "</table>\n",
       "<p>400 rows × 7 columns</p>\n",
       "</div>"
      ],
      "text/plain": [
       "           FF   AI         AD   AG  FidIn       SPS      COMP\n",
       "0    0.677376  0.0  98.455986  0.0    0.0  0.756289  9.221260\n",
       "1    0.186556  0.0  96.291763  0.0    0.0  0.840325  8.777564\n",
       "2    0.292564  0.0  73.714478  0.0    0.0  0.770208  9.153724\n",
       "3    0.459484  0.0  62.574375  0.0    1.0  0.755196  9.230047\n",
       "4    0.350592  0.0  97.397995  0.0    0.0  0.774659  9.145867\n",
       "..        ...  ...        ...  ...    ...       ...       ...\n",
       "395  0.886273  0.0  96.484871  0.0    0.0  0.755825  9.228083\n",
       "396  0.936500  0.0  98.246857  0.0    0.0  0.750367  9.249687\n",
       "397  0.197363  0.0  52.501083  0.0    1.0  0.747313  9.257753\n",
       "398  0.818142  0.0  98.527489  0.0    0.0  0.789882  9.061106\n",
       "399  0.646098  0.0  77.655998  0.0    1.0  0.755947  9.230187\n",
       "\n",
       "[400 rows x 7 columns]"
      ]
     },
     "execution_count": 38,
     "metadata": {},
     "output_type": "execute_result"
    }
   ],
   "source": [
    "results_saliency_noisy"
   ]
  },
  {
   "cell_type": "code",
   "execution_count": 39,
   "metadata": {},
   "outputs": [
    {
     "data": {
      "application/vnd.microsoft.datawrangler.viewer.v0+json": {
       "columns": [
        {
         "name": "index",
         "rawType": "object",
         "type": "string"
        },
        {
         "name": "mean",
         "rawType": "float64",
         "type": "float"
        },
        {
         "name": "std",
         "rawType": "float64",
         "type": "float"
        }
       ],
       "conversionMethod": "pd.DataFrame",
       "ref": "a3609d2a-c261-44dd-b8bd-632d9b3ee90e",
       "rows": [
        [
         "FF",
         "0.5940353274345398",
         "0.24229803681373596"
        ],
        [
         "AI",
         "1.0",
         "9.962335586547852"
        ],
        [
         "AD",
         "82.41838073730469",
         "20.119407653808594"
        ],
        [
         "AG",
         "0.05594502389431",
         "0.7822286486625671"
        ],
        [
         "FidIn",
         "0.30250000953674316",
         "0.45991581678390503"
        ],
        [
         "SPS",
         "0.7642488783044841",
         "0.01491788932760343"
        ],
        [
         "COMP",
         "9.187342933010738",
         "0.0711871129486513"
        ]
       ],
       "shape": {
        "columns": 2,
        "rows": 7
       }
      },
      "text/html": [
       "<div>\n",
       "<style scoped>\n",
       "    .dataframe tbody tr th:only-of-type {\n",
       "        vertical-align: middle;\n",
       "    }\n",
       "\n",
       "    .dataframe tbody tr th {\n",
       "        vertical-align: top;\n",
       "    }\n",
       "\n",
       "    .dataframe thead th {\n",
       "        text-align: right;\n",
       "    }\n",
       "</style>\n",
       "<table border=\"1\" class=\"dataframe\">\n",
       "  <thead>\n",
       "    <tr style=\"text-align: right;\">\n",
       "      <th></th>\n",
       "      <th>mean</th>\n",
       "      <th>std</th>\n",
       "    </tr>\n",
       "  </thead>\n",
       "  <tbody>\n",
       "    <tr>\n",
       "      <th>FF</th>\n",
       "      <td>0.594035</td>\n",
       "      <td>0.242298</td>\n",
       "    </tr>\n",
       "    <tr>\n",
       "      <th>AI</th>\n",
       "      <td>1.000000</td>\n",
       "      <td>9.962336</td>\n",
       "    </tr>\n",
       "    <tr>\n",
       "      <th>AD</th>\n",
       "      <td>82.418381</td>\n",
       "      <td>20.119408</td>\n",
       "    </tr>\n",
       "    <tr>\n",
       "      <th>AG</th>\n",
       "      <td>0.055945</td>\n",
       "      <td>0.782229</td>\n",
       "    </tr>\n",
       "    <tr>\n",
       "      <th>FidIn</th>\n",
       "      <td>0.302500</td>\n",
       "      <td>0.459916</td>\n",
       "    </tr>\n",
       "    <tr>\n",
       "      <th>SPS</th>\n",
       "      <td>0.764249</td>\n",
       "      <td>0.014918</td>\n",
       "    </tr>\n",
       "    <tr>\n",
       "      <th>COMP</th>\n",
       "      <td>9.187343</td>\n",
       "      <td>0.071187</td>\n",
       "    </tr>\n",
       "  </tbody>\n",
       "</table>\n",
       "</div>"
      ],
      "text/plain": [
       "            mean        std\n",
       "FF      0.594035   0.242298\n",
       "AI      1.000000   9.962336\n",
       "AD     82.418381  20.119408\n",
       "AG      0.055945   0.782229\n",
       "FidIn   0.302500   0.459916\n",
       "SPS     0.764249   0.014918\n",
       "COMP    9.187343   0.071187"
      ]
     },
     "execution_count": 39,
     "metadata": {},
     "output_type": "execute_result"
    }
   ],
   "source": [
    "results_saliency_noisy.describe().T[[\"mean\", \"std\"]]"
   ]
  },
  {
   "cell_type": "code",
   "execution_count": 43,
   "metadata": {},
   "outputs": [
    {
     "name": "stdout",
     "output_type": "stream",
     "text": [
      "Results saved as results/gradcam_seawaves_noise.csv\n"
     ]
    }
   ],
   "source": [
    "results_gradcam_noisy = predict_gradcam.predict_set(test_loader_noisy_predict, results_csv_name='gradcam_seawaves_noise.csv')"
   ]
  },
  {
   "cell_type": "code",
   "execution_count": 44,
   "metadata": {},
   "outputs": [
    {
     "data": {
      "application/vnd.microsoft.datawrangler.viewer.v0+json": {
       "columns": [
        {
         "name": "index",
         "rawType": "int64",
         "type": "integer"
        },
        {
         "name": "FF",
         "rawType": "float32",
         "type": "float"
        },
        {
         "name": "AI",
         "rawType": "float32",
         "type": "float"
        },
        {
         "name": "AD",
         "rawType": "float32",
         "type": "float"
        },
        {
         "name": "AG",
         "rawType": "float32",
         "type": "float"
        },
        {
         "name": "FidIn",
         "rawType": "float32",
         "type": "float"
        },
        {
         "name": "SPS",
         "rawType": "float64",
         "type": "float"
        },
        {
         "name": "COMP",
         "rawType": "float64",
         "type": "float"
        }
       ],
       "conversionMethod": "pd.DataFrame",
       "ref": "196b993f-5ead-4c83-8d80-2dc337c764e3",
       "rows": [
        [
         "0",
         "0.47633725",
         "0.0",
         "97.802315",
         "0.0",
         "0.0",
         "0.6479395209401269",
         "9.56375005505659"
        ],
        [
         "1",
         "-4.0128827e-05",
         "0.0",
         "91.22238",
         "0.0",
         "0.0",
         "0.0",
         "0.0"
        ],
        [
         "2",
         "-0.023436248",
         "0.0",
         "83.15581",
         "0.0",
         "0.0",
         "0.32187393429429",
         "10.106059262685712"
        ],
        [
         "3",
         "0.39302742",
         "0.0",
         "58.660583",
         "0.0",
         "1.0",
         "0.2776050671884398",
         "10.195515420252066"
        ],
        [
         "4",
         "0.26070675",
         "0.0",
         "97.56079",
         "0.0",
         "0.0",
         "0.5850094507119885",
         "9.762238445138719"
        ],
        [
         "5",
         "0.39509743",
         "0.0",
         "61.802387",
         "0.0",
         "0.0",
         "0.17059956977974158",
         "10.292536391225333"
        ],
        [
         "6",
         "-1.3619661e-05",
         "0.0",
         "95.38738",
         "0.0",
         "0.0",
         "0.0",
         "0.0"
        ],
        [
         "7",
         "0.12595397",
         "0.0",
         "63.356876",
         "0.0",
         "1.0",
         "0.751975746783195",
         "9.19801538066834"
        ],
        [
         "8",
         "-0.1393061",
         "0.0",
         "96.659",
         "0.0",
         "0.0",
         "0.7717192051135426",
         "9.074892474499922"
        ],
        [
         "9",
         "0.22196597",
         "0.0",
         "59.104073",
         "0.0",
         "0.0",
         "0.22591291846247755",
         "10.218205900425351"
        ],
        [
         "10",
         "-7.1525574e-07",
         "0.0",
         "95.11069",
         "0.0",
         "0.0",
         "0.0",
         "0.0"
        ],
        [
         "11",
         "0.3233448",
         "0.0",
         "99.00771",
         "0.0",
         "0.0",
         "0.6376047008587742",
         "9.607574224863166"
        ],
        [
         "12",
         "0.0053970814",
         "0.0",
         "98.038734",
         "0.0",
         "0.0",
         "0.7946859165261839",
         "9.000307872445429"
        ],
        [
         "13",
         "-1.6093254e-06",
         "0.0",
         "98.80656",
         "0.0",
         "0.0",
         "0.0",
         "0.0"
        ],
        [
         "14",
         "0.39771184",
         "0.0",
         "71.18305",
         "0.0",
         "0.0",
         "0.34576469878362903",
         "10.14496604905147"
        ],
        [
         "15",
         "0.004806161",
         "0.0",
         "9.581555",
         "0.0",
         "1.0",
         "0.3794991229434513",
         "10.131422235583296"
        ],
        [
         "16",
         "0.21957621",
         "0.0",
         "47.176243",
         "0.0",
         "1.0",
         "0.43125897309644695",
         "10.064825344306643"
        ],
        [
         "17",
         "0.46161985",
         "0.0",
         "77.667946",
         "0.0",
         "0.0",
         "0.30733879101505973",
         "10.190645704972935"
        ],
        [
         "18",
         "0.39398974",
         "0.0",
         "21.275652",
         "0.0",
         "1.0",
         "0.34070562554529277",
         "10.168676974560492"
        ],
        [
         "19",
         "0.129024",
         "0.0",
         "78.9589",
         "0.0",
         "0.0",
         "0.28143123395007114",
         "10.22727238724616"
        ],
        [
         "20",
         "0.14754054",
         "0.0",
         "27.6122",
         "0.0",
         "1.0",
         "0.2074763887286746",
         "10.26202662041056"
        ],
        [
         "21",
         "-0.003573656",
         "0.0",
         "85.14552",
         "0.0",
         "0.0",
         "0.2764865520232387",
         "10.243337888659637"
        ],
        [
         "22",
         "0.55823225",
         "0.0",
         "6.6486015",
         "0.0",
         "1.0",
         "0.3150851734800048",
         "10.17127597166149"
        ],
        [
         "23",
         "0.19813305",
         "0.0",
         "90.40886",
         "0.0",
         "0.0",
         "0.769755602716117",
         "9.140546279712577"
        ],
        [
         "24",
         "-0.16324365",
         "0.0",
         "91.221825",
         "0.0",
         "0.0",
         "0.6920891082030055",
         "9.477227480418563"
        ],
        [
         "25",
         "0.43945387",
         "0.0",
         "62.465626",
         "0.0",
         "1.0",
         "0.6160338474716083",
         "9.68842230410611"
        ],
        [
         "26",
         "-0.055478513",
         "0.0",
         "90.68861",
         "0.0",
         "0.0",
         "0.9030523245433392",
         "8.31874802526568"
        ],
        [
         "27",
         "-0.15213943",
         "0.0",
         "93.1612",
         "0.0",
         "0.0",
         "0.33699984944447786",
         "10.158613139771106"
        ],
        [
         "28",
         "-0.003426075",
         "0.0",
         "44.685905",
         "0.0",
         "1.0",
         "0.3235608433481922",
         "10.2014978953356"
        ],
        [
         "29",
         "0.021922857",
         "0.0",
         "79.181786",
         "0.0",
         "0.0",
         "0.27026397353001813",
         "10.243385280426622"
        ],
        [
         "30",
         "-0.086247325",
         "0.0",
         "99.82405",
         "0.0",
         "0.0",
         "0.6280498233252886",
         "9.615571285042877"
        ],
        [
         "31",
         "0.22462589",
         "0.0",
         "37.843937",
         "0.0",
         "1.0",
         "0.8040205706859578",
         "8.940385782754252"
        ],
        [
         "32",
         "0.00862959",
         "0.0",
         "97.60992",
         "0.0",
         "0.0",
         "0.7003963846133913",
         "9.469974810558053"
        ],
        [
         "33",
         "0.0069871247",
         "0.0",
         "93.13053",
         "0.0",
         "0.0",
         "0.8418225609646562",
         "8.824041401926479"
        ],
        [
         "34",
         "0.1926927",
         "0.0",
         "88.99999",
         "0.0",
         "0.0",
         "0.37783048426967447",
         "10.137017053699656"
        ],
        [
         "35",
         "0.37201843",
         "0.0",
         "42.632294",
         "0.0",
         "1.0",
         "0.37755874028517683",
         "10.104100941697238"
        ],
        [
         "36",
         "0.07218372",
         "0.0",
         "86.03994",
         "0.0",
         "0.0",
         "0.694923421530693",
         "9.40391877686563"
        ],
        [
         "37",
         "0.09914091",
         "0.0",
         "95.983284",
         "0.0",
         "0.0",
         "0.6468484476879407",
         "9.591597767057646"
        ],
        [
         "38",
         "-0.1293122",
         "0.0",
         "87.31978",
         "0.0",
         "0.0",
         "0.6760909663078782",
         "9.429023808436906"
        ],
        [
         "39",
         "0.2594756",
         "0.0",
         "95.08675",
         "0.0",
         "0.0",
         "0.8332859104446048",
         "8.872026637850226"
        ],
        [
         "40",
         "0.016036958",
         "0.0",
         "97.311195",
         "0.0",
         "0.0",
         "0.7697082639453579",
         "9.15617827839278"
        ],
        [
         "41",
         "0.0106499195",
         "0.0",
         "94.80543",
         "0.0",
         "0.0",
         "0.5716355047240428",
         "9.780359671442994"
        ],
        [
         "42",
         "0.16676864",
         "0.0",
         "96.91445",
         "0.0",
         "0.0",
         "0.5255838382463631",
         "9.841795510941985"
        ],
        [
         "43",
         "0.07081795",
         "0.0",
         "97.58835",
         "0.0",
         "0.0",
         "0.4715817614703579",
         "9.95226118513429"
        ],
        [
         "44",
         "0.0023181438",
         "0.0",
         "87.70775",
         "0.0",
         "0.0",
         "0.3369100777451116",
         "10.106876425246636"
        ],
        [
         "45",
         "-0.1035468",
         "0.0",
         "62.40682",
         "0.0",
         "1.0",
         "0.5298210292772179",
         "9.817997827939156"
        ],
        [
         "46",
         "0.056714237",
         "0.0",
         "3.6819599",
         "0.0",
         "1.0",
         "0.4694725754595107",
         "9.990741851900035"
        ],
        [
         "47",
         "0.2769937",
         "0.0",
         "35.81919",
         "0.0",
         "1.0",
         "0.402636602397669",
         "10.063312030137105"
        ],
        [
         "48",
         "0.21974555",
         "0.0",
         "58.49553",
         "0.0",
         "0.0",
         "0.2607839293350604",
         "10.17869677492902"
        ],
        [
         "49",
         "0.20774597",
         "0.0",
         "95.69567",
         "0.0",
         "0.0",
         "0.6144921363195309",
         "9.672394421186718"
        ]
       ],
       "shape": {
        "columns": 7,
        "rows": 400
       }
      },
      "text/html": [
       "<div>\n",
       "<style scoped>\n",
       "    .dataframe tbody tr th:only-of-type {\n",
       "        vertical-align: middle;\n",
       "    }\n",
       "\n",
       "    .dataframe tbody tr th {\n",
       "        vertical-align: top;\n",
       "    }\n",
       "\n",
       "    .dataframe thead th {\n",
       "        text-align: right;\n",
       "    }\n",
       "</style>\n",
       "<table border=\"1\" class=\"dataframe\">\n",
       "  <thead>\n",
       "    <tr style=\"text-align: right;\">\n",
       "      <th></th>\n",
       "      <th>FF</th>\n",
       "      <th>AI</th>\n",
       "      <th>AD</th>\n",
       "      <th>AG</th>\n",
       "      <th>FidIn</th>\n",
       "      <th>SPS</th>\n",
       "      <th>COMP</th>\n",
       "    </tr>\n",
       "  </thead>\n",
       "  <tbody>\n",
       "    <tr>\n",
       "      <th>0</th>\n",
       "      <td>0.476337</td>\n",
       "      <td>0.0</td>\n",
       "      <td>97.802315</td>\n",
       "      <td>0.0</td>\n",
       "      <td>0.0</td>\n",
       "      <td>0.647940</td>\n",
       "      <td>9.563750</td>\n",
       "    </tr>\n",
       "    <tr>\n",
       "      <th>1</th>\n",
       "      <td>-0.000040</td>\n",
       "      <td>0.0</td>\n",
       "      <td>91.222382</td>\n",
       "      <td>0.0</td>\n",
       "      <td>0.0</td>\n",
       "      <td>0.000000</td>\n",
       "      <td>0.000000</td>\n",
       "    </tr>\n",
       "    <tr>\n",
       "      <th>2</th>\n",
       "      <td>-0.023436</td>\n",
       "      <td>0.0</td>\n",
       "      <td>83.155807</td>\n",
       "      <td>0.0</td>\n",
       "      <td>0.0</td>\n",
       "      <td>0.321874</td>\n",
       "      <td>10.106059</td>\n",
       "    </tr>\n",
       "    <tr>\n",
       "      <th>3</th>\n",
       "      <td>0.393027</td>\n",
       "      <td>0.0</td>\n",
       "      <td>58.660583</td>\n",
       "      <td>0.0</td>\n",
       "      <td>1.0</td>\n",
       "      <td>0.277605</td>\n",
       "      <td>10.195515</td>\n",
       "    </tr>\n",
       "    <tr>\n",
       "      <th>4</th>\n",
       "      <td>0.260707</td>\n",
       "      <td>0.0</td>\n",
       "      <td>97.560791</td>\n",
       "      <td>0.0</td>\n",
       "      <td>0.0</td>\n",
       "      <td>0.585009</td>\n",
       "      <td>9.762238</td>\n",
       "    </tr>\n",
       "    <tr>\n",
       "      <th>...</th>\n",
       "      <td>...</td>\n",
       "      <td>...</td>\n",
       "      <td>...</td>\n",
       "      <td>...</td>\n",
       "      <td>...</td>\n",
       "      <td>...</td>\n",
       "      <td>...</td>\n",
       "    </tr>\n",
       "    <tr>\n",
       "      <th>395</th>\n",
       "      <td>0.130961</td>\n",
       "      <td>0.0</td>\n",
       "      <td>37.786354</td>\n",
       "      <td>0.0</td>\n",
       "      <td>1.0</td>\n",
       "      <td>0.333426</td>\n",
       "      <td>10.142489</td>\n",
       "    </tr>\n",
       "    <tr>\n",
       "      <th>396</th>\n",
       "      <td>0.039692</td>\n",
       "      <td>0.0</td>\n",
       "      <td>4.649539</td>\n",
       "      <td>0.0</td>\n",
       "      <td>1.0</td>\n",
       "      <td>0.489520</td>\n",
       "      <td>9.905863</td>\n",
       "    </tr>\n",
       "    <tr>\n",
       "      <th>397</th>\n",
       "      <td>0.090418</td>\n",
       "      <td>0.0</td>\n",
       "      <td>70.237801</td>\n",
       "      <td>0.0</td>\n",
       "      <td>0.0</td>\n",
       "      <td>0.744933</td>\n",
       "      <td>9.272016</td>\n",
       "    </tr>\n",
       "    <tr>\n",
       "      <th>398</th>\n",
       "      <td>-0.049929</td>\n",
       "      <td>0.0</td>\n",
       "      <td>92.501846</td>\n",
       "      <td>0.0</td>\n",
       "      <td>0.0</td>\n",
       "      <td>0.624872</td>\n",
       "      <td>9.671482</td>\n",
       "    </tr>\n",
       "    <tr>\n",
       "      <th>399</th>\n",
       "      <td>0.341186</td>\n",
       "      <td>0.0</td>\n",
       "      <td>97.061523</td>\n",
       "      <td>0.0</td>\n",
       "      <td>0.0</td>\n",
       "      <td>0.395328</td>\n",
       "      <td>10.115508</td>\n",
       "    </tr>\n",
       "  </tbody>\n",
       "</table>\n",
       "<p>400 rows × 7 columns</p>\n",
       "</div>"
      ],
      "text/plain": [
       "           FF   AI         AD   AG  FidIn       SPS       COMP\n",
       "0    0.476337  0.0  97.802315  0.0    0.0  0.647940   9.563750\n",
       "1   -0.000040  0.0  91.222382  0.0    0.0  0.000000   0.000000\n",
       "2   -0.023436  0.0  83.155807  0.0    0.0  0.321874  10.106059\n",
       "3    0.393027  0.0  58.660583  0.0    1.0  0.277605  10.195515\n",
       "4    0.260707  0.0  97.560791  0.0    0.0  0.585009   9.762238\n",
       "..        ...  ...        ...  ...    ...       ...        ...\n",
       "395  0.130961  0.0  37.786354  0.0    1.0  0.333426  10.142489\n",
       "396  0.039692  0.0   4.649539  0.0    1.0  0.489520   9.905863\n",
       "397  0.090418  0.0  70.237801  0.0    0.0  0.744933   9.272016\n",
       "398 -0.049929  0.0  92.501846  0.0    0.0  0.624872   9.671482\n",
       "399  0.341186  0.0  97.061523  0.0    0.0  0.395328  10.115508\n",
       "\n",
       "[400 rows x 7 columns]"
      ]
     },
     "execution_count": 44,
     "metadata": {},
     "output_type": "execute_result"
    }
   ],
   "source": [
    "results_gradcam_noisy"
   ]
  },
  {
   "cell_type": "code",
   "execution_count": 45,
   "metadata": {},
   "outputs": [
    {
     "data": {
      "application/vnd.microsoft.datawrangler.viewer.v0+json": {
       "columns": [
        {
         "name": "index",
         "rawType": "object",
         "type": "string"
        },
        {
         "name": "mean",
         "rawType": "float64",
         "type": "float"
        },
        {
         "name": "std",
         "rawType": "float64",
         "type": "float"
        }
       ],
       "conversionMethod": "pd.DataFrame",
       "ref": "774d9cdc-7596-4876-94e0-490af2df0b1e",
       "rows": [
        [
         "FF",
         "0.16533054411411285",
         "0.23241852223873138"
        ],
        [
         "AI",
         "3.25",
         "17.754592895507812"
        ],
        [
         "AD",
         "69.80162811279297",
         "30.4166202545166"
        ],
        [
         "AG",
         "0.626069962978363",
         "4.165146827697754"
        ],
        [
         "FidIn",
         "0.3774999976158142",
         "0.48536863923072815"
        ],
        [
         "SPS",
         "0.49502071903781086",
         "0.22421851416409705"
        ],
        [
         "COMP",
         "9.250613139786207",
         "2.185574848736246"
        ]
       ],
       "shape": {
        "columns": 2,
        "rows": 7
       }
      },
      "text/html": [
       "<div>\n",
       "<style scoped>\n",
       "    .dataframe tbody tr th:only-of-type {\n",
       "        vertical-align: middle;\n",
       "    }\n",
       "\n",
       "    .dataframe tbody tr th {\n",
       "        vertical-align: top;\n",
       "    }\n",
       "\n",
       "    .dataframe thead th {\n",
       "        text-align: right;\n",
       "    }\n",
       "</style>\n",
       "<table border=\"1\" class=\"dataframe\">\n",
       "  <thead>\n",
       "    <tr style=\"text-align: right;\">\n",
       "      <th></th>\n",
       "      <th>mean</th>\n",
       "      <th>std</th>\n",
       "    </tr>\n",
       "  </thead>\n",
       "  <tbody>\n",
       "    <tr>\n",
       "      <th>FF</th>\n",
       "      <td>0.165331</td>\n",
       "      <td>0.232419</td>\n",
       "    </tr>\n",
       "    <tr>\n",
       "      <th>AI</th>\n",
       "      <td>3.250000</td>\n",
       "      <td>17.754593</td>\n",
       "    </tr>\n",
       "    <tr>\n",
       "      <th>AD</th>\n",
       "      <td>69.801628</td>\n",
       "      <td>30.416620</td>\n",
       "    </tr>\n",
       "    <tr>\n",
       "      <th>AG</th>\n",
       "      <td>0.626070</td>\n",
       "      <td>4.165147</td>\n",
       "    </tr>\n",
       "    <tr>\n",
       "      <th>FidIn</th>\n",
       "      <td>0.377500</td>\n",
       "      <td>0.485369</td>\n",
       "    </tr>\n",
       "    <tr>\n",
       "      <th>SPS</th>\n",
       "      <td>0.495021</td>\n",
       "      <td>0.224219</td>\n",
       "    </tr>\n",
       "    <tr>\n",
       "      <th>COMP</th>\n",
       "      <td>9.250613</td>\n",
       "      <td>2.185575</td>\n",
       "    </tr>\n",
       "  </tbody>\n",
       "</table>\n",
       "</div>"
      ],
      "text/plain": [
       "            mean        std\n",
       "FF      0.165331   0.232419\n",
       "AI      3.250000  17.754593\n",
       "AD     69.801628  30.416620\n",
       "AG      0.626070   4.165147\n",
       "FidIn   0.377500   0.485369\n",
       "SPS     0.495021   0.224219\n",
       "COMP    9.250613   2.185575"
      ]
     },
     "execution_count": 45,
     "metadata": {},
     "output_type": "execute_result"
    }
   ],
   "source": [
    "results_gradcam_noisy.describe().T[[\"mean\", \"std\"]]"
   ]
  },
  {
   "cell_type": "code",
   "execution_count": 46,
   "metadata": {},
   "outputs": [],
   "source": [
    "wav, SR = torchaudio.load(\"samples/crow.wav\")\n",
    "wav = torchaudio.functional.resample(wav, SR, sr)\n",
    "wav /= wav.abs().max()\n",
    "\n",
    "wav2, SR = torchaudio.load(\"samples/sea_waves.wav\")\n",
    "wav2 = torchaudio.functional.resample(wav2, SR, sr)\n",
    "wav2 /= wav2.abs().max()"
   ]
  },
  {
   "cell_type": "code",
   "execution_count": 47,
   "metadata": {},
   "outputs": [],
   "source": [
    "wavv = 0.8 * wav + 0.2 * wav2\n",
    "wavv /= wavv.abs().max()"
   ]
  }
 ],
 "metadata": {
  "kernelspec": {
   "display_name": "env",
   "language": "python",
   "name": "python3"
  },
  "language_info": {
   "codemirror_mode": {
    "name": "ipython",
    "version": 3
   },
   "file_extension": ".py",
   "mimetype": "text/x-python",
   "name": "python",
   "nbconvert_exporter": "python",
   "pygments_lexer": "ipython3",
   "version": "3.12.3"
  }
 },
 "nbformat": 4,
 "nbformat_minor": 2
}
