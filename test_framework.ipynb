{
 "cells": [
  {
   "cell_type": "markdown",
   "metadata": {},
   "source": [
    "# Run experiments"
   ]
  },
  {
   "cell_type": "code",
   "execution_count": 1,
   "metadata": {},
   "outputs": [
    {
     "name": "stderr",
     "output_type": "stream",
     "text": [
      "/home/yuliya/coursework24/env/lib/python3.12/site-packages/tqdm/auto.py:21: TqdmWarning: IProgress not found. Please update jupyter and ipywidgets. See https://ipywidgets.readthedocs.io/en/stable/user_install.html\n",
      "  from .autonotebook import tqdm as notebook_tqdm\n"
     ]
    }
   ],
   "source": [
    "from audiointerp.dataset.esc50 import ESC50dataset, ESC50contaminated\n",
    "from audiointerp.model.cnn14 import TransferCnn14\n",
    "from audiointerp.fit import Trainer\n",
    "from audiointerp.processing.spectrogram import LogMelSTFTSpectrogram\n",
    "from audiointerp.interpretation.saliency import SaliencyInterpreter\n",
    "from audiointerp.interpretation.gradcam import GradCAMInterpreter\n",
    "import torchaudio\n",
    "import torch.nn as nn\n",
    "import torch.optim as optim\n",
    "import torchaudio.transforms as T_audio\n",
    "import torchvision.transforms as T_vision\n",
    "import torch\n",
    "from torch.utils.data import DataLoader\n",
    "import matplotlib.pyplot as plt\n",
    "import random\n",
    "import numpy as np\n",
    "from IPython.display import Audio\n",
    "from audiointerp.predict import Predict\n",
    "from audiointerp.metrics import Metrics"
   ]
  },
  {
   "cell_type": "code",
   "execution_count": 2,
   "metadata": {},
   "outputs": [],
   "source": [
    "TRAINING = False"
   ]
  },
  {
   "cell_type": "code",
   "execution_count": 3,
   "metadata": {},
   "outputs": [],
   "source": [
    "def plot_learning_curves(train_losses, val_losses, train_accs=None, val_accs=None):\n",
    "    epochs = range(1, len(train_losses) + 1)\n",
    "\n",
    "    plt.figure(figsize=(12, 5))\n",
    "\n",
    "    plt.subplot(1, 2, 1)\n",
    "    plt.plot(epochs, train_losses, label=\"Train Loss\")\n",
    "    if val_losses:\n",
    "        plt.plot(epochs, val_losses, label=\"Val Loss\")\n",
    "    plt.xlabel(\"Epoch\")\n",
    "    plt.ylabel(\"Loss\")\n",
    "    plt.title(\"Loss Curve\")\n",
    "    plt.legend()\n",
    "\n",
    "    plt.subplot(1, 2, 2)\n",
    "    if train_accs is not None:\n",
    "        plt.plot(epochs, train_accs, label=\"Train Acc\")\n",
    "    if val_accs is not None:\n",
    "        plt.plot(epochs, val_accs, label=\"Val Acc\")\n",
    "    plt.xlabel(\"Epoch\")\n",
    "    plt.ylabel(\"Accuracy\")\n",
    "    plt.title(\"Accuracy Curve\")\n",
    "    plt.legend()\n",
    "\n",
    "    plt.tight_layout()\n",
    "    plt.show()"
   ]
  },
  {
   "cell_type": "code",
   "execution_count": 4,
   "metadata": {},
   "outputs": [],
   "source": [
    "root_dir = \"/home/yuliya/ESC50\"\n",
    "sr = 32000\n",
    "train_folds = [1, 2, 3]\n",
    "valid_folds = [4]\n",
    "test_folds = [5]"
   ]
  },
  {
   "cell_type": "code",
   "execution_count": 5,
   "metadata": {},
   "outputs": [],
   "source": [
    "n_fft = 1024\n",
    "hop_length = 320\n",
    "win_length = 1024\n",
    "n_mels = 64\n",
    "f_min = 50\n",
    "f_max = 14000\n",
    "top_db = 80"
   ]
  },
  {
   "cell_type": "code",
   "execution_count": 6,
   "metadata": {},
   "outputs": [],
   "source": [
    "feature_extractor_fit = LogMelSTFTSpectrogram(\n",
    "    n_fft=n_fft, win_length=win_length, hop_length=hop_length,\n",
    "    sample_rate=sr, n_mels=n_mels, f_min=f_min, f_max=f_max, top_db=top_db,\n",
    "    return_phase=False, return_full_db=False\n",
    ")"
   ]
  },
  {
   "cell_type": "code",
   "execution_count": 7,
   "metadata": {},
   "outputs": [],
   "source": [
    "feature_extractor_predict = LogMelSTFTSpectrogram(\n",
    "    n_fft=n_fft, win_length=win_length, hop_length=hop_length,\n",
    "    sample_rate=sr, n_mels=n_mels, f_min=f_min, f_max=f_max, top_db=top_db,\n",
    "    return_phase=True, return_full_db=True\n",
    ")"
   ]
  },
  {
   "cell_type": "code",
   "execution_count": 8,
   "metadata": {},
   "outputs": [],
   "source": [
    "feature_augs = nn.Sequential(\n",
    "    T_audio.FrequencyMasking(20),\n",
    "    T_audio.TimeMasking(20)\n",
    ")"
   ]
  },
  {
   "cell_type": "code",
   "execution_count": 9,
   "metadata": {},
   "outputs": [],
   "source": [
    "train_data = ESC50dataset(root_dir=root_dir, sr=sr, folds=train_folds, normalize=\"peak\", feature_extractor=feature_extractor_fit, feature_augs=feature_augs)\n",
    "valid_data = ESC50dataset(root_dir=root_dir, sr=sr, folds=valid_folds, normalize=\"peak\", feature_extractor=feature_extractor_fit)\n",
    "test_data = ESC50dataset(root_dir=root_dir, sr=sr, folds=test_folds, normalize=\"peak\", feature_extractor=feature_extractor_fit)\n",
    "test_data_noisy = ESC50contaminated(root_dir=root_dir, sr=sr, folds=test_folds, normalize=\"peak\", feature_extractor=feature_extractor_fit,\n",
    "                                    path_to_contaminating_audio=\"samples/sea_waves.wav\")"
   ]
  },
  {
   "cell_type": "code",
   "execution_count": 10,
   "metadata": {},
   "outputs": [],
   "source": [
    "train_loader_kwargs = {\"batch_size\": 32, \"shuffle\": True}\n",
    "valid_loader_kwargs = {\"batch_size\": 32, \"shuffle\": False}\n",
    "test_loader_kwargs = {\"batch_size\": 32, \"shuffle\": False}"
   ]
  },
  {
   "cell_type": "code",
   "execution_count": 11,
   "metadata": {},
   "outputs": [],
   "source": [
    "device = torch.device(\"cuda\" if torch.cuda.is_available() else \"cpu\")\n",
    "model_cls = TransferCnn14\n",
    "model_kwargs = {\"num_classes\": 50, \"num_bins\": 64}\n",
    "model_pretrain_weights_path = \"weights/Cnn14_mAP=0.431.pth\"\n",
    "\n",
    "optimizer_cls = optim.Adam\n",
    "optimizer_kwargs = {\"lr\": 1e-4}\n",
    "\n",
    "criterion_cls = nn.CrossEntropyLoss\n",
    "use_mixup = True\n",
    "mixup_alpha = 0.2"
   ]
  },
  {
   "cell_type": "code",
   "execution_count": 12,
   "metadata": {},
   "outputs": [
    {
     "name": "stdout",
     "output_type": "stream",
     "text": [
      "Random seed set to: 42\n"
     ]
    }
   ],
   "source": [
    "model_trainer = Trainer(\n",
    "    model_cls=model_cls,\n",
    "    train_data=train_data,\n",
    "    train_loader_kwargs=train_loader_kwargs,\n",
    "    criterion_cls=criterion_cls,\n",
    "    optimizer_cls=optimizer_cls,\n",
    "    model_kwargs=model_kwargs,\n",
    "    model_pretrain_weights_path=model_pretrain_weights_path,\n",
    "    optimizer_kwargs=optimizer_kwargs,\n",
    "    device=device,\n",
    "    valid_data=valid_data,\n",
    "    valid_loader_kwargs=valid_loader_kwargs,\n",
    "    test_data=test_data,\n",
    "    test_loader_kwargs=test_loader_kwargs,\n",
    "    use_mixup=use_mixup,\n",
    "    mixup_alpha=mixup_alpha\n",
    ")"
   ]
  },
  {
   "cell_type": "code",
   "execution_count": null,
   "metadata": {},
   "outputs": [],
   "source": [
    "if TRAINING:\n",
    "    train_losses, train_accs, val_losses, val_accs, test_loss, test_acc = model_trainer.train(num_epochs=20, save_weights_path=\"logmel_cnn14.pth\")"
   ]
  },
  {
   "cell_type": "code",
   "execution_count": 14,
   "metadata": {},
   "outputs": [],
   "source": [
    "if TRAINING:\n",
    "    plot_learning_curves(train_losses=train_losses, train_accs=train_accs, val_losses=val_losses, val_accs=val_accs)"
   ]
  },
  {
   "cell_type": "code",
   "execution_count": 15,
   "metadata": {},
   "outputs": [
    {
     "data": {
      "text/plain": [
       "<All keys matched successfully>"
      ]
     },
     "execution_count": 15,
     "metadata": {},
     "output_type": "execute_result"
    }
   ],
   "source": [
    "model_trainer.model.load_state_dict(torch.load(\"logmel_cnn14.pth\"))"
   ]
  },
  {
   "cell_type": "code",
   "execution_count": 16,
   "metadata": {},
   "outputs": [
    {
     "name": "stdout",
     "output_type": "stream",
     "text": [
      "Test Loss: 0.3285, Test Acc: 0.9175\n"
     ]
    },
    {
     "data": {
      "text/plain": [
       "(0.32851228475570676, 0.9175)"
      ]
     },
     "execution_count": 16,
     "metadata": {},
     "output_type": "execute_result"
    }
   ],
   "source": [
    "model_trainer.test()"
   ]
  },
  {
   "cell_type": "code",
   "execution_count": 17,
   "metadata": {},
   "outputs": [],
   "source": [
    "test_loader_noisy = DataLoader(test_data_noisy, **test_loader_kwargs)"
   ]
  },
  {
   "cell_type": "code",
   "execution_count": 18,
   "metadata": {},
   "outputs": [
    {
     "name": "stdout",
     "output_type": "stream",
     "text": [
      "Test Loss: 1.5115, Test Acc: 0.6075\n"
     ]
    },
    {
     "data": {
      "text/plain": [
       "(1.5115180492401123, 0.6075)"
      ]
     },
     "execution_count": 18,
     "metadata": {},
     "output_type": "execute_result"
    }
   ],
   "source": [
    "model_trainer.test(test_loader_noisy)"
   ]
  },
  {
   "cell_type": "code",
   "execution_count": 19,
   "metadata": {},
   "outputs": [
    {
     "data": {
      "text/plain": [
       "TransferCnn14(\n",
       "  (base): Cnn14(\n",
       "    (bn0): BatchNorm2d(64, eps=1e-05, momentum=0.1, affine=True, track_running_stats=True)\n",
       "    (conv_block1): ConvBlock(\n",
       "      (conv1): Conv2d(1, 64, kernel_size=(3, 3), stride=(1, 1), padding=(1, 1), bias=False)\n",
       "      (conv2): Conv2d(64, 64, kernel_size=(3, 3), stride=(1, 1), padding=(1, 1), bias=False)\n",
       "      (bn1): BatchNorm2d(64, eps=1e-05, momentum=0.1, affine=True, track_running_stats=True)\n",
       "      (bn2): BatchNorm2d(64, eps=1e-05, momentum=0.1, affine=True, track_running_stats=True)\n",
       "    )\n",
       "    (conv_block2): ConvBlock(\n",
       "      (conv1): Conv2d(64, 128, kernel_size=(3, 3), stride=(1, 1), padding=(1, 1), bias=False)\n",
       "      (conv2): Conv2d(128, 128, kernel_size=(3, 3), stride=(1, 1), padding=(1, 1), bias=False)\n",
       "      (bn1): BatchNorm2d(128, eps=1e-05, momentum=0.1, affine=True, track_running_stats=True)\n",
       "      (bn2): BatchNorm2d(128, eps=1e-05, momentum=0.1, affine=True, track_running_stats=True)\n",
       "    )\n",
       "    (conv_block3): ConvBlock(\n",
       "      (conv1): Conv2d(128, 256, kernel_size=(3, 3), stride=(1, 1), padding=(1, 1), bias=False)\n",
       "      (conv2): Conv2d(256, 256, kernel_size=(3, 3), stride=(1, 1), padding=(1, 1), bias=False)\n",
       "      (bn1): BatchNorm2d(256, eps=1e-05, momentum=0.1, affine=True, track_running_stats=True)\n",
       "      (bn2): BatchNorm2d(256, eps=1e-05, momentum=0.1, affine=True, track_running_stats=True)\n",
       "    )\n",
       "    (conv_block4): ConvBlock(\n",
       "      (conv1): Conv2d(256, 512, kernel_size=(3, 3), stride=(1, 1), padding=(1, 1), bias=False)\n",
       "      (conv2): Conv2d(512, 512, kernel_size=(3, 3), stride=(1, 1), padding=(1, 1), bias=False)\n",
       "      (bn1): BatchNorm2d(512, eps=1e-05, momentum=0.1, affine=True, track_running_stats=True)\n",
       "      (bn2): BatchNorm2d(512, eps=1e-05, momentum=0.1, affine=True, track_running_stats=True)\n",
       "    )\n",
       "    (conv_block5): ConvBlock(\n",
       "      (conv1): Conv2d(512, 1024, kernel_size=(3, 3), stride=(1, 1), padding=(1, 1), bias=False)\n",
       "      (conv2): Conv2d(1024, 1024, kernel_size=(3, 3), stride=(1, 1), padding=(1, 1), bias=False)\n",
       "      (bn1): BatchNorm2d(1024, eps=1e-05, momentum=0.1, affine=True, track_running_stats=True)\n",
       "      (bn2): BatchNorm2d(1024, eps=1e-05, momentum=0.1, affine=True, track_running_stats=True)\n",
       "    )\n",
       "    (conv_block6): ConvBlock(\n",
       "      (conv1): Conv2d(1024, 2048, kernel_size=(3, 3), stride=(1, 1), padding=(1, 1), bias=False)\n",
       "      (conv2): Conv2d(2048, 2048, kernel_size=(3, 3), stride=(1, 1), padding=(1, 1), bias=False)\n",
       "      (bn1): BatchNorm2d(2048, eps=1e-05, momentum=0.1, affine=True, track_running_stats=True)\n",
       "      (bn2): BatchNorm2d(2048, eps=1e-05, momentum=0.1, affine=True, track_running_stats=True)\n",
       "    )\n",
       "    (fc1): Linear(in_features=2048, out_features=2048, bias=True)\n",
       "  )\n",
       "  (classifier): Linear(in_features=2048, out_features=50, bias=True)\n",
       ")"
      ]
     },
     "execution_count": 19,
     "metadata": {},
     "output_type": "execute_result"
    }
   ],
   "source": [
    "model = model_trainer.model\n",
    "model"
   ]
  },
  {
   "cell_type": "markdown",
   "metadata": {},
   "source": [
    "___"
   ]
  },
  {
   "cell_type": "code",
   "execution_count": 20,
   "metadata": {},
   "outputs": [],
   "source": [
    "test_data_predict = ESC50dataset(root_dir=root_dir, sr=sr, folds=test_folds, normalize=\"peak\")\n",
    "test_loader_predict = DataLoader(test_data_predict, batch_size=1, shuffle=False)"
   ]
  },
  {
   "cell_type": "code",
   "execution_count": 21,
   "metadata": {},
   "outputs": [],
   "source": [
    "test_data_noisy_predict = ESC50contaminated(root_dir=root_dir, sr=sr, folds=test_folds, normalize=\"peak\", path_to_contaminating_audio=\"samples/sea_waves.wav\")\n",
    "test_loader_noisy_predict = DataLoader(test_data_noisy_predict, batch_size=1, shuffle=False)"
   ]
  },
  {
   "cell_type": "code",
   "execution_count": 22,
   "metadata": {},
   "outputs": [],
   "source": [
    "predict_saliency = Predict(model, feature_extractor_predict, interp_method_cls=SaliencyInterpreter, interp_method_kwargs={}, device=device)\n",
    "predict_gradcam = Predict(model, feature_extractor_predict, interp_method_cls=GradCAMInterpreter, interp_method_kwargs={\"target_layers\": [model.base.conv_block6.conv2]}, device=device)"
   ]
  },
  {
   "cell_type": "code",
   "execution_count": 23,
   "metadata": {},
   "outputs": [
    {
     "name": "stdout",
     "output_type": "stream",
     "text": [
      "Results saved as results/saliency_clean.csv\n"
     ]
    }
   ],
   "source": [
    "results_saliency = predict_saliency.predict_set(test_loader_predict, 'saliency_clean.csv')"
   ]
  },
  {
   "cell_type": "code",
   "execution_count": 28,
   "metadata": {},
   "outputs": [
    {
     "data": {
      "application/vnd.microsoft.datawrangler.viewer.v0+json": {
       "columns": [
        {
         "name": "index",
         "rawType": "int64",
         "type": "integer"
        },
        {
         "name": "FF",
         "rawType": "float32",
         "type": "float"
        },
        {
         "name": "AI",
         "rawType": "float32",
         "type": "float"
        },
        {
         "name": "AD",
         "rawType": "float32",
         "type": "float"
        },
        {
         "name": "AG",
         "rawType": "float32",
         "type": "float"
        },
        {
         "name": "FidIn",
         "rawType": "float32",
         "type": "float"
        },
        {
         "name": "SPS",
         "rawType": "float64",
         "type": "float"
        },
        {
         "name": "COMP",
         "rawType": "float64",
         "type": "float"
        },
        {
         "name": "is_correct",
         "rawType": "bool",
         "type": "boolean"
        }
       ],
       "conversionMethod": "pd.DataFrame",
       "ref": "a59ae9c5-f760-4dd4-be80-ca6a9f738ede",
       "rows": [
        [
         "0",
         "0.80775994",
         "0.0",
         "98.17637",
         "0.0",
         "0.0",
         "0.7674749987538763",
         "9.172154940869923",
         "True"
        ],
        [
         "1",
         "0.005460851",
         "0.0",
         "22.82156",
         "0.0",
         "0.0",
         "0.8876930676662932",
         "8.472346175949859",
         "False"
        ],
        [
         "2",
         "0.45550016",
         "0.0",
         "88.76905",
         "0.0",
         "0.0",
         "0.8650118296740784",
         "8.645321141978446",
         "False"
        ],
        [
         "3",
         "0.44958824",
         "0.0",
         "93.00748",
         "0.0",
         "0.0",
         "0.9177076261516477",
         "8.10376481523124",
         "False"
        ],
        [
         "4",
         "0.74769163",
         "0.0",
         "96.72439",
         "0.0",
         "0.0",
         "0.7782827001367797",
         "9.126100769613892",
         "True"
        ],
        [
         "5",
         "0.45447823",
         "0.0",
         "94.73327",
         "0.0",
         "0.0",
         "0.9337243890905699",
         "7.83152443538032",
         "True"
        ],
        [
         "6",
         "0.49899167",
         "0.0",
         "98.00404",
         "0.0",
         "0.0",
         "0.7805155114995428",
         "9.126462495928505",
         "True"
        ],
        [
         "7",
         "0.28365767",
         "0.0",
         "99.45198",
         "0.0",
         "0.0",
         "0.7663674989010593",
         "9.189060453308246",
         "True"
        ],
        [
         "8",
         "0.58357143",
         "0.0",
         "98.57505",
         "0.0",
         "0.0",
         "0.7876723337127823",
         "9.091068872496436",
         "True"
        ],
        [
         "9",
         "0.33777276",
         "0.0",
         "82.542656",
         "0.0",
         "0.0",
         "0.9182307537257581",
         "8.095887990546807",
         "True"
        ],
        [
         "10",
         "0.7043891",
         "0.0",
         "79.59381",
         "0.0",
         "1.0",
         "0.7522029179153387",
         "9.243573448268176",
         "True"
        ],
        [
         "11",
         "0.9458624",
         "0.0",
         "98.879555",
         "0.0",
         "0.0",
         "0.7654643972236179",
         "9.184405457708126",
         "True"
        ],
        [
         "12",
         "0.86521363",
         "0.0",
         "98.21721",
         "0.0",
         "0.0",
         "0.8034263917454212",
         "8.993583659864655",
         "True"
        ],
        [
         "13",
         "0.63285697",
         "0.0",
         "99.523285",
         "0.0",
         "0.0",
         "0.773637182033736",
         "9.14918401559207",
         "True"
        ],
        [
         "14",
         "0.5146472",
         "0.0",
         "98.97116",
         "0.0",
         "0.0",
         "0.756726880465188",
         "9.218850249343873",
         "True"
        ],
        [
         "15",
         "0.9220367",
         "0.0",
         "99.7348",
         "0.0",
         "0.0",
         "0.7748152865331522",
         "9.15080213799801",
         "True"
        ],
        [
         "16",
         "0.25612313",
         "0.0",
         "98.6734",
         "0.0",
         "0.0",
         "0.7523686193402617",
         "9.238391990915773",
         "False"
        ],
        [
         "17",
         "0.9049929",
         "0.0",
         "98.648224",
         "0.0",
         "0.0",
         "0.7731215413649876",
         "9.158717368696378",
         "True"
        ],
        [
         "18",
         "0.7431529",
         "0.0",
         "98.26267",
         "0.0",
         "0.0",
         "0.7705042731239358",
         "9.159580344019147",
         "True"
        ],
        [
         "19",
         "0.3594753",
         "0.0",
         "76.56245",
         "0.0",
         "0.0",
         "0.8017017940692575",
         "8.99945398196264",
         "False"
        ]
       ],
       "shape": {
        "columns": 8,
        "rows": 20
       }
      },
      "text/html": [
       "<div>\n",
       "<style scoped>\n",
       "    .dataframe tbody tr th:only-of-type {\n",
       "        vertical-align: middle;\n",
       "    }\n",
       "\n",
       "    .dataframe tbody tr th {\n",
       "        vertical-align: top;\n",
       "    }\n",
       "\n",
       "    .dataframe thead th {\n",
       "        text-align: right;\n",
       "    }\n",
       "</style>\n",
       "<table border=\"1\" class=\"dataframe\">\n",
       "  <thead>\n",
       "    <tr style=\"text-align: right;\">\n",
       "      <th></th>\n",
       "      <th>FF</th>\n",
       "      <th>AI</th>\n",
       "      <th>AD</th>\n",
       "      <th>AG</th>\n",
       "      <th>FidIn</th>\n",
       "      <th>SPS</th>\n",
       "      <th>COMP</th>\n",
       "      <th>is_correct</th>\n",
       "    </tr>\n",
       "  </thead>\n",
       "  <tbody>\n",
       "    <tr>\n",
       "      <th>0</th>\n",
       "      <td>0.807760</td>\n",
       "      <td>0.0</td>\n",
       "      <td>98.176369</td>\n",
       "      <td>0.0</td>\n",
       "      <td>0.0</td>\n",
       "      <td>0.767475</td>\n",
       "      <td>9.172155</td>\n",
       "      <td>True</td>\n",
       "    </tr>\n",
       "    <tr>\n",
       "      <th>1</th>\n",
       "      <td>0.005461</td>\n",
       "      <td>0.0</td>\n",
       "      <td>22.821560</td>\n",
       "      <td>0.0</td>\n",
       "      <td>0.0</td>\n",
       "      <td>0.887693</td>\n",
       "      <td>8.472346</td>\n",
       "      <td>False</td>\n",
       "    </tr>\n",
       "    <tr>\n",
       "      <th>2</th>\n",
       "      <td>0.455500</td>\n",
       "      <td>0.0</td>\n",
       "      <td>88.769051</td>\n",
       "      <td>0.0</td>\n",
       "      <td>0.0</td>\n",
       "      <td>0.865012</td>\n",
       "      <td>8.645321</td>\n",
       "      <td>False</td>\n",
       "    </tr>\n",
       "    <tr>\n",
       "      <th>3</th>\n",
       "      <td>0.449588</td>\n",
       "      <td>0.0</td>\n",
       "      <td>93.007477</td>\n",
       "      <td>0.0</td>\n",
       "      <td>0.0</td>\n",
       "      <td>0.917708</td>\n",
       "      <td>8.103765</td>\n",
       "      <td>False</td>\n",
       "    </tr>\n",
       "    <tr>\n",
       "      <th>4</th>\n",
       "      <td>0.747692</td>\n",
       "      <td>0.0</td>\n",
       "      <td>96.724388</td>\n",
       "      <td>0.0</td>\n",
       "      <td>0.0</td>\n",
       "      <td>0.778283</td>\n",
       "      <td>9.126101</td>\n",
       "      <td>True</td>\n",
       "    </tr>\n",
       "    <tr>\n",
       "      <th>5</th>\n",
       "      <td>0.454478</td>\n",
       "      <td>0.0</td>\n",
       "      <td>94.733269</td>\n",
       "      <td>0.0</td>\n",
       "      <td>0.0</td>\n",
       "      <td>0.933724</td>\n",
       "      <td>7.831524</td>\n",
       "      <td>True</td>\n",
       "    </tr>\n",
       "    <tr>\n",
       "      <th>6</th>\n",
       "      <td>0.498992</td>\n",
       "      <td>0.0</td>\n",
       "      <td>98.004044</td>\n",
       "      <td>0.0</td>\n",
       "      <td>0.0</td>\n",
       "      <td>0.780516</td>\n",
       "      <td>9.126462</td>\n",
       "      <td>True</td>\n",
       "    </tr>\n",
       "    <tr>\n",
       "      <th>7</th>\n",
       "      <td>0.283658</td>\n",
       "      <td>0.0</td>\n",
       "      <td>99.451981</td>\n",
       "      <td>0.0</td>\n",
       "      <td>0.0</td>\n",
       "      <td>0.766367</td>\n",
       "      <td>9.189060</td>\n",
       "      <td>True</td>\n",
       "    </tr>\n",
       "    <tr>\n",
       "      <th>8</th>\n",
       "      <td>0.583571</td>\n",
       "      <td>0.0</td>\n",
       "      <td>98.575050</td>\n",
       "      <td>0.0</td>\n",
       "      <td>0.0</td>\n",
       "      <td>0.787672</td>\n",
       "      <td>9.091069</td>\n",
       "      <td>True</td>\n",
       "    </tr>\n",
       "    <tr>\n",
       "      <th>9</th>\n",
       "      <td>0.337773</td>\n",
       "      <td>0.0</td>\n",
       "      <td>82.542656</td>\n",
       "      <td>0.0</td>\n",
       "      <td>0.0</td>\n",
       "      <td>0.918231</td>\n",
       "      <td>8.095888</td>\n",
       "      <td>True</td>\n",
       "    </tr>\n",
       "    <tr>\n",
       "      <th>10</th>\n",
       "      <td>0.704389</td>\n",
       "      <td>0.0</td>\n",
       "      <td>79.593811</td>\n",
       "      <td>0.0</td>\n",
       "      <td>1.0</td>\n",
       "      <td>0.752203</td>\n",
       "      <td>9.243573</td>\n",
       "      <td>True</td>\n",
       "    </tr>\n",
       "    <tr>\n",
       "      <th>11</th>\n",
       "      <td>0.945862</td>\n",
       "      <td>0.0</td>\n",
       "      <td>98.879555</td>\n",
       "      <td>0.0</td>\n",
       "      <td>0.0</td>\n",
       "      <td>0.765464</td>\n",
       "      <td>9.184405</td>\n",
       "      <td>True</td>\n",
       "    </tr>\n",
       "    <tr>\n",
       "      <th>12</th>\n",
       "      <td>0.865214</td>\n",
       "      <td>0.0</td>\n",
       "      <td>98.217209</td>\n",
       "      <td>0.0</td>\n",
       "      <td>0.0</td>\n",
       "      <td>0.803426</td>\n",
       "      <td>8.993584</td>\n",
       "      <td>True</td>\n",
       "    </tr>\n",
       "    <tr>\n",
       "      <th>13</th>\n",
       "      <td>0.632857</td>\n",
       "      <td>0.0</td>\n",
       "      <td>99.523285</td>\n",
       "      <td>0.0</td>\n",
       "      <td>0.0</td>\n",
       "      <td>0.773637</td>\n",
       "      <td>9.149184</td>\n",
       "      <td>True</td>\n",
       "    </tr>\n",
       "    <tr>\n",
       "      <th>14</th>\n",
       "      <td>0.514647</td>\n",
       "      <td>0.0</td>\n",
       "      <td>98.971161</td>\n",
       "      <td>0.0</td>\n",
       "      <td>0.0</td>\n",
       "      <td>0.756727</td>\n",
       "      <td>9.218850</td>\n",
       "      <td>True</td>\n",
       "    </tr>\n",
       "    <tr>\n",
       "      <th>15</th>\n",
       "      <td>0.922037</td>\n",
       "      <td>0.0</td>\n",
       "      <td>99.734802</td>\n",
       "      <td>0.0</td>\n",
       "      <td>0.0</td>\n",
       "      <td>0.774815</td>\n",
       "      <td>9.150802</td>\n",
       "      <td>True</td>\n",
       "    </tr>\n",
       "    <tr>\n",
       "      <th>16</th>\n",
       "      <td>0.256123</td>\n",
       "      <td>0.0</td>\n",
       "      <td>98.673401</td>\n",
       "      <td>0.0</td>\n",
       "      <td>0.0</td>\n",
       "      <td>0.752369</td>\n",
       "      <td>9.238392</td>\n",
       "      <td>False</td>\n",
       "    </tr>\n",
       "    <tr>\n",
       "      <th>17</th>\n",
       "      <td>0.904993</td>\n",
       "      <td>0.0</td>\n",
       "      <td>98.648224</td>\n",
       "      <td>0.0</td>\n",
       "      <td>0.0</td>\n",
       "      <td>0.773122</td>\n",
       "      <td>9.158717</td>\n",
       "      <td>True</td>\n",
       "    </tr>\n",
       "    <tr>\n",
       "      <th>18</th>\n",
       "      <td>0.743153</td>\n",
       "      <td>0.0</td>\n",
       "      <td>98.262672</td>\n",
       "      <td>0.0</td>\n",
       "      <td>0.0</td>\n",
       "      <td>0.770504</td>\n",
       "      <td>9.159580</td>\n",
       "      <td>True</td>\n",
       "    </tr>\n",
       "    <tr>\n",
       "      <th>19</th>\n",
       "      <td>0.359475</td>\n",
       "      <td>0.0</td>\n",
       "      <td>76.562447</td>\n",
       "      <td>0.0</td>\n",
       "      <td>0.0</td>\n",
       "      <td>0.801702</td>\n",
       "      <td>8.999454</td>\n",
       "      <td>False</td>\n",
       "    </tr>\n",
       "  </tbody>\n",
       "</table>\n",
       "</div>"
      ],
      "text/plain": [
       "          FF   AI         AD   AG  FidIn       SPS      COMP  is_correct\n",
       "0   0.807760  0.0  98.176369  0.0    0.0  0.767475  9.172155        True\n",
       "1   0.005461  0.0  22.821560  0.0    0.0  0.887693  8.472346       False\n",
       "2   0.455500  0.0  88.769051  0.0    0.0  0.865012  8.645321       False\n",
       "3   0.449588  0.0  93.007477  0.0    0.0  0.917708  8.103765       False\n",
       "4   0.747692  0.0  96.724388  0.0    0.0  0.778283  9.126101        True\n",
       "5   0.454478  0.0  94.733269  0.0    0.0  0.933724  7.831524        True\n",
       "6   0.498992  0.0  98.004044  0.0    0.0  0.780516  9.126462        True\n",
       "7   0.283658  0.0  99.451981  0.0    0.0  0.766367  9.189060        True\n",
       "8   0.583571  0.0  98.575050  0.0    0.0  0.787672  9.091069        True\n",
       "9   0.337773  0.0  82.542656  0.0    0.0  0.918231  8.095888        True\n",
       "10  0.704389  0.0  79.593811  0.0    1.0  0.752203  9.243573        True\n",
       "11  0.945862  0.0  98.879555  0.0    0.0  0.765464  9.184405        True\n",
       "12  0.865214  0.0  98.217209  0.0    0.0  0.803426  8.993584        True\n",
       "13  0.632857  0.0  99.523285  0.0    0.0  0.773637  9.149184        True\n",
       "14  0.514647  0.0  98.971161  0.0    0.0  0.756727  9.218850        True\n",
       "15  0.922037  0.0  99.734802  0.0    0.0  0.774815  9.150802        True\n",
       "16  0.256123  0.0  98.673401  0.0    0.0  0.752369  9.238392       False\n",
       "17  0.904993  0.0  98.648224  0.0    0.0  0.773122  9.158717        True\n",
       "18  0.743153  0.0  98.262672  0.0    0.0  0.770504  9.159580        True\n",
       "19  0.359475  0.0  76.562447  0.0    0.0  0.801702  8.999454       False"
      ]
     },
     "execution_count": 28,
     "metadata": {},
     "output_type": "execute_result"
    }
   ],
   "source": [
    "results_saliency.head(20)"
   ]
  },
  {
   "cell_type": "code",
   "execution_count": 34,
   "metadata": {},
   "outputs": [],
   "source": [
    "results_saliency_correct = results_saliency[results_saliency[\"is_correct\"] == True].drop(columns=[\"is_correct\"])\n",
    "results_saliency_incorrect = results_saliency[results_saliency[\"is_correct\"] == False].drop(columns=[\"is_correct\"])"
   ]
  },
  {
   "cell_type": "code",
   "execution_count": 35,
   "metadata": {},
   "outputs": [
    {
     "data": {
      "application/vnd.microsoft.datawrangler.viewer.v0+json": {
       "columns": [
        {
         "name": "index",
         "rawType": "object",
         "type": "string"
        },
        {
         "name": "mean",
         "rawType": "float64",
         "type": "float"
        },
        {
         "name": "std",
         "rawType": "float64",
         "type": "float"
        }
       ],
       "conversionMethod": "pd.DataFrame",
       "ref": "048a1156-caa9-4512-bf02-389ff98921e7",
       "rows": [
        [
         "FF",
         "0.6790972352027893",
         "0.24721762537956238"
        ],
        [
         "AI",
         "0.0",
         "0.0"
        ],
        [
         "AD",
         "93.14791107177734",
         "11.334028244018555"
        ],
        [
         "AG",
         "0.0",
         "0.0"
        ],
        [
         "FidIn",
         "0.10499999672174454",
         "0.3069373369216919"
        ],
        [
         "SPS",
         "0.7831910516744823",
         "0.04057146927989985"
        ],
        [
         "COMP",
         "9.078914978096673",
         "0.26082167635954345"
        ]
       ],
       "shape": {
        "columns": 2,
        "rows": 7
       }
      },
      "text/html": [
       "<div>\n",
       "<style scoped>\n",
       "    .dataframe tbody tr th:only-of-type {\n",
       "        vertical-align: middle;\n",
       "    }\n",
       "\n",
       "    .dataframe tbody tr th {\n",
       "        vertical-align: top;\n",
       "    }\n",
       "\n",
       "    .dataframe thead th {\n",
       "        text-align: right;\n",
       "    }\n",
       "</style>\n",
       "<table border=\"1\" class=\"dataframe\">\n",
       "  <thead>\n",
       "    <tr style=\"text-align: right;\">\n",
       "      <th></th>\n",
       "      <th>mean</th>\n",
       "      <th>std</th>\n",
       "    </tr>\n",
       "  </thead>\n",
       "  <tbody>\n",
       "    <tr>\n",
       "      <th>FF</th>\n",
       "      <td>0.679097</td>\n",
       "      <td>0.247218</td>\n",
       "    </tr>\n",
       "    <tr>\n",
       "      <th>AI</th>\n",
       "      <td>0.000000</td>\n",
       "      <td>0.000000</td>\n",
       "    </tr>\n",
       "    <tr>\n",
       "      <th>AD</th>\n",
       "      <td>93.147911</td>\n",
       "      <td>11.334028</td>\n",
       "    </tr>\n",
       "    <tr>\n",
       "      <th>AG</th>\n",
       "      <td>0.000000</td>\n",
       "      <td>0.000000</td>\n",
       "    </tr>\n",
       "    <tr>\n",
       "      <th>FidIn</th>\n",
       "      <td>0.105000</td>\n",
       "      <td>0.306937</td>\n",
       "    </tr>\n",
       "    <tr>\n",
       "      <th>SPS</th>\n",
       "      <td>0.783191</td>\n",
       "      <td>0.040571</td>\n",
       "    </tr>\n",
       "    <tr>\n",
       "      <th>COMP</th>\n",
       "      <td>9.078915</td>\n",
       "      <td>0.260822</td>\n",
       "    </tr>\n",
       "  </tbody>\n",
       "</table>\n",
       "</div>"
      ],
      "text/plain": [
       "            mean        std\n",
       "FF      0.679097   0.247218\n",
       "AI      0.000000   0.000000\n",
       "AD     93.147911  11.334028\n",
       "AG      0.000000   0.000000\n",
       "FidIn   0.105000   0.306937\n",
       "SPS     0.783191   0.040571\n",
       "COMP    9.078915   0.260822"
      ]
     },
     "execution_count": 35,
     "metadata": {},
     "output_type": "execute_result"
    }
   ],
   "source": [
    "results_saliency.describe().T[[\"mean\", \"std\"]]"
   ]
  },
  {
   "cell_type": "code",
   "execution_count": 37,
   "metadata": {},
   "outputs": [
    {
     "data": {
      "application/vnd.microsoft.datawrangler.viewer.v0+json": {
       "columns": [
        {
         "name": "index",
         "rawType": "object",
         "type": "string"
        },
        {
         "name": "mean",
         "rawType": "float64",
         "type": "float"
        },
        {
         "name": "std",
         "rawType": "float64",
         "type": "float"
        }
       ],
       "conversionMethod": "pd.DataFrame",
       "ref": "31aa55e9-090d-4678-adea-6b97e1d4e560",
       "rows": [
        [
         "FF",
         "0.705438494682312",
         "0.23438192903995514"
        ],
        [
         "AI",
         "0.0",
         "0.0"
        ],
        [
         "AD",
         "94.08690643310547",
         "10.02838134765625"
        ],
        [
         "AG",
         "0.0",
         "0.0"
        ],
        [
         "FidIn",
         "0.10626702755689621",
         "0.3085997998714447"
        ],
        [
         "SPS",
         "0.7824091220456026",
         "0.03927191130631639"
        ],
        [
         "COMP",
         "9.084405632852734",
         "0.25268019206027253"
        ]
       ],
       "shape": {
        "columns": 2,
        "rows": 7
       }
      },
      "text/html": [
       "<div>\n",
       "<style scoped>\n",
       "    .dataframe tbody tr th:only-of-type {\n",
       "        vertical-align: middle;\n",
       "    }\n",
       "\n",
       "    .dataframe tbody tr th {\n",
       "        vertical-align: top;\n",
       "    }\n",
       "\n",
       "    .dataframe thead th {\n",
       "        text-align: right;\n",
       "    }\n",
       "</style>\n",
       "<table border=\"1\" class=\"dataframe\">\n",
       "  <thead>\n",
       "    <tr style=\"text-align: right;\">\n",
       "      <th></th>\n",
       "      <th>mean</th>\n",
       "      <th>std</th>\n",
       "    </tr>\n",
       "  </thead>\n",
       "  <tbody>\n",
       "    <tr>\n",
       "      <th>FF</th>\n",
       "      <td>0.705438</td>\n",
       "      <td>0.234382</td>\n",
       "    </tr>\n",
       "    <tr>\n",
       "      <th>AI</th>\n",
       "      <td>0.000000</td>\n",
       "      <td>0.000000</td>\n",
       "    </tr>\n",
       "    <tr>\n",
       "      <th>AD</th>\n",
       "      <td>94.086906</td>\n",
       "      <td>10.028381</td>\n",
       "    </tr>\n",
       "    <tr>\n",
       "      <th>AG</th>\n",
       "      <td>0.000000</td>\n",
       "      <td>0.000000</td>\n",
       "    </tr>\n",
       "    <tr>\n",
       "      <th>FidIn</th>\n",
       "      <td>0.106267</td>\n",
       "      <td>0.308600</td>\n",
       "    </tr>\n",
       "    <tr>\n",
       "      <th>SPS</th>\n",
       "      <td>0.782409</td>\n",
       "      <td>0.039272</td>\n",
       "    </tr>\n",
       "    <tr>\n",
       "      <th>COMP</th>\n",
       "      <td>9.084406</td>\n",
       "      <td>0.252680</td>\n",
       "    </tr>\n",
       "  </tbody>\n",
       "</table>\n",
       "</div>"
      ],
      "text/plain": [
       "            mean        std\n",
       "FF      0.705438   0.234382\n",
       "AI      0.000000   0.000000\n",
       "AD     94.086906  10.028381\n",
       "AG      0.000000   0.000000\n",
       "FidIn   0.106267   0.308600\n",
       "SPS     0.782409   0.039272\n",
       "COMP    9.084406   0.252680"
      ]
     },
     "execution_count": 37,
     "metadata": {},
     "output_type": "execute_result"
    }
   ],
   "source": [
    "results_saliency_correct.describe().T[[\"mean\", \"std\"]]"
   ]
  },
  {
   "cell_type": "code",
   "execution_count": 38,
   "metadata": {},
   "outputs": [
    {
     "data": {
      "application/vnd.microsoft.datawrangler.viewer.v0+json": {
       "columns": [
        {
         "name": "index",
         "rawType": "object",
         "type": "string"
        },
        {
         "name": "mean",
         "rawType": "float64",
         "type": "float"
        },
        {
         "name": "std",
         "rawType": "float64",
         "type": "float"
        }
       ],
       "conversionMethod": "pd.DataFrame",
       "ref": "59af1655-bc03-4baf-8ebb-20a6610009ad",
       "rows": [
        [
         "FF",
         "0.38614949584007263",
         "0.19305765628814697"
        ],
        [
         "AI",
         "0.0",
         "0.0"
        ],
        [
         "AD",
         "82.7050552368164",
         "18.135957717895508"
        ],
        [
         "AG",
         "0.0",
         "0.0"
        ],
        [
         "FidIn",
         "0.09090909361839294",
         "0.29193711280822754"
        ],
        [
         "SPS",
         "0.7918870569411128",
         "0.05290798426387678"
        ],
        [
         "COMP",
         "9.017852241870163",
         "0.33731183427256617"
        ]
       ],
       "shape": {
        "columns": 2,
        "rows": 7
       }
      },
      "text/html": [
       "<div>\n",
       "<style scoped>\n",
       "    .dataframe tbody tr th:only-of-type {\n",
       "        vertical-align: middle;\n",
       "    }\n",
       "\n",
       "    .dataframe tbody tr th {\n",
       "        vertical-align: top;\n",
       "    }\n",
       "\n",
       "    .dataframe thead th {\n",
       "        text-align: right;\n",
       "    }\n",
       "</style>\n",
       "<table border=\"1\" class=\"dataframe\">\n",
       "  <thead>\n",
       "    <tr style=\"text-align: right;\">\n",
       "      <th></th>\n",
       "      <th>mean</th>\n",
       "      <th>std</th>\n",
       "    </tr>\n",
       "  </thead>\n",
       "  <tbody>\n",
       "    <tr>\n",
       "      <th>FF</th>\n",
       "      <td>0.386149</td>\n",
       "      <td>0.193058</td>\n",
       "    </tr>\n",
       "    <tr>\n",
       "      <th>AI</th>\n",
       "      <td>0.000000</td>\n",
       "      <td>0.000000</td>\n",
       "    </tr>\n",
       "    <tr>\n",
       "      <th>AD</th>\n",
       "      <td>82.705055</td>\n",
       "      <td>18.135958</td>\n",
       "    </tr>\n",
       "    <tr>\n",
       "      <th>AG</th>\n",
       "      <td>0.000000</td>\n",
       "      <td>0.000000</td>\n",
       "    </tr>\n",
       "    <tr>\n",
       "      <th>FidIn</th>\n",
       "      <td>0.090909</td>\n",
       "      <td>0.291937</td>\n",
       "    </tr>\n",
       "    <tr>\n",
       "      <th>SPS</th>\n",
       "      <td>0.791887</td>\n",
       "      <td>0.052908</td>\n",
       "    </tr>\n",
       "    <tr>\n",
       "      <th>COMP</th>\n",
       "      <td>9.017852</td>\n",
       "      <td>0.337312</td>\n",
       "    </tr>\n",
       "  </tbody>\n",
       "</table>\n",
       "</div>"
      ],
      "text/plain": [
       "            mean        std\n",
       "FF      0.386149   0.193058\n",
       "AI      0.000000   0.000000\n",
       "AD     82.705055  18.135958\n",
       "AG      0.000000   0.000000\n",
       "FidIn   0.090909   0.291937\n",
       "SPS     0.791887   0.052908\n",
       "COMP    9.017852   0.337312"
      ]
     },
     "execution_count": 38,
     "metadata": {},
     "output_type": "execute_result"
    }
   ],
   "source": [
    "results_saliency_incorrect.describe().T[[\"mean\", \"std\"]]"
   ]
  },
  {
   "cell_type": "code",
   "execution_count": 39,
   "metadata": {},
   "outputs": [
    {
     "name": "stdout",
     "output_type": "stream",
     "text": [
      "Results saved as results/gradcam_clean.csv\n"
     ]
    }
   ],
   "source": [
    "results_gradcam = predict_gradcam.predict_set(test_loader_predict, results_csv_name='gradcam_clean.csv')"
   ]
  },
  {
   "cell_type": "code",
   "execution_count": 40,
   "metadata": {},
   "outputs": [
    {
     "data": {
      "application/vnd.microsoft.datawrangler.viewer.v0+json": {
       "columns": [
        {
         "name": "index",
         "rawType": "int64",
         "type": "integer"
        },
        {
         "name": "FF",
         "rawType": "float32",
         "type": "float"
        },
        {
         "name": "AI",
         "rawType": "float32",
         "type": "float"
        },
        {
         "name": "AD",
         "rawType": "float32",
         "type": "float"
        },
        {
         "name": "AG",
         "rawType": "float32",
         "type": "float"
        },
        {
         "name": "FidIn",
         "rawType": "float32",
         "type": "float"
        },
        {
         "name": "SPS",
         "rawType": "float64",
         "type": "float"
        },
        {
         "name": "COMP",
         "rawType": "float64",
         "type": "float"
        },
        {
         "name": "is_correct",
         "rawType": "bool",
         "type": "boolean"
        }
       ],
       "conversionMethod": "pd.DataFrame",
       "ref": "d5bfd018-de63-419a-9e4d-a7ebffee3fb7",
       "rows": [
        [
         "0",
         "0.58936787",
         "0.0",
         "96.262665",
         "0.0",
         "0.0",
         "0.4908463018869373",
         "9.969326773953954",
         "True"
        ],
        [
         "1",
         "3.2782555e-06",
         "0.0",
         "70.10349",
         "0.0",
         "0.0",
         "0.0",
         "0.0",
         "False"
        ],
        [
         "2",
         "0.150639",
         "0.0",
         "89.5063",
         "0.0",
         "0.0",
         "0.38854096206294625",
         "10.119319642541026",
         "False"
        ],
        [
         "3",
         "-5.6028366e-06",
         "0.0",
         "95.05415",
         "0.0",
         "0.0",
         "0.9345696541474818",
         "7.9246707343239775",
         "False"
        ],
        [
         "4",
         "0.52648973",
         "0.0",
         "97.20532",
         "0.0",
         "0.0",
         "0.4961310796992937",
         "9.925838562023024",
         "True"
        ],
        [
         "5",
         "0.3712635",
         "0.0",
         "96.57463",
         "0.0",
         "0.0",
         "0.8583661671217254",
         "8.590768969002564",
         "True"
        ],
        [
         "6",
         "-0.025351405",
         "0.0",
         "93.87936",
         "0.0",
         "0.0",
         "0.8716081163935798",
         "8.58802426132769",
         "True"
        ],
        [
         "7",
         "0.55850685",
         "0.0",
         "48.779617",
         "0.0",
         "1.0",
         "0.6595368787420985",
         "9.537663075943582",
         "True"
        ],
        [
         "8",
         "0.13240436",
         "0.0",
         "94.64301",
         "0.0",
         "0.0",
         "0.6572548075099917",
         "9.54192688333581",
         "True"
        ],
        [
         "9",
         "0.12808721",
         "0.0",
         "94.48747",
         "0.0",
         "0.0",
         "0.8634879942514552",
         "8.560881760659191",
         "True"
        ],
        [
         "10",
         "5.4240227e-06",
         "0.0",
         "94.25994",
         "0.0",
         "0.0",
         "0.0",
         "0.0",
         "True"
        ],
        [
         "11",
         "0.73850256",
         "0.0",
         "89.21712",
         "0.0",
         "0.0",
         "0.38559711679732284",
         "10.122285707133674",
         "True"
        ],
        [
         "12",
         "0.0038307905",
         "0.0",
         "95.415596",
         "0.0",
         "0.0",
         "0.8728041451075013",
         "8.564425351854645",
         "True"
        ],
        [
         "13",
         "-0.007832766",
         "0.0",
         "96.15072",
         "0.0",
         "0.0",
         "0.9238442333474713",
         "8.077744296784651",
         "True"
        ],
        [
         "14",
         "0.15749162",
         "0.0",
         "20.783081",
         "0.0",
         "1.0",
         "0.3481418924412343",
         "10.173436899127747",
         "True"
        ],
        [
         "15",
         "0.0034538507",
         "0.0",
         "11.730953",
         "0.0",
         "1.0",
         "0.4427601297810182",
         "10.009726163684482",
         "True"
        ],
        [
         "16",
         "0.22439948",
         "0.0",
         "95.185",
         "0.0",
         "0.0",
         "0.27159782080873063",
         "10.248237198080645",
         "False"
        ],
        [
         "17",
         "0.19574648",
         "0.0",
         "32.246845",
         "0.0",
         "1.0",
         "0.395871942760709",
         "10.076865911415702",
         "True"
        ],
        [
         "18",
         "-0.035858333",
         "0.0",
         "96.98262",
         "0.0",
         "0.0",
         "0.8658298728230207",
         "8.583255690930791",
         "True"
        ],
        [
         "19",
         "-0.043348312",
         "0.0",
         "82.95017",
         "0.0",
         "0.0",
         "0.7498944692603584",
         "9.283108471743486",
         "False"
        ]
       ],
       "shape": {
        "columns": 8,
        "rows": 20
       }
      },
      "text/html": [
       "<div>\n",
       "<style scoped>\n",
       "    .dataframe tbody tr th:only-of-type {\n",
       "        vertical-align: middle;\n",
       "    }\n",
       "\n",
       "    .dataframe tbody tr th {\n",
       "        vertical-align: top;\n",
       "    }\n",
       "\n",
       "    .dataframe thead th {\n",
       "        text-align: right;\n",
       "    }\n",
       "</style>\n",
       "<table border=\"1\" class=\"dataframe\">\n",
       "  <thead>\n",
       "    <tr style=\"text-align: right;\">\n",
       "      <th></th>\n",
       "      <th>FF</th>\n",
       "      <th>AI</th>\n",
       "      <th>AD</th>\n",
       "      <th>AG</th>\n",
       "      <th>FidIn</th>\n",
       "      <th>SPS</th>\n",
       "      <th>COMP</th>\n",
       "      <th>is_correct</th>\n",
       "    </tr>\n",
       "  </thead>\n",
       "  <tbody>\n",
       "    <tr>\n",
       "      <th>0</th>\n",
       "      <td>0.589368</td>\n",
       "      <td>0.0</td>\n",
       "      <td>96.262665</td>\n",
       "      <td>0.0</td>\n",
       "      <td>0.0</td>\n",
       "      <td>0.490846</td>\n",
       "      <td>9.969327</td>\n",
       "      <td>True</td>\n",
       "    </tr>\n",
       "    <tr>\n",
       "      <th>1</th>\n",
       "      <td>0.000003</td>\n",
       "      <td>0.0</td>\n",
       "      <td>70.103493</td>\n",
       "      <td>0.0</td>\n",
       "      <td>0.0</td>\n",
       "      <td>0.000000</td>\n",
       "      <td>0.000000</td>\n",
       "      <td>False</td>\n",
       "    </tr>\n",
       "    <tr>\n",
       "      <th>2</th>\n",
       "      <td>0.150639</td>\n",
       "      <td>0.0</td>\n",
       "      <td>89.506302</td>\n",
       "      <td>0.0</td>\n",
       "      <td>0.0</td>\n",
       "      <td>0.388541</td>\n",
       "      <td>10.119320</td>\n",
       "      <td>False</td>\n",
       "    </tr>\n",
       "    <tr>\n",
       "      <th>3</th>\n",
       "      <td>-0.000006</td>\n",
       "      <td>0.0</td>\n",
       "      <td>95.054153</td>\n",
       "      <td>0.0</td>\n",
       "      <td>0.0</td>\n",
       "      <td>0.934570</td>\n",
       "      <td>7.924671</td>\n",
       "      <td>False</td>\n",
       "    </tr>\n",
       "    <tr>\n",
       "      <th>4</th>\n",
       "      <td>0.526490</td>\n",
       "      <td>0.0</td>\n",
       "      <td>97.205322</td>\n",
       "      <td>0.0</td>\n",
       "      <td>0.0</td>\n",
       "      <td>0.496131</td>\n",
       "      <td>9.925839</td>\n",
       "      <td>True</td>\n",
       "    </tr>\n",
       "    <tr>\n",
       "      <th>5</th>\n",
       "      <td>0.371264</td>\n",
       "      <td>0.0</td>\n",
       "      <td>96.574631</td>\n",
       "      <td>0.0</td>\n",
       "      <td>0.0</td>\n",
       "      <td>0.858366</td>\n",
       "      <td>8.590769</td>\n",
       "      <td>True</td>\n",
       "    </tr>\n",
       "    <tr>\n",
       "      <th>6</th>\n",
       "      <td>-0.025351</td>\n",
       "      <td>0.0</td>\n",
       "      <td>93.879356</td>\n",
       "      <td>0.0</td>\n",
       "      <td>0.0</td>\n",
       "      <td>0.871608</td>\n",
       "      <td>8.588024</td>\n",
       "      <td>True</td>\n",
       "    </tr>\n",
       "    <tr>\n",
       "      <th>7</th>\n",
       "      <td>0.558507</td>\n",
       "      <td>0.0</td>\n",
       "      <td>48.779617</td>\n",
       "      <td>0.0</td>\n",
       "      <td>1.0</td>\n",
       "      <td>0.659537</td>\n",
       "      <td>9.537663</td>\n",
       "      <td>True</td>\n",
       "    </tr>\n",
       "    <tr>\n",
       "      <th>8</th>\n",
       "      <td>0.132404</td>\n",
       "      <td>0.0</td>\n",
       "      <td>94.643013</td>\n",
       "      <td>0.0</td>\n",
       "      <td>0.0</td>\n",
       "      <td>0.657255</td>\n",
       "      <td>9.541927</td>\n",
       "      <td>True</td>\n",
       "    </tr>\n",
       "    <tr>\n",
       "      <th>9</th>\n",
       "      <td>0.128087</td>\n",
       "      <td>0.0</td>\n",
       "      <td>94.487473</td>\n",
       "      <td>0.0</td>\n",
       "      <td>0.0</td>\n",
       "      <td>0.863488</td>\n",
       "      <td>8.560882</td>\n",
       "      <td>True</td>\n",
       "    </tr>\n",
       "    <tr>\n",
       "      <th>10</th>\n",
       "      <td>0.000005</td>\n",
       "      <td>0.0</td>\n",
       "      <td>94.259941</td>\n",
       "      <td>0.0</td>\n",
       "      <td>0.0</td>\n",
       "      <td>0.000000</td>\n",
       "      <td>0.000000</td>\n",
       "      <td>True</td>\n",
       "    </tr>\n",
       "    <tr>\n",
       "      <th>11</th>\n",
       "      <td>0.738503</td>\n",
       "      <td>0.0</td>\n",
       "      <td>89.217117</td>\n",
       "      <td>0.0</td>\n",
       "      <td>0.0</td>\n",
       "      <td>0.385597</td>\n",
       "      <td>10.122286</td>\n",
       "      <td>True</td>\n",
       "    </tr>\n",
       "    <tr>\n",
       "      <th>12</th>\n",
       "      <td>0.003831</td>\n",
       "      <td>0.0</td>\n",
       "      <td>95.415596</td>\n",
       "      <td>0.0</td>\n",
       "      <td>0.0</td>\n",
       "      <td>0.872804</td>\n",
       "      <td>8.564425</td>\n",
       "      <td>True</td>\n",
       "    </tr>\n",
       "    <tr>\n",
       "      <th>13</th>\n",
       "      <td>-0.007833</td>\n",
       "      <td>0.0</td>\n",
       "      <td>96.150719</td>\n",
       "      <td>0.0</td>\n",
       "      <td>0.0</td>\n",
       "      <td>0.923844</td>\n",
       "      <td>8.077744</td>\n",
       "      <td>True</td>\n",
       "    </tr>\n",
       "    <tr>\n",
       "      <th>14</th>\n",
       "      <td>0.157492</td>\n",
       "      <td>0.0</td>\n",
       "      <td>20.783081</td>\n",
       "      <td>0.0</td>\n",
       "      <td>1.0</td>\n",
       "      <td>0.348142</td>\n",
       "      <td>10.173437</td>\n",
       "      <td>True</td>\n",
       "    </tr>\n",
       "    <tr>\n",
       "      <th>15</th>\n",
       "      <td>0.003454</td>\n",
       "      <td>0.0</td>\n",
       "      <td>11.730953</td>\n",
       "      <td>0.0</td>\n",
       "      <td>1.0</td>\n",
       "      <td>0.442760</td>\n",
       "      <td>10.009726</td>\n",
       "      <td>True</td>\n",
       "    </tr>\n",
       "    <tr>\n",
       "      <th>16</th>\n",
       "      <td>0.224399</td>\n",
       "      <td>0.0</td>\n",
       "      <td>95.184998</td>\n",
       "      <td>0.0</td>\n",
       "      <td>0.0</td>\n",
       "      <td>0.271598</td>\n",
       "      <td>10.248237</td>\n",
       "      <td>False</td>\n",
       "    </tr>\n",
       "    <tr>\n",
       "      <th>17</th>\n",
       "      <td>0.195746</td>\n",
       "      <td>0.0</td>\n",
       "      <td>32.246845</td>\n",
       "      <td>0.0</td>\n",
       "      <td>1.0</td>\n",
       "      <td>0.395872</td>\n",
       "      <td>10.076866</td>\n",
       "      <td>True</td>\n",
       "    </tr>\n",
       "    <tr>\n",
       "      <th>18</th>\n",
       "      <td>-0.035858</td>\n",
       "      <td>0.0</td>\n",
       "      <td>96.982620</td>\n",
       "      <td>0.0</td>\n",
       "      <td>0.0</td>\n",
       "      <td>0.865830</td>\n",
       "      <td>8.583256</td>\n",
       "      <td>True</td>\n",
       "    </tr>\n",
       "    <tr>\n",
       "      <th>19</th>\n",
       "      <td>-0.043348</td>\n",
       "      <td>0.0</td>\n",
       "      <td>82.950172</td>\n",
       "      <td>0.0</td>\n",
       "      <td>0.0</td>\n",
       "      <td>0.749894</td>\n",
       "      <td>9.283108</td>\n",
       "      <td>False</td>\n",
       "    </tr>\n",
       "  </tbody>\n",
       "</table>\n",
       "</div>"
      ],
      "text/plain": [
       "          FF   AI         AD   AG  FidIn       SPS       COMP  is_correct\n",
       "0   0.589368  0.0  96.262665  0.0    0.0  0.490846   9.969327        True\n",
       "1   0.000003  0.0  70.103493  0.0    0.0  0.000000   0.000000       False\n",
       "2   0.150639  0.0  89.506302  0.0    0.0  0.388541  10.119320       False\n",
       "3  -0.000006  0.0  95.054153  0.0    0.0  0.934570   7.924671       False\n",
       "4   0.526490  0.0  97.205322  0.0    0.0  0.496131   9.925839        True\n",
       "5   0.371264  0.0  96.574631  0.0    0.0  0.858366   8.590769        True\n",
       "6  -0.025351  0.0  93.879356  0.0    0.0  0.871608   8.588024        True\n",
       "7   0.558507  0.0  48.779617  0.0    1.0  0.659537   9.537663        True\n",
       "8   0.132404  0.0  94.643013  0.0    0.0  0.657255   9.541927        True\n",
       "9   0.128087  0.0  94.487473  0.0    0.0  0.863488   8.560882        True\n",
       "10  0.000005  0.0  94.259941  0.0    0.0  0.000000   0.000000        True\n",
       "11  0.738503  0.0  89.217117  0.0    0.0  0.385597  10.122286        True\n",
       "12  0.003831  0.0  95.415596  0.0    0.0  0.872804   8.564425        True\n",
       "13 -0.007833  0.0  96.150719  0.0    0.0  0.923844   8.077744        True\n",
       "14  0.157492  0.0  20.783081  0.0    1.0  0.348142  10.173437        True\n",
       "15  0.003454  0.0  11.730953  0.0    1.0  0.442760  10.009726        True\n",
       "16  0.224399  0.0  95.184998  0.0    0.0  0.271598  10.248237       False\n",
       "17  0.195746  0.0  32.246845  0.0    1.0  0.395872  10.076866        True\n",
       "18 -0.035858  0.0  96.982620  0.0    0.0  0.865830   8.583256        True\n",
       "19 -0.043348  0.0  82.950172  0.0    0.0  0.749894   9.283108       False"
      ]
     },
     "execution_count": 40,
     "metadata": {},
     "output_type": "execute_result"
    }
   ],
   "source": [
    "results_gradcam.head(20)"
   ]
  },
  {
   "cell_type": "code",
   "execution_count": 41,
   "metadata": {},
   "outputs": [],
   "source": [
    "results_gradcam_correct = results_gradcam[results_gradcam[\"is_correct\"] == True].drop(columns=[\"is_correct\"])\n",
    "results_gradcam_incorrect = results_gradcam[results_gradcam[\"is_correct\"] == False].drop(columns=[\"is_correct\"])"
   ]
  },
  {
   "cell_type": "code",
   "execution_count": 42,
   "metadata": {},
   "outputs": [
    {
     "data": {
      "application/vnd.microsoft.datawrangler.viewer.v0+json": {
       "columns": [
        {
         "name": "index",
         "rawType": "object",
         "type": "string"
        },
        {
         "name": "mean",
         "rawType": "float64",
         "type": "float"
        },
        {
         "name": "std",
         "rawType": "float64",
         "type": "float"
        }
       ],
       "conversionMethod": "pd.DataFrame",
       "ref": "43f6f574-25c7-42e7-aea2-d6cd543460ef",
       "rows": [
        [
         "FF",
         "0.16692513227462769",
         "0.2358979880809784"
        ],
        [
         "AI",
         "1.25",
         "11.124156951904297"
        ],
        [
         "AD",
         "69.28238677978516",
         "32.452545166015625"
        ],
        [
         "AG",
         "0.574070930480957",
         "6.282491207122803"
        ],
        [
         "FidIn",
         "0.46000000834465027",
         "0.49902158975601196"
        ],
        [
         "SPS",
         "0.5565692111371114",
         "0.24483264592136225"
        ],
        [
         "COMP",
         "9.018057299652332",
         "2.2365572349797547"
        ]
       ],
       "shape": {
        "columns": 2,
        "rows": 7
       }
      },
      "text/html": [
       "<div>\n",
       "<style scoped>\n",
       "    .dataframe tbody tr th:only-of-type {\n",
       "        vertical-align: middle;\n",
       "    }\n",
       "\n",
       "    .dataframe tbody tr th {\n",
       "        vertical-align: top;\n",
       "    }\n",
       "\n",
       "    .dataframe thead th {\n",
       "        text-align: right;\n",
       "    }\n",
       "</style>\n",
       "<table border=\"1\" class=\"dataframe\">\n",
       "  <thead>\n",
       "    <tr style=\"text-align: right;\">\n",
       "      <th></th>\n",
       "      <th>mean</th>\n",
       "      <th>std</th>\n",
       "    </tr>\n",
       "  </thead>\n",
       "  <tbody>\n",
       "    <tr>\n",
       "      <th>FF</th>\n",
       "      <td>0.166925</td>\n",
       "      <td>0.235898</td>\n",
       "    </tr>\n",
       "    <tr>\n",
       "      <th>AI</th>\n",
       "      <td>1.250000</td>\n",
       "      <td>11.124157</td>\n",
       "    </tr>\n",
       "    <tr>\n",
       "      <th>AD</th>\n",
       "      <td>69.282387</td>\n",
       "      <td>32.452545</td>\n",
       "    </tr>\n",
       "    <tr>\n",
       "      <th>AG</th>\n",
       "      <td>0.574071</td>\n",
       "      <td>6.282491</td>\n",
       "    </tr>\n",
       "    <tr>\n",
       "      <th>FidIn</th>\n",
       "      <td>0.460000</td>\n",
       "      <td>0.499022</td>\n",
       "    </tr>\n",
       "    <tr>\n",
       "      <th>SPS</th>\n",
       "      <td>0.556569</td>\n",
       "      <td>0.244833</td>\n",
       "    </tr>\n",
       "    <tr>\n",
       "      <th>COMP</th>\n",
       "      <td>9.018057</td>\n",
       "      <td>2.236557</td>\n",
       "    </tr>\n",
       "  </tbody>\n",
       "</table>\n",
       "</div>"
      ],
      "text/plain": [
       "            mean        std\n",
       "FF      0.166925   0.235898\n",
       "AI      1.250000  11.124157\n",
       "AD     69.282387  32.452545\n",
       "AG      0.574071   6.282491\n",
       "FidIn   0.460000   0.499022\n",
       "SPS     0.556569   0.244833\n",
       "COMP    9.018057   2.236557"
      ]
     },
     "execution_count": 42,
     "metadata": {},
     "output_type": "execute_result"
    }
   ],
   "source": [
    "results_gradcam.describe().T[[\"mean\", \"std\"]]"
   ]
  },
  {
   "cell_type": "code",
   "execution_count": 45,
   "metadata": {},
   "outputs": [
    {
     "data": {
      "application/vnd.microsoft.datawrangler.viewer.v0+json": {
       "columns": [
        {
         "name": "index",
         "rawType": "object",
         "type": "string"
        },
        {
         "name": "mean",
         "rawType": "float64",
         "type": "float"
        },
        {
         "name": "std",
         "rawType": "float64",
         "type": "float"
        }
       ],
       "conversionMethod": "pd.DataFrame",
       "ref": "6eda6ac3-5b8b-4d56-9509-70d0052f39b3",
       "rows": [
        [
         "FF",
         "0.17778746783733368",
         "0.24106243252754211"
        ],
        [
         "AI",
         "0.8174387216567993",
         "9.016494750976562"
        ],
        [
         "AD",
         "68.35287475585938",
         "32.88787841796875"
        ],
        [
         "AG",
         "0.3152364492416382",
         "4.7364068031311035"
        ],
        [
         "FidIn",
         "0.4904632270336151",
         "0.500591516494751"
        ],
        [
         "SPS",
         "0.5569511550467091",
         "0.2382367764687886"
        ],
        [
         "COMP",
         "9.122613561507519",
         "2.065747698950846"
        ]
       ],
       "shape": {
        "columns": 2,
        "rows": 7
       }
      },
      "text/html": [
       "<div>\n",
       "<style scoped>\n",
       "    .dataframe tbody tr th:only-of-type {\n",
       "        vertical-align: middle;\n",
       "    }\n",
       "\n",
       "    .dataframe tbody tr th {\n",
       "        vertical-align: top;\n",
       "    }\n",
       "\n",
       "    .dataframe thead th {\n",
       "        text-align: right;\n",
       "    }\n",
       "</style>\n",
       "<table border=\"1\" class=\"dataframe\">\n",
       "  <thead>\n",
       "    <tr style=\"text-align: right;\">\n",
       "      <th></th>\n",
       "      <th>mean</th>\n",
       "      <th>std</th>\n",
       "    </tr>\n",
       "  </thead>\n",
       "  <tbody>\n",
       "    <tr>\n",
       "      <th>FF</th>\n",
       "      <td>0.177787</td>\n",
       "      <td>0.241062</td>\n",
       "    </tr>\n",
       "    <tr>\n",
       "      <th>AI</th>\n",
       "      <td>0.817439</td>\n",
       "      <td>9.016495</td>\n",
       "    </tr>\n",
       "    <tr>\n",
       "      <th>AD</th>\n",
       "      <td>68.352875</td>\n",
       "      <td>32.887878</td>\n",
       "    </tr>\n",
       "    <tr>\n",
       "      <th>AG</th>\n",
       "      <td>0.315236</td>\n",
       "      <td>4.736407</td>\n",
       "    </tr>\n",
       "    <tr>\n",
       "      <th>FidIn</th>\n",
       "      <td>0.490463</td>\n",
       "      <td>0.500592</td>\n",
       "    </tr>\n",
       "    <tr>\n",
       "      <th>SPS</th>\n",
       "      <td>0.556951</td>\n",
       "      <td>0.238237</td>\n",
       "    </tr>\n",
       "    <tr>\n",
       "      <th>COMP</th>\n",
       "      <td>9.122614</td>\n",
       "      <td>2.065748</td>\n",
       "    </tr>\n",
       "  </tbody>\n",
       "</table>\n",
       "</div>"
      ],
      "text/plain": [
       "            mean        std\n",
       "FF      0.177787   0.241062\n",
       "AI      0.817439   9.016495\n",
       "AD     68.352875  32.887878\n",
       "AG      0.315236   4.736407\n",
       "FidIn   0.490463   0.500592\n",
       "SPS     0.556951   0.238237\n",
       "COMP    9.122614   2.065748"
      ]
     },
     "execution_count": 45,
     "metadata": {},
     "output_type": "execute_result"
    }
   ],
   "source": [
    "results_gradcam_correct.describe().T[[\"mean\", \"std\"]]"
   ]
  },
  {
   "cell_type": "code",
   "execution_count": 46,
   "metadata": {},
   "outputs": [
    {
     "data": {
      "application/vnd.microsoft.datawrangler.viewer.v0+json": {
       "columns": [
        {
         "name": "index",
         "rawType": "object",
         "type": "string"
        },
        {
         "name": "mean",
         "rawType": "float64",
         "type": "float"
        },
        {
         "name": "std",
         "rawType": "float64",
         "type": "float"
        }
       ],
       "conversionMethod": "pd.DataFrame",
       "ref": "6c0678ae-ae2b-4b28-aa9f-ef3464412942",
       "rows": [
        [
         "FF",
         "0.04612264037132263",
         "0.11318635195493698"
        ],
        [
         "AI",
         "6.060606002807617",
         "24.2305850982666"
        ],
        [
         "AD",
         "79.61962890625",
         "25.31070899963379"
        ],
        [
         "AG",
         "3.4526243209838867",
         "15.041298866271973"
        ],
        [
         "FidIn",
         "0.12121212482452393",
         "0.3314339816570282"
        ],
        [
         "SPS",
         "0.5523215319000706",
         "0.3134307669051351"
        ],
        [
         "COMP",
         "7.855264932959787",
         "3.470435253713435"
        ]
       ],
       "shape": {
        "columns": 2,
        "rows": 7
       }
      },
      "text/html": [
       "<div>\n",
       "<style scoped>\n",
       "    .dataframe tbody tr th:only-of-type {\n",
       "        vertical-align: middle;\n",
       "    }\n",
       "\n",
       "    .dataframe tbody tr th {\n",
       "        vertical-align: top;\n",
       "    }\n",
       "\n",
       "    .dataframe thead th {\n",
       "        text-align: right;\n",
       "    }\n",
       "</style>\n",
       "<table border=\"1\" class=\"dataframe\">\n",
       "  <thead>\n",
       "    <tr style=\"text-align: right;\">\n",
       "      <th></th>\n",
       "      <th>mean</th>\n",
       "      <th>std</th>\n",
       "    </tr>\n",
       "  </thead>\n",
       "  <tbody>\n",
       "    <tr>\n",
       "      <th>FF</th>\n",
       "      <td>0.046123</td>\n",
       "      <td>0.113186</td>\n",
       "    </tr>\n",
       "    <tr>\n",
       "      <th>AI</th>\n",
       "      <td>6.060606</td>\n",
       "      <td>24.230585</td>\n",
       "    </tr>\n",
       "    <tr>\n",
       "      <th>AD</th>\n",
       "      <td>79.619629</td>\n",
       "      <td>25.310709</td>\n",
       "    </tr>\n",
       "    <tr>\n",
       "      <th>AG</th>\n",
       "      <td>3.452624</td>\n",
       "      <td>15.041299</td>\n",
       "    </tr>\n",
       "    <tr>\n",
       "      <th>FidIn</th>\n",
       "      <td>0.121212</td>\n",
       "      <td>0.331434</td>\n",
       "    </tr>\n",
       "    <tr>\n",
       "      <th>SPS</th>\n",
       "      <td>0.552322</td>\n",
       "      <td>0.313431</td>\n",
       "    </tr>\n",
       "    <tr>\n",
       "      <th>COMP</th>\n",
       "      <td>7.855265</td>\n",
       "      <td>3.470435</td>\n",
       "    </tr>\n",
       "  </tbody>\n",
       "</table>\n",
       "</div>"
      ],
      "text/plain": [
       "            mean        std\n",
       "FF      0.046123   0.113186\n",
       "AI      6.060606  24.230585\n",
       "AD     79.619629  25.310709\n",
       "AG      3.452624  15.041299\n",
       "FidIn   0.121212   0.331434\n",
       "SPS     0.552322   0.313431\n",
       "COMP    7.855265   3.470435"
      ]
     },
     "execution_count": 46,
     "metadata": {},
     "output_type": "execute_result"
    }
   ],
   "source": [
    "results_gradcam_incorrect.describe().T[[\"mean\", \"std\"]]"
   ]
  },
  {
   "cell_type": "code",
   "execution_count": 47,
   "metadata": {},
   "outputs": [
    {
     "name": "stdout",
     "output_type": "stream",
     "text": [
      "Results saved as results/saliency_seawaves_noise.csv\n"
     ]
    }
   ],
   "source": [
    "results_saliency_noisy = predict_saliency.predict_set(test_loader_noisy_predict, 'saliency_seawaves_noise.csv')"
   ]
  },
  {
   "cell_type": "code",
   "execution_count": 48,
   "metadata": {},
   "outputs": [
    {
     "data": {
      "application/vnd.microsoft.datawrangler.viewer.v0+json": {
       "columns": [
        {
         "name": "index",
         "rawType": "int64",
         "type": "integer"
        },
        {
         "name": "FF",
         "rawType": "float32",
         "type": "float"
        },
        {
         "name": "AI",
         "rawType": "float32",
         "type": "float"
        },
        {
         "name": "AD",
         "rawType": "float32",
         "type": "float"
        },
        {
         "name": "AG",
         "rawType": "float32",
         "type": "float"
        },
        {
         "name": "FidIn",
         "rawType": "float32",
         "type": "float"
        },
        {
         "name": "SPS",
         "rawType": "float64",
         "type": "float"
        },
        {
         "name": "COMP",
         "rawType": "float64",
         "type": "float"
        },
        {
         "name": "is_correct",
         "rawType": "bool",
         "type": "boolean"
        }
       ],
       "conversionMethod": "pd.DataFrame",
       "ref": "2e62f269-c187-43f7-89ae-bf069a38ee71",
       "rows": [
        [
         "0",
         "0.67737603",
         "0.0",
         "98.455986",
         "0.0",
         "0.0",
         "0.7562889456190162",
         "9.2212603964751",
         "True"
        ],
        [
         "1",
         "0.18655583",
         "0.0",
         "96.29176",
         "0.0",
         "0.0",
         "0.8403247934251021",
         "8.777564312838376",
         "False"
        ],
        [
         "2",
         "0.29256377",
         "0.0",
         "73.71448",
         "0.0",
         "0.0",
         "0.7702077805231404",
         "9.153724474259649",
         "False"
        ],
        [
         "3",
         "0.4594838",
         "0.0",
         "62.574375",
         "0.0",
         "1.0",
         "0.7551956618603368",
         "9.23004710111348",
         "False"
        ],
        [
         "4",
         "0.35059175",
         "0.0",
         "97.397995",
         "0.0",
         "0.0",
         "0.774658716026656",
         "9.145866994393767",
         "True"
        ],
        [
         "5",
         "0.41185862",
         "0.0",
         "50.366318",
         "0.0",
         "1.0",
         "0.7589788590584843",
         "9.213809711821048",
         "False"
        ],
        [
         "6",
         "0.24412325",
         "0.0",
         "97.78161",
         "0.0",
         "0.0",
         "0.7547973658745849",
         "9.230719908731272",
         "True"
        ],
        [
         "7",
         "0.62103564",
         "0.0",
         "99.71876",
         "0.0",
         "0.0",
         "0.7841230464500015",
         "9.103641435756234",
         "True"
        ],
        [
         "8",
         "0.28581327",
         "0.0",
         "98.2739",
         "0.0",
         "0.0",
         "0.7641214714136282",
         "9.196259141312261",
         "True"
        ],
        [
         "9",
         "0.24516994",
         "0.0",
         "31.022114",
         "0.0",
         "1.0",
         "0.7625336341316477",
         "9.199640698561156",
         "False"
        ],
        [
         "10",
         "0.5916834",
         "0.0",
         "86.89155",
         "0.0",
         "0.0",
         "0.7431964528367911",
         "9.277446777031471",
         "True"
        ],
        [
         "11",
         "0.802135",
         "0.0",
         "98.445755",
         "0.0",
         "0.0",
         "0.7695077933099621",
         "9.165426265096537",
         "True"
        ],
        [
         "12",
         "0.801886",
         "0.0",
         "99.29747",
         "0.0",
         "0.0",
         "0.7976734398950988",
         "9.047904066056345",
         "True"
        ],
        [
         "13",
         "0.60609627",
         "0.0",
         "99.37959",
         "0.0",
         "0.0",
         "0.7717772610617681",
         "9.140933922239626",
         "True"
        ],
        [
         "14",
         "0.6094905",
         "0.0",
         "99.21612",
         "0.0",
         "0.0",
         "0.764759870489937",
         "9.178694483869561",
         "True"
        ],
        [
         "15",
         "0.97304505",
         "0.0",
         "99.58152",
         "0.0",
         "0.0",
         "0.7704177832894236",
         "9.165760943674435",
         "True"
        ],
        [
         "16",
         "0.29919446",
         "0.0",
         "63.146828",
         "0.0",
         "0.0",
         "0.757095142976841",
         "9.220940402025775",
         "False"
        ],
        [
         "17",
         "0.51109356",
         "0.0",
         "99.124916",
         "0.0",
         "0.0",
         "0.7560987380406579",
         "9.229330065043007",
         "True"
        ],
        [
         "18",
         "0.45751742",
         "0.0",
         "87.41307",
         "0.0",
         "0.0",
         "0.7464354862768444",
         "9.251928749345486",
         "False"
        ],
        [
         "19",
         "0.5029769",
         "0.0",
         "74.40412",
         "0.0",
         "0.0",
         "0.7485556441587913",
         "9.254124546185013",
         "False"
        ]
       ],
       "shape": {
        "columns": 8,
        "rows": 20
       }
      },
      "text/html": [
       "<div>\n",
       "<style scoped>\n",
       "    .dataframe tbody tr th:only-of-type {\n",
       "        vertical-align: middle;\n",
       "    }\n",
       "\n",
       "    .dataframe tbody tr th {\n",
       "        vertical-align: top;\n",
       "    }\n",
       "\n",
       "    .dataframe thead th {\n",
       "        text-align: right;\n",
       "    }\n",
       "</style>\n",
       "<table border=\"1\" class=\"dataframe\">\n",
       "  <thead>\n",
       "    <tr style=\"text-align: right;\">\n",
       "      <th></th>\n",
       "      <th>FF</th>\n",
       "      <th>AI</th>\n",
       "      <th>AD</th>\n",
       "      <th>AG</th>\n",
       "      <th>FidIn</th>\n",
       "      <th>SPS</th>\n",
       "      <th>COMP</th>\n",
       "      <th>is_correct</th>\n",
       "    </tr>\n",
       "  </thead>\n",
       "  <tbody>\n",
       "    <tr>\n",
       "      <th>0</th>\n",
       "      <td>0.677376</td>\n",
       "      <td>0.0</td>\n",
       "      <td>98.455986</td>\n",
       "      <td>0.0</td>\n",
       "      <td>0.0</td>\n",
       "      <td>0.756289</td>\n",
       "      <td>9.221260</td>\n",
       "      <td>True</td>\n",
       "    </tr>\n",
       "    <tr>\n",
       "      <th>1</th>\n",
       "      <td>0.186556</td>\n",
       "      <td>0.0</td>\n",
       "      <td>96.291763</td>\n",
       "      <td>0.0</td>\n",
       "      <td>0.0</td>\n",
       "      <td>0.840325</td>\n",
       "      <td>8.777564</td>\n",
       "      <td>False</td>\n",
       "    </tr>\n",
       "    <tr>\n",
       "      <th>2</th>\n",
       "      <td>0.292564</td>\n",
       "      <td>0.0</td>\n",
       "      <td>73.714478</td>\n",
       "      <td>0.0</td>\n",
       "      <td>0.0</td>\n",
       "      <td>0.770208</td>\n",
       "      <td>9.153724</td>\n",
       "      <td>False</td>\n",
       "    </tr>\n",
       "    <tr>\n",
       "      <th>3</th>\n",
       "      <td>0.459484</td>\n",
       "      <td>0.0</td>\n",
       "      <td>62.574375</td>\n",
       "      <td>0.0</td>\n",
       "      <td>1.0</td>\n",
       "      <td>0.755196</td>\n",
       "      <td>9.230047</td>\n",
       "      <td>False</td>\n",
       "    </tr>\n",
       "    <tr>\n",
       "      <th>4</th>\n",
       "      <td>0.350592</td>\n",
       "      <td>0.0</td>\n",
       "      <td>97.397995</td>\n",
       "      <td>0.0</td>\n",
       "      <td>0.0</td>\n",
       "      <td>0.774659</td>\n",
       "      <td>9.145867</td>\n",
       "      <td>True</td>\n",
       "    </tr>\n",
       "    <tr>\n",
       "      <th>5</th>\n",
       "      <td>0.411859</td>\n",
       "      <td>0.0</td>\n",
       "      <td>50.366318</td>\n",
       "      <td>0.0</td>\n",
       "      <td>1.0</td>\n",
       "      <td>0.758979</td>\n",
       "      <td>9.213810</td>\n",
       "      <td>False</td>\n",
       "    </tr>\n",
       "    <tr>\n",
       "      <th>6</th>\n",
       "      <td>0.244123</td>\n",
       "      <td>0.0</td>\n",
       "      <td>97.781609</td>\n",
       "      <td>0.0</td>\n",
       "      <td>0.0</td>\n",
       "      <td>0.754797</td>\n",
       "      <td>9.230720</td>\n",
       "      <td>True</td>\n",
       "    </tr>\n",
       "    <tr>\n",
       "      <th>7</th>\n",
       "      <td>0.621036</td>\n",
       "      <td>0.0</td>\n",
       "      <td>99.718758</td>\n",
       "      <td>0.0</td>\n",
       "      <td>0.0</td>\n",
       "      <td>0.784123</td>\n",
       "      <td>9.103641</td>\n",
       "      <td>True</td>\n",
       "    </tr>\n",
       "    <tr>\n",
       "      <th>8</th>\n",
       "      <td>0.285813</td>\n",
       "      <td>0.0</td>\n",
       "      <td>98.273903</td>\n",
       "      <td>0.0</td>\n",
       "      <td>0.0</td>\n",
       "      <td>0.764121</td>\n",
       "      <td>9.196259</td>\n",
       "      <td>True</td>\n",
       "    </tr>\n",
       "    <tr>\n",
       "      <th>9</th>\n",
       "      <td>0.245170</td>\n",
       "      <td>0.0</td>\n",
       "      <td>31.022114</td>\n",
       "      <td>0.0</td>\n",
       "      <td>1.0</td>\n",
       "      <td>0.762534</td>\n",
       "      <td>9.199641</td>\n",
       "      <td>False</td>\n",
       "    </tr>\n",
       "    <tr>\n",
       "      <th>10</th>\n",
       "      <td>0.591683</td>\n",
       "      <td>0.0</td>\n",
       "      <td>86.891548</td>\n",
       "      <td>0.0</td>\n",
       "      <td>0.0</td>\n",
       "      <td>0.743196</td>\n",
       "      <td>9.277447</td>\n",
       "      <td>True</td>\n",
       "    </tr>\n",
       "    <tr>\n",
       "      <th>11</th>\n",
       "      <td>0.802135</td>\n",
       "      <td>0.0</td>\n",
       "      <td>98.445755</td>\n",
       "      <td>0.0</td>\n",
       "      <td>0.0</td>\n",
       "      <td>0.769508</td>\n",
       "      <td>9.165426</td>\n",
       "      <td>True</td>\n",
       "    </tr>\n",
       "    <tr>\n",
       "      <th>12</th>\n",
       "      <td>0.801886</td>\n",
       "      <td>0.0</td>\n",
       "      <td>99.297470</td>\n",
       "      <td>0.0</td>\n",
       "      <td>0.0</td>\n",
       "      <td>0.797673</td>\n",
       "      <td>9.047904</td>\n",
       "      <td>True</td>\n",
       "    </tr>\n",
       "    <tr>\n",
       "      <th>13</th>\n",
       "      <td>0.606096</td>\n",
       "      <td>0.0</td>\n",
       "      <td>99.379593</td>\n",
       "      <td>0.0</td>\n",
       "      <td>0.0</td>\n",
       "      <td>0.771777</td>\n",
       "      <td>9.140934</td>\n",
       "      <td>True</td>\n",
       "    </tr>\n",
       "    <tr>\n",
       "      <th>14</th>\n",
       "      <td>0.609491</td>\n",
       "      <td>0.0</td>\n",
       "      <td>99.216118</td>\n",
       "      <td>0.0</td>\n",
       "      <td>0.0</td>\n",
       "      <td>0.764760</td>\n",
       "      <td>9.178694</td>\n",
       "      <td>True</td>\n",
       "    </tr>\n",
       "    <tr>\n",
       "      <th>15</th>\n",
       "      <td>0.973045</td>\n",
       "      <td>0.0</td>\n",
       "      <td>99.581520</td>\n",
       "      <td>0.0</td>\n",
       "      <td>0.0</td>\n",
       "      <td>0.770418</td>\n",
       "      <td>9.165761</td>\n",
       "      <td>True</td>\n",
       "    </tr>\n",
       "    <tr>\n",
       "      <th>16</th>\n",
       "      <td>0.299194</td>\n",
       "      <td>0.0</td>\n",
       "      <td>63.146828</td>\n",
       "      <td>0.0</td>\n",
       "      <td>0.0</td>\n",
       "      <td>0.757095</td>\n",
       "      <td>9.220940</td>\n",
       "      <td>False</td>\n",
       "    </tr>\n",
       "    <tr>\n",
       "      <th>17</th>\n",
       "      <td>0.511094</td>\n",
       "      <td>0.0</td>\n",
       "      <td>99.124916</td>\n",
       "      <td>0.0</td>\n",
       "      <td>0.0</td>\n",
       "      <td>0.756099</td>\n",
       "      <td>9.229330</td>\n",
       "      <td>True</td>\n",
       "    </tr>\n",
       "    <tr>\n",
       "      <th>18</th>\n",
       "      <td>0.457517</td>\n",
       "      <td>0.0</td>\n",
       "      <td>87.413071</td>\n",
       "      <td>0.0</td>\n",
       "      <td>0.0</td>\n",
       "      <td>0.746435</td>\n",
       "      <td>9.251929</td>\n",
       "      <td>False</td>\n",
       "    </tr>\n",
       "    <tr>\n",
       "      <th>19</th>\n",
       "      <td>0.502977</td>\n",
       "      <td>0.0</td>\n",
       "      <td>74.404121</td>\n",
       "      <td>0.0</td>\n",
       "      <td>0.0</td>\n",
       "      <td>0.748556</td>\n",
       "      <td>9.254125</td>\n",
       "      <td>False</td>\n",
       "    </tr>\n",
       "  </tbody>\n",
       "</table>\n",
       "</div>"
      ],
      "text/plain": [
       "          FF   AI         AD   AG  FidIn       SPS      COMP  is_correct\n",
       "0   0.677376  0.0  98.455986  0.0    0.0  0.756289  9.221260        True\n",
       "1   0.186556  0.0  96.291763  0.0    0.0  0.840325  8.777564       False\n",
       "2   0.292564  0.0  73.714478  0.0    0.0  0.770208  9.153724       False\n",
       "3   0.459484  0.0  62.574375  0.0    1.0  0.755196  9.230047       False\n",
       "4   0.350592  0.0  97.397995  0.0    0.0  0.774659  9.145867        True\n",
       "5   0.411859  0.0  50.366318  0.0    1.0  0.758979  9.213810       False\n",
       "6   0.244123  0.0  97.781609  0.0    0.0  0.754797  9.230720        True\n",
       "7   0.621036  0.0  99.718758  0.0    0.0  0.784123  9.103641        True\n",
       "8   0.285813  0.0  98.273903  0.0    0.0  0.764121  9.196259        True\n",
       "9   0.245170  0.0  31.022114  0.0    1.0  0.762534  9.199641       False\n",
       "10  0.591683  0.0  86.891548  0.0    0.0  0.743196  9.277447        True\n",
       "11  0.802135  0.0  98.445755  0.0    0.0  0.769508  9.165426        True\n",
       "12  0.801886  0.0  99.297470  0.0    0.0  0.797673  9.047904        True\n",
       "13  0.606096  0.0  99.379593  0.0    0.0  0.771777  9.140934        True\n",
       "14  0.609491  0.0  99.216118  0.0    0.0  0.764760  9.178694        True\n",
       "15  0.973045  0.0  99.581520  0.0    0.0  0.770418  9.165761        True\n",
       "16  0.299194  0.0  63.146828  0.0    0.0  0.757095  9.220940       False\n",
       "17  0.511094  0.0  99.124916  0.0    0.0  0.756099  9.229330        True\n",
       "18  0.457517  0.0  87.413071  0.0    0.0  0.746435  9.251929       False\n",
       "19  0.502977  0.0  74.404121  0.0    0.0  0.748556  9.254125       False"
      ]
     },
     "execution_count": 48,
     "metadata": {},
     "output_type": "execute_result"
    }
   ],
   "source": [
    "results_saliency_noisy.head(20)"
   ]
  },
  {
   "cell_type": "code",
   "execution_count": 49,
   "metadata": {},
   "outputs": [],
   "source": [
    "results_saliency_noisy_correct = results_saliency_noisy[results_saliency_noisy[\"is_correct\"] == True].drop(columns=[\"is_correct\"])\n",
    "results_saliency_noisy_incorrect = results_saliency_noisy[results_saliency_noisy[\"is_correct\"] == False].drop(columns=[\"is_correct\"])"
   ]
  },
  {
   "cell_type": "code",
   "execution_count": 50,
   "metadata": {},
   "outputs": [
    {
     "data": {
      "application/vnd.microsoft.datawrangler.viewer.v0+json": {
       "columns": [
        {
         "name": "index",
         "rawType": "object",
         "type": "string"
        },
        {
         "name": "mean",
         "rawType": "float64",
         "type": "float"
        },
        {
         "name": "std",
         "rawType": "float64",
         "type": "float"
        }
       ],
       "conversionMethod": "pd.DataFrame",
       "ref": "0e9b4f64-771c-4b59-8e05-d3b665451f60",
       "rows": [
        [
         "FF",
         "0.5940353274345398",
         "0.24229803681373596"
        ],
        [
         "AI",
         "1.0",
         "9.962335586547852"
        ],
        [
         "AD",
         "82.41838073730469",
         "20.119407653808594"
        ],
        [
         "AG",
         "0.05594502389431",
         "0.7822286486625671"
        ],
        [
         "FidIn",
         "0.30250000953674316",
         "0.45991581678390503"
        ],
        [
         "SPS",
         "0.7642488783044841",
         "0.01491788932760343"
        ],
        [
         "COMP",
         "9.187342933010738",
         "0.0711871129486513"
        ]
       ],
       "shape": {
        "columns": 2,
        "rows": 7
       }
      },
      "text/html": [
       "<div>\n",
       "<style scoped>\n",
       "    .dataframe tbody tr th:only-of-type {\n",
       "        vertical-align: middle;\n",
       "    }\n",
       "\n",
       "    .dataframe tbody tr th {\n",
       "        vertical-align: top;\n",
       "    }\n",
       "\n",
       "    .dataframe thead th {\n",
       "        text-align: right;\n",
       "    }\n",
       "</style>\n",
       "<table border=\"1\" class=\"dataframe\">\n",
       "  <thead>\n",
       "    <tr style=\"text-align: right;\">\n",
       "      <th></th>\n",
       "      <th>mean</th>\n",
       "      <th>std</th>\n",
       "    </tr>\n",
       "  </thead>\n",
       "  <tbody>\n",
       "    <tr>\n",
       "      <th>FF</th>\n",
       "      <td>0.594035</td>\n",
       "      <td>0.242298</td>\n",
       "    </tr>\n",
       "    <tr>\n",
       "      <th>AI</th>\n",
       "      <td>1.000000</td>\n",
       "      <td>9.962336</td>\n",
       "    </tr>\n",
       "    <tr>\n",
       "      <th>AD</th>\n",
       "      <td>82.418381</td>\n",
       "      <td>20.119408</td>\n",
       "    </tr>\n",
       "    <tr>\n",
       "      <th>AG</th>\n",
       "      <td>0.055945</td>\n",
       "      <td>0.782229</td>\n",
       "    </tr>\n",
       "    <tr>\n",
       "      <th>FidIn</th>\n",
       "      <td>0.302500</td>\n",
       "      <td>0.459916</td>\n",
       "    </tr>\n",
       "    <tr>\n",
       "      <th>SPS</th>\n",
       "      <td>0.764249</td>\n",
       "      <td>0.014918</td>\n",
       "    </tr>\n",
       "    <tr>\n",
       "      <th>COMP</th>\n",
       "      <td>9.187343</td>\n",
       "      <td>0.071187</td>\n",
       "    </tr>\n",
       "  </tbody>\n",
       "</table>\n",
       "</div>"
      ],
      "text/plain": [
       "            mean        std\n",
       "FF      0.594035   0.242298\n",
       "AI      1.000000   9.962336\n",
       "AD     82.418381  20.119408\n",
       "AG      0.055945   0.782229\n",
       "FidIn   0.302500   0.459916\n",
       "SPS     0.764249   0.014918\n",
       "COMP    9.187343   0.071187"
      ]
     },
     "execution_count": 50,
     "metadata": {},
     "output_type": "execute_result"
    }
   ],
   "source": [
    "results_saliency_noisy.describe().T[[\"mean\", \"std\"]]"
   ]
  },
  {
   "cell_type": "code",
   "execution_count": 51,
   "metadata": {},
   "outputs": [
    {
     "data": {
      "application/vnd.microsoft.datawrangler.viewer.v0+json": {
       "columns": [
        {
         "name": "index",
         "rawType": "object",
         "type": "string"
        },
        {
         "name": "mean",
         "rawType": "float64",
         "type": "float"
        },
        {
         "name": "std",
         "rawType": "float64",
         "type": "float"
        }
       ],
       "conversionMethod": "pd.DataFrame",
       "ref": "5aa9f463-bc8f-429f-8e33-ec691febfdb4",
       "rows": [
        [
         "FF",
         "0.6887050867080688",
         "0.23773464560508728"
        ],
        [
         "AI",
         "0.41152262687683105",
         "6.415002822875977"
        ],
        [
         "AD",
         "92.06427764892578",
         "12.991889953613281"
        ],
        [
         "AG",
         "0.020856956019997597",
         "0.3251277506351471"
        ],
        [
         "FidIn",
         "0.14403292536735535",
         "0.3518478274345398"
        ],
        [
         "SPS",
         "0.7689956021922685",
         "0.014974969717184074"
        ],
        [
         "COMP",
         "9.166151812146127",
         "0.07310670630320826"
        ]
       ],
       "shape": {
        "columns": 2,
        "rows": 7
       }
      },
      "text/html": [
       "<div>\n",
       "<style scoped>\n",
       "    .dataframe tbody tr th:only-of-type {\n",
       "        vertical-align: middle;\n",
       "    }\n",
       "\n",
       "    .dataframe tbody tr th {\n",
       "        vertical-align: top;\n",
       "    }\n",
       "\n",
       "    .dataframe thead th {\n",
       "        text-align: right;\n",
       "    }\n",
       "</style>\n",
       "<table border=\"1\" class=\"dataframe\">\n",
       "  <thead>\n",
       "    <tr style=\"text-align: right;\">\n",
       "      <th></th>\n",
       "      <th>mean</th>\n",
       "      <th>std</th>\n",
       "    </tr>\n",
       "  </thead>\n",
       "  <tbody>\n",
       "    <tr>\n",
       "      <th>FF</th>\n",
       "      <td>0.688705</td>\n",
       "      <td>0.237735</td>\n",
       "    </tr>\n",
       "    <tr>\n",
       "      <th>AI</th>\n",
       "      <td>0.411523</td>\n",
       "      <td>6.415003</td>\n",
       "    </tr>\n",
       "    <tr>\n",
       "      <th>AD</th>\n",
       "      <td>92.064278</td>\n",
       "      <td>12.991890</td>\n",
       "    </tr>\n",
       "    <tr>\n",
       "      <th>AG</th>\n",
       "      <td>0.020857</td>\n",
       "      <td>0.325128</td>\n",
       "    </tr>\n",
       "    <tr>\n",
       "      <th>FidIn</th>\n",
       "      <td>0.144033</td>\n",
       "      <td>0.351848</td>\n",
       "    </tr>\n",
       "    <tr>\n",
       "      <th>SPS</th>\n",
       "      <td>0.768996</td>\n",
       "      <td>0.014975</td>\n",
       "    </tr>\n",
       "    <tr>\n",
       "      <th>COMP</th>\n",
       "      <td>9.166152</td>\n",
       "      <td>0.073107</td>\n",
       "    </tr>\n",
       "  </tbody>\n",
       "</table>\n",
       "</div>"
      ],
      "text/plain": [
       "            mean        std\n",
       "FF      0.688705   0.237735\n",
       "AI      0.411523   6.415003\n",
       "AD     92.064278  12.991890\n",
       "AG      0.020857   0.325128\n",
       "FidIn   0.144033   0.351848\n",
       "SPS     0.768996   0.014975\n",
       "COMP    9.166152   0.073107"
      ]
     },
     "execution_count": 51,
     "metadata": {},
     "output_type": "execute_result"
    }
   ],
   "source": [
    "results_saliency_noisy_correct.describe().T[[\"mean\", \"std\"]]"
   ]
  },
  {
   "cell_type": "code",
   "execution_count": 52,
   "metadata": {},
   "outputs": [
    {
     "data": {
      "application/vnd.microsoft.datawrangler.viewer.v0+json": {
       "columns": [
        {
         "name": "index",
         "rawType": "object",
         "type": "string"
        },
        {
         "name": "mean",
         "rawType": "float64",
         "type": "float"
        },
        {
         "name": "std",
         "rawType": "float64",
         "type": "float"
        }
       ],
       "conversionMethod": "pd.DataFrame",
       "ref": "8ac97c1b-a398-4941-9bcd-9112c7cd6054",
       "rows": [
        [
         "FF",
         "0.4475083649158478",
         "0.16405640542507172"
        ],
        [
         "AI",
         "1.9108279943466187",
         "13.734374046325684"
        ],
        [
         "AD",
         "67.48871612548828",
         "20.105562210083008"
        ],
        [
         "AG",
         "0.11025330424308777",
         "1.1815818548202515"
        ],
        [
         "FidIn",
         "0.5477706789970398",
         "0.49930539727211"
        ],
        [
         "SPS",
         "0.7569020381469581",
         "0.011484946931961016"
        ],
        [
         "COMP",
         "9.220141928998641",
         "0.05374229325040525"
        ]
       ],
       "shape": {
        "columns": 2,
        "rows": 7
       }
      },
      "text/html": [
       "<div>\n",
       "<style scoped>\n",
       "    .dataframe tbody tr th:only-of-type {\n",
       "        vertical-align: middle;\n",
       "    }\n",
       "\n",
       "    .dataframe tbody tr th {\n",
       "        vertical-align: top;\n",
       "    }\n",
       "\n",
       "    .dataframe thead th {\n",
       "        text-align: right;\n",
       "    }\n",
       "</style>\n",
       "<table border=\"1\" class=\"dataframe\">\n",
       "  <thead>\n",
       "    <tr style=\"text-align: right;\">\n",
       "      <th></th>\n",
       "      <th>mean</th>\n",
       "      <th>std</th>\n",
       "    </tr>\n",
       "  </thead>\n",
       "  <tbody>\n",
       "    <tr>\n",
       "      <th>FF</th>\n",
       "      <td>0.447508</td>\n",
       "      <td>0.164056</td>\n",
       "    </tr>\n",
       "    <tr>\n",
       "      <th>AI</th>\n",
       "      <td>1.910828</td>\n",
       "      <td>13.734374</td>\n",
       "    </tr>\n",
       "    <tr>\n",
       "      <th>AD</th>\n",
       "      <td>67.488716</td>\n",
       "      <td>20.105562</td>\n",
       "    </tr>\n",
       "    <tr>\n",
       "      <th>AG</th>\n",
       "      <td>0.110253</td>\n",
       "      <td>1.181582</td>\n",
       "    </tr>\n",
       "    <tr>\n",
       "      <th>FidIn</th>\n",
       "      <td>0.547771</td>\n",
       "      <td>0.499305</td>\n",
       "    </tr>\n",
       "    <tr>\n",
       "      <th>SPS</th>\n",
       "      <td>0.756902</td>\n",
       "      <td>0.011485</td>\n",
       "    </tr>\n",
       "    <tr>\n",
       "      <th>COMP</th>\n",
       "      <td>9.220142</td>\n",
       "      <td>0.053742</td>\n",
       "    </tr>\n",
       "  </tbody>\n",
       "</table>\n",
       "</div>"
      ],
      "text/plain": [
       "            mean        std\n",
       "FF      0.447508   0.164056\n",
       "AI      1.910828  13.734374\n",
       "AD     67.488716  20.105562\n",
       "AG      0.110253   1.181582\n",
       "FidIn   0.547771   0.499305\n",
       "SPS     0.756902   0.011485\n",
       "COMP    9.220142   0.053742"
      ]
     },
     "execution_count": 52,
     "metadata": {},
     "output_type": "execute_result"
    }
   ],
   "source": [
    "results_saliency_noisy_incorrect.describe().T[[\"mean\", \"std\"]]"
   ]
  },
  {
   "cell_type": "code",
   "execution_count": 53,
   "metadata": {},
   "outputs": [
    {
     "name": "stdout",
     "output_type": "stream",
     "text": [
      "Results saved as results/gradcam_seawaves_noise.csv\n"
     ]
    }
   ],
   "source": [
    "results_gradcam_noisy = predict_gradcam.predict_set(test_loader_noisy_predict, results_csv_name='gradcam_seawaves_noise.csv')"
   ]
  },
  {
   "cell_type": "code",
   "execution_count": 54,
   "metadata": {},
   "outputs": [
    {
     "data": {
      "application/vnd.microsoft.datawrangler.viewer.v0+json": {
       "columns": [
        {
         "name": "index",
         "rawType": "int64",
         "type": "integer"
        },
        {
         "name": "FF",
         "rawType": "float32",
         "type": "float"
        },
        {
         "name": "AI",
         "rawType": "float32",
         "type": "float"
        },
        {
         "name": "AD",
         "rawType": "float32",
         "type": "float"
        },
        {
         "name": "AG",
         "rawType": "float32",
         "type": "float"
        },
        {
         "name": "FidIn",
         "rawType": "float32",
         "type": "float"
        },
        {
         "name": "SPS",
         "rawType": "float64",
         "type": "float"
        },
        {
         "name": "COMP",
         "rawType": "float64",
         "type": "float"
        },
        {
         "name": "is_correct",
         "rawType": "bool",
         "type": "boolean"
        }
       ],
       "conversionMethod": "pd.DataFrame",
       "ref": "c594f12d-1735-4250-b6fb-67cac5728881",
       "rows": [
        [
         "0",
         "0.47633725",
         "0.0",
         "97.802315",
         "0.0",
         "0.0",
         "0.6479395209401269",
         "9.56375005505659",
         "True"
        ],
        [
         "1",
         "-4.0128827e-05",
         "0.0",
         "91.22238",
         "0.0",
         "0.0",
         "0.0",
         "0.0",
         "False"
        ],
        [
         "2",
         "-0.023436248",
         "0.0",
         "83.15581",
         "0.0",
         "0.0",
         "0.32187393429429",
         "10.106059262685712",
         "False"
        ],
        [
         "3",
         "0.39302742",
         "0.0",
         "58.660583",
         "0.0",
         "1.0",
         "0.2776050671884398",
         "10.195515420252066",
         "False"
        ],
        [
         "4",
         "0.26070675",
         "0.0",
         "97.56079",
         "0.0",
         "0.0",
         "0.5850094507119885",
         "9.762238445138719",
         "True"
        ],
        [
         "5",
         "0.39509743",
         "0.0",
         "61.802387",
         "0.0",
         "0.0",
         "0.17059956977974158",
         "10.292536391225333",
         "False"
        ],
        [
         "6",
         "-1.3619661e-05",
         "0.0",
         "95.38738",
         "0.0",
         "0.0",
         "0.0",
         "0.0",
         "True"
        ],
        [
         "7",
         "0.12595397",
         "0.0",
         "63.356876",
         "0.0",
         "1.0",
         "0.751975746783195",
         "9.19801538066834",
         "True"
        ],
        [
         "8",
         "-0.1393061",
         "0.0",
         "96.659",
         "0.0",
         "0.0",
         "0.7717192051135426",
         "9.074892474499922",
         "True"
        ],
        [
         "9",
         "0.22196597",
         "0.0",
         "59.104073",
         "0.0",
         "0.0",
         "0.22591291846247755",
         "10.218205900425351",
         "False"
        ],
        [
         "10",
         "-7.1525574e-07",
         "0.0",
         "95.11069",
         "0.0",
         "0.0",
         "0.0",
         "0.0",
         "True"
        ],
        [
         "11",
         "0.3233448",
         "0.0",
         "99.00771",
         "0.0",
         "0.0",
         "0.6376047008587742",
         "9.607574224863166",
         "True"
        ],
        [
         "12",
         "0.0053970814",
         "0.0",
         "98.038734",
         "0.0",
         "0.0",
         "0.7946859165261839",
         "9.000307872445429",
         "True"
        ],
        [
         "13",
         "-1.6093254e-06",
         "0.0",
         "98.80656",
         "0.0",
         "0.0",
         "0.0",
         "0.0",
         "True"
        ],
        [
         "14",
         "0.39771184",
         "0.0",
         "71.18305",
         "0.0",
         "0.0",
         "0.34576469878362903",
         "10.14496604905147",
         "True"
        ],
        [
         "15",
         "0.004806161",
         "0.0",
         "9.581555",
         "0.0",
         "1.0",
         "0.3794991229434513",
         "10.131422235583296",
         "True"
        ],
        [
         "16",
         "0.21957621",
         "0.0",
         "47.176243",
         "0.0",
         "1.0",
         "0.43125897309644695",
         "10.064825344306643",
         "False"
        ],
        [
         "17",
         "0.46161985",
         "0.0",
         "77.667946",
         "0.0",
         "0.0",
         "0.30733879101505973",
         "10.190645704972935",
         "True"
        ],
        [
         "18",
         "0.39398974",
         "0.0",
         "21.275652",
         "0.0",
         "1.0",
         "0.34070562554529277",
         "10.168676974560492",
         "False"
        ],
        [
         "19",
         "0.129024",
         "0.0",
         "78.9589",
         "0.0",
         "0.0",
         "0.28143123395007114",
         "10.22727238724616",
         "False"
        ]
       ],
       "shape": {
        "columns": 8,
        "rows": 20
       }
      },
      "text/html": [
       "<div>\n",
       "<style scoped>\n",
       "    .dataframe tbody tr th:only-of-type {\n",
       "        vertical-align: middle;\n",
       "    }\n",
       "\n",
       "    .dataframe tbody tr th {\n",
       "        vertical-align: top;\n",
       "    }\n",
       "\n",
       "    .dataframe thead th {\n",
       "        text-align: right;\n",
       "    }\n",
       "</style>\n",
       "<table border=\"1\" class=\"dataframe\">\n",
       "  <thead>\n",
       "    <tr style=\"text-align: right;\">\n",
       "      <th></th>\n",
       "      <th>FF</th>\n",
       "      <th>AI</th>\n",
       "      <th>AD</th>\n",
       "      <th>AG</th>\n",
       "      <th>FidIn</th>\n",
       "      <th>SPS</th>\n",
       "      <th>COMP</th>\n",
       "      <th>is_correct</th>\n",
       "    </tr>\n",
       "  </thead>\n",
       "  <tbody>\n",
       "    <tr>\n",
       "      <th>0</th>\n",
       "      <td>4.763373e-01</td>\n",
       "      <td>0.0</td>\n",
       "      <td>97.802315</td>\n",
       "      <td>0.0</td>\n",
       "      <td>0.0</td>\n",
       "      <td>0.647940</td>\n",
       "      <td>9.563750</td>\n",
       "      <td>True</td>\n",
       "    </tr>\n",
       "    <tr>\n",
       "      <th>1</th>\n",
       "      <td>-4.012883e-05</td>\n",
       "      <td>0.0</td>\n",
       "      <td>91.222382</td>\n",
       "      <td>0.0</td>\n",
       "      <td>0.0</td>\n",
       "      <td>0.000000</td>\n",
       "      <td>0.000000</td>\n",
       "      <td>False</td>\n",
       "    </tr>\n",
       "    <tr>\n",
       "      <th>2</th>\n",
       "      <td>-2.343625e-02</td>\n",
       "      <td>0.0</td>\n",
       "      <td>83.155807</td>\n",
       "      <td>0.0</td>\n",
       "      <td>0.0</td>\n",
       "      <td>0.321874</td>\n",
       "      <td>10.106059</td>\n",
       "      <td>False</td>\n",
       "    </tr>\n",
       "    <tr>\n",
       "      <th>3</th>\n",
       "      <td>3.930274e-01</td>\n",
       "      <td>0.0</td>\n",
       "      <td>58.660583</td>\n",
       "      <td>0.0</td>\n",
       "      <td>1.0</td>\n",
       "      <td>0.277605</td>\n",
       "      <td>10.195515</td>\n",
       "      <td>False</td>\n",
       "    </tr>\n",
       "    <tr>\n",
       "      <th>4</th>\n",
       "      <td>2.607068e-01</td>\n",
       "      <td>0.0</td>\n",
       "      <td>97.560791</td>\n",
       "      <td>0.0</td>\n",
       "      <td>0.0</td>\n",
       "      <td>0.585009</td>\n",
       "      <td>9.762238</td>\n",
       "      <td>True</td>\n",
       "    </tr>\n",
       "    <tr>\n",
       "      <th>5</th>\n",
       "      <td>3.950974e-01</td>\n",
       "      <td>0.0</td>\n",
       "      <td>61.802387</td>\n",
       "      <td>0.0</td>\n",
       "      <td>0.0</td>\n",
       "      <td>0.170600</td>\n",
       "      <td>10.292536</td>\n",
       "      <td>False</td>\n",
       "    </tr>\n",
       "    <tr>\n",
       "      <th>6</th>\n",
       "      <td>-1.361966e-05</td>\n",
       "      <td>0.0</td>\n",
       "      <td>95.387383</td>\n",
       "      <td>0.0</td>\n",
       "      <td>0.0</td>\n",
       "      <td>0.000000</td>\n",
       "      <td>0.000000</td>\n",
       "      <td>True</td>\n",
       "    </tr>\n",
       "    <tr>\n",
       "      <th>7</th>\n",
       "      <td>1.259540e-01</td>\n",
       "      <td>0.0</td>\n",
       "      <td>63.356876</td>\n",
       "      <td>0.0</td>\n",
       "      <td>1.0</td>\n",
       "      <td>0.751976</td>\n",
       "      <td>9.198015</td>\n",
       "      <td>True</td>\n",
       "    </tr>\n",
       "    <tr>\n",
       "      <th>8</th>\n",
       "      <td>-1.393061e-01</td>\n",
       "      <td>0.0</td>\n",
       "      <td>96.658997</td>\n",
       "      <td>0.0</td>\n",
       "      <td>0.0</td>\n",
       "      <td>0.771719</td>\n",
       "      <td>9.074892</td>\n",
       "      <td>True</td>\n",
       "    </tr>\n",
       "    <tr>\n",
       "      <th>9</th>\n",
       "      <td>2.219660e-01</td>\n",
       "      <td>0.0</td>\n",
       "      <td>59.104073</td>\n",
       "      <td>0.0</td>\n",
       "      <td>0.0</td>\n",
       "      <td>0.225913</td>\n",
       "      <td>10.218206</td>\n",
       "      <td>False</td>\n",
       "    </tr>\n",
       "    <tr>\n",
       "      <th>10</th>\n",
       "      <td>-7.152557e-07</td>\n",
       "      <td>0.0</td>\n",
       "      <td>95.110687</td>\n",
       "      <td>0.0</td>\n",
       "      <td>0.0</td>\n",
       "      <td>0.000000</td>\n",
       "      <td>0.000000</td>\n",
       "      <td>True</td>\n",
       "    </tr>\n",
       "    <tr>\n",
       "      <th>11</th>\n",
       "      <td>3.233448e-01</td>\n",
       "      <td>0.0</td>\n",
       "      <td>99.007713</td>\n",
       "      <td>0.0</td>\n",
       "      <td>0.0</td>\n",
       "      <td>0.637605</td>\n",
       "      <td>9.607574</td>\n",
       "      <td>True</td>\n",
       "    </tr>\n",
       "    <tr>\n",
       "      <th>12</th>\n",
       "      <td>5.397081e-03</td>\n",
       "      <td>0.0</td>\n",
       "      <td>98.038734</td>\n",
       "      <td>0.0</td>\n",
       "      <td>0.0</td>\n",
       "      <td>0.794686</td>\n",
       "      <td>9.000308</td>\n",
       "      <td>True</td>\n",
       "    </tr>\n",
       "    <tr>\n",
       "      <th>13</th>\n",
       "      <td>-1.609325e-06</td>\n",
       "      <td>0.0</td>\n",
       "      <td>98.806557</td>\n",
       "      <td>0.0</td>\n",
       "      <td>0.0</td>\n",
       "      <td>0.000000</td>\n",
       "      <td>0.000000</td>\n",
       "      <td>True</td>\n",
       "    </tr>\n",
       "    <tr>\n",
       "      <th>14</th>\n",
       "      <td>3.977118e-01</td>\n",
       "      <td>0.0</td>\n",
       "      <td>71.183052</td>\n",
       "      <td>0.0</td>\n",
       "      <td>0.0</td>\n",
       "      <td>0.345765</td>\n",
       "      <td>10.144966</td>\n",
       "      <td>True</td>\n",
       "    </tr>\n",
       "    <tr>\n",
       "      <th>15</th>\n",
       "      <td>4.806161e-03</td>\n",
       "      <td>0.0</td>\n",
       "      <td>9.581555</td>\n",
       "      <td>0.0</td>\n",
       "      <td>1.0</td>\n",
       "      <td>0.379499</td>\n",
       "      <td>10.131422</td>\n",
       "      <td>True</td>\n",
       "    </tr>\n",
       "    <tr>\n",
       "      <th>16</th>\n",
       "      <td>2.195762e-01</td>\n",
       "      <td>0.0</td>\n",
       "      <td>47.176243</td>\n",
       "      <td>0.0</td>\n",
       "      <td>1.0</td>\n",
       "      <td>0.431259</td>\n",
       "      <td>10.064825</td>\n",
       "      <td>False</td>\n",
       "    </tr>\n",
       "    <tr>\n",
       "      <th>17</th>\n",
       "      <td>4.616199e-01</td>\n",
       "      <td>0.0</td>\n",
       "      <td>77.667946</td>\n",
       "      <td>0.0</td>\n",
       "      <td>0.0</td>\n",
       "      <td>0.307339</td>\n",
       "      <td>10.190646</td>\n",
       "      <td>True</td>\n",
       "    </tr>\n",
       "    <tr>\n",
       "      <th>18</th>\n",
       "      <td>3.939897e-01</td>\n",
       "      <td>0.0</td>\n",
       "      <td>21.275652</td>\n",
       "      <td>0.0</td>\n",
       "      <td>1.0</td>\n",
       "      <td>0.340706</td>\n",
       "      <td>10.168677</td>\n",
       "      <td>False</td>\n",
       "    </tr>\n",
       "    <tr>\n",
       "      <th>19</th>\n",
       "      <td>1.290240e-01</td>\n",
       "      <td>0.0</td>\n",
       "      <td>78.958900</td>\n",
       "      <td>0.0</td>\n",
       "      <td>0.0</td>\n",
       "      <td>0.281431</td>\n",
       "      <td>10.227272</td>\n",
       "      <td>False</td>\n",
       "    </tr>\n",
       "  </tbody>\n",
       "</table>\n",
       "</div>"
      ],
      "text/plain": [
       "              FF   AI         AD   AG  FidIn       SPS       COMP  is_correct\n",
       "0   4.763373e-01  0.0  97.802315  0.0    0.0  0.647940   9.563750        True\n",
       "1  -4.012883e-05  0.0  91.222382  0.0    0.0  0.000000   0.000000       False\n",
       "2  -2.343625e-02  0.0  83.155807  0.0    0.0  0.321874  10.106059       False\n",
       "3   3.930274e-01  0.0  58.660583  0.0    1.0  0.277605  10.195515       False\n",
       "4   2.607068e-01  0.0  97.560791  0.0    0.0  0.585009   9.762238        True\n",
       "5   3.950974e-01  0.0  61.802387  0.0    0.0  0.170600  10.292536       False\n",
       "6  -1.361966e-05  0.0  95.387383  0.0    0.0  0.000000   0.000000        True\n",
       "7   1.259540e-01  0.0  63.356876  0.0    1.0  0.751976   9.198015        True\n",
       "8  -1.393061e-01  0.0  96.658997  0.0    0.0  0.771719   9.074892        True\n",
       "9   2.219660e-01  0.0  59.104073  0.0    0.0  0.225913  10.218206       False\n",
       "10 -7.152557e-07  0.0  95.110687  0.0    0.0  0.000000   0.000000        True\n",
       "11  3.233448e-01  0.0  99.007713  0.0    0.0  0.637605   9.607574        True\n",
       "12  5.397081e-03  0.0  98.038734  0.0    0.0  0.794686   9.000308        True\n",
       "13 -1.609325e-06  0.0  98.806557  0.0    0.0  0.000000   0.000000        True\n",
       "14  3.977118e-01  0.0  71.183052  0.0    0.0  0.345765  10.144966        True\n",
       "15  4.806161e-03  0.0   9.581555  0.0    1.0  0.379499  10.131422        True\n",
       "16  2.195762e-01  0.0  47.176243  0.0    1.0  0.431259  10.064825       False\n",
       "17  4.616199e-01  0.0  77.667946  0.0    0.0  0.307339  10.190646        True\n",
       "18  3.939897e-01  0.0  21.275652  0.0    1.0  0.340706  10.168677       False\n",
       "19  1.290240e-01  0.0  78.958900  0.0    0.0  0.281431  10.227272       False"
      ]
     },
     "execution_count": 54,
     "metadata": {},
     "output_type": "execute_result"
    }
   ],
   "source": [
    "results_gradcam_noisy.head(20)"
   ]
  },
  {
   "cell_type": "code",
   "execution_count": 55,
   "metadata": {},
   "outputs": [],
   "source": [
    "results_gradcam_noisy_correct = results_gradcam_noisy[results_gradcam_noisy[\"is_correct\"] == True].drop(columns=[\"is_correct\"])\n",
    "results_gradcam_noisy_incorrect = results_gradcam_noisy[results_gradcam_noisy[\"is_correct\"] == False].drop(columns=[\"is_correct\"])"
   ]
  },
  {
   "cell_type": "code",
   "execution_count": 56,
   "metadata": {},
   "outputs": [
    {
     "data": {
      "application/vnd.microsoft.datawrangler.viewer.v0+json": {
       "columns": [
        {
         "name": "index",
         "rawType": "object",
         "type": "string"
        },
        {
         "name": "mean",
         "rawType": "float64",
         "type": "float"
        },
        {
         "name": "std",
         "rawType": "float64",
         "type": "float"
        }
       ],
       "conversionMethod": "pd.DataFrame",
       "ref": "e917ca8d-5842-44b0-8e95-35b0f2f37771",
       "rows": [
        [
         "FF",
         "0.16533054411411285",
         "0.23241852223873138"
        ],
        [
         "AI",
         "3.25",
         "17.754592895507812"
        ],
        [
         "AD",
         "69.80162811279297",
         "30.4166202545166"
        ],
        [
         "AG",
         "0.626069962978363",
         "4.165146827697754"
        ],
        [
         "FidIn",
         "0.3774999976158142",
         "0.48536863923072815"
        ],
        [
         "SPS",
         "0.49502071903781086",
         "0.22421851416409705"
        ],
        [
         "COMP",
         "9.250613139786207",
         "2.185574848736246"
        ]
       ],
       "shape": {
        "columns": 2,
        "rows": 7
       }
      },
      "text/html": [
       "<div>\n",
       "<style scoped>\n",
       "    .dataframe tbody tr th:only-of-type {\n",
       "        vertical-align: middle;\n",
       "    }\n",
       "\n",
       "    .dataframe tbody tr th {\n",
       "        vertical-align: top;\n",
       "    }\n",
       "\n",
       "    .dataframe thead th {\n",
       "        text-align: right;\n",
       "    }\n",
       "</style>\n",
       "<table border=\"1\" class=\"dataframe\">\n",
       "  <thead>\n",
       "    <tr style=\"text-align: right;\">\n",
       "      <th></th>\n",
       "      <th>mean</th>\n",
       "      <th>std</th>\n",
       "    </tr>\n",
       "  </thead>\n",
       "  <tbody>\n",
       "    <tr>\n",
       "      <th>FF</th>\n",
       "      <td>0.165331</td>\n",
       "      <td>0.232419</td>\n",
       "    </tr>\n",
       "    <tr>\n",
       "      <th>AI</th>\n",
       "      <td>3.250000</td>\n",
       "      <td>17.754593</td>\n",
       "    </tr>\n",
       "    <tr>\n",
       "      <th>AD</th>\n",
       "      <td>69.801628</td>\n",
       "      <td>30.416620</td>\n",
       "    </tr>\n",
       "    <tr>\n",
       "      <th>AG</th>\n",
       "      <td>0.626070</td>\n",
       "      <td>4.165147</td>\n",
       "    </tr>\n",
       "    <tr>\n",
       "      <th>FidIn</th>\n",
       "      <td>0.377500</td>\n",
       "      <td>0.485369</td>\n",
       "    </tr>\n",
       "    <tr>\n",
       "      <th>SPS</th>\n",
       "      <td>0.495021</td>\n",
       "      <td>0.224219</td>\n",
       "    </tr>\n",
       "    <tr>\n",
       "      <th>COMP</th>\n",
       "      <td>9.250613</td>\n",
       "      <td>2.185575</td>\n",
       "    </tr>\n",
       "  </tbody>\n",
       "</table>\n",
       "</div>"
      ],
      "text/plain": [
       "            mean        std\n",
       "FF      0.165331   0.232419\n",
       "AI      3.250000  17.754593\n",
       "AD     69.801628  30.416620\n",
       "AG      0.626070   4.165147\n",
       "FidIn   0.377500   0.485369\n",
       "SPS     0.495021   0.224219\n",
       "COMP    9.250613   2.185575"
      ]
     },
     "execution_count": 56,
     "metadata": {},
     "output_type": "execute_result"
    }
   ],
   "source": [
    "results_gradcam_noisy.describe().T[[\"mean\", \"std\"]]"
   ]
  },
  {
   "cell_type": "code",
   "execution_count": 57,
   "metadata": {},
   "outputs": [
    {
     "data": {
      "application/vnd.microsoft.datawrangler.viewer.v0+json": {
       "columns": [
        {
         "name": "index",
         "rawType": "object",
         "type": "string"
        },
        {
         "name": "mean",
         "rawType": "float64",
         "type": "float"
        },
        {
         "name": "std",
         "rawType": "float64",
         "type": "float"
        }
       ],
       "conversionMethod": "pd.DataFrame",
       "ref": "95ec8ce6-cac0-4e75-b879-b20271569d23",
       "rows": [
        [
         "FF",
         "0.14427390694618225",
         "0.23566579818725586"
        ],
        [
         "AI",
         "2.8806583881378174",
         "16.760778427124023"
        ],
        [
         "AD",
         "69.93376922607422",
         "33.13650131225586"
        ],
        [
         "AG",
         "0.5295745730400085",
         "3.816155195236206"
        ],
        [
         "FidIn",
         "0.4238682985305786",
         "0.49518993496894836"
        ],
        [
         "SPS",
         "0.5457684225676275",
         "0.21816355213755273"
        ],
        [
         "COMP",
         "9.23780273880412",
         "1.9895451683271161"
        ]
       ],
       "shape": {
        "columns": 2,
        "rows": 7
       }
      },
      "text/html": [
       "<div>\n",
       "<style scoped>\n",
       "    .dataframe tbody tr th:only-of-type {\n",
       "        vertical-align: middle;\n",
       "    }\n",
       "\n",
       "    .dataframe tbody tr th {\n",
       "        vertical-align: top;\n",
       "    }\n",
       "\n",
       "    .dataframe thead th {\n",
       "        text-align: right;\n",
       "    }\n",
       "</style>\n",
       "<table border=\"1\" class=\"dataframe\">\n",
       "  <thead>\n",
       "    <tr style=\"text-align: right;\">\n",
       "      <th></th>\n",
       "      <th>mean</th>\n",
       "      <th>std</th>\n",
       "    </tr>\n",
       "  </thead>\n",
       "  <tbody>\n",
       "    <tr>\n",
       "      <th>FF</th>\n",
       "      <td>0.144274</td>\n",
       "      <td>0.235666</td>\n",
       "    </tr>\n",
       "    <tr>\n",
       "      <th>AI</th>\n",
       "      <td>2.880658</td>\n",
       "      <td>16.760778</td>\n",
       "    </tr>\n",
       "    <tr>\n",
       "      <th>AD</th>\n",
       "      <td>69.933769</td>\n",
       "      <td>33.136501</td>\n",
       "    </tr>\n",
       "    <tr>\n",
       "      <th>AG</th>\n",
       "      <td>0.529575</td>\n",
       "      <td>3.816155</td>\n",
       "    </tr>\n",
       "    <tr>\n",
       "      <th>FidIn</th>\n",
       "      <td>0.423868</td>\n",
       "      <td>0.495190</td>\n",
       "    </tr>\n",
       "    <tr>\n",
       "      <th>SPS</th>\n",
       "      <td>0.545768</td>\n",
       "      <td>0.218164</td>\n",
       "    </tr>\n",
       "    <tr>\n",
       "      <th>COMP</th>\n",
       "      <td>9.237803</td>\n",
       "      <td>1.989545</td>\n",
       "    </tr>\n",
       "  </tbody>\n",
       "</table>\n",
       "</div>"
      ],
      "text/plain": [
       "            mean        std\n",
       "FF      0.144274   0.235666\n",
       "AI      2.880658  16.760778\n",
       "AD     69.933769  33.136501\n",
       "AG      0.529575   3.816155\n",
       "FidIn   0.423868   0.495190\n",
       "SPS     0.545768   0.218164\n",
       "COMP    9.237803   1.989545"
      ]
     },
     "execution_count": 57,
     "metadata": {},
     "output_type": "execute_result"
    }
   ],
   "source": [
    "results_gradcam_noisy_correct.describe().T[[\"mean\", \"std\"]]"
   ]
  },
  {
   "cell_type": "code",
   "execution_count": 58,
   "metadata": {},
   "outputs": [
    {
     "data": {
      "application/vnd.microsoft.datawrangler.viewer.v0+json": {
       "columns": [
        {
         "name": "index",
         "rawType": "object",
         "type": "string"
        },
        {
         "name": "mean",
         "rawType": "float64",
         "type": "float"
        },
        {
         "name": "std",
         "rawType": "float64",
         "type": "float"
        }
       ],
       "conversionMethod": "pd.DataFrame",
       "ref": "53e45aff-7f6a-4a9b-8676-9499e9134450",
       "rows": [
        [
         "FF",
         "0.19792139530181885",
         "0.22415855526924133"
        ],
        [
         "AI",
         "3.8216559886932373",
         "19.233219146728516"
        ],
        [
         "AD",
         "69.59711456298828",
         "25.746498107910156"
        ],
        [
         "AG",
         "0.7754226922988892",
         "4.6630096435546875"
        ],
        [
         "FidIn",
         "0.30573248863220215",
         "0.46219125390052795"
        ],
        [
         "SPS",
         "0.4164749103897505",
         "0.21102351225036894"
        ],
        [
         "COMP",
         "9.270440703089694",
         "2.465025168057475"
        ]
       ],
       "shape": {
        "columns": 2,
        "rows": 7
       }
      },
      "text/html": [
       "<div>\n",
       "<style scoped>\n",
       "    .dataframe tbody tr th:only-of-type {\n",
       "        vertical-align: middle;\n",
       "    }\n",
       "\n",
       "    .dataframe tbody tr th {\n",
       "        vertical-align: top;\n",
       "    }\n",
       "\n",
       "    .dataframe thead th {\n",
       "        text-align: right;\n",
       "    }\n",
       "</style>\n",
       "<table border=\"1\" class=\"dataframe\">\n",
       "  <thead>\n",
       "    <tr style=\"text-align: right;\">\n",
       "      <th></th>\n",
       "      <th>mean</th>\n",
       "      <th>std</th>\n",
       "    </tr>\n",
       "  </thead>\n",
       "  <tbody>\n",
       "    <tr>\n",
       "      <th>FF</th>\n",
       "      <td>0.197921</td>\n",
       "      <td>0.224159</td>\n",
       "    </tr>\n",
       "    <tr>\n",
       "      <th>AI</th>\n",
       "      <td>3.821656</td>\n",
       "      <td>19.233219</td>\n",
       "    </tr>\n",
       "    <tr>\n",
       "      <th>AD</th>\n",
       "      <td>69.597115</td>\n",
       "      <td>25.746498</td>\n",
       "    </tr>\n",
       "    <tr>\n",
       "      <th>AG</th>\n",
       "      <td>0.775423</td>\n",
       "      <td>4.663010</td>\n",
       "    </tr>\n",
       "    <tr>\n",
       "      <th>FidIn</th>\n",
       "      <td>0.305732</td>\n",
       "      <td>0.462191</td>\n",
       "    </tr>\n",
       "    <tr>\n",
       "      <th>SPS</th>\n",
       "      <td>0.416475</td>\n",
       "      <td>0.211024</td>\n",
       "    </tr>\n",
       "    <tr>\n",
       "      <th>COMP</th>\n",
       "      <td>9.270441</td>\n",
       "      <td>2.465025</td>\n",
       "    </tr>\n",
       "  </tbody>\n",
       "</table>\n",
       "</div>"
      ],
      "text/plain": [
       "            mean        std\n",
       "FF      0.197921   0.224159\n",
       "AI      3.821656  19.233219\n",
       "AD     69.597115  25.746498\n",
       "AG      0.775423   4.663010\n",
       "FidIn   0.305732   0.462191\n",
       "SPS     0.416475   0.211024\n",
       "COMP    9.270441   2.465025"
      ]
     },
     "execution_count": 58,
     "metadata": {},
     "output_type": "execute_result"
    }
   ],
   "source": [
    "results_gradcam_noisy_incorrect.describe().T[[\"mean\", \"std\"]]"
   ]
  }
 ],
 "metadata": {
  "kernelspec": {
   "display_name": "env",
   "language": "python",
   "name": "python3"
  },
  "language_info": {
   "codemirror_mode": {
    "name": "ipython",
    "version": 3
   },
   "file_extension": ".py",
   "mimetype": "text/x-python",
   "name": "python",
   "nbconvert_exporter": "python",
   "pygments_lexer": "ipython3",
   "version": "3.12.3"
  }
 },
 "nbformat": 4,
 "nbformat_minor": 2
}
